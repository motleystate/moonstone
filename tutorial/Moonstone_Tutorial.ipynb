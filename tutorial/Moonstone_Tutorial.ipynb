{
 "cells": [
  {
   "cell_type": "markdown",
   "id": "db5192d0",
   "metadata": {},
   "source": [
    "# Data Preparation\n",
    "\n",
    "### Counts data"
   ]
  },
  {
   "cell_type": "code",
   "execution_count": null,
   "id": "b1b81902",
   "metadata": {},
   "outputs": [],
   "source": [
    "from moonstone.parsers.counts.taxonomy import SunbeamKraken2Parser\n",
    "\n",
    "\n",
    "krakenfile = \"moonstone_tuto_kraken2_file.tsv\"\n",
    "parser = SunbeamKraken2Parser(krakenfile)\n",
    "counts_dataframe = parser.dataframe.drop('NCBI_taxonomy_ID', axis=1)"
   ]
  },
  {
   "cell_type": "code",
   "execution_count": null,
   "id": "55879613",
   "metadata": {},
   "outputs": [],
   "source": [
    "counts_dataframe"
   ]
  },
  {
   "cell_type": "code",
   "execution_count": null,
   "id": "0c3f2351",
   "metadata": {},
   "outputs": [],
   "source": [
    "counts_dataframe.sum()"
   ]
  },
  {
   "cell_type": "markdown",
   "id": "e390d5dc",
   "metadata": {},
   "source": [
    "#### Normalization of data\n",
    "\n",
    "SAMPLE_3 number of classified reads is 8 to 24 times greater than other samples' reads counts. So that futur analyses not to be biased towards SAMPLE_3, we need to perform some kind of normalization.\n",
    "\n",
    "Moonstone offers assistance in normalizing your data using many different methods (see [list](https://moonstone.readthedocs.io/en/latest/api_docs/normalization.html))\n",
    "\n",
    "(To better understand what each normalization method entails, you can watch this [youtube video](https://www.youtube.com/watch?v=UFB993xufUU&t=683s))"
   ]
  },
  {
   "cell_type": "code",
   "execution_count": null,
   "id": "ee102cd6",
   "metadata": {},
   "outputs": [],
   "source": [
    "from moonstone.normalization.counts.geometric_mean import (\n",
    "    GeometricMeanNormalization\n",
    ")\n",
    "\n",
    "geom_mean_norm = GeometricMeanNormalization(counts_dataframe)     # instantiation\n",
    "counts_dataframe_normalized = geom_mean_norm.normalized_df"
   ]
  },
  {
   "cell_type": "code",
   "execution_count": null,
   "id": "a169e79e",
   "metadata": {},
   "outputs": [],
   "source": [
    "counts_dataframe_normalized.sum()"
   ]
  },
  {
   "cell_type": "markdown",
   "id": "9ade8be6",
   "metadata": {},
   "source": [
    "### Metadata"
   ]
  },
  {
   "cell_type": "code",
   "execution_count": null,
   "id": "2defa12d",
   "metadata": {},
   "outputs": [],
   "source": [
    "import pandas as pd\n",
    "\n",
    "metadata_file = \"moonstone_tuto_metadata_file.csv\"\n",
    "metadata_dataframe = pd.read_csv(metadata_file, sep=\",\", index_col=\"SAMPLE_ID\")"
   ]
  },
  {
   "cell_type": "code",
   "execution_count": null,
   "id": "2bf1f789",
   "metadata": {},
   "outputs": [],
   "source": [
    "metadata_dataframe"
   ]
  },
  {
   "cell_type": "code",
   "execution_count": null,
   "id": "5eb3a07d",
   "metadata": {},
   "outputs": [],
   "source": [
    "pd.crosstab(metadata_dataframe['SMOKER'], metadata_dataframe['GROUP'])"
   ]
  },
  {
   "cell_type": "markdown",
   "id": "b00323b2",
   "metadata": {},
   "source": [
    "# Data visualization/exploration"
   ]
  },
  {
   "cell_type": "code",
   "execution_count": null,
   "id": "b51eaaf5",
   "metadata": {},
   "outputs": [],
   "source": [
    "from moonstone.plot.counts import PlotTaxonomyCounts\n",
    "\n",
    "instance = PlotTaxonomyCounts(counts_dataframe_normalized)"
   ]
  },
  {
   "cell_type": "code",
   "execution_count": null,
   "id": "f67bad9f",
   "metadata": {
    "scrolled": false
   },
   "outputs": [],
   "source": [
    "fig1 = instance.plot_most_prevalent_taxa(\n",
    "    mode=\"bar\",\n",
    "    mean_threshold=6,\n",
    "    taxa_number=3,\n",
    "    taxa_level=\"species\",\n",
    "    higher_classification=False,               # Set to False remove every rows \"xxx(higher taxa)\"\n",
    "    ascending=False,\n",
    ")"
   ]
  },
  {
   "cell_type": "code",
   "execution_count": null,
   "id": "8b1d2c1a",
   "metadata": {},
   "outputs": [],
   "source": [
    "fig2 = instance.plot_most_abundant_taxa(\n",
    "    mode=\"boxplot\",\n",
    "    taxa_level=\"species\",\n",
    "    prevalence_threshold=None,\n",
    "    average_relative_abundance_threshold=5,\n",
    "    higher_classification=False,                \n",
    "    ascending=False,\n",
    "    output_file=\"Most_abundant_species.html\"        # It's also possible to generate a static image. You just need to change the extension of the file\n",
    ")"
   ]
  },
  {
   "cell_type": "code",
   "execution_count": null,
   "id": "7fe3c44f",
   "metadata": {},
   "outputs": [],
   "source": [
    "fig3 = instance.plot_sample_composition_most_abundant_taxa(\n",
    "    taxa_level=\"species\",\n",
    "    taxa_number=3,                        # the X top species will be represented, the other will be under \"Others\"\n",
    "    cluster_samples=True,                 # cluster samples according to their composition in top species/Others (default set to True)\n",
    "    colors={\"Others\" : \"#d1dae8\"},        # set the color of a species (or of \"Others\")\n",
    "    color_df=metadata_dataframe[\"GROUP\"], # series or dataframe of metadata to add at the bottom of the graph\n",
    "    sep_series=metadata_dataframe[\"SMOKER\"].replace({\"yes\": \"smoker\", \"no\": \"non smoker\"}),\n",
    "    sep_how=\"labels\",\n",
    "    output_file=None,\n",
    "    plotting_options={\"layout\": {\"yaxis_title\": \"Relative abundance\"}}   # all moonstone's plot and graph methods allow you to give your own plotting options\n",
    "                                                                         # it relies on the fig.update_X({*dictionary*}) methods of plotly\n",
    "                                                                         # it should be given in a dictionary with X being the first key and then a dictionary of the\n",
    "                                                                         # parameters to update as you would give the fig.update_X method\n",
    ")"
   ]
  },
  {
   "cell_type": "markdown",
   "id": "06718c94",
   "metadata": {},
   "source": [
    "# Diversity analysis\n",
    "\n",
    "The Alpha diversity (α-diversity) corresponds to the intra-sample diversity, whereas the Beta diversity (β-diversity) corresponds to the inter-samples diversity."
   ]
  },
  {
   "cell_type": "code",
   "execution_count": null,
   "id": "418fe690",
   "metadata": {
    "scrolled": false
   },
   "outputs": [],
   "source": [
    "\"\"\"\n",
    "Alpha-Diversity (at species-level)\n",
    "\"\"\"\n",
    "\n",
    "from moonstone.analysis.diversity.alpha import ShannonIndex\n",
    "\n",
    "cdn_species = counts_dataframe_normalized.groupby(\"species\").sum()\n",
    "\n",
    "alpha_div_instance = ShannonIndex(cdn_species)\n",
    "alpha_div_instance.diversity_indexes.to_csv(f\"ShannonIndex.csv\")\n",
    "grouped_output = alpha_div_instance.analyse_groups(\n",
    "    metadata_df=metadata_dataframe, group_col=\"SMOKER\",\n",
    "    stats_test=\"mann_whitney_u\", correction_method=\"fdr_bh\",\n",
    "    boxpoints=\"suspectedoutliers\", structure_pval=\"series\", sym=False,\n",
    "    show_pval=False,\n",
    ")\n",
    "print(grouped_output[\"pval\"])"
   ]
  },
  {
   "cell_type": "code",
   "execution_count": null,
   "id": "e454dec3",
   "metadata": {},
   "outputs": [],
   "source": [
    "\"\"\"\n",
    "Beta-Diversity (at species-level)\n",
    "\"\"\"\n",
    "\n",
    "from moonstone.analysis.diversity.beta import BrayCurtis\n",
    "\n",
    "cdn_species = counts_dataframe_normalized.groupby(\"species\").sum()\n",
    "\n",
    "beta_div_instance = BrayCurtis(cdn_species)\n",
    "beta_div_instance.diversity_indexes.to_csv(f\"BrayCurtis.csv\")\n",
    "grouped_output = beta_div_instance.analyse_groups(\n",
    "    metadata_df=metadata_dataframe, group_col=\"SMOKER\", group_col2=\"GROUP\",\n",
    "    stats_test=\"mann_whitney_u\", correction_method=\"fdr_bh\",\n",
    "    boxpoints=\"suspectedoutliers\", structure_pval=\"series\", sym=False,\n",
    "    show_pval=False,\n",
    ")\n",
    "print(grouped_output[\"pval\"])"
   ]
  },
  {
   "cell_type": "markdown",
   "id": "6b800eaa",
   "metadata": {},
   "source": [
    "# Other"
   ]
  },
  {
   "cell_type": "code",
   "execution_count": null,
   "id": "c91bcdec",
   "metadata": {},
   "outputs": [],
   "source": [
    "import pandas as pd\n",
    "\n",
    "sp1 = [1.32, 44.67, 42.66, 28.18, 173.78, 912.01, 8.32, 11.22, 89.13, 5.01, 70.79, 12.3, 69.18, 5.01, 1.7, 107.15, 1.51, 204.17, 3.98, 21.38, 17.38, 38.9, 29.51, 575.44, 23.44, 204.17, 1.41, 398.11, 100.0, 1.05, 72.44, 3.16, 100.0, 9.12, 39.81, 15.49, 114.82, 724.44, 323.59, 1.35, 724.44, 112.2, 1.2, 30.9, 2.82, 6.17, 23.99, 6.46, 338.84, 309.03, 1.23, 2.45, 5.62, 40.74, 79.43, 602.56, 776.25, 7.59, 6.03, 302.0, 43.65, 446.68, 346.74, 3.39, 380.19, 870.96, 50.12, 6.03, 12.59, 309.03, 239.88, 120.23, 11.48, 2.0, 446.68, 28.18, 38.02, 8.51, 218.78, 2.57, 389.05, 645.65, 57.54, 18.62, 537.03, 562.34, 51.29, 123.03, 10.96, 1.17, 331.13, 1.95, 5.13, 457.09, 812.83, 64.57, 117.49, 85.11, 288.4, 257.04, 1]\n",
    "sp2 = [50.28, 70.91, 72.02, 69.95, 79.66, 90.27, 60.47, 74.25, 76.92, 63.94, 75.72, 70.09, 64.55, 54.03, 59.07, 66.99, 54.3, 72.9, 57.11, 68.31, 74.85, 68.75, 68.42, 79.58, 68.88, 74.87, 60.0, 75.61, 73.05, 46.16, 74.56, 59.09, 78.65, 60.94, 62.9, 70.14, 64.51, 88.72, 88.07, 51.22, 83.69, 71.31, 59.41, 74.25, 52.11, 57.76, 66.57, 54.29, 81.95, 80.2, 58.05, 56.49, 57.55, 71.94, 76.22, 77.59, 84.46, 67.27, 62.08, 81.52, 40.07, 45.93, 47.8, 18.44, 39.25, 48.35, 36.25, 32.66, 21.75, 44.32, 40.31, 34.14, 24.54, 11.35, 39.98, 27.89, 30.53, 24.07, 39.09, 15.24, 47.14, 51.54, 33.11, 20.64, 42.57, 38.45, 27.63, 37.44, 31.59, 14.37, 31.81, 22.98, 22.42, 48.34, 46.34, 32.67, 42.26, 39.31, 39.78, 34.16, 100]\n",
    "samples = ['S1', 'S2', 'S3', 'S4', 'S5', 'S6', 'S7', 'S8', 'S9', 'S10', 'S11', 'S12', 'S13', 'S14', 'S15', 'S16', 'S17', 'S18', 'S19', 'S20', 'S21', 'S22', 'S23', 'S24', 'S25', 'S26', 'S27', 'S28', 'S29', 'S30', 'S31', 'S32', 'S33', 'S34', 'S35', 'S36', 'S37', 'S38', 'S39', 'S40', 'S41', 'S42', 'S43', 'S44', 'S45', 'S46', 'S47', 'S48', 'S49', 'S50', 'S51', 'S52', 'S53', 'S54', 'S55', 'S56', 'S57', 'S58', 'S59', 'S60', 'S61', 'S62', 'S63', 'S64', 'S65', 'S66', 'S67', 'S68', 'S69', 'S70', 'S71', 'S72', 'S73', 'S74', 'S75', 'S76', 'S77', 'S78', 'S79', 'S80', 'S81', 'S82', 'S83', 'S84', 'S85', 'S86', 'S87', 'S88', 'S89', 'S90', 'S91', 'S92', 'S93', 'S94', 'S95', 'S96', 'S97', 'S98', 'S99', 'S100', 'outlier']\n",
    "counts_dataframe2 = pd.DataFrame(\n",
    "    [sp1, sp2], columns=samples, index=[\"species1\", \"species2\"]\n",
    ").T"
   ]
  },
  {
   "cell_type": "code",
   "execution_count": null,
   "id": "1ff35a2d",
   "metadata": {},
   "outputs": [],
   "source": [
    "#from moonstone.plot.graphs import ScatterGraph\n",
    "import importlib\n",
    "import moonstone.plot.graphs.scatter as scatter\n",
    "importlib.reload(scatter)\n",
    "\n",
    "ins = scatter.ScatterGraph(counts_dataframe2)\n",
    "f = ins.plot_one_graph(\"species1\", \"species2\", plotting_options={\"xaxes\": {\"type\": \"log\"}})"
   ]
  },
  {
   "cell_type": "markdown",
   "id": "22f19b80",
   "metadata": {},
   "source": [
    "The distribution seems to follow two trendlines. To investigate we want to divide samples into two groups, one following each trendlines"
   ]
  },
  {
   "cell_type": "code",
   "execution_count": null,
   "id": "0ba78f93",
   "metadata": {
    "scrolled": false
   },
   "outputs": [],
   "source": [
    "from moonstone.plot.graphs import ScatterTrendlines\n",
    "\n",
    "ins = ScatterTrendlines(counts_dataframe2)\n",
    "output = ins.bootstraps_define_n_trendlines(\n",
    "    \"species1\", \"species2\", 2, log_x=True, log_y=False, nb_iter=100, nb_bootstraps=5, outliers=\"trim\",\n",
    "    show=True\n",
    ")\n",
    "print(output[\"group_series\"])\n",
    "print(output[\"list_outliers\"])"
   ]
  }
 ],
 "metadata": {
  "kernelspec": {
   "display_name": "Python 3 (ipykernel)",
   "language": "python",
   "name": "python3"
  },
  "language_info": {
   "codemirror_mode": {
    "name": "ipython",
    "version": 3
   },
   "file_extension": ".py",
   "mimetype": "text/x-python",
   "name": "python",
   "nbconvert_exporter": "python",
   "pygments_lexer": "ipython3",
   "version": "3.7.11"
  }
 },
 "nbformat": 4,
 "nbformat_minor": 5
}
