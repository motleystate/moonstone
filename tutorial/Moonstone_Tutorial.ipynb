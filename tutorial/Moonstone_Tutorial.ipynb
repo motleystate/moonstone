{
 "cells": [
  {
   "cell_type": "markdown",
   "id": "db5192d0",
   "metadata": {},
   "source": [
    "# Data Preparation\n",
    "\n",
    "### Counts data"
   ]
  },
  {
   "cell_type": "code",
   "execution_count": 34,
   "id": "b1b81902",
   "metadata": {},
   "outputs": [],
   "source": [
    "from moonstone.parsers.counts.taxonomy import SunbeamKraken2Parser\n",
    "\n",
    "\n",
    "krakenfile = \"moonstone_tuto_kraken2_file.tsv\"\n",
    "parser = SunbeamKraken2Parser(krakenfile)\n",
    "counts_dataframe = parser.dataframe.drop('NCBI_taxonomy_ID', axis=1)"
   ]
  },
  {
   "cell_type": "code",
   "execution_count": 22,
   "id": "55879613",
   "metadata": {},
   "outputs": [
    {
     "data": {
      "text/html": [
       "<div>\n",
       "<style scoped>\n",
       "    .dataframe tbody tr th:only-of-type {\n",
       "        vertical-align: middle;\n",
       "    }\n",
       "\n",
       "    .dataframe tbody tr th {\n",
       "        vertical-align: top;\n",
       "    }\n",
       "\n",
       "    .dataframe thead th {\n",
       "        text-align: right;\n",
       "    }\n",
       "</style>\n",
       "<table border=\"1\" class=\"dataframe\">\n",
       "  <thead>\n",
       "    <tr style=\"text-align: right;\">\n",
       "      <th></th>\n",
       "      <th></th>\n",
       "      <th></th>\n",
       "      <th></th>\n",
       "      <th></th>\n",
       "      <th></th>\n",
       "      <th></th>\n",
       "      <th>SAMPLE_1</th>\n",
       "      <th>SAMPLE_2</th>\n",
       "      <th>SAMPLE_3</th>\n",
       "      <th>SAMPLE_4</th>\n",
       "      <th>SAMPLE_5</th>\n",
       "      <th>SAMPLE_6</th>\n",
       "      <th>SAMPLE_7</th>\n",
       "      <th>SAMPLE_8</th>\n",
       "      <th>SAMPLE_9</th>\n",
       "      <th>SAMPLE_10</th>\n",
       "      <th>...</th>\n",
       "      <th>SAMPLE_21</th>\n",
       "      <th>SAMPLE_22</th>\n",
       "      <th>SAMPLE_23</th>\n",
       "      <th>SAMPLE_24</th>\n",
       "      <th>SAMPLE_25</th>\n",
       "      <th>SAMPLE_26</th>\n",
       "      <th>SAMPLE_27</th>\n",
       "      <th>SAMPLE_28</th>\n",
       "      <th>SAMPLE_29</th>\n",
       "      <th>SAMPLE_30</th>\n",
       "    </tr>\n",
       "    <tr>\n",
       "      <th>kingdom</th>\n",
       "      <th>phylum</th>\n",
       "      <th>class</th>\n",
       "      <th>order</th>\n",
       "      <th>family</th>\n",
       "      <th>genus</th>\n",
       "      <th>species</th>\n",
       "      <th></th>\n",
       "      <th></th>\n",
       "      <th></th>\n",
       "      <th></th>\n",
       "      <th></th>\n",
       "      <th></th>\n",
       "      <th></th>\n",
       "      <th></th>\n",
       "      <th></th>\n",
       "      <th></th>\n",
       "      <th></th>\n",
       "      <th></th>\n",
       "      <th></th>\n",
       "      <th></th>\n",
       "      <th></th>\n",
       "      <th></th>\n",
       "      <th></th>\n",
       "      <th></th>\n",
       "      <th></th>\n",
       "      <th></th>\n",
       "      <th></th>\n",
       "    </tr>\n",
       "  </thead>\n",
       "  <tbody>\n",
       "    <tr>\n",
       "      <th rowspan=\"8\" valign=\"top\">Bacteria</th>\n",
       "      <th>Bacteria (kingdom)</th>\n",
       "      <th>Bacteria (kingdom)</th>\n",
       "      <th>Bacteria (kingdom)</th>\n",
       "      <th>Bacteria (kingdom)</th>\n",
       "      <th>Bacteria (kingdom)</th>\n",
       "      <th>Bacteria (kingdom)</th>\n",
       "      <td>8.5</td>\n",
       "      <td>6.0</td>\n",
       "      <td>52.8</td>\n",
       "      <td>1.1</td>\n",
       "      <td>4.2</td>\n",
       "      <td>9.9</td>\n",
       "      <td>5.5</td>\n",
       "      <td>3.0</td>\n",
       "      <td>7.8</td>\n",
       "      <td>6.1</td>\n",
       "      <td>...</td>\n",
       "      <td>5.6</td>\n",
       "      <td>3.3</td>\n",
       "      <td>1.0</td>\n",
       "      <td>0.2</td>\n",
       "      <td>3.4</td>\n",
       "      <td>5.6</td>\n",
       "      <td>4.5</td>\n",
       "      <td>11.4</td>\n",
       "      <td>3.8</td>\n",
       "      <td>9.7</td>\n",
       "    </tr>\n",
       "    <tr>\n",
       "      <th>Actinobacteria</th>\n",
       "      <th>Actinomycetia</th>\n",
       "      <th>Bifidobacteriales</th>\n",
       "      <th>Bifidobacteriaceae</th>\n",
       "      <th>Gardnerella</th>\n",
       "      <th>Gardnerella_vaginalis</th>\n",
       "      <td>27.9</td>\n",
       "      <td>2.9</td>\n",
       "      <td>0.0</td>\n",
       "      <td>22.0</td>\n",
       "      <td>2.8</td>\n",
       "      <td>21.5</td>\n",
       "      <td>0.0</td>\n",
       "      <td>25.5</td>\n",
       "      <td>7.3</td>\n",
       "      <td>23.0</td>\n",
       "      <td>...</td>\n",
       "      <td>22.1</td>\n",
       "      <td>8.3</td>\n",
       "      <td>14.5</td>\n",
       "      <td>3.3</td>\n",
       "      <td>0.0</td>\n",
       "      <td>0.0</td>\n",
       "      <td>66.6</td>\n",
       "      <td>18.0</td>\n",
       "      <td>14.5</td>\n",
       "      <td>14.9</td>\n",
       "    </tr>\n",
       "    <tr>\n",
       "      <th rowspan=\"3\" valign=\"top\">Firmicutes</th>\n",
       "      <th rowspan=\"3\" valign=\"top\">Bacilli</th>\n",
       "      <th rowspan=\"3\" valign=\"top\">Lactobacillales</th>\n",
       "      <th>Enterococcaceae</th>\n",
       "      <th>Enterococcus</th>\n",
       "      <th>Enterococcus_faecalis</th>\n",
       "      <td>6.1</td>\n",
       "      <td>4.8</td>\n",
       "      <td>0.0</td>\n",
       "      <td>3.0</td>\n",
       "      <td>3.1</td>\n",
       "      <td>0.0</td>\n",
       "      <td>0.0</td>\n",
       "      <td>0.0</td>\n",
       "      <td>0.0</td>\n",
       "      <td>0.0</td>\n",
       "      <td>...</td>\n",
       "      <td>3.4</td>\n",
       "      <td>0.0</td>\n",
       "      <td>3.8</td>\n",
       "      <td>0.0</td>\n",
       "      <td>0.0</td>\n",
       "      <td>14.5</td>\n",
       "      <td>2.3</td>\n",
       "      <td>46.8</td>\n",
       "      <td>0.0</td>\n",
       "      <td>0.0</td>\n",
       "    </tr>\n",
       "    <tr>\n",
       "      <th rowspan=\"2\" valign=\"top\">Lactobacillaceae</th>\n",
       "      <th rowspan=\"2\" valign=\"top\">Lactobacillus</th>\n",
       "      <th>Lactobacillus (genus)</th>\n",
       "      <td>9.8</td>\n",
       "      <td>9.1</td>\n",
       "      <td>19.2</td>\n",
       "      <td>6.7</td>\n",
       "      <td>0.0</td>\n",
       "      <td>7.0</td>\n",
       "      <td>3.2</td>\n",
       "      <td>0.0</td>\n",
       "      <td>2.8</td>\n",
       "      <td>8.3</td>\n",
       "      <td>...</td>\n",
       "      <td>0.0</td>\n",
       "      <td>5.7</td>\n",
       "      <td>2.7</td>\n",
       "      <td>2.3</td>\n",
       "      <td>2.2</td>\n",
       "      <td>3.4</td>\n",
       "      <td>0.8</td>\n",
       "      <td>0.0</td>\n",
       "      <td>4.5</td>\n",
       "      <td>0.9</td>\n",
       "    </tr>\n",
       "    <tr>\n",
       "      <th>Lactobacillus_crispatus</th>\n",
       "      <td>8.5</td>\n",
       "      <td>53.6</td>\n",
       "      <td>894.0</td>\n",
       "      <td>14.6</td>\n",
       "      <td>42.0</td>\n",
       "      <td>18.0</td>\n",
       "      <td>78.1</td>\n",
       "      <td>0.0</td>\n",
       "      <td>58.2</td>\n",
       "      <td>16.1</td>\n",
       "      <td>...</td>\n",
       "      <td>6.4</td>\n",
       "      <td>74.5</td>\n",
       "      <td>0.0</td>\n",
       "      <td>56.7</td>\n",
       "      <td>95.6</td>\n",
       "      <td>44.9</td>\n",
       "      <td>0.0</td>\n",
       "      <td>2.4</td>\n",
       "      <td>21.3</td>\n",
       "      <td>12.2</td>\n",
       "    </tr>\n",
       "    <tr>\n",
       "      <th rowspan=\"3\" valign=\"top\">Proteobacteria</th>\n",
       "      <th>Gammaproteobacteria</th>\n",
       "      <th>Enterobacterales</th>\n",
       "      <th>Enterobacteriaceae</th>\n",
       "      <th>Escherichia</th>\n",
       "      <th>Escherichia_coli</th>\n",
       "      <td>6.3</td>\n",
       "      <td>14.0</td>\n",
       "      <td>56.4</td>\n",
       "      <td>6.0</td>\n",
       "      <td>11.1</td>\n",
       "      <td>12.3</td>\n",
       "      <td>7.0</td>\n",
       "      <td>7.8</td>\n",
       "      <td>2.8</td>\n",
       "      <td>8.6</td>\n",
       "      <td>...</td>\n",
       "      <td>21.4</td>\n",
       "      <td>0.0</td>\n",
       "      <td>12.3</td>\n",
       "      <td>0.0</td>\n",
       "      <td>0.0</td>\n",
       "      <td>34.5</td>\n",
       "      <td>2.3</td>\n",
       "      <td>0.0</td>\n",
       "      <td>32.9</td>\n",
       "      <td>44.8</td>\n",
       "    </tr>\n",
       "    <tr>\n",
       "      <th>Betaproteobacteria</th>\n",
       "      <th>Neisseriales</th>\n",
       "      <th>Neisseriaceae</th>\n",
       "      <th>Neisseria</th>\n",
       "      <th>Neisseria_animalis</th>\n",
       "      <td>0.7</td>\n",
       "      <td>0.0</td>\n",
       "      <td>0.0</td>\n",
       "      <td>1.9</td>\n",
       "      <td>0.0</td>\n",
       "      <td>0.0</td>\n",
       "      <td>5.0</td>\n",
       "      <td>5.1</td>\n",
       "      <td>0.0</td>\n",
       "      <td>2.7</td>\n",
       "      <td>...</td>\n",
       "      <td>0.0</td>\n",
       "      <td>0.0</td>\n",
       "      <td>0.0</td>\n",
       "      <td>8.9</td>\n",
       "      <td>0.0</td>\n",
       "      <td>0.3</td>\n",
       "      <td>0.0</td>\n",
       "      <td>0.0</td>\n",
       "      <td>0.0</td>\n",
       "      <td>0.0</td>\n",
       "    </tr>\n",
       "    <tr>\n",
       "      <th>Gammaproteobacteria</th>\n",
       "      <th>Pseudomonadales</th>\n",
       "      <th>Pseudomonadaceae</th>\n",
       "      <th>Pseudomonas</th>\n",
       "      <th>Pseudomonas_monteilii</th>\n",
       "      <td>1.6</td>\n",
       "      <td>5.3</td>\n",
       "      <td>40.8</td>\n",
       "      <td>5.5</td>\n",
       "      <td>3.2</td>\n",
       "      <td>0.4</td>\n",
       "      <td>4.5</td>\n",
       "      <td>2.6</td>\n",
       "      <td>4.7</td>\n",
       "      <td>6.3</td>\n",
       "      <td>...</td>\n",
       "      <td>6.7</td>\n",
       "      <td>1.0</td>\n",
       "      <td>6.7</td>\n",
       "      <td>3.4</td>\n",
       "      <td>3.4</td>\n",
       "      <td>4.5</td>\n",
       "      <td>0.0</td>\n",
       "      <td>1.6</td>\n",
       "      <td>1.2</td>\n",
       "      <td>4.5</td>\n",
       "    </tr>\n",
       "  </tbody>\n",
       "</table>\n",
       "<p>8 rows × 30 columns</p>\n",
       "</div>"
      ],
      "text/plain": [
       "                                                                                                                                  SAMPLE_1  \\\n",
       "kingdom  phylum             class               order              family             genus              species                             \n",
       "Bacteria Bacteria (kingdom) Bacteria (kingdom)  Bacteria (kingdom) Bacteria (kingdom) Bacteria (kingdom) Bacteria (kingdom)            8.5   \n",
       "         Actinobacteria     Actinomycetia       Bifidobacteriales  Bifidobacteriaceae Gardnerella        Gardnerella_vaginalis        27.9   \n",
       "         Firmicutes         Bacilli             Lactobacillales    Enterococcaceae    Enterococcus       Enterococcus_faecalis         6.1   \n",
       "                                                                   Lactobacillaceae   Lactobacillus      Lactobacillus (genus)         9.8   \n",
       "                                                                                                         Lactobacillus_crispatus       8.5   \n",
       "         Proteobacteria     Gammaproteobacteria Enterobacterales   Enterobacteriaceae Escherichia        Escherichia_coli              6.3   \n",
       "                            Betaproteobacteria  Neisseriales       Neisseriaceae      Neisseria          Neisseria_animalis            0.7   \n",
       "                            Gammaproteobacteria Pseudomonadales    Pseudomonadaceae   Pseudomonas        Pseudomonas_monteilii         1.6   \n",
       "\n",
       "                                                                                                                                  SAMPLE_2  \\\n",
       "kingdom  phylum             class               order              family             genus              species                             \n",
       "Bacteria Bacteria (kingdom) Bacteria (kingdom)  Bacteria (kingdom) Bacteria (kingdom) Bacteria (kingdom) Bacteria (kingdom)            6.0   \n",
       "         Actinobacteria     Actinomycetia       Bifidobacteriales  Bifidobacteriaceae Gardnerella        Gardnerella_vaginalis         2.9   \n",
       "         Firmicutes         Bacilli             Lactobacillales    Enterococcaceae    Enterococcus       Enterococcus_faecalis         4.8   \n",
       "                                                                   Lactobacillaceae   Lactobacillus      Lactobacillus (genus)         9.1   \n",
       "                                                                                                         Lactobacillus_crispatus      53.6   \n",
       "         Proteobacteria     Gammaproteobacteria Enterobacterales   Enterobacteriaceae Escherichia        Escherichia_coli             14.0   \n",
       "                            Betaproteobacteria  Neisseriales       Neisseriaceae      Neisseria          Neisseria_animalis            0.0   \n",
       "                            Gammaproteobacteria Pseudomonadales    Pseudomonadaceae   Pseudomonas        Pseudomonas_monteilii         5.3   \n",
       "\n",
       "                                                                                                                                  SAMPLE_3  \\\n",
       "kingdom  phylum             class               order              family             genus              species                             \n",
       "Bacteria Bacteria (kingdom) Bacteria (kingdom)  Bacteria (kingdom) Bacteria (kingdom) Bacteria (kingdom) Bacteria (kingdom)           52.8   \n",
       "         Actinobacteria     Actinomycetia       Bifidobacteriales  Bifidobacteriaceae Gardnerella        Gardnerella_vaginalis         0.0   \n",
       "         Firmicutes         Bacilli             Lactobacillales    Enterococcaceae    Enterococcus       Enterococcus_faecalis         0.0   \n",
       "                                                                   Lactobacillaceae   Lactobacillus      Lactobacillus (genus)        19.2   \n",
       "                                                                                                         Lactobacillus_crispatus     894.0   \n",
       "         Proteobacteria     Gammaproteobacteria Enterobacterales   Enterobacteriaceae Escherichia        Escherichia_coli             56.4   \n",
       "                            Betaproteobacteria  Neisseriales       Neisseriaceae      Neisseria          Neisseria_animalis            0.0   \n",
       "                            Gammaproteobacteria Pseudomonadales    Pseudomonadaceae   Pseudomonas        Pseudomonas_monteilii        40.8   \n",
       "\n",
       "                                                                                                                                  SAMPLE_4  \\\n",
       "kingdom  phylum             class               order              family             genus              species                             \n",
       "Bacteria Bacteria (kingdom) Bacteria (kingdom)  Bacteria (kingdom) Bacteria (kingdom) Bacteria (kingdom) Bacteria (kingdom)            1.1   \n",
       "         Actinobacteria     Actinomycetia       Bifidobacteriales  Bifidobacteriaceae Gardnerella        Gardnerella_vaginalis        22.0   \n",
       "         Firmicutes         Bacilli             Lactobacillales    Enterococcaceae    Enterococcus       Enterococcus_faecalis         3.0   \n",
       "                                                                   Lactobacillaceae   Lactobacillus      Lactobacillus (genus)         6.7   \n",
       "                                                                                                         Lactobacillus_crispatus      14.6   \n",
       "         Proteobacteria     Gammaproteobacteria Enterobacterales   Enterobacteriaceae Escherichia        Escherichia_coli              6.0   \n",
       "                            Betaproteobacteria  Neisseriales       Neisseriaceae      Neisseria          Neisseria_animalis            1.9   \n",
       "                            Gammaproteobacteria Pseudomonadales    Pseudomonadaceae   Pseudomonas        Pseudomonas_monteilii         5.5   \n",
       "\n",
       "                                                                                                                                  SAMPLE_5  \\\n",
       "kingdom  phylum             class               order              family             genus              species                             \n",
       "Bacteria Bacteria (kingdom) Bacteria (kingdom)  Bacteria (kingdom) Bacteria (kingdom) Bacteria (kingdom) Bacteria (kingdom)            4.2   \n",
       "         Actinobacteria     Actinomycetia       Bifidobacteriales  Bifidobacteriaceae Gardnerella        Gardnerella_vaginalis         2.8   \n",
       "         Firmicutes         Bacilli             Lactobacillales    Enterococcaceae    Enterococcus       Enterococcus_faecalis         3.1   \n",
       "                                                                   Lactobacillaceae   Lactobacillus      Lactobacillus (genus)         0.0   \n",
       "                                                                                                         Lactobacillus_crispatus      42.0   \n",
       "         Proteobacteria     Gammaproteobacteria Enterobacterales   Enterobacteriaceae Escherichia        Escherichia_coli             11.1   \n",
       "                            Betaproteobacteria  Neisseriales       Neisseriaceae      Neisseria          Neisseria_animalis            0.0   \n",
       "                            Gammaproteobacteria Pseudomonadales    Pseudomonadaceae   Pseudomonas        Pseudomonas_monteilii         3.2   \n",
       "\n",
       "                                                                                                                                  SAMPLE_6  \\\n",
       "kingdom  phylum             class               order              family             genus              species                             \n",
       "Bacteria Bacteria (kingdom) Bacteria (kingdom)  Bacteria (kingdom) Bacteria (kingdom) Bacteria (kingdom) Bacteria (kingdom)            9.9   \n",
       "         Actinobacteria     Actinomycetia       Bifidobacteriales  Bifidobacteriaceae Gardnerella        Gardnerella_vaginalis        21.5   \n",
       "         Firmicutes         Bacilli             Lactobacillales    Enterococcaceae    Enterococcus       Enterococcus_faecalis         0.0   \n",
       "                                                                   Lactobacillaceae   Lactobacillus      Lactobacillus (genus)         7.0   \n",
       "                                                                                                         Lactobacillus_crispatus      18.0   \n",
       "         Proteobacteria     Gammaproteobacteria Enterobacterales   Enterobacteriaceae Escherichia        Escherichia_coli             12.3   \n",
       "                            Betaproteobacteria  Neisseriales       Neisseriaceae      Neisseria          Neisseria_animalis            0.0   \n",
       "                            Gammaproteobacteria Pseudomonadales    Pseudomonadaceae   Pseudomonas        Pseudomonas_monteilii         0.4   \n",
       "\n",
       "                                                                                                                                  SAMPLE_7  \\\n",
       "kingdom  phylum             class               order              family             genus              species                             \n",
       "Bacteria Bacteria (kingdom) Bacteria (kingdom)  Bacteria (kingdom) Bacteria (kingdom) Bacteria (kingdom) Bacteria (kingdom)            5.5   \n",
       "         Actinobacteria     Actinomycetia       Bifidobacteriales  Bifidobacteriaceae Gardnerella        Gardnerella_vaginalis         0.0   \n",
       "         Firmicutes         Bacilli             Lactobacillales    Enterococcaceae    Enterococcus       Enterococcus_faecalis         0.0   \n",
       "                                                                   Lactobacillaceae   Lactobacillus      Lactobacillus (genus)         3.2   \n",
       "                                                                                                         Lactobacillus_crispatus      78.1   \n",
       "         Proteobacteria     Gammaproteobacteria Enterobacterales   Enterobacteriaceae Escherichia        Escherichia_coli              7.0   \n",
       "                            Betaproteobacteria  Neisseriales       Neisseriaceae      Neisseria          Neisseria_animalis            5.0   \n",
       "                            Gammaproteobacteria Pseudomonadales    Pseudomonadaceae   Pseudomonas        Pseudomonas_monteilii         4.5   \n",
       "\n",
       "                                                                                                                                  SAMPLE_8  \\\n",
       "kingdom  phylum             class               order              family             genus              species                             \n",
       "Bacteria Bacteria (kingdom) Bacteria (kingdom)  Bacteria (kingdom) Bacteria (kingdom) Bacteria (kingdom) Bacteria (kingdom)            3.0   \n",
       "         Actinobacteria     Actinomycetia       Bifidobacteriales  Bifidobacteriaceae Gardnerella        Gardnerella_vaginalis        25.5   \n",
       "         Firmicutes         Bacilli             Lactobacillales    Enterococcaceae    Enterococcus       Enterococcus_faecalis         0.0   \n",
       "                                                                   Lactobacillaceae   Lactobacillus      Lactobacillus (genus)         0.0   \n",
       "                                                                                                         Lactobacillus_crispatus       0.0   \n",
       "         Proteobacteria     Gammaproteobacteria Enterobacterales   Enterobacteriaceae Escherichia        Escherichia_coli              7.8   \n",
       "                            Betaproteobacteria  Neisseriales       Neisseriaceae      Neisseria          Neisseria_animalis            5.1   \n",
       "                            Gammaproteobacteria Pseudomonadales    Pseudomonadaceae   Pseudomonas        Pseudomonas_monteilii         2.6   \n",
       "\n",
       "                                                                                                                                  SAMPLE_9  \\\n",
       "kingdom  phylum             class               order              family             genus              species                             \n",
       "Bacteria Bacteria (kingdom) Bacteria (kingdom)  Bacteria (kingdom) Bacteria (kingdom) Bacteria (kingdom) Bacteria (kingdom)            7.8   \n",
       "         Actinobacteria     Actinomycetia       Bifidobacteriales  Bifidobacteriaceae Gardnerella        Gardnerella_vaginalis         7.3   \n",
       "         Firmicutes         Bacilli             Lactobacillales    Enterococcaceae    Enterococcus       Enterococcus_faecalis         0.0   \n",
       "                                                                   Lactobacillaceae   Lactobacillus      Lactobacillus (genus)         2.8   \n",
       "                                                                                                         Lactobacillus_crispatus      58.2   \n",
       "         Proteobacteria     Gammaproteobacteria Enterobacterales   Enterobacteriaceae Escherichia        Escherichia_coli              2.8   \n",
       "                            Betaproteobacteria  Neisseriales       Neisseriaceae      Neisseria          Neisseria_animalis            0.0   \n",
       "                            Gammaproteobacteria Pseudomonadales    Pseudomonadaceae   Pseudomonas        Pseudomonas_monteilii         4.7   \n",
       "\n",
       "                                                                                                                                  SAMPLE_10  \\\n",
       "kingdom  phylum             class               order              family             genus              species                              \n",
       "Bacteria Bacteria (kingdom) Bacteria (kingdom)  Bacteria (kingdom) Bacteria (kingdom) Bacteria (kingdom) Bacteria (kingdom)             6.1   \n",
       "         Actinobacteria     Actinomycetia       Bifidobacteriales  Bifidobacteriaceae Gardnerella        Gardnerella_vaginalis         23.0   \n",
       "         Firmicutes         Bacilli             Lactobacillales    Enterococcaceae    Enterococcus       Enterococcus_faecalis          0.0   \n",
       "                                                                   Lactobacillaceae   Lactobacillus      Lactobacillus (genus)          8.3   \n",
       "                                                                                                         Lactobacillus_crispatus       16.1   \n",
       "         Proteobacteria     Gammaproteobacteria Enterobacterales   Enterobacteriaceae Escherichia        Escherichia_coli               8.6   \n",
       "                            Betaproteobacteria  Neisseriales       Neisseriaceae      Neisseria          Neisseria_animalis             2.7   \n",
       "                            Gammaproteobacteria Pseudomonadales    Pseudomonadaceae   Pseudomonas        Pseudomonas_monteilii          6.3   \n",
       "\n",
       "                                                                                                                                  ...  \\\n",
       "kingdom  phylum             class               order              family             genus              species                  ...   \n",
       "Bacteria Bacteria (kingdom) Bacteria (kingdom)  Bacteria (kingdom) Bacteria (kingdom) Bacteria (kingdom) Bacteria (kingdom)       ...   \n",
       "         Actinobacteria     Actinomycetia       Bifidobacteriales  Bifidobacteriaceae Gardnerella        Gardnerella_vaginalis    ...   \n",
       "         Firmicutes         Bacilli             Lactobacillales    Enterococcaceae    Enterococcus       Enterococcus_faecalis    ...   \n",
       "                                                                   Lactobacillaceae   Lactobacillus      Lactobacillus (genus)    ...   \n",
       "                                                                                                         Lactobacillus_crispatus  ...   \n",
       "         Proteobacteria     Gammaproteobacteria Enterobacterales   Enterobacteriaceae Escherichia        Escherichia_coli         ...   \n",
       "                            Betaproteobacteria  Neisseriales       Neisseriaceae      Neisseria          Neisseria_animalis       ...   \n",
       "                            Gammaproteobacteria Pseudomonadales    Pseudomonadaceae   Pseudomonas        Pseudomonas_monteilii    ...   \n",
       "\n",
       "                                                                                                                                  SAMPLE_21  \\\n",
       "kingdom  phylum             class               order              family             genus              species                              \n",
       "Bacteria Bacteria (kingdom) Bacteria (kingdom)  Bacteria (kingdom) Bacteria (kingdom) Bacteria (kingdom) Bacteria (kingdom)             5.6   \n",
       "         Actinobacteria     Actinomycetia       Bifidobacteriales  Bifidobacteriaceae Gardnerella        Gardnerella_vaginalis         22.1   \n",
       "         Firmicutes         Bacilli             Lactobacillales    Enterococcaceae    Enterococcus       Enterococcus_faecalis          3.4   \n",
       "                                                                   Lactobacillaceae   Lactobacillus      Lactobacillus (genus)          0.0   \n",
       "                                                                                                         Lactobacillus_crispatus        6.4   \n",
       "         Proteobacteria     Gammaproteobacteria Enterobacterales   Enterobacteriaceae Escherichia        Escherichia_coli              21.4   \n",
       "                            Betaproteobacteria  Neisseriales       Neisseriaceae      Neisseria          Neisseria_animalis             0.0   \n",
       "                            Gammaproteobacteria Pseudomonadales    Pseudomonadaceae   Pseudomonas        Pseudomonas_monteilii          6.7   \n",
       "\n",
       "                                                                                                                                  SAMPLE_22  \\\n",
       "kingdom  phylum             class               order              family             genus              species                              \n",
       "Bacteria Bacteria (kingdom) Bacteria (kingdom)  Bacteria (kingdom) Bacteria (kingdom) Bacteria (kingdom) Bacteria (kingdom)             3.3   \n",
       "         Actinobacteria     Actinomycetia       Bifidobacteriales  Bifidobacteriaceae Gardnerella        Gardnerella_vaginalis          8.3   \n",
       "         Firmicutes         Bacilli             Lactobacillales    Enterococcaceae    Enterococcus       Enterococcus_faecalis          0.0   \n",
       "                                                                   Lactobacillaceae   Lactobacillus      Lactobacillus (genus)          5.7   \n",
       "                                                                                                         Lactobacillus_crispatus       74.5   \n",
       "         Proteobacteria     Gammaproteobacteria Enterobacterales   Enterobacteriaceae Escherichia        Escherichia_coli               0.0   \n",
       "                            Betaproteobacteria  Neisseriales       Neisseriaceae      Neisseria          Neisseria_animalis             0.0   \n",
       "                            Gammaproteobacteria Pseudomonadales    Pseudomonadaceae   Pseudomonas        Pseudomonas_monteilii          1.0   \n",
       "\n",
       "                                                                                                                                  SAMPLE_23  \\\n",
       "kingdom  phylum             class               order              family             genus              species                              \n",
       "Bacteria Bacteria (kingdom) Bacteria (kingdom)  Bacteria (kingdom) Bacteria (kingdom) Bacteria (kingdom) Bacteria (kingdom)             1.0   \n",
       "         Actinobacteria     Actinomycetia       Bifidobacteriales  Bifidobacteriaceae Gardnerella        Gardnerella_vaginalis         14.5   \n",
       "         Firmicutes         Bacilli             Lactobacillales    Enterococcaceae    Enterococcus       Enterococcus_faecalis          3.8   \n",
       "                                                                   Lactobacillaceae   Lactobacillus      Lactobacillus (genus)          2.7   \n",
       "                                                                                                         Lactobacillus_crispatus        0.0   \n",
       "         Proteobacteria     Gammaproteobacteria Enterobacterales   Enterobacteriaceae Escherichia        Escherichia_coli              12.3   \n",
       "                            Betaproteobacteria  Neisseriales       Neisseriaceae      Neisseria          Neisseria_animalis             0.0   \n",
       "                            Gammaproteobacteria Pseudomonadales    Pseudomonadaceae   Pseudomonas        Pseudomonas_monteilii          6.7   \n",
       "\n",
       "                                                                                                                                  SAMPLE_24  \\\n",
       "kingdom  phylum             class               order              family             genus              species                              \n",
       "Bacteria Bacteria (kingdom) Bacteria (kingdom)  Bacteria (kingdom) Bacteria (kingdom) Bacteria (kingdom) Bacteria (kingdom)             0.2   \n",
       "         Actinobacteria     Actinomycetia       Bifidobacteriales  Bifidobacteriaceae Gardnerella        Gardnerella_vaginalis          3.3   \n",
       "         Firmicutes         Bacilli             Lactobacillales    Enterococcaceae    Enterococcus       Enterococcus_faecalis          0.0   \n",
       "                                                                   Lactobacillaceae   Lactobacillus      Lactobacillus (genus)          2.3   \n",
       "                                                                                                         Lactobacillus_crispatus       56.7   \n",
       "         Proteobacteria     Gammaproteobacteria Enterobacterales   Enterobacteriaceae Escherichia        Escherichia_coli               0.0   \n",
       "                            Betaproteobacteria  Neisseriales       Neisseriaceae      Neisseria          Neisseria_animalis             8.9   \n",
       "                            Gammaproteobacteria Pseudomonadales    Pseudomonadaceae   Pseudomonas        Pseudomonas_monteilii          3.4   \n",
       "\n",
       "                                                                                                                                  SAMPLE_25  \\\n",
       "kingdom  phylum             class               order              family             genus              species                              \n",
       "Bacteria Bacteria (kingdom) Bacteria (kingdom)  Bacteria (kingdom) Bacteria (kingdom) Bacteria (kingdom) Bacteria (kingdom)             3.4   \n",
       "         Actinobacteria     Actinomycetia       Bifidobacteriales  Bifidobacteriaceae Gardnerella        Gardnerella_vaginalis          0.0   \n",
       "         Firmicutes         Bacilli             Lactobacillales    Enterococcaceae    Enterococcus       Enterococcus_faecalis          0.0   \n",
       "                                                                   Lactobacillaceae   Lactobacillus      Lactobacillus (genus)          2.2   \n",
       "                                                                                                         Lactobacillus_crispatus       95.6   \n",
       "         Proteobacteria     Gammaproteobacteria Enterobacterales   Enterobacteriaceae Escherichia        Escherichia_coli               0.0   \n",
       "                            Betaproteobacteria  Neisseriales       Neisseriaceae      Neisseria          Neisseria_animalis             0.0   \n",
       "                            Gammaproteobacteria Pseudomonadales    Pseudomonadaceae   Pseudomonas        Pseudomonas_monteilii          3.4   \n",
       "\n",
       "                                                                                                                                  SAMPLE_26  \\\n",
       "kingdom  phylum             class               order              family             genus              species                              \n",
       "Bacteria Bacteria (kingdom) Bacteria (kingdom)  Bacteria (kingdom) Bacteria (kingdom) Bacteria (kingdom) Bacteria (kingdom)             5.6   \n",
       "         Actinobacteria     Actinomycetia       Bifidobacteriales  Bifidobacteriaceae Gardnerella        Gardnerella_vaginalis          0.0   \n",
       "         Firmicutes         Bacilli             Lactobacillales    Enterococcaceae    Enterococcus       Enterococcus_faecalis         14.5   \n",
       "                                                                   Lactobacillaceae   Lactobacillus      Lactobacillus (genus)          3.4   \n",
       "                                                                                                         Lactobacillus_crispatus       44.9   \n",
       "         Proteobacteria     Gammaproteobacteria Enterobacterales   Enterobacteriaceae Escherichia        Escherichia_coli              34.5   \n",
       "                            Betaproteobacteria  Neisseriales       Neisseriaceae      Neisseria          Neisseria_animalis             0.3   \n",
       "                            Gammaproteobacteria Pseudomonadales    Pseudomonadaceae   Pseudomonas        Pseudomonas_monteilii          4.5   \n",
       "\n",
       "                                                                                                                                  SAMPLE_27  \\\n",
       "kingdom  phylum             class               order              family             genus              species                              \n",
       "Bacteria Bacteria (kingdom) Bacteria (kingdom)  Bacteria (kingdom) Bacteria (kingdom) Bacteria (kingdom) Bacteria (kingdom)             4.5   \n",
       "         Actinobacteria     Actinomycetia       Bifidobacteriales  Bifidobacteriaceae Gardnerella        Gardnerella_vaginalis         66.6   \n",
       "         Firmicutes         Bacilli             Lactobacillales    Enterococcaceae    Enterococcus       Enterococcus_faecalis          2.3   \n",
       "                                                                   Lactobacillaceae   Lactobacillus      Lactobacillus (genus)          0.8   \n",
       "                                                                                                         Lactobacillus_crispatus        0.0   \n",
       "         Proteobacteria     Gammaproteobacteria Enterobacterales   Enterobacteriaceae Escherichia        Escherichia_coli               2.3   \n",
       "                            Betaproteobacteria  Neisseriales       Neisseriaceae      Neisseria          Neisseria_animalis             0.0   \n",
       "                            Gammaproteobacteria Pseudomonadales    Pseudomonadaceae   Pseudomonas        Pseudomonas_monteilii          0.0   \n",
       "\n",
       "                                                                                                                                  SAMPLE_28  \\\n",
       "kingdom  phylum             class               order              family             genus              species                              \n",
       "Bacteria Bacteria (kingdom) Bacteria (kingdom)  Bacteria (kingdom) Bacteria (kingdom) Bacteria (kingdom) Bacteria (kingdom)            11.4   \n",
       "         Actinobacteria     Actinomycetia       Bifidobacteriales  Bifidobacteriaceae Gardnerella        Gardnerella_vaginalis         18.0   \n",
       "         Firmicutes         Bacilli             Lactobacillales    Enterococcaceae    Enterococcus       Enterococcus_faecalis         46.8   \n",
       "                                                                   Lactobacillaceae   Lactobacillus      Lactobacillus (genus)          0.0   \n",
       "                                                                                                         Lactobacillus_crispatus        2.4   \n",
       "         Proteobacteria     Gammaproteobacteria Enterobacterales   Enterobacteriaceae Escherichia        Escherichia_coli               0.0   \n",
       "                            Betaproteobacteria  Neisseriales       Neisseriaceae      Neisseria          Neisseria_animalis             0.0   \n",
       "                            Gammaproteobacteria Pseudomonadales    Pseudomonadaceae   Pseudomonas        Pseudomonas_monteilii          1.6   \n",
       "\n",
       "                                                                                                                                  SAMPLE_29  \\\n",
       "kingdom  phylum             class               order              family             genus              species                              \n",
       "Bacteria Bacteria (kingdom) Bacteria (kingdom)  Bacteria (kingdom) Bacteria (kingdom) Bacteria (kingdom) Bacteria (kingdom)             3.8   \n",
       "         Actinobacteria     Actinomycetia       Bifidobacteriales  Bifidobacteriaceae Gardnerella        Gardnerella_vaginalis         14.5   \n",
       "         Firmicutes         Bacilli             Lactobacillales    Enterococcaceae    Enterococcus       Enterococcus_faecalis          0.0   \n",
       "                                                                   Lactobacillaceae   Lactobacillus      Lactobacillus (genus)          4.5   \n",
       "                                                                                                         Lactobacillus_crispatus       21.3   \n",
       "         Proteobacteria     Gammaproteobacteria Enterobacterales   Enterobacteriaceae Escherichia        Escherichia_coli              32.9   \n",
       "                            Betaproteobacteria  Neisseriales       Neisseriaceae      Neisseria          Neisseria_animalis             0.0   \n",
       "                            Gammaproteobacteria Pseudomonadales    Pseudomonadaceae   Pseudomonas        Pseudomonas_monteilii          1.2   \n",
       "\n",
       "                                                                                                                                  SAMPLE_30  \n",
       "kingdom  phylum             class               order              family             genus              species                             \n",
       "Bacteria Bacteria (kingdom) Bacteria (kingdom)  Bacteria (kingdom) Bacteria (kingdom) Bacteria (kingdom) Bacteria (kingdom)             9.7  \n",
       "         Actinobacteria     Actinomycetia       Bifidobacteriales  Bifidobacteriaceae Gardnerella        Gardnerella_vaginalis         14.9  \n",
       "         Firmicutes         Bacilli             Lactobacillales    Enterococcaceae    Enterococcus       Enterococcus_faecalis          0.0  \n",
       "                                                                   Lactobacillaceae   Lactobacillus      Lactobacillus (genus)          0.9  \n",
       "                                                                                                         Lactobacillus_crispatus       12.2  \n",
       "         Proteobacteria     Gammaproteobacteria Enterobacterales   Enterobacteriaceae Escherichia        Escherichia_coli              44.8  \n",
       "                            Betaproteobacteria  Neisseriales       Neisseriaceae      Neisseria          Neisseria_animalis             0.0  \n",
       "                            Gammaproteobacteria Pseudomonadales    Pseudomonadaceae   Pseudomonas        Pseudomonas_monteilii          4.5  \n",
       "\n",
       "[8 rows x 30 columns]"
      ]
     },
     "execution_count": 22,
     "metadata": {},
     "output_type": "execute_result"
    }
   ],
   "source": [
    "counts_dataframe"
   ]
  },
  {
   "cell_type": "code",
   "execution_count": 23,
   "id": "0c3f2351",
   "metadata": {},
   "outputs": [
    {
     "data": {
      "text/plain": [
       "SAMPLE_1       69.4\n",
       "SAMPLE_2       95.7\n",
       "SAMPLE_3     1063.2\n",
       "SAMPLE_4       60.8\n",
       "SAMPLE_5       66.4\n",
       "SAMPLE_6       69.1\n",
       "SAMPLE_7      103.3\n",
       "SAMPLE_8       44.0\n",
       "SAMPLE_9       83.6\n",
       "SAMPLE_10      71.1\n",
       "SAMPLE_11      66.8\n",
       "SAMPLE_12      96.0\n",
       "SAMPLE_13      85.5\n",
       "SAMPLE_14      94.9\n",
       "SAMPLE_15     132.6\n",
       "SAMPLE_16      99.4\n",
       "SAMPLE_17     107.2\n",
       "SAMPLE_18      83.0\n",
       "SAMPLE_19     126.2\n",
       "SAMPLE_20     119.3\n",
       "SAMPLE_21      65.6\n",
       "SAMPLE_22      92.8\n",
       "SAMPLE_23      41.0\n",
       "SAMPLE_24      74.8\n",
       "SAMPLE_25     104.6\n",
       "SAMPLE_26     107.7\n",
       "SAMPLE_27      76.5\n",
       "SAMPLE_28      80.2\n",
       "SAMPLE_29      78.2\n",
       "SAMPLE_30      87.0\n",
       "dtype: float64"
      ]
     },
     "execution_count": 23,
     "metadata": {},
     "output_type": "execute_result"
    }
   ],
   "source": [
    "counts_dataframe.sum()"
   ]
  },
  {
   "cell_type": "markdown",
   "id": "e390d5dc",
   "metadata": {},
   "source": [
    "#### Normalization of data\n",
    "\n",
    "SAMPLE_3 number of classified reads is 8 to 24 times greater than other samples' reads counts. So that futur analyses not to be biased towards SAMPLE_3, we need to perform some kind of normalization.\n",
    "\n",
    "Moonstone offers assistance in normalizing your data using many different methods (see [list](https://moonstone.readthedocs.io/en/latest/api_docs/normalization.html))\n",
    "\n",
    "(To better understand what each normalization method entails, you can watch this [youtube video](https://www.youtube.com/watch?v=UFB993xufUU&t=683s))"
   ]
  },
  {
   "cell_type": "code",
   "execution_count": 24,
   "id": "ee102cd6",
   "metadata": {},
   "outputs": [],
   "source": [
    "from moonstone.normalization.counts.geometric_mean import (\n",
    "    GeometricMeanNormalization\n",
    ")\n",
    "\n",
    "geom_mean_norm = GeometricMeanNormalization(counts_dataframe)     # instantiation\n",
    "counts_dataframe_normalized = geom_mean_norm.normalized_df"
   ]
  },
  {
   "cell_type": "code",
   "execution_count": 25,
   "id": "a169e79e",
   "metadata": {},
   "outputs": [
    {
     "data": {
      "text/plain": [
       "SAMPLE_1      37.965404\n",
       "SAMPLE_2      70.253198\n",
       "SAMPLE_3      97.356079\n",
       "SAMPLE_4      43.010147\n",
       "SAMPLE_5      76.953969\n",
       "SAMPLE_6      39.242644\n",
       "SAMPLE_7      88.312914\n",
       "SAMPLE_8      65.842962\n",
       "SAMPLE_9      69.205156\n",
       "SAMPLE_10     43.909560\n",
       "SAMPLE_11     57.492194\n",
       "SAMPLE_12     66.351561\n",
       "SAMPLE_13     62.120312\n",
       "SAMPLE_14     63.759901\n",
       "SAMPLE_15    117.252168\n",
       "SAMPLE_16     91.964687\n",
       "SAMPLE_17     77.238007\n",
       "SAMPLE_18    124.498432\n",
       "SAMPLE_19     90.927579\n",
       "SAMPLE_20    109.840434\n",
       "SAMPLE_21     44.833819\n",
       "SAMPLE_22    130.761990\n",
       "SAMPLE_23     43.861387\n",
       "SAMPLE_24    128.754973\n",
       "SAMPLE_25    130.337308\n",
       "SAMPLE_26     91.235838\n",
       "SAMPLE_27     79.049005\n",
       "SAMPLE_28     85.073605\n",
       "SAMPLE_29     95.690900\n",
       "SAMPLE_30     75.220596\n",
       "dtype: float64"
      ]
     },
     "execution_count": 25,
     "metadata": {},
     "output_type": "execute_result"
    }
   ],
   "source": [
    "counts_dataframe_normalized.sum()"
   ]
  },
  {
   "cell_type": "markdown",
   "id": "9ade8be6",
   "metadata": {},
   "source": [
    "### Metadata"
   ]
  },
  {
   "cell_type": "code",
   "execution_count": 44,
   "id": "2defa12d",
   "metadata": {},
   "outputs": [],
   "source": [
    "import pandas as pd\n",
    "\n",
    "metadata_file = \"moonstone_tuto_metadata_file.csv\"\n",
    "metadata_dataframe = pd.read_csv(metadata_file, sep=\",\", index_col=\"SAMPLE_ID\")"
   ]
  },
  {
   "cell_type": "code",
   "execution_count": 45,
   "id": "2bf1f789",
   "metadata": {},
   "outputs": [
    {
     "data": {
      "text/html": [
       "<div>\n",
       "<style scoped>\n",
       "    .dataframe tbody tr th:only-of-type {\n",
       "        vertical-align: middle;\n",
       "    }\n",
       "\n",
       "    .dataframe tbody tr th {\n",
       "        vertical-align: top;\n",
       "    }\n",
       "\n",
       "    .dataframe thead th {\n",
       "        text-align: right;\n",
       "    }\n",
       "</style>\n",
       "<table border=\"1\" class=\"dataframe\">\n",
       "  <thead>\n",
       "    <tr style=\"text-align: right;\">\n",
       "      <th></th>\n",
       "      <th>SMOKER</th>\n",
       "      <th>GROUP</th>\n",
       "    </tr>\n",
       "    <tr>\n",
       "      <th>SAMPLE_ID</th>\n",
       "      <th></th>\n",
       "      <th></th>\n",
       "    </tr>\n",
       "  </thead>\n",
       "  <tbody>\n",
       "    <tr>\n",
       "      <th>SAMPLE_1</th>\n",
       "      <td>yes</td>\n",
       "      <td>A</td>\n",
       "    </tr>\n",
       "    <tr>\n",
       "      <th>SAMPLE_2</th>\n",
       "      <td>yes</td>\n",
       "      <td>C</td>\n",
       "    </tr>\n",
       "    <tr>\n",
       "      <th>SAMPLE_3</th>\n",
       "      <td>no</td>\n",
       "      <td>A</td>\n",
       "    </tr>\n",
       "    <tr>\n",
       "      <th>SAMPLE_4</th>\n",
       "      <td>no</td>\n",
       "      <td>C</td>\n",
       "    </tr>\n",
       "    <tr>\n",
       "      <th>SAMPLE_5</th>\n",
       "      <td>no</td>\n",
       "      <td>B</td>\n",
       "    </tr>\n",
       "    <tr>\n",
       "      <th>SAMPLE_6</th>\n",
       "      <td>no</td>\n",
       "      <td>C</td>\n",
       "    </tr>\n",
       "    <tr>\n",
       "      <th>SAMPLE_7</th>\n",
       "      <td>yes</td>\n",
       "      <td>A</td>\n",
       "    </tr>\n",
       "    <tr>\n",
       "      <th>SAMPLE_8</th>\n",
       "      <td>no</td>\n",
       "      <td>C</td>\n",
       "    </tr>\n",
       "    <tr>\n",
       "      <th>SAMPLE_9</th>\n",
       "      <td>yes</td>\n",
       "      <td>A</td>\n",
       "    </tr>\n",
       "    <tr>\n",
       "      <th>SAMPLE_10</th>\n",
       "      <td>no</td>\n",
       "      <td>A</td>\n",
       "    </tr>\n",
       "    <tr>\n",
       "      <th>SAMPLE_11</th>\n",
       "      <td>yes</td>\n",
       "      <td>B</td>\n",
       "    </tr>\n",
       "    <tr>\n",
       "      <th>SAMPLE_12</th>\n",
       "      <td>no</td>\n",
       "      <td>B</td>\n",
       "    </tr>\n",
       "    <tr>\n",
       "      <th>SAMPLE_13</th>\n",
       "      <td>yes</td>\n",
       "      <td>B</td>\n",
       "    </tr>\n",
       "    <tr>\n",
       "      <th>SAMPLE_14</th>\n",
       "      <td>no</td>\n",
       "      <td>A</td>\n",
       "    </tr>\n",
       "    <tr>\n",
       "      <th>SAMPLE_15</th>\n",
       "      <td>no</td>\n",
       "      <td>A</td>\n",
       "    </tr>\n",
       "    <tr>\n",
       "      <th>SAMPLE_16</th>\n",
       "      <td>no</td>\n",
       "      <td>B</td>\n",
       "    </tr>\n",
       "    <tr>\n",
       "      <th>SAMPLE_17</th>\n",
       "      <td>yes</td>\n",
       "      <td>B</td>\n",
       "    </tr>\n",
       "    <tr>\n",
       "      <th>SAMPLE_18</th>\n",
       "      <td>yes</td>\n",
       "      <td>C</td>\n",
       "    </tr>\n",
       "    <tr>\n",
       "      <th>SAMPLE_19</th>\n",
       "      <td>yes</td>\n",
       "      <td>C</td>\n",
       "    </tr>\n",
       "    <tr>\n",
       "      <th>SAMPLE_20</th>\n",
       "      <td>yes</td>\n",
       "      <td>B</td>\n",
       "    </tr>\n",
       "    <tr>\n",
       "      <th>SAMPLE_21</th>\n",
       "      <td>yes</td>\n",
       "      <td>B</td>\n",
       "    </tr>\n",
       "    <tr>\n",
       "      <th>SAMPLE_22</th>\n",
       "      <td>yes</td>\n",
       "      <td>A</td>\n",
       "    </tr>\n",
       "    <tr>\n",
       "      <th>SAMPLE_23</th>\n",
       "      <td>yes</td>\n",
       "      <td>C</td>\n",
       "    </tr>\n",
       "    <tr>\n",
       "      <th>SAMPLE_24</th>\n",
       "      <td>no</td>\n",
       "      <td>C</td>\n",
       "    </tr>\n",
       "    <tr>\n",
       "      <th>SAMPLE_25</th>\n",
       "      <td>no</td>\n",
       "      <td>B</td>\n",
       "    </tr>\n",
       "    <tr>\n",
       "      <th>SAMPLE_26</th>\n",
       "      <td>yes</td>\n",
       "      <td>A</td>\n",
       "    </tr>\n",
       "    <tr>\n",
       "      <th>SAMPLE_27</th>\n",
       "      <td>no</td>\n",
       "      <td>C</td>\n",
       "    </tr>\n",
       "    <tr>\n",
       "      <th>SAMPLE_28</th>\n",
       "      <td>yes</td>\n",
       "      <td>B</td>\n",
       "    </tr>\n",
       "    <tr>\n",
       "      <th>SAMPLE_29</th>\n",
       "      <td>no</td>\n",
       "      <td>A</td>\n",
       "    </tr>\n",
       "    <tr>\n",
       "      <th>SAMPLE_30</th>\n",
       "      <td>yes</td>\n",
       "      <td>A</td>\n",
       "    </tr>\n",
       "  </tbody>\n",
       "</table>\n",
       "</div>"
      ],
      "text/plain": [
       "          SMOKER GROUP\n",
       "SAMPLE_ID             \n",
       "SAMPLE_1     yes     A\n",
       "SAMPLE_2     yes     C\n",
       "SAMPLE_3      no     A\n",
       "SAMPLE_4      no     C\n",
       "SAMPLE_5      no     B\n",
       "SAMPLE_6      no     C\n",
       "SAMPLE_7     yes     A\n",
       "SAMPLE_8      no     C\n",
       "SAMPLE_9     yes     A\n",
       "SAMPLE_10     no     A\n",
       "SAMPLE_11    yes     B\n",
       "SAMPLE_12     no     B\n",
       "SAMPLE_13    yes     B\n",
       "SAMPLE_14     no     A\n",
       "SAMPLE_15     no     A\n",
       "SAMPLE_16     no     B\n",
       "SAMPLE_17    yes     B\n",
       "SAMPLE_18    yes     C\n",
       "SAMPLE_19    yes     C\n",
       "SAMPLE_20    yes     B\n",
       "SAMPLE_21    yes     B\n",
       "SAMPLE_22    yes     A\n",
       "SAMPLE_23    yes     C\n",
       "SAMPLE_24     no     C\n",
       "SAMPLE_25     no     B\n",
       "SAMPLE_26    yes     A\n",
       "SAMPLE_27     no     C\n",
       "SAMPLE_28    yes     B\n",
       "SAMPLE_29     no     A\n",
       "SAMPLE_30    yes     A"
      ]
     },
     "execution_count": 45,
     "metadata": {},
     "output_type": "execute_result"
    }
   ],
   "source": [
    "metadata_dataframe"
   ]
  },
  {
   "cell_type": "code",
   "execution_count": 46,
   "id": "5eb3a07d",
   "metadata": {},
   "outputs": [
    {
     "data": {
      "text/html": [
       "<div>\n",
       "<style scoped>\n",
       "    .dataframe tbody tr th:only-of-type {\n",
       "        vertical-align: middle;\n",
       "    }\n",
       "\n",
       "    .dataframe tbody tr th {\n",
       "        vertical-align: top;\n",
       "    }\n",
       "\n",
       "    .dataframe thead th {\n",
       "        text-align: right;\n",
       "    }\n",
       "</style>\n",
       "<table border=\"1\" class=\"dataframe\">\n",
       "  <thead>\n",
       "    <tr style=\"text-align: right;\">\n",
       "      <th>GROUP</th>\n",
       "      <th>A</th>\n",
       "      <th>B</th>\n",
       "      <th>C</th>\n",
       "    </tr>\n",
       "    <tr>\n",
       "      <th>SMOKER</th>\n",
       "      <th></th>\n",
       "      <th></th>\n",
       "      <th></th>\n",
       "    </tr>\n",
       "  </thead>\n",
       "  <tbody>\n",
       "    <tr>\n",
       "      <th>no</th>\n",
       "      <td>5</td>\n",
       "      <td>4</td>\n",
       "      <td>5</td>\n",
       "    </tr>\n",
       "    <tr>\n",
       "      <th>yes</th>\n",
       "      <td>6</td>\n",
       "      <td>6</td>\n",
       "      <td>4</td>\n",
       "    </tr>\n",
       "  </tbody>\n",
       "</table>\n",
       "</div>"
      ],
      "text/plain": [
       "GROUP   A  B  C\n",
       "SMOKER         \n",
       "no      5  4  5\n",
       "yes     6  6  4"
      ]
     },
     "execution_count": 46,
     "metadata": {},
     "output_type": "execute_result"
    }
   ],
   "source": [
    "pd.crosstab(metadata_dataframe['SMOKER'], metadata_dataframe['GROUP'])"
   ]
  },
  {
   "cell_type": "markdown",
   "id": "b00323b2",
   "metadata": {},
   "source": [
    "# Data visualization/exploration"
   ]
  },
  {
   "cell_type": "code",
   "execution_count": 28,
   "id": "b51eaaf5",
   "metadata": {},
   "outputs": [],
   "source": [
    "from moonstone.plot.counts import PlotTaxonomyCounts\n",
    "\n",
    "instance = PlotTaxonomyCounts(counts_dataframe_normalized)"
   ]
  },
  {
   "cell_type": "code",
   "execution_count": 29,
   "id": "f67bad9f",
   "metadata": {
    "scrolled": false
   },
   "outputs": [
    {
     "data": {
      "application/vnd.plotly.v1+json": {
       "config": {
        "plotlyServerURL": "https://plot.ly"
       },
       "data": [
        {
         "marker": {
          "color": "crimson"
         },
         "orientation": "h",
         "type": "bar",
         "x": [
          76.66666666666667,
          83.33333333333334,
          86.66666666666667
         ],
         "y": [
          "<i>Escherichia coli</i>",
          "<i>Gardnerella vaginalis</i>",
          "<i>Lactobacillus crispatus</i>"
         ]
        }
       ],
       "layout": {
        "template": {
         "data": {
          "bar": [
           {
            "error_x": {
             "color": "#2a3f5f"
            },
            "error_y": {
             "color": "#2a3f5f"
            },
            "marker": {
             "line": {
              "color": "#E5ECF6",
              "width": 0.5
             },
             "pattern": {
              "fillmode": "overlay",
              "size": 10,
              "solidity": 0.2
             }
            },
            "type": "bar"
           }
          ],
          "barpolar": [
           {
            "marker": {
             "line": {
              "color": "#E5ECF6",
              "width": 0.5
             },
             "pattern": {
              "fillmode": "overlay",
              "size": 10,
              "solidity": 0.2
             }
            },
            "type": "barpolar"
           }
          ],
          "carpet": [
           {
            "aaxis": {
             "endlinecolor": "#2a3f5f",
             "gridcolor": "white",
             "linecolor": "white",
             "minorgridcolor": "white",
             "startlinecolor": "#2a3f5f"
            },
            "baxis": {
             "endlinecolor": "#2a3f5f",
             "gridcolor": "white",
             "linecolor": "white",
             "minorgridcolor": "white",
             "startlinecolor": "#2a3f5f"
            },
            "type": "carpet"
           }
          ],
          "choropleth": [
           {
            "colorbar": {
             "outlinewidth": 0,
             "ticks": ""
            },
            "type": "choropleth"
           }
          ],
          "contour": [
           {
            "colorbar": {
             "outlinewidth": 0,
             "ticks": ""
            },
            "colorscale": [
             [
              0,
              "#0d0887"
             ],
             [
              0.1111111111111111,
              "#46039f"
             ],
             [
              0.2222222222222222,
              "#7201a8"
             ],
             [
              0.3333333333333333,
              "#9c179e"
             ],
             [
              0.4444444444444444,
              "#bd3786"
             ],
             [
              0.5555555555555556,
              "#d8576b"
             ],
             [
              0.6666666666666666,
              "#ed7953"
             ],
             [
              0.7777777777777778,
              "#fb9f3a"
             ],
             [
              0.8888888888888888,
              "#fdca26"
             ],
             [
              1,
              "#f0f921"
             ]
            ],
            "type": "contour"
           }
          ],
          "contourcarpet": [
           {
            "colorbar": {
             "outlinewidth": 0,
             "ticks": ""
            },
            "type": "contourcarpet"
           }
          ],
          "heatmap": [
           {
            "colorbar": {
             "outlinewidth": 0,
             "ticks": ""
            },
            "colorscale": [
             [
              0,
              "#0d0887"
             ],
             [
              0.1111111111111111,
              "#46039f"
             ],
             [
              0.2222222222222222,
              "#7201a8"
             ],
             [
              0.3333333333333333,
              "#9c179e"
             ],
             [
              0.4444444444444444,
              "#bd3786"
             ],
             [
              0.5555555555555556,
              "#d8576b"
             ],
             [
              0.6666666666666666,
              "#ed7953"
             ],
             [
              0.7777777777777778,
              "#fb9f3a"
             ],
             [
              0.8888888888888888,
              "#fdca26"
             ],
             [
              1,
              "#f0f921"
             ]
            ],
            "type": "heatmap"
           }
          ],
          "heatmapgl": [
           {
            "colorbar": {
             "outlinewidth": 0,
             "ticks": ""
            },
            "colorscale": [
             [
              0,
              "#0d0887"
             ],
             [
              0.1111111111111111,
              "#46039f"
             ],
             [
              0.2222222222222222,
              "#7201a8"
             ],
             [
              0.3333333333333333,
              "#9c179e"
             ],
             [
              0.4444444444444444,
              "#bd3786"
             ],
             [
              0.5555555555555556,
              "#d8576b"
             ],
             [
              0.6666666666666666,
              "#ed7953"
             ],
             [
              0.7777777777777778,
              "#fb9f3a"
             ],
             [
              0.8888888888888888,
              "#fdca26"
             ],
             [
              1,
              "#f0f921"
             ]
            ],
            "type": "heatmapgl"
           }
          ],
          "histogram": [
           {
            "marker": {
             "pattern": {
              "fillmode": "overlay",
              "size": 10,
              "solidity": 0.2
             }
            },
            "type": "histogram"
           }
          ],
          "histogram2d": [
           {
            "colorbar": {
             "outlinewidth": 0,
             "ticks": ""
            },
            "colorscale": [
             [
              0,
              "#0d0887"
             ],
             [
              0.1111111111111111,
              "#46039f"
             ],
             [
              0.2222222222222222,
              "#7201a8"
             ],
             [
              0.3333333333333333,
              "#9c179e"
             ],
             [
              0.4444444444444444,
              "#bd3786"
             ],
             [
              0.5555555555555556,
              "#d8576b"
             ],
             [
              0.6666666666666666,
              "#ed7953"
             ],
             [
              0.7777777777777778,
              "#fb9f3a"
             ],
             [
              0.8888888888888888,
              "#fdca26"
             ],
             [
              1,
              "#f0f921"
             ]
            ],
            "type": "histogram2d"
           }
          ],
          "histogram2dcontour": [
           {
            "colorbar": {
             "outlinewidth": 0,
             "ticks": ""
            },
            "colorscale": [
             [
              0,
              "#0d0887"
             ],
             [
              0.1111111111111111,
              "#46039f"
             ],
             [
              0.2222222222222222,
              "#7201a8"
             ],
             [
              0.3333333333333333,
              "#9c179e"
             ],
             [
              0.4444444444444444,
              "#bd3786"
             ],
             [
              0.5555555555555556,
              "#d8576b"
             ],
             [
              0.6666666666666666,
              "#ed7953"
             ],
             [
              0.7777777777777778,
              "#fb9f3a"
             ],
             [
              0.8888888888888888,
              "#fdca26"
             ],
             [
              1,
              "#f0f921"
             ]
            ],
            "type": "histogram2dcontour"
           }
          ],
          "mesh3d": [
           {
            "colorbar": {
             "outlinewidth": 0,
             "ticks": ""
            },
            "type": "mesh3d"
           }
          ],
          "parcoords": [
           {
            "line": {
             "colorbar": {
              "outlinewidth": 0,
              "ticks": ""
             }
            },
            "type": "parcoords"
           }
          ],
          "pie": [
           {
            "automargin": true,
            "type": "pie"
           }
          ],
          "scatter": [
           {
            "marker": {
             "colorbar": {
              "outlinewidth": 0,
              "ticks": ""
             }
            },
            "type": "scatter"
           }
          ],
          "scatter3d": [
           {
            "line": {
             "colorbar": {
              "outlinewidth": 0,
              "ticks": ""
             }
            },
            "marker": {
             "colorbar": {
              "outlinewidth": 0,
              "ticks": ""
             }
            },
            "type": "scatter3d"
           }
          ],
          "scattercarpet": [
           {
            "marker": {
             "colorbar": {
              "outlinewidth": 0,
              "ticks": ""
             }
            },
            "type": "scattercarpet"
           }
          ],
          "scattergeo": [
           {
            "marker": {
             "colorbar": {
              "outlinewidth": 0,
              "ticks": ""
             }
            },
            "type": "scattergeo"
           }
          ],
          "scattergl": [
           {
            "marker": {
             "colorbar": {
              "outlinewidth": 0,
              "ticks": ""
             }
            },
            "type": "scattergl"
           }
          ],
          "scattermapbox": [
           {
            "marker": {
             "colorbar": {
              "outlinewidth": 0,
              "ticks": ""
             }
            },
            "type": "scattermapbox"
           }
          ],
          "scatterpolar": [
           {
            "marker": {
             "colorbar": {
              "outlinewidth": 0,
              "ticks": ""
             }
            },
            "type": "scatterpolar"
           }
          ],
          "scatterpolargl": [
           {
            "marker": {
             "colorbar": {
              "outlinewidth": 0,
              "ticks": ""
             }
            },
            "type": "scatterpolargl"
           }
          ],
          "scatterternary": [
           {
            "marker": {
             "colorbar": {
              "outlinewidth": 0,
              "ticks": ""
             }
            },
            "type": "scatterternary"
           }
          ],
          "surface": [
           {
            "colorbar": {
             "outlinewidth": 0,
             "ticks": ""
            },
            "colorscale": [
             [
              0,
              "#0d0887"
             ],
             [
              0.1111111111111111,
              "#46039f"
             ],
             [
              0.2222222222222222,
              "#7201a8"
             ],
             [
              0.3333333333333333,
              "#9c179e"
             ],
             [
              0.4444444444444444,
              "#bd3786"
             ],
             [
              0.5555555555555556,
              "#d8576b"
             ],
             [
              0.6666666666666666,
              "#ed7953"
             ],
             [
              0.7777777777777778,
              "#fb9f3a"
             ],
             [
              0.8888888888888888,
              "#fdca26"
             ],
             [
              1,
              "#f0f921"
             ]
            ],
            "type": "surface"
           }
          ],
          "table": [
           {
            "cells": {
             "fill": {
              "color": "#EBF0F8"
             },
             "line": {
              "color": "white"
             }
            },
            "header": {
             "fill": {
              "color": "#C8D4E3"
             },
             "line": {
              "color": "white"
             }
            },
            "type": "table"
           }
          ]
         },
         "layout": {
          "annotationdefaults": {
           "arrowcolor": "#2a3f5f",
           "arrowhead": 0,
           "arrowwidth": 1
          },
          "autotypenumbers": "strict",
          "coloraxis": {
           "colorbar": {
            "outlinewidth": 0,
            "ticks": ""
           }
          },
          "colorscale": {
           "diverging": [
            [
             0,
             "#8e0152"
            ],
            [
             0.1,
             "#c51b7d"
            ],
            [
             0.2,
             "#de77ae"
            ],
            [
             0.3,
             "#f1b6da"
            ],
            [
             0.4,
             "#fde0ef"
            ],
            [
             0.5,
             "#f7f7f7"
            ],
            [
             0.6,
             "#e6f5d0"
            ],
            [
             0.7,
             "#b8e186"
            ],
            [
             0.8,
             "#7fbc41"
            ],
            [
             0.9,
             "#4d9221"
            ],
            [
             1,
             "#276419"
            ]
           ],
           "sequential": [
            [
             0,
             "#0d0887"
            ],
            [
             0.1111111111111111,
             "#46039f"
            ],
            [
             0.2222222222222222,
             "#7201a8"
            ],
            [
             0.3333333333333333,
             "#9c179e"
            ],
            [
             0.4444444444444444,
             "#bd3786"
            ],
            [
             0.5555555555555556,
             "#d8576b"
            ],
            [
             0.6666666666666666,
             "#ed7953"
            ],
            [
             0.7777777777777778,
             "#fb9f3a"
            ],
            [
             0.8888888888888888,
             "#fdca26"
            ],
            [
             1,
             "#f0f921"
            ]
           ],
           "sequentialminus": [
            [
             0,
             "#0d0887"
            ],
            [
             0.1111111111111111,
             "#46039f"
            ],
            [
             0.2222222222222222,
             "#7201a8"
            ],
            [
             0.3333333333333333,
             "#9c179e"
            ],
            [
             0.4444444444444444,
             "#bd3786"
            ],
            [
             0.5555555555555556,
             "#d8576b"
            ],
            [
             0.6666666666666666,
             "#ed7953"
            ],
            [
             0.7777777777777778,
             "#fb9f3a"
            ],
            [
             0.8888888888888888,
             "#fdca26"
            ],
            [
             1,
             "#f0f921"
            ]
           ]
          },
          "colorway": [
           "#636efa",
           "#EF553B",
           "#00cc96",
           "#ab63fa",
           "#FFA15A",
           "#19d3f3",
           "#FF6692",
           "#B6E880",
           "#FF97FF",
           "#FECB52"
          ],
          "font": {
           "color": "#2a3f5f"
          },
          "geo": {
           "bgcolor": "white",
           "lakecolor": "white",
           "landcolor": "#E5ECF6",
           "showlakes": true,
           "showland": true,
           "subunitcolor": "white"
          },
          "hoverlabel": {
           "align": "left"
          },
          "hovermode": "closest",
          "mapbox": {
           "style": "light"
          },
          "paper_bgcolor": "white",
          "plot_bgcolor": "#E5ECF6",
          "polar": {
           "angularaxis": {
            "gridcolor": "white",
            "linecolor": "white",
            "ticks": ""
           },
           "bgcolor": "#E5ECF6",
           "radialaxis": {
            "gridcolor": "white",
            "linecolor": "white",
            "ticks": ""
           }
          },
          "scene": {
           "xaxis": {
            "backgroundcolor": "#E5ECF6",
            "gridcolor": "white",
            "gridwidth": 2,
            "linecolor": "white",
            "showbackground": true,
            "ticks": "",
            "zerolinecolor": "white"
           },
           "yaxis": {
            "backgroundcolor": "#E5ECF6",
            "gridcolor": "white",
            "gridwidth": 2,
            "linecolor": "white",
            "showbackground": true,
            "ticks": "",
            "zerolinecolor": "white"
           },
           "zaxis": {
            "backgroundcolor": "#E5ECF6",
            "gridcolor": "white",
            "gridwidth": 2,
            "linecolor": "white",
            "showbackground": true,
            "ticks": "",
            "zerolinecolor": "white"
           }
          },
          "shapedefaults": {
           "line": {
            "color": "#2a3f5f"
           }
          },
          "ternary": {
           "aaxis": {
            "gridcolor": "white",
            "linecolor": "white",
            "ticks": ""
           },
           "baxis": {
            "gridcolor": "white",
            "linecolor": "white",
            "ticks": ""
           },
           "bgcolor": "#E5ECF6",
           "caxis": {
            "gridcolor": "white",
            "linecolor": "white",
            "ticks": ""
           }
          },
          "title": {
           "x": 0.05
          },
          "xaxis": {
           "automargin": true,
           "gridcolor": "white",
           "linecolor": "white",
           "ticks": "",
           "title": {
            "standoff": 15
           },
           "zerolinecolor": "white",
           "zerolinewidth": 2
          },
          "yaxis": {
           "automargin": true,
           "gridcolor": "white",
           "linecolor": "white",
           "ticks": "",
           "title": {
            "standoff": 15
           },
           "zerolinecolor": "white",
           "zerolinewidth": 2
          }
         }
        },
        "title": {
         "text": "3 most prevalent species (with mean among samples > 6)"
        },
        "xaxis": {
         "title": {
          "text": "Percentage Sample"
         }
        },
        "yaxis": {
         "title": {
          "text": "Species"
         }
        }
       }
      },
      "text/html": [
       "<div>                            <div id=\"db8bffa6-7e0f-4727-91e9-188992112b55\" class=\"plotly-graph-div\" style=\"height:525px; width:100%;\"></div>            <script type=\"text/javascript\">                require([\"plotly\"], function(Plotly) {                    window.PLOTLYENV=window.PLOTLYENV || {};                                    if (document.getElementById(\"db8bffa6-7e0f-4727-91e9-188992112b55\")) {                    Plotly.newPlot(                        \"db8bffa6-7e0f-4727-91e9-188992112b55\",                        [{\"marker\":{\"color\":\"crimson\"},\"orientation\":\"h\",\"type\":\"bar\",\"x\":[76.66666666666667,83.33333333333334,86.66666666666667],\"y\":[\"<i>Escherichia coli</i>\",\"<i>Gardnerella vaginalis</i>\",\"<i>Lactobacillus crispatus</i>\"]}],                        {\"template\":{\"data\":{\"bar\":[{\"error_x\":{\"color\":\"#2a3f5f\"},\"error_y\":{\"color\":\"#2a3f5f\"},\"marker\":{\"line\":{\"color\":\"#E5ECF6\",\"width\":0.5},\"pattern\":{\"fillmode\":\"overlay\",\"size\":10,\"solidity\":0.2}},\"type\":\"bar\"}],\"barpolar\":[{\"marker\":{\"line\":{\"color\":\"#E5ECF6\",\"width\":0.5},\"pattern\":{\"fillmode\":\"overlay\",\"size\":10,\"solidity\":0.2}},\"type\":\"barpolar\"}],\"carpet\":[{\"aaxis\":{\"endlinecolor\":\"#2a3f5f\",\"gridcolor\":\"white\",\"linecolor\":\"white\",\"minorgridcolor\":\"white\",\"startlinecolor\":\"#2a3f5f\"},\"baxis\":{\"endlinecolor\":\"#2a3f5f\",\"gridcolor\":\"white\",\"linecolor\":\"white\",\"minorgridcolor\":\"white\",\"startlinecolor\":\"#2a3f5f\"},\"type\":\"carpet\"}],\"choropleth\":[{\"colorbar\":{\"outlinewidth\":0,\"ticks\":\"\"},\"type\":\"choropleth\"}],\"contour\":[{\"colorbar\":{\"outlinewidth\":0,\"ticks\":\"\"},\"colorscale\":[[0.0,\"#0d0887\"],[0.1111111111111111,\"#46039f\"],[0.2222222222222222,\"#7201a8\"],[0.3333333333333333,\"#9c179e\"],[0.4444444444444444,\"#bd3786\"],[0.5555555555555556,\"#d8576b\"],[0.6666666666666666,\"#ed7953\"],[0.7777777777777778,\"#fb9f3a\"],[0.8888888888888888,\"#fdca26\"],[1.0,\"#f0f921\"]],\"type\":\"contour\"}],\"contourcarpet\":[{\"colorbar\":{\"outlinewidth\":0,\"ticks\":\"\"},\"type\":\"contourcarpet\"}],\"heatmap\":[{\"colorbar\":{\"outlinewidth\":0,\"ticks\":\"\"},\"colorscale\":[[0.0,\"#0d0887\"],[0.1111111111111111,\"#46039f\"],[0.2222222222222222,\"#7201a8\"],[0.3333333333333333,\"#9c179e\"],[0.4444444444444444,\"#bd3786\"],[0.5555555555555556,\"#d8576b\"],[0.6666666666666666,\"#ed7953\"],[0.7777777777777778,\"#fb9f3a\"],[0.8888888888888888,\"#fdca26\"],[1.0,\"#f0f921\"]],\"type\":\"heatmap\"}],\"heatmapgl\":[{\"colorbar\":{\"outlinewidth\":0,\"ticks\":\"\"},\"colorscale\":[[0.0,\"#0d0887\"],[0.1111111111111111,\"#46039f\"],[0.2222222222222222,\"#7201a8\"],[0.3333333333333333,\"#9c179e\"],[0.4444444444444444,\"#bd3786\"],[0.5555555555555556,\"#d8576b\"],[0.6666666666666666,\"#ed7953\"],[0.7777777777777778,\"#fb9f3a\"],[0.8888888888888888,\"#fdca26\"],[1.0,\"#f0f921\"]],\"type\":\"heatmapgl\"}],\"histogram\":[{\"marker\":{\"pattern\":{\"fillmode\":\"overlay\",\"size\":10,\"solidity\":0.2}},\"type\":\"histogram\"}],\"histogram2d\":[{\"colorbar\":{\"outlinewidth\":0,\"ticks\":\"\"},\"colorscale\":[[0.0,\"#0d0887\"],[0.1111111111111111,\"#46039f\"],[0.2222222222222222,\"#7201a8\"],[0.3333333333333333,\"#9c179e\"],[0.4444444444444444,\"#bd3786\"],[0.5555555555555556,\"#d8576b\"],[0.6666666666666666,\"#ed7953\"],[0.7777777777777778,\"#fb9f3a\"],[0.8888888888888888,\"#fdca26\"],[1.0,\"#f0f921\"]],\"type\":\"histogram2d\"}],\"histogram2dcontour\":[{\"colorbar\":{\"outlinewidth\":0,\"ticks\":\"\"},\"colorscale\":[[0.0,\"#0d0887\"],[0.1111111111111111,\"#46039f\"],[0.2222222222222222,\"#7201a8\"],[0.3333333333333333,\"#9c179e\"],[0.4444444444444444,\"#bd3786\"],[0.5555555555555556,\"#d8576b\"],[0.6666666666666666,\"#ed7953\"],[0.7777777777777778,\"#fb9f3a\"],[0.8888888888888888,\"#fdca26\"],[1.0,\"#f0f921\"]],\"type\":\"histogram2dcontour\"}],\"mesh3d\":[{\"colorbar\":{\"outlinewidth\":0,\"ticks\":\"\"},\"type\":\"mesh3d\"}],\"parcoords\":[{\"line\":{\"colorbar\":{\"outlinewidth\":0,\"ticks\":\"\"}},\"type\":\"parcoords\"}],\"pie\":[{\"automargin\":true,\"type\":\"pie\"}],\"scatter\":[{\"marker\":{\"colorbar\":{\"outlinewidth\":0,\"ticks\":\"\"}},\"type\":\"scatter\"}],\"scatter3d\":[{\"line\":{\"colorbar\":{\"outlinewidth\":0,\"ticks\":\"\"}},\"marker\":{\"colorbar\":{\"outlinewidth\":0,\"ticks\":\"\"}},\"type\":\"scatter3d\"}],\"scattercarpet\":[{\"marker\":{\"colorbar\":{\"outlinewidth\":0,\"ticks\":\"\"}},\"type\":\"scattercarpet\"}],\"scattergeo\":[{\"marker\":{\"colorbar\":{\"outlinewidth\":0,\"ticks\":\"\"}},\"type\":\"scattergeo\"}],\"scattergl\":[{\"marker\":{\"colorbar\":{\"outlinewidth\":0,\"ticks\":\"\"}},\"type\":\"scattergl\"}],\"scattermapbox\":[{\"marker\":{\"colorbar\":{\"outlinewidth\":0,\"ticks\":\"\"}},\"type\":\"scattermapbox\"}],\"scatterpolar\":[{\"marker\":{\"colorbar\":{\"outlinewidth\":0,\"ticks\":\"\"}},\"type\":\"scatterpolar\"}],\"scatterpolargl\":[{\"marker\":{\"colorbar\":{\"outlinewidth\":0,\"ticks\":\"\"}},\"type\":\"scatterpolargl\"}],\"scatterternary\":[{\"marker\":{\"colorbar\":{\"outlinewidth\":0,\"ticks\":\"\"}},\"type\":\"scatterternary\"}],\"surface\":[{\"colorbar\":{\"outlinewidth\":0,\"ticks\":\"\"},\"colorscale\":[[0.0,\"#0d0887\"],[0.1111111111111111,\"#46039f\"],[0.2222222222222222,\"#7201a8\"],[0.3333333333333333,\"#9c179e\"],[0.4444444444444444,\"#bd3786\"],[0.5555555555555556,\"#d8576b\"],[0.6666666666666666,\"#ed7953\"],[0.7777777777777778,\"#fb9f3a\"],[0.8888888888888888,\"#fdca26\"],[1.0,\"#f0f921\"]],\"type\":\"surface\"}],\"table\":[{\"cells\":{\"fill\":{\"color\":\"#EBF0F8\"},\"line\":{\"color\":\"white\"}},\"header\":{\"fill\":{\"color\":\"#C8D4E3\"},\"line\":{\"color\":\"white\"}},\"type\":\"table\"}]},\"layout\":{\"annotationdefaults\":{\"arrowcolor\":\"#2a3f5f\",\"arrowhead\":0,\"arrowwidth\":1},\"autotypenumbers\":\"strict\",\"coloraxis\":{\"colorbar\":{\"outlinewidth\":0,\"ticks\":\"\"}},\"colorscale\":{\"diverging\":[[0,\"#8e0152\"],[0.1,\"#c51b7d\"],[0.2,\"#de77ae\"],[0.3,\"#f1b6da\"],[0.4,\"#fde0ef\"],[0.5,\"#f7f7f7\"],[0.6,\"#e6f5d0\"],[0.7,\"#b8e186\"],[0.8,\"#7fbc41\"],[0.9,\"#4d9221\"],[1,\"#276419\"]],\"sequential\":[[0.0,\"#0d0887\"],[0.1111111111111111,\"#46039f\"],[0.2222222222222222,\"#7201a8\"],[0.3333333333333333,\"#9c179e\"],[0.4444444444444444,\"#bd3786\"],[0.5555555555555556,\"#d8576b\"],[0.6666666666666666,\"#ed7953\"],[0.7777777777777778,\"#fb9f3a\"],[0.8888888888888888,\"#fdca26\"],[1.0,\"#f0f921\"]],\"sequentialminus\":[[0.0,\"#0d0887\"],[0.1111111111111111,\"#46039f\"],[0.2222222222222222,\"#7201a8\"],[0.3333333333333333,\"#9c179e\"],[0.4444444444444444,\"#bd3786\"],[0.5555555555555556,\"#d8576b\"],[0.6666666666666666,\"#ed7953\"],[0.7777777777777778,\"#fb9f3a\"],[0.8888888888888888,\"#fdca26\"],[1.0,\"#f0f921\"]]},\"colorway\":[\"#636efa\",\"#EF553B\",\"#00cc96\",\"#ab63fa\",\"#FFA15A\",\"#19d3f3\",\"#FF6692\",\"#B6E880\",\"#FF97FF\",\"#FECB52\"],\"font\":{\"color\":\"#2a3f5f\"},\"geo\":{\"bgcolor\":\"white\",\"lakecolor\":\"white\",\"landcolor\":\"#E5ECF6\",\"showlakes\":true,\"showland\":true,\"subunitcolor\":\"white\"},\"hoverlabel\":{\"align\":\"left\"},\"hovermode\":\"closest\",\"mapbox\":{\"style\":\"light\"},\"paper_bgcolor\":\"white\",\"plot_bgcolor\":\"#E5ECF6\",\"polar\":{\"angularaxis\":{\"gridcolor\":\"white\",\"linecolor\":\"white\",\"ticks\":\"\"},\"bgcolor\":\"#E5ECF6\",\"radialaxis\":{\"gridcolor\":\"white\",\"linecolor\":\"white\",\"ticks\":\"\"}},\"scene\":{\"xaxis\":{\"backgroundcolor\":\"#E5ECF6\",\"gridcolor\":\"white\",\"gridwidth\":2,\"linecolor\":\"white\",\"showbackground\":true,\"ticks\":\"\",\"zerolinecolor\":\"white\"},\"yaxis\":{\"backgroundcolor\":\"#E5ECF6\",\"gridcolor\":\"white\",\"gridwidth\":2,\"linecolor\":\"white\",\"showbackground\":true,\"ticks\":\"\",\"zerolinecolor\":\"white\"},\"zaxis\":{\"backgroundcolor\":\"#E5ECF6\",\"gridcolor\":\"white\",\"gridwidth\":2,\"linecolor\":\"white\",\"showbackground\":true,\"ticks\":\"\",\"zerolinecolor\":\"white\"}},\"shapedefaults\":{\"line\":{\"color\":\"#2a3f5f\"}},\"ternary\":{\"aaxis\":{\"gridcolor\":\"white\",\"linecolor\":\"white\",\"ticks\":\"\"},\"baxis\":{\"gridcolor\":\"white\",\"linecolor\":\"white\",\"ticks\":\"\"},\"bgcolor\":\"#E5ECF6\",\"caxis\":{\"gridcolor\":\"white\",\"linecolor\":\"white\",\"ticks\":\"\"}},\"title\":{\"x\":0.05},\"xaxis\":{\"automargin\":true,\"gridcolor\":\"white\",\"linecolor\":\"white\",\"ticks\":\"\",\"title\":{\"standoff\":15},\"zerolinecolor\":\"white\",\"zerolinewidth\":2},\"yaxis\":{\"automargin\":true,\"gridcolor\":\"white\",\"linecolor\":\"white\",\"ticks\":\"\",\"title\":{\"standoff\":15},\"zerolinecolor\":\"white\",\"zerolinewidth\":2}}},\"title\":{\"text\":\"3 most prevalent species (with mean among samples > 6)\"},\"xaxis\":{\"title\":{\"text\":\"Percentage Sample\"}},\"yaxis\":{\"title\":{\"text\":\"Species\"}}},                        {\"responsive\": true}                    ).then(function(){\n",
       "                            \n",
       "var gd = document.getElementById('db8bffa6-7e0f-4727-91e9-188992112b55');\n",
       "var x = new MutationObserver(function (mutations, observer) {{\n",
       "        var display = window.getComputedStyle(gd).display;\n",
       "        if (!display || display === 'none') {{\n",
       "            console.log([gd, 'removed!']);\n",
       "            Plotly.purge(gd);\n",
       "            observer.disconnect();\n",
       "        }}\n",
       "}});\n",
       "\n",
       "// Listen for the removal of the full notebook cells\n",
       "var notebookContainer = gd.closest('#notebook-container');\n",
       "if (notebookContainer) {{\n",
       "    x.observe(notebookContainer, {childList: true});\n",
       "}}\n",
       "\n",
       "// Listen for the clearing of the current output cell\n",
       "var outputEl = gd.closest('.output');\n",
       "if (outputEl) {{\n",
       "    x.observe(outputEl, {childList: true});\n",
       "}}\n",
       "\n",
       "                        })                };                });            </script>        </div>"
      ]
     },
     "metadata": {},
     "output_type": "display_data"
    }
   ],
   "source": [
    "fig1 = instance.plot_most_prevalent_taxa(\n",
    "    mode=\"bar\",\n",
    "    mean_threshold=6,\n",
    "    taxa_number=3,\n",
    "    taxa_level=\"species\",\n",
    "    higher_classification=False,               # Set to False remove every rows \"xxx(higher taxa)\"\n",
    "    ascending=False,\n",
    ")"
   ]
  },
  {
   "cell_type": "code",
   "execution_count": 30,
   "id": "8b1d2c1a",
   "metadata": {},
   "outputs": [
    {
     "data": {
      "application/vnd.plotly.v1+json": {
       "config": {
        "plotlyServerURL": "https://plot.ly"
       },
       "data": [
        {
         "boxpoints": "suspectedoutliers",
         "marker": {
          "color": "#778899"
         },
         "name": "<i>Enterococcus faecalis</i>",
         "orientation": "h",
         "text": [
          "SAMPLE_1",
          "SAMPLE_2",
          "SAMPLE_3",
          "SAMPLE_4",
          "SAMPLE_5",
          "SAMPLE_6",
          "SAMPLE_7",
          "SAMPLE_8",
          "SAMPLE_9",
          "SAMPLE_10",
          "SAMPLE_11",
          "SAMPLE_12",
          "SAMPLE_13",
          "SAMPLE_14",
          "SAMPLE_15",
          "SAMPLE_16",
          "SAMPLE_17",
          "SAMPLE_18",
          "SAMPLE_19",
          "SAMPLE_20",
          "SAMPLE_21",
          "SAMPLE_22",
          "SAMPLE_23",
          "SAMPLE_24",
          "SAMPLE_25",
          "SAMPLE_26",
          "SAMPLE_27",
          "SAMPLE_28",
          "SAMPLE_29",
          "SAMPLE_30"
         ],
         "type": "box",
         "x": [
          8.789625360230547,
          5.015673981191221,
          0,
          4.9342105263157885,
          4.668674698795181,
          0,
          0,
          0,
          0,
          0,
          0,
          0,
          3.9766081871345027,
          0,
          1.5837104072398194,
          0,
          8.395522388059701,
          28.192771084337345,
          7.131537242472266,
          29.00251466890193,
          5.182926829268292,
          0,
          9.268292682926829,
          0,
          0,
          13.463324048282265,
          3.0065359477124187,
          58.35411471321695,
          0,
          0
         ],
         "y": [
          "<i>Enterococcus faecalis</i>",
          "<i>Enterococcus faecalis</i>",
          "<i>Enterococcus faecalis</i>",
          "<i>Enterococcus faecalis</i>",
          "<i>Enterococcus faecalis</i>",
          "<i>Enterococcus faecalis</i>",
          "<i>Enterococcus faecalis</i>",
          "<i>Enterococcus faecalis</i>",
          "<i>Enterococcus faecalis</i>",
          "<i>Enterococcus faecalis</i>",
          "<i>Enterococcus faecalis</i>",
          "<i>Enterococcus faecalis</i>",
          "<i>Enterococcus faecalis</i>",
          "<i>Enterococcus faecalis</i>",
          "<i>Enterococcus faecalis</i>",
          "<i>Enterococcus faecalis</i>",
          "<i>Enterococcus faecalis</i>",
          "<i>Enterococcus faecalis</i>",
          "<i>Enterococcus faecalis</i>",
          "<i>Enterococcus faecalis</i>",
          "<i>Enterococcus faecalis</i>",
          "<i>Enterococcus faecalis</i>",
          "<i>Enterococcus faecalis</i>",
          "<i>Enterococcus faecalis</i>",
          "<i>Enterococcus faecalis</i>",
          "<i>Enterococcus faecalis</i>",
          "<i>Enterococcus faecalis</i>",
          "<i>Enterococcus faecalis</i>",
          "<i>Enterococcus faecalis</i>",
          "<i>Enterococcus faecalis</i>"
         ]
        },
        {
         "boxpoints": "suspectedoutliers",
         "marker": {
          "color": "#778899"
         },
         "name": "<i>Escherichia coli</i>",
         "orientation": "h",
         "text": [
          "SAMPLE_1",
          "SAMPLE_2",
          "SAMPLE_3",
          "SAMPLE_4",
          "SAMPLE_5",
          "SAMPLE_6",
          "SAMPLE_7",
          "SAMPLE_8",
          "SAMPLE_9",
          "SAMPLE_10",
          "SAMPLE_11",
          "SAMPLE_12",
          "SAMPLE_13",
          "SAMPLE_14",
          "SAMPLE_15",
          "SAMPLE_16",
          "SAMPLE_17",
          "SAMPLE_18",
          "SAMPLE_19",
          "SAMPLE_20",
          "SAMPLE_21",
          "SAMPLE_22",
          "SAMPLE_23",
          "SAMPLE_24",
          "SAMPLE_25",
          "SAMPLE_26",
          "SAMPLE_27",
          "SAMPLE_28",
          "SAMPLE_29",
          "SAMPLE_30"
         ],
         "type": "box",
         "x": [
          9.077809798270893,
          14.629049111807731,
          5.304740406320542,
          9.868421052631577,
          16.716867469879517,
          17.80028943560058,
          6.776379477250725,
          17.727272727272727,
          3.349282296650717,
          12.095639943741208,
          18.413173652694617,
          0,
          20.8187134502924,
          3.5827186512118026,
          17.42081447963801,
          0,
          10.44776119402985,
          0,
          8.874801901743263,
          36.127409891031014,
          32.62195121951219,
          0,
          29.999999999999996,
          0,
          0,
          32.033426183844014,
          3.0065359477124187,
          0,
          42.07161125319693,
          51.49425287356321
         ],
         "y": [
          "<i>Escherichia coli</i>",
          "<i>Escherichia coli</i>",
          "<i>Escherichia coli</i>",
          "<i>Escherichia coli</i>",
          "<i>Escherichia coli</i>",
          "<i>Escherichia coli</i>",
          "<i>Escherichia coli</i>",
          "<i>Escherichia coli</i>",
          "<i>Escherichia coli</i>",
          "<i>Escherichia coli</i>",
          "<i>Escherichia coli</i>",
          "<i>Escherichia coli</i>",
          "<i>Escherichia coli</i>",
          "<i>Escherichia coli</i>",
          "<i>Escherichia coli</i>",
          "<i>Escherichia coli</i>",
          "<i>Escherichia coli</i>",
          "<i>Escherichia coli</i>",
          "<i>Escherichia coli</i>",
          "<i>Escherichia coli</i>",
          "<i>Escherichia coli</i>",
          "<i>Escherichia coli</i>",
          "<i>Escherichia coli</i>",
          "<i>Escherichia coli</i>",
          "<i>Escherichia coli</i>",
          "<i>Escherichia coli</i>",
          "<i>Escherichia coli</i>",
          "<i>Escherichia coli</i>",
          "<i>Escherichia coli</i>",
          "<i>Escherichia coli</i>"
         ]
        },
        {
         "boxpoints": "suspectedoutliers",
         "marker": {
          "color": "#778899"
         },
         "name": "<i>Gardnerella vaginalis</i>",
         "orientation": "h",
         "text": [
          "SAMPLE_1",
          "SAMPLE_2",
          "SAMPLE_3",
          "SAMPLE_4",
          "SAMPLE_5",
          "SAMPLE_6",
          "SAMPLE_7",
          "SAMPLE_8",
          "SAMPLE_9",
          "SAMPLE_10",
          "SAMPLE_11",
          "SAMPLE_12",
          "SAMPLE_13",
          "SAMPLE_14",
          "SAMPLE_15",
          "SAMPLE_16",
          "SAMPLE_17",
          "SAMPLE_18",
          "SAMPLE_19",
          "SAMPLE_20",
          "SAMPLE_21",
          "SAMPLE_22",
          "SAMPLE_23",
          "SAMPLE_24",
          "SAMPLE_25",
          "SAMPLE_26",
          "SAMPLE_27",
          "SAMPLE_28",
          "SAMPLE_29",
          "SAMPLE_30"
         ],
         "type": "box",
         "x": [
          40.20172910662824,
          3.0303030303030303,
          0,
          36.18421052631578,
          4.216867469879518,
          31.11432706222865,
          0,
          57.95454545454545,
          8.732057416267942,
          32.34880450070324,
          67.81437125748504,
          3.541666666666667,
          25.730994152046787,
          12.96101159114858,
          0.904977375565611,
          0.8048289738430585,
          21.82835820895522,
          42.04819277108433,
          34.23137876386688,
          0,
          33.68902439024391,
          8.943965517241379,
          35.36585365853658,
          4.411764705882352,
          0,
          0,
          87.05882352941177,
          22.443890274314217,
          18.54219948849105,
          17.12643678160919
         ],
         "y": [
          "<i>Gardnerella vaginalis</i>",
          "<i>Gardnerella vaginalis</i>",
          "<i>Gardnerella vaginalis</i>",
          "<i>Gardnerella vaginalis</i>",
          "<i>Gardnerella vaginalis</i>",
          "<i>Gardnerella vaginalis</i>",
          "<i>Gardnerella vaginalis</i>",
          "<i>Gardnerella vaginalis</i>",
          "<i>Gardnerella vaginalis</i>",
          "<i>Gardnerella vaginalis</i>",
          "<i>Gardnerella vaginalis</i>",
          "<i>Gardnerella vaginalis</i>",
          "<i>Gardnerella vaginalis</i>",
          "<i>Gardnerella vaginalis</i>",
          "<i>Gardnerella vaginalis</i>",
          "<i>Gardnerella vaginalis</i>",
          "<i>Gardnerella vaginalis</i>",
          "<i>Gardnerella vaginalis</i>",
          "<i>Gardnerella vaginalis</i>",
          "<i>Gardnerella vaginalis</i>",
          "<i>Gardnerella vaginalis</i>",
          "<i>Gardnerella vaginalis</i>",
          "<i>Gardnerella vaginalis</i>",
          "<i>Gardnerella vaginalis</i>",
          "<i>Gardnerella vaginalis</i>",
          "<i>Gardnerella vaginalis</i>",
          "<i>Gardnerella vaginalis</i>",
          "<i>Gardnerella vaginalis</i>",
          "<i>Gardnerella vaginalis</i>",
          "<i>Gardnerella vaginalis</i>"
         ]
        },
        {
         "boxpoints": "suspectedoutliers",
         "marker": {
          "color": "#778899"
         },
         "name": "<i>Lactobacillus crispatus</i>",
         "orientation": "h",
         "text": [
          "SAMPLE_1",
          "SAMPLE_2",
          "SAMPLE_3",
          "SAMPLE_4",
          "SAMPLE_5",
          "SAMPLE_6",
          "SAMPLE_7",
          "SAMPLE_8",
          "SAMPLE_9",
          "SAMPLE_10",
          "SAMPLE_11",
          "SAMPLE_12",
          "SAMPLE_13",
          "SAMPLE_14",
          "SAMPLE_15",
          "SAMPLE_16",
          "SAMPLE_17",
          "SAMPLE_18",
          "SAMPLE_19",
          "SAMPLE_20",
          "SAMPLE_21",
          "SAMPLE_22",
          "SAMPLE_23",
          "SAMPLE_24",
          "SAMPLE_25",
          "SAMPLE_26",
          "SAMPLE_27",
          "SAMPLE_28",
          "SAMPLE_29",
          "SAMPLE_30"
         ],
         "type": "box",
         "x": [
          12.247838616714697,
          56.00835945663531,
          84.08577878103837,
          24.01315789473684,
          63.253012048192765,
          26.049204052098403,
          75.60503388189737,
          0,
          69.61722488038278,
          22.64416315049227,
          0,
          78.75,
          21.6374269005848,
          69.23076923076923,
          65.61085972850678,
          90.24144869215293,
          32.18283582089552,
          13.012048192771084,
          27.337559429477018,
          15.339480301760267,
          9.756097560975611,
          80.28017241379308,
          0,
          75.80213903743315,
          91.39579349904399,
          41.68987929433612,
          0,
          2.9925187032418954,
          27.237851662404093,
          14.022988505747126
         ],
         "y": [
          "<i>Lactobacillus crispatus</i>",
          "<i>Lactobacillus crispatus</i>",
          "<i>Lactobacillus crispatus</i>",
          "<i>Lactobacillus crispatus</i>",
          "<i>Lactobacillus crispatus</i>",
          "<i>Lactobacillus crispatus</i>",
          "<i>Lactobacillus crispatus</i>",
          "<i>Lactobacillus crispatus</i>",
          "<i>Lactobacillus crispatus</i>",
          "<i>Lactobacillus crispatus</i>",
          "<i>Lactobacillus crispatus</i>",
          "<i>Lactobacillus crispatus</i>",
          "<i>Lactobacillus crispatus</i>",
          "<i>Lactobacillus crispatus</i>",
          "<i>Lactobacillus crispatus</i>",
          "<i>Lactobacillus crispatus</i>",
          "<i>Lactobacillus crispatus</i>",
          "<i>Lactobacillus crispatus</i>",
          "<i>Lactobacillus crispatus</i>",
          "<i>Lactobacillus crispatus</i>",
          "<i>Lactobacillus crispatus</i>",
          "<i>Lactobacillus crispatus</i>",
          "<i>Lactobacillus crispatus</i>",
          "<i>Lactobacillus crispatus</i>",
          "<i>Lactobacillus crispatus</i>",
          "<i>Lactobacillus crispatus</i>",
          "<i>Lactobacillus crispatus</i>",
          "<i>Lactobacillus crispatus</i>",
          "<i>Lactobacillus crispatus</i>",
          "<i>Lactobacillus crispatus</i>"
         ]
        }
       ],
       "layout": {
        "showlegend": false,
        "template": {
         "data": {
          "bar": [
           {
            "error_x": {
             "color": "#2a3f5f"
            },
            "error_y": {
             "color": "#2a3f5f"
            },
            "marker": {
             "line": {
              "color": "#E5ECF6",
              "width": 0.5
             },
             "pattern": {
              "fillmode": "overlay",
              "size": 10,
              "solidity": 0.2
             }
            },
            "type": "bar"
           }
          ],
          "barpolar": [
           {
            "marker": {
             "line": {
              "color": "#E5ECF6",
              "width": 0.5
             },
             "pattern": {
              "fillmode": "overlay",
              "size": 10,
              "solidity": 0.2
             }
            },
            "type": "barpolar"
           }
          ],
          "carpet": [
           {
            "aaxis": {
             "endlinecolor": "#2a3f5f",
             "gridcolor": "white",
             "linecolor": "white",
             "minorgridcolor": "white",
             "startlinecolor": "#2a3f5f"
            },
            "baxis": {
             "endlinecolor": "#2a3f5f",
             "gridcolor": "white",
             "linecolor": "white",
             "minorgridcolor": "white",
             "startlinecolor": "#2a3f5f"
            },
            "type": "carpet"
           }
          ],
          "choropleth": [
           {
            "colorbar": {
             "outlinewidth": 0,
             "ticks": ""
            },
            "type": "choropleth"
           }
          ],
          "contour": [
           {
            "colorbar": {
             "outlinewidth": 0,
             "ticks": ""
            },
            "colorscale": [
             [
              0,
              "#0d0887"
             ],
             [
              0.1111111111111111,
              "#46039f"
             ],
             [
              0.2222222222222222,
              "#7201a8"
             ],
             [
              0.3333333333333333,
              "#9c179e"
             ],
             [
              0.4444444444444444,
              "#bd3786"
             ],
             [
              0.5555555555555556,
              "#d8576b"
             ],
             [
              0.6666666666666666,
              "#ed7953"
             ],
             [
              0.7777777777777778,
              "#fb9f3a"
             ],
             [
              0.8888888888888888,
              "#fdca26"
             ],
             [
              1,
              "#f0f921"
             ]
            ],
            "type": "contour"
           }
          ],
          "contourcarpet": [
           {
            "colorbar": {
             "outlinewidth": 0,
             "ticks": ""
            },
            "type": "contourcarpet"
           }
          ],
          "heatmap": [
           {
            "colorbar": {
             "outlinewidth": 0,
             "ticks": ""
            },
            "colorscale": [
             [
              0,
              "#0d0887"
             ],
             [
              0.1111111111111111,
              "#46039f"
             ],
             [
              0.2222222222222222,
              "#7201a8"
             ],
             [
              0.3333333333333333,
              "#9c179e"
             ],
             [
              0.4444444444444444,
              "#bd3786"
             ],
             [
              0.5555555555555556,
              "#d8576b"
             ],
             [
              0.6666666666666666,
              "#ed7953"
             ],
             [
              0.7777777777777778,
              "#fb9f3a"
             ],
             [
              0.8888888888888888,
              "#fdca26"
             ],
             [
              1,
              "#f0f921"
             ]
            ],
            "type": "heatmap"
           }
          ],
          "heatmapgl": [
           {
            "colorbar": {
             "outlinewidth": 0,
             "ticks": ""
            },
            "colorscale": [
             [
              0,
              "#0d0887"
             ],
             [
              0.1111111111111111,
              "#46039f"
             ],
             [
              0.2222222222222222,
              "#7201a8"
             ],
             [
              0.3333333333333333,
              "#9c179e"
             ],
             [
              0.4444444444444444,
              "#bd3786"
             ],
             [
              0.5555555555555556,
              "#d8576b"
             ],
             [
              0.6666666666666666,
              "#ed7953"
             ],
             [
              0.7777777777777778,
              "#fb9f3a"
             ],
             [
              0.8888888888888888,
              "#fdca26"
             ],
             [
              1,
              "#f0f921"
             ]
            ],
            "type": "heatmapgl"
           }
          ],
          "histogram": [
           {
            "marker": {
             "pattern": {
              "fillmode": "overlay",
              "size": 10,
              "solidity": 0.2
             }
            },
            "type": "histogram"
           }
          ],
          "histogram2d": [
           {
            "colorbar": {
             "outlinewidth": 0,
             "ticks": ""
            },
            "colorscale": [
             [
              0,
              "#0d0887"
             ],
             [
              0.1111111111111111,
              "#46039f"
             ],
             [
              0.2222222222222222,
              "#7201a8"
             ],
             [
              0.3333333333333333,
              "#9c179e"
             ],
             [
              0.4444444444444444,
              "#bd3786"
             ],
             [
              0.5555555555555556,
              "#d8576b"
             ],
             [
              0.6666666666666666,
              "#ed7953"
             ],
             [
              0.7777777777777778,
              "#fb9f3a"
             ],
             [
              0.8888888888888888,
              "#fdca26"
             ],
             [
              1,
              "#f0f921"
             ]
            ],
            "type": "histogram2d"
           }
          ],
          "histogram2dcontour": [
           {
            "colorbar": {
             "outlinewidth": 0,
             "ticks": ""
            },
            "colorscale": [
             [
              0,
              "#0d0887"
             ],
             [
              0.1111111111111111,
              "#46039f"
             ],
             [
              0.2222222222222222,
              "#7201a8"
             ],
             [
              0.3333333333333333,
              "#9c179e"
             ],
             [
              0.4444444444444444,
              "#bd3786"
             ],
             [
              0.5555555555555556,
              "#d8576b"
             ],
             [
              0.6666666666666666,
              "#ed7953"
             ],
             [
              0.7777777777777778,
              "#fb9f3a"
             ],
             [
              0.8888888888888888,
              "#fdca26"
             ],
             [
              1,
              "#f0f921"
             ]
            ],
            "type": "histogram2dcontour"
           }
          ],
          "mesh3d": [
           {
            "colorbar": {
             "outlinewidth": 0,
             "ticks": ""
            },
            "type": "mesh3d"
           }
          ],
          "parcoords": [
           {
            "line": {
             "colorbar": {
              "outlinewidth": 0,
              "ticks": ""
             }
            },
            "type": "parcoords"
           }
          ],
          "pie": [
           {
            "automargin": true,
            "type": "pie"
           }
          ],
          "scatter": [
           {
            "marker": {
             "colorbar": {
              "outlinewidth": 0,
              "ticks": ""
             }
            },
            "type": "scatter"
           }
          ],
          "scatter3d": [
           {
            "line": {
             "colorbar": {
              "outlinewidth": 0,
              "ticks": ""
             }
            },
            "marker": {
             "colorbar": {
              "outlinewidth": 0,
              "ticks": ""
             }
            },
            "type": "scatter3d"
           }
          ],
          "scattercarpet": [
           {
            "marker": {
             "colorbar": {
              "outlinewidth": 0,
              "ticks": ""
             }
            },
            "type": "scattercarpet"
           }
          ],
          "scattergeo": [
           {
            "marker": {
             "colorbar": {
              "outlinewidth": 0,
              "ticks": ""
             }
            },
            "type": "scattergeo"
           }
          ],
          "scattergl": [
           {
            "marker": {
             "colorbar": {
              "outlinewidth": 0,
              "ticks": ""
             }
            },
            "type": "scattergl"
           }
          ],
          "scattermapbox": [
           {
            "marker": {
             "colorbar": {
              "outlinewidth": 0,
              "ticks": ""
             }
            },
            "type": "scattermapbox"
           }
          ],
          "scatterpolar": [
           {
            "marker": {
             "colorbar": {
              "outlinewidth": 0,
              "ticks": ""
             }
            },
            "type": "scatterpolar"
           }
          ],
          "scatterpolargl": [
           {
            "marker": {
             "colorbar": {
              "outlinewidth": 0,
              "ticks": ""
             }
            },
            "type": "scatterpolargl"
           }
          ],
          "scatterternary": [
           {
            "marker": {
             "colorbar": {
              "outlinewidth": 0,
              "ticks": ""
             }
            },
            "type": "scatterternary"
           }
          ],
          "surface": [
           {
            "colorbar": {
             "outlinewidth": 0,
             "ticks": ""
            },
            "colorscale": [
             [
              0,
              "#0d0887"
             ],
             [
              0.1111111111111111,
              "#46039f"
             ],
             [
              0.2222222222222222,
              "#7201a8"
             ],
             [
              0.3333333333333333,
              "#9c179e"
             ],
             [
              0.4444444444444444,
              "#bd3786"
             ],
             [
              0.5555555555555556,
              "#d8576b"
             ],
             [
              0.6666666666666666,
              "#ed7953"
             ],
             [
              0.7777777777777778,
              "#fb9f3a"
             ],
             [
              0.8888888888888888,
              "#fdca26"
             ],
             [
              1,
              "#f0f921"
             ]
            ],
            "type": "surface"
           }
          ],
          "table": [
           {
            "cells": {
             "fill": {
              "color": "#EBF0F8"
             },
             "line": {
              "color": "white"
             }
            },
            "header": {
             "fill": {
              "color": "#C8D4E3"
             },
             "line": {
              "color": "white"
             }
            },
            "type": "table"
           }
          ]
         },
         "layout": {
          "annotationdefaults": {
           "arrowcolor": "#2a3f5f",
           "arrowhead": 0,
           "arrowwidth": 1
          },
          "autotypenumbers": "strict",
          "coloraxis": {
           "colorbar": {
            "outlinewidth": 0,
            "ticks": ""
           }
          },
          "colorscale": {
           "diverging": [
            [
             0,
             "#8e0152"
            ],
            [
             0.1,
             "#c51b7d"
            ],
            [
             0.2,
             "#de77ae"
            ],
            [
             0.3,
             "#f1b6da"
            ],
            [
             0.4,
             "#fde0ef"
            ],
            [
             0.5,
             "#f7f7f7"
            ],
            [
             0.6,
             "#e6f5d0"
            ],
            [
             0.7,
             "#b8e186"
            ],
            [
             0.8,
             "#7fbc41"
            ],
            [
             0.9,
             "#4d9221"
            ],
            [
             1,
             "#276419"
            ]
           ],
           "sequential": [
            [
             0,
             "#0d0887"
            ],
            [
             0.1111111111111111,
             "#46039f"
            ],
            [
             0.2222222222222222,
             "#7201a8"
            ],
            [
             0.3333333333333333,
             "#9c179e"
            ],
            [
             0.4444444444444444,
             "#bd3786"
            ],
            [
             0.5555555555555556,
             "#d8576b"
            ],
            [
             0.6666666666666666,
             "#ed7953"
            ],
            [
             0.7777777777777778,
             "#fb9f3a"
            ],
            [
             0.8888888888888888,
             "#fdca26"
            ],
            [
             1,
             "#f0f921"
            ]
           ],
           "sequentialminus": [
            [
             0,
             "#0d0887"
            ],
            [
             0.1111111111111111,
             "#46039f"
            ],
            [
             0.2222222222222222,
             "#7201a8"
            ],
            [
             0.3333333333333333,
             "#9c179e"
            ],
            [
             0.4444444444444444,
             "#bd3786"
            ],
            [
             0.5555555555555556,
             "#d8576b"
            ],
            [
             0.6666666666666666,
             "#ed7953"
            ],
            [
             0.7777777777777778,
             "#fb9f3a"
            ],
            [
             0.8888888888888888,
             "#fdca26"
            ],
            [
             1,
             "#f0f921"
            ]
           ]
          },
          "colorway": [
           "#636efa",
           "#EF553B",
           "#00cc96",
           "#ab63fa",
           "#FFA15A",
           "#19d3f3",
           "#FF6692",
           "#B6E880",
           "#FF97FF",
           "#FECB52"
          ],
          "font": {
           "color": "#2a3f5f"
          },
          "geo": {
           "bgcolor": "white",
           "lakecolor": "white",
           "landcolor": "#E5ECF6",
           "showlakes": true,
           "showland": true,
           "subunitcolor": "white"
          },
          "hoverlabel": {
           "align": "left"
          },
          "hovermode": "closest",
          "mapbox": {
           "style": "light"
          },
          "paper_bgcolor": "white",
          "plot_bgcolor": "#E5ECF6",
          "polar": {
           "angularaxis": {
            "gridcolor": "white",
            "linecolor": "white",
            "ticks": ""
           },
           "bgcolor": "#E5ECF6",
           "radialaxis": {
            "gridcolor": "white",
            "linecolor": "white",
            "ticks": ""
           }
          },
          "scene": {
           "xaxis": {
            "backgroundcolor": "#E5ECF6",
            "gridcolor": "white",
            "gridwidth": 2,
            "linecolor": "white",
            "showbackground": true,
            "ticks": "",
            "zerolinecolor": "white"
           },
           "yaxis": {
            "backgroundcolor": "#E5ECF6",
            "gridcolor": "white",
            "gridwidth": 2,
            "linecolor": "white",
            "showbackground": true,
            "ticks": "",
            "zerolinecolor": "white"
           },
           "zaxis": {
            "backgroundcolor": "#E5ECF6",
            "gridcolor": "white",
            "gridwidth": 2,
            "linecolor": "white",
            "showbackground": true,
            "ticks": "",
            "zerolinecolor": "white"
           }
          },
          "shapedefaults": {
           "line": {
            "color": "#2a3f5f"
           }
          },
          "ternary": {
           "aaxis": {
            "gridcolor": "white",
            "linecolor": "white",
            "ticks": ""
           },
           "baxis": {
            "gridcolor": "white",
            "linecolor": "white",
            "ticks": ""
           },
           "bgcolor": "#E5ECF6",
           "caxis": {
            "gridcolor": "white",
            "linecolor": "white",
            "ticks": ""
           }
          },
          "title": {
           "x": 0.05
          },
          "xaxis": {
           "automargin": true,
           "gridcolor": "white",
           "linecolor": "white",
           "ticks": "",
           "title": {
            "standoff": 15
           },
           "zerolinecolor": "white",
           "zerolinewidth": 2
          },
          "yaxis": {
           "automargin": true,
           "gridcolor": "white",
           "linecolor": "white",
           "ticks": "",
           "title": {
            "standoff": 15
           },
           "zerolinecolor": "white",
           "zerolinewidth": 2
          }
         }
        },
        "title": {
         "text": "Relative abundance of the 4 most abundant microbial genomes among individuals of the cohort"
        },
        "xaxis": {
         "title": {
          "text": "Relative abundance (in percentage)"
         },
         "type": "log"
        }
       }
      },
      "text/html": [
       "<div>                            <div id=\"d003477c-0fd6-4dd7-8528-2a5d683fa6a4\" class=\"plotly-graph-div\" style=\"height:525px; width:100%;\"></div>            <script type=\"text/javascript\">                require([\"plotly\"], function(Plotly) {                    window.PLOTLYENV=window.PLOTLYENV || {};                                    if (document.getElementById(\"d003477c-0fd6-4dd7-8528-2a5d683fa6a4\")) {                    Plotly.newPlot(                        \"d003477c-0fd6-4dd7-8528-2a5d683fa6a4\",                        [{\"boxpoints\":\"suspectedoutliers\",\"marker\":{\"color\":\"#778899\"},\"name\":\"<i>Enterococcus faecalis</i>\",\"orientation\":\"h\",\"text\":[\"SAMPLE_1\",\"SAMPLE_2\",\"SAMPLE_3\",\"SAMPLE_4\",\"SAMPLE_5\",\"SAMPLE_6\",\"SAMPLE_7\",\"SAMPLE_8\",\"SAMPLE_9\",\"SAMPLE_10\",\"SAMPLE_11\",\"SAMPLE_12\",\"SAMPLE_13\",\"SAMPLE_14\",\"SAMPLE_15\",\"SAMPLE_16\",\"SAMPLE_17\",\"SAMPLE_18\",\"SAMPLE_19\",\"SAMPLE_20\",\"SAMPLE_21\",\"SAMPLE_22\",\"SAMPLE_23\",\"SAMPLE_24\",\"SAMPLE_25\",\"SAMPLE_26\",\"SAMPLE_27\",\"SAMPLE_28\",\"SAMPLE_29\",\"SAMPLE_30\"],\"type\":\"box\",\"x\":[8.789625360230547,5.015673981191221,0.0,4.9342105263157885,4.668674698795181,0.0,0.0,0.0,0.0,0.0,0.0,0.0,3.9766081871345027,0.0,1.5837104072398194,0.0,8.395522388059701,28.192771084337345,7.131537242472266,29.00251466890193,5.182926829268292,0.0,9.268292682926829,0.0,0.0,13.463324048282265,3.0065359477124187,58.35411471321695,0.0,0.0],\"y\":[\"<i>Enterococcus faecalis</i>\",\"<i>Enterococcus faecalis</i>\",\"<i>Enterococcus faecalis</i>\",\"<i>Enterococcus faecalis</i>\",\"<i>Enterococcus faecalis</i>\",\"<i>Enterococcus faecalis</i>\",\"<i>Enterococcus faecalis</i>\",\"<i>Enterococcus faecalis</i>\",\"<i>Enterococcus faecalis</i>\",\"<i>Enterococcus faecalis</i>\",\"<i>Enterococcus faecalis</i>\",\"<i>Enterococcus faecalis</i>\",\"<i>Enterococcus faecalis</i>\",\"<i>Enterococcus faecalis</i>\",\"<i>Enterococcus faecalis</i>\",\"<i>Enterococcus faecalis</i>\",\"<i>Enterococcus faecalis</i>\",\"<i>Enterococcus faecalis</i>\",\"<i>Enterococcus faecalis</i>\",\"<i>Enterococcus faecalis</i>\",\"<i>Enterococcus faecalis</i>\",\"<i>Enterococcus faecalis</i>\",\"<i>Enterococcus faecalis</i>\",\"<i>Enterococcus faecalis</i>\",\"<i>Enterococcus faecalis</i>\",\"<i>Enterococcus faecalis</i>\",\"<i>Enterococcus faecalis</i>\",\"<i>Enterococcus faecalis</i>\",\"<i>Enterococcus faecalis</i>\",\"<i>Enterococcus faecalis</i>\"]},{\"boxpoints\":\"suspectedoutliers\",\"marker\":{\"color\":\"#778899\"},\"name\":\"<i>Escherichia coli</i>\",\"orientation\":\"h\",\"text\":[\"SAMPLE_1\",\"SAMPLE_2\",\"SAMPLE_3\",\"SAMPLE_4\",\"SAMPLE_5\",\"SAMPLE_6\",\"SAMPLE_7\",\"SAMPLE_8\",\"SAMPLE_9\",\"SAMPLE_10\",\"SAMPLE_11\",\"SAMPLE_12\",\"SAMPLE_13\",\"SAMPLE_14\",\"SAMPLE_15\",\"SAMPLE_16\",\"SAMPLE_17\",\"SAMPLE_18\",\"SAMPLE_19\",\"SAMPLE_20\",\"SAMPLE_21\",\"SAMPLE_22\",\"SAMPLE_23\",\"SAMPLE_24\",\"SAMPLE_25\",\"SAMPLE_26\",\"SAMPLE_27\",\"SAMPLE_28\",\"SAMPLE_29\",\"SAMPLE_30\"],\"type\":\"box\",\"x\":[9.077809798270893,14.629049111807731,5.304740406320542,9.868421052631577,16.716867469879517,17.80028943560058,6.776379477250725,17.727272727272727,3.349282296650717,12.095639943741208,18.413173652694617,0.0,20.8187134502924,3.5827186512118026,17.42081447963801,0.0,10.44776119402985,0.0,8.874801901743263,36.127409891031014,32.62195121951219,0.0,29.999999999999996,0.0,0.0,32.033426183844014,3.0065359477124187,0.0,42.07161125319693,51.49425287356321],\"y\":[\"<i>Escherichia coli</i>\",\"<i>Escherichia coli</i>\",\"<i>Escherichia coli</i>\",\"<i>Escherichia coli</i>\",\"<i>Escherichia coli</i>\",\"<i>Escherichia coli</i>\",\"<i>Escherichia coli</i>\",\"<i>Escherichia coli</i>\",\"<i>Escherichia coli</i>\",\"<i>Escherichia coli</i>\",\"<i>Escherichia coli</i>\",\"<i>Escherichia coli</i>\",\"<i>Escherichia coli</i>\",\"<i>Escherichia coli</i>\",\"<i>Escherichia coli</i>\",\"<i>Escherichia coli</i>\",\"<i>Escherichia coli</i>\",\"<i>Escherichia coli</i>\",\"<i>Escherichia coli</i>\",\"<i>Escherichia coli</i>\",\"<i>Escherichia coli</i>\",\"<i>Escherichia coli</i>\",\"<i>Escherichia coli</i>\",\"<i>Escherichia coli</i>\",\"<i>Escherichia coli</i>\",\"<i>Escherichia coli</i>\",\"<i>Escherichia coli</i>\",\"<i>Escherichia coli</i>\",\"<i>Escherichia coli</i>\",\"<i>Escherichia coli</i>\"]},{\"boxpoints\":\"suspectedoutliers\",\"marker\":{\"color\":\"#778899\"},\"name\":\"<i>Gardnerella vaginalis</i>\",\"orientation\":\"h\",\"text\":[\"SAMPLE_1\",\"SAMPLE_2\",\"SAMPLE_3\",\"SAMPLE_4\",\"SAMPLE_5\",\"SAMPLE_6\",\"SAMPLE_7\",\"SAMPLE_8\",\"SAMPLE_9\",\"SAMPLE_10\",\"SAMPLE_11\",\"SAMPLE_12\",\"SAMPLE_13\",\"SAMPLE_14\",\"SAMPLE_15\",\"SAMPLE_16\",\"SAMPLE_17\",\"SAMPLE_18\",\"SAMPLE_19\",\"SAMPLE_20\",\"SAMPLE_21\",\"SAMPLE_22\",\"SAMPLE_23\",\"SAMPLE_24\",\"SAMPLE_25\",\"SAMPLE_26\",\"SAMPLE_27\",\"SAMPLE_28\",\"SAMPLE_29\",\"SAMPLE_30\"],\"type\":\"box\",\"x\":[40.20172910662824,3.0303030303030303,0.0,36.18421052631578,4.216867469879518,31.11432706222865,0.0,57.95454545454545,8.732057416267942,32.34880450070324,67.81437125748504,3.541666666666667,25.730994152046787,12.96101159114858,0.904977375565611,0.8048289738430585,21.82835820895522,42.04819277108433,34.23137876386688,0.0,33.68902439024391,8.943965517241379,35.36585365853658,4.411764705882352,0.0,0.0,87.05882352941177,22.443890274314217,18.54219948849105,17.12643678160919],\"y\":[\"<i>Gardnerella vaginalis</i>\",\"<i>Gardnerella vaginalis</i>\",\"<i>Gardnerella vaginalis</i>\",\"<i>Gardnerella vaginalis</i>\",\"<i>Gardnerella vaginalis</i>\",\"<i>Gardnerella vaginalis</i>\",\"<i>Gardnerella vaginalis</i>\",\"<i>Gardnerella vaginalis</i>\",\"<i>Gardnerella vaginalis</i>\",\"<i>Gardnerella vaginalis</i>\",\"<i>Gardnerella vaginalis</i>\",\"<i>Gardnerella vaginalis</i>\",\"<i>Gardnerella vaginalis</i>\",\"<i>Gardnerella vaginalis</i>\",\"<i>Gardnerella vaginalis</i>\",\"<i>Gardnerella vaginalis</i>\",\"<i>Gardnerella vaginalis</i>\",\"<i>Gardnerella vaginalis</i>\",\"<i>Gardnerella vaginalis</i>\",\"<i>Gardnerella vaginalis</i>\",\"<i>Gardnerella vaginalis</i>\",\"<i>Gardnerella vaginalis</i>\",\"<i>Gardnerella vaginalis</i>\",\"<i>Gardnerella vaginalis</i>\",\"<i>Gardnerella vaginalis</i>\",\"<i>Gardnerella vaginalis</i>\",\"<i>Gardnerella vaginalis</i>\",\"<i>Gardnerella vaginalis</i>\",\"<i>Gardnerella vaginalis</i>\",\"<i>Gardnerella vaginalis</i>\"]},{\"boxpoints\":\"suspectedoutliers\",\"marker\":{\"color\":\"#778899\"},\"name\":\"<i>Lactobacillus crispatus</i>\",\"orientation\":\"h\",\"text\":[\"SAMPLE_1\",\"SAMPLE_2\",\"SAMPLE_3\",\"SAMPLE_4\",\"SAMPLE_5\",\"SAMPLE_6\",\"SAMPLE_7\",\"SAMPLE_8\",\"SAMPLE_9\",\"SAMPLE_10\",\"SAMPLE_11\",\"SAMPLE_12\",\"SAMPLE_13\",\"SAMPLE_14\",\"SAMPLE_15\",\"SAMPLE_16\",\"SAMPLE_17\",\"SAMPLE_18\",\"SAMPLE_19\",\"SAMPLE_20\",\"SAMPLE_21\",\"SAMPLE_22\",\"SAMPLE_23\",\"SAMPLE_24\",\"SAMPLE_25\",\"SAMPLE_26\",\"SAMPLE_27\",\"SAMPLE_28\",\"SAMPLE_29\",\"SAMPLE_30\"],\"type\":\"box\",\"x\":[12.247838616714697,56.00835945663531,84.08577878103837,24.01315789473684,63.253012048192765,26.049204052098403,75.60503388189737,0.0,69.61722488038278,22.64416315049227,0.0,78.75,21.6374269005848,69.23076923076923,65.61085972850678,90.24144869215293,32.18283582089552,13.012048192771084,27.337559429477018,15.339480301760267,9.756097560975611,80.28017241379308,0.0,75.80213903743315,91.39579349904399,41.68987929433612,0.0,2.9925187032418954,27.237851662404093,14.022988505747126],\"y\":[\"<i>Lactobacillus crispatus</i>\",\"<i>Lactobacillus crispatus</i>\",\"<i>Lactobacillus crispatus</i>\",\"<i>Lactobacillus crispatus</i>\",\"<i>Lactobacillus crispatus</i>\",\"<i>Lactobacillus crispatus</i>\",\"<i>Lactobacillus crispatus</i>\",\"<i>Lactobacillus crispatus</i>\",\"<i>Lactobacillus crispatus</i>\",\"<i>Lactobacillus crispatus</i>\",\"<i>Lactobacillus crispatus</i>\",\"<i>Lactobacillus crispatus</i>\",\"<i>Lactobacillus crispatus</i>\",\"<i>Lactobacillus crispatus</i>\",\"<i>Lactobacillus crispatus</i>\",\"<i>Lactobacillus crispatus</i>\",\"<i>Lactobacillus crispatus</i>\",\"<i>Lactobacillus crispatus</i>\",\"<i>Lactobacillus crispatus</i>\",\"<i>Lactobacillus crispatus</i>\",\"<i>Lactobacillus crispatus</i>\",\"<i>Lactobacillus crispatus</i>\",\"<i>Lactobacillus crispatus</i>\",\"<i>Lactobacillus crispatus</i>\",\"<i>Lactobacillus crispatus</i>\",\"<i>Lactobacillus crispatus</i>\",\"<i>Lactobacillus crispatus</i>\",\"<i>Lactobacillus crispatus</i>\",\"<i>Lactobacillus crispatus</i>\",\"<i>Lactobacillus crispatus</i>\"]}],                        {\"showlegend\":false,\"template\":{\"data\":{\"bar\":[{\"error_x\":{\"color\":\"#2a3f5f\"},\"error_y\":{\"color\":\"#2a3f5f\"},\"marker\":{\"line\":{\"color\":\"#E5ECF6\",\"width\":0.5},\"pattern\":{\"fillmode\":\"overlay\",\"size\":10,\"solidity\":0.2}},\"type\":\"bar\"}],\"barpolar\":[{\"marker\":{\"line\":{\"color\":\"#E5ECF6\",\"width\":0.5},\"pattern\":{\"fillmode\":\"overlay\",\"size\":10,\"solidity\":0.2}},\"type\":\"barpolar\"}],\"carpet\":[{\"aaxis\":{\"endlinecolor\":\"#2a3f5f\",\"gridcolor\":\"white\",\"linecolor\":\"white\",\"minorgridcolor\":\"white\",\"startlinecolor\":\"#2a3f5f\"},\"baxis\":{\"endlinecolor\":\"#2a3f5f\",\"gridcolor\":\"white\",\"linecolor\":\"white\",\"minorgridcolor\":\"white\",\"startlinecolor\":\"#2a3f5f\"},\"type\":\"carpet\"}],\"choropleth\":[{\"colorbar\":{\"outlinewidth\":0,\"ticks\":\"\"},\"type\":\"choropleth\"}],\"contour\":[{\"colorbar\":{\"outlinewidth\":0,\"ticks\":\"\"},\"colorscale\":[[0.0,\"#0d0887\"],[0.1111111111111111,\"#46039f\"],[0.2222222222222222,\"#7201a8\"],[0.3333333333333333,\"#9c179e\"],[0.4444444444444444,\"#bd3786\"],[0.5555555555555556,\"#d8576b\"],[0.6666666666666666,\"#ed7953\"],[0.7777777777777778,\"#fb9f3a\"],[0.8888888888888888,\"#fdca26\"],[1.0,\"#f0f921\"]],\"type\":\"contour\"}],\"contourcarpet\":[{\"colorbar\":{\"outlinewidth\":0,\"ticks\":\"\"},\"type\":\"contourcarpet\"}],\"heatmap\":[{\"colorbar\":{\"outlinewidth\":0,\"ticks\":\"\"},\"colorscale\":[[0.0,\"#0d0887\"],[0.1111111111111111,\"#46039f\"],[0.2222222222222222,\"#7201a8\"],[0.3333333333333333,\"#9c179e\"],[0.4444444444444444,\"#bd3786\"],[0.5555555555555556,\"#d8576b\"],[0.6666666666666666,\"#ed7953\"],[0.7777777777777778,\"#fb9f3a\"],[0.8888888888888888,\"#fdca26\"],[1.0,\"#f0f921\"]],\"type\":\"heatmap\"}],\"heatmapgl\":[{\"colorbar\":{\"outlinewidth\":0,\"ticks\":\"\"},\"colorscale\":[[0.0,\"#0d0887\"],[0.1111111111111111,\"#46039f\"],[0.2222222222222222,\"#7201a8\"],[0.3333333333333333,\"#9c179e\"],[0.4444444444444444,\"#bd3786\"],[0.5555555555555556,\"#d8576b\"],[0.6666666666666666,\"#ed7953\"],[0.7777777777777778,\"#fb9f3a\"],[0.8888888888888888,\"#fdca26\"],[1.0,\"#f0f921\"]],\"type\":\"heatmapgl\"}],\"histogram\":[{\"marker\":{\"pattern\":{\"fillmode\":\"overlay\",\"size\":10,\"solidity\":0.2}},\"type\":\"histogram\"}],\"histogram2d\":[{\"colorbar\":{\"outlinewidth\":0,\"ticks\":\"\"},\"colorscale\":[[0.0,\"#0d0887\"],[0.1111111111111111,\"#46039f\"],[0.2222222222222222,\"#7201a8\"],[0.3333333333333333,\"#9c179e\"],[0.4444444444444444,\"#bd3786\"],[0.5555555555555556,\"#d8576b\"],[0.6666666666666666,\"#ed7953\"],[0.7777777777777778,\"#fb9f3a\"],[0.8888888888888888,\"#fdca26\"],[1.0,\"#f0f921\"]],\"type\":\"histogram2d\"}],\"histogram2dcontour\":[{\"colorbar\":{\"outlinewidth\":0,\"ticks\":\"\"},\"colorscale\":[[0.0,\"#0d0887\"],[0.1111111111111111,\"#46039f\"],[0.2222222222222222,\"#7201a8\"],[0.3333333333333333,\"#9c179e\"],[0.4444444444444444,\"#bd3786\"],[0.5555555555555556,\"#d8576b\"],[0.6666666666666666,\"#ed7953\"],[0.7777777777777778,\"#fb9f3a\"],[0.8888888888888888,\"#fdca26\"],[1.0,\"#f0f921\"]],\"type\":\"histogram2dcontour\"}],\"mesh3d\":[{\"colorbar\":{\"outlinewidth\":0,\"ticks\":\"\"},\"type\":\"mesh3d\"}],\"parcoords\":[{\"line\":{\"colorbar\":{\"outlinewidth\":0,\"ticks\":\"\"}},\"type\":\"parcoords\"}],\"pie\":[{\"automargin\":true,\"type\":\"pie\"}],\"scatter\":[{\"marker\":{\"colorbar\":{\"outlinewidth\":0,\"ticks\":\"\"}},\"type\":\"scatter\"}],\"scatter3d\":[{\"line\":{\"colorbar\":{\"outlinewidth\":0,\"ticks\":\"\"}},\"marker\":{\"colorbar\":{\"outlinewidth\":0,\"ticks\":\"\"}},\"type\":\"scatter3d\"}],\"scattercarpet\":[{\"marker\":{\"colorbar\":{\"outlinewidth\":0,\"ticks\":\"\"}},\"type\":\"scattercarpet\"}],\"scattergeo\":[{\"marker\":{\"colorbar\":{\"outlinewidth\":0,\"ticks\":\"\"}},\"type\":\"scattergeo\"}],\"scattergl\":[{\"marker\":{\"colorbar\":{\"outlinewidth\":0,\"ticks\":\"\"}},\"type\":\"scattergl\"}],\"scattermapbox\":[{\"marker\":{\"colorbar\":{\"outlinewidth\":0,\"ticks\":\"\"}},\"type\":\"scattermapbox\"}],\"scatterpolar\":[{\"marker\":{\"colorbar\":{\"outlinewidth\":0,\"ticks\":\"\"}},\"type\":\"scatterpolar\"}],\"scatterpolargl\":[{\"marker\":{\"colorbar\":{\"outlinewidth\":0,\"ticks\":\"\"}},\"type\":\"scatterpolargl\"}],\"scatterternary\":[{\"marker\":{\"colorbar\":{\"outlinewidth\":0,\"ticks\":\"\"}},\"type\":\"scatterternary\"}],\"surface\":[{\"colorbar\":{\"outlinewidth\":0,\"ticks\":\"\"},\"colorscale\":[[0.0,\"#0d0887\"],[0.1111111111111111,\"#46039f\"],[0.2222222222222222,\"#7201a8\"],[0.3333333333333333,\"#9c179e\"],[0.4444444444444444,\"#bd3786\"],[0.5555555555555556,\"#d8576b\"],[0.6666666666666666,\"#ed7953\"],[0.7777777777777778,\"#fb9f3a\"],[0.8888888888888888,\"#fdca26\"],[1.0,\"#f0f921\"]],\"type\":\"surface\"}],\"table\":[{\"cells\":{\"fill\":{\"color\":\"#EBF0F8\"},\"line\":{\"color\":\"white\"}},\"header\":{\"fill\":{\"color\":\"#C8D4E3\"},\"line\":{\"color\":\"white\"}},\"type\":\"table\"}]},\"layout\":{\"annotationdefaults\":{\"arrowcolor\":\"#2a3f5f\",\"arrowhead\":0,\"arrowwidth\":1},\"autotypenumbers\":\"strict\",\"coloraxis\":{\"colorbar\":{\"outlinewidth\":0,\"ticks\":\"\"}},\"colorscale\":{\"diverging\":[[0,\"#8e0152\"],[0.1,\"#c51b7d\"],[0.2,\"#de77ae\"],[0.3,\"#f1b6da\"],[0.4,\"#fde0ef\"],[0.5,\"#f7f7f7\"],[0.6,\"#e6f5d0\"],[0.7,\"#b8e186\"],[0.8,\"#7fbc41\"],[0.9,\"#4d9221\"],[1,\"#276419\"]],\"sequential\":[[0.0,\"#0d0887\"],[0.1111111111111111,\"#46039f\"],[0.2222222222222222,\"#7201a8\"],[0.3333333333333333,\"#9c179e\"],[0.4444444444444444,\"#bd3786\"],[0.5555555555555556,\"#d8576b\"],[0.6666666666666666,\"#ed7953\"],[0.7777777777777778,\"#fb9f3a\"],[0.8888888888888888,\"#fdca26\"],[1.0,\"#f0f921\"]],\"sequentialminus\":[[0.0,\"#0d0887\"],[0.1111111111111111,\"#46039f\"],[0.2222222222222222,\"#7201a8\"],[0.3333333333333333,\"#9c179e\"],[0.4444444444444444,\"#bd3786\"],[0.5555555555555556,\"#d8576b\"],[0.6666666666666666,\"#ed7953\"],[0.7777777777777778,\"#fb9f3a\"],[0.8888888888888888,\"#fdca26\"],[1.0,\"#f0f921\"]]},\"colorway\":[\"#636efa\",\"#EF553B\",\"#00cc96\",\"#ab63fa\",\"#FFA15A\",\"#19d3f3\",\"#FF6692\",\"#B6E880\",\"#FF97FF\",\"#FECB52\"],\"font\":{\"color\":\"#2a3f5f\"},\"geo\":{\"bgcolor\":\"white\",\"lakecolor\":\"white\",\"landcolor\":\"#E5ECF6\",\"showlakes\":true,\"showland\":true,\"subunitcolor\":\"white\"},\"hoverlabel\":{\"align\":\"left\"},\"hovermode\":\"closest\",\"mapbox\":{\"style\":\"light\"},\"paper_bgcolor\":\"white\",\"plot_bgcolor\":\"#E5ECF6\",\"polar\":{\"angularaxis\":{\"gridcolor\":\"white\",\"linecolor\":\"white\",\"ticks\":\"\"},\"bgcolor\":\"#E5ECF6\",\"radialaxis\":{\"gridcolor\":\"white\",\"linecolor\":\"white\",\"ticks\":\"\"}},\"scene\":{\"xaxis\":{\"backgroundcolor\":\"#E5ECF6\",\"gridcolor\":\"white\",\"gridwidth\":2,\"linecolor\":\"white\",\"showbackground\":true,\"ticks\":\"\",\"zerolinecolor\":\"white\"},\"yaxis\":{\"backgroundcolor\":\"#E5ECF6\",\"gridcolor\":\"white\",\"gridwidth\":2,\"linecolor\":\"white\",\"showbackground\":true,\"ticks\":\"\",\"zerolinecolor\":\"white\"},\"zaxis\":{\"backgroundcolor\":\"#E5ECF6\",\"gridcolor\":\"white\",\"gridwidth\":2,\"linecolor\":\"white\",\"showbackground\":true,\"ticks\":\"\",\"zerolinecolor\":\"white\"}},\"shapedefaults\":{\"line\":{\"color\":\"#2a3f5f\"}},\"ternary\":{\"aaxis\":{\"gridcolor\":\"white\",\"linecolor\":\"white\",\"ticks\":\"\"},\"baxis\":{\"gridcolor\":\"white\",\"linecolor\":\"white\",\"ticks\":\"\"},\"bgcolor\":\"#E5ECF6\",\"caxis\":{\"gridcolor\":\"white\",\"linecolor\":\"white\",\"ticks\":\"\"}},\"title\":{\"x\":0.05},\"xaxis\":{\"automargin\":true,\"gridcolor\":\"white\",\"linecolor\":\"white\",\"ticks\":\"\",\"title\":{\"standoff\":15},\"zerolinecolor\":\"white\",\"zerolinewidth\":2},\"yaxis\":{\"automargin\":true,\"gridcolor\":\"white\",\"linecolor\":\"white\",\"ticks\":\"\",\"title\":{\"standoff\":15},\"zerolinecolor\":\"white\",\"zerolinewidth\":2}}},\"title\":{\"text\":\"Relative abundance of the 4 most abundant microbial genomes among individuals of the cohort\"},\"xaxis\":{\"title\":{\"text\":\"Relative abundance (in percentage)\"},\"type\":\"log\"}},                        {\"responsive\": true}                    ).then(function(){\n",
       "                            \n",
       "var gd = document.getElementById('d003477c-0fd6-4dd7-8528-2a5d683fa6a4');\n",
       "var x = new MutationObserver(function (mutations, observer) {{\n",
       "        var display = window.getComputedStyle(gd).display;\n",
       "        if (!display || display === 'none') {{\n",
       "            console.log([gd, 'removed!']);\n",
       "            Plotly.purge(gd);\n",
       "            observer.disconnect();\n",
       "        }}\n",
       "}});\n",
       "\n",
       "// Listen for the removal of the full notebook cells\n",
       "var notebookContainer = gd.closest('#notebook-container');\n",
       "if (notebookContainer) {{\n",
       "    x.observe(notebookContainer, {childList: true});\n",
       "}}\n",
       "\n",
       "// Listen for the clearing of the current output cell\n",
       "var outputEl = gd.closest('.output');\n",
       "if (outputEl) {{\n",
       "    x.observe(outputEl, {childList: true});\n",
       "}}\n",
       "\n",
       "                        })                };                });            </script>        </div>"
      ]
     },
     "metadata": {},
     "output_type": "display_data"
    }
   ],
   "source": [
    "fig2 = instance.plot_most_abundant_taxa(\n",
    "    mode=\"boxplot\",\n",
    "    taxa_level=\"species\",\n",
    "    prevalence_threshold=None,\n",
    "    average_relative_abundance_threshold=5,\n",
    "    higher_classification=False,                \n",
    "    ascending=False,\n",
    "    output_file=\"Most_abundant_species.html\"        # It's also possible to generate a static image. You just need to change the extension of the file\n",
    ")"
   ]
  },
  {
   "cell_type": "code",
   "execution_count": 47,
   "id": "7fe3c44f",
   "metadata": {},
   "outputs": [
    {
     "data": {
      "application/vnd.plotly.v1+json": {
       "config": {
        "plotlyServerURL": "https://plot.ly"
       },
       "data": [
        {
         "marker": {
          "color": "#48a5fa"
         },
         "name": "Lactobacillus_crispatus",
         "type": "bar",
         "x": [
          "SAMPLE_11",
          "SAMPLE_26",
          "SAMPLE_2",
          "SAMPLE_22",
          "SAMPLE_7",
          "SAMPLE_9",
          "SAMPLE_28",
          "SAMPLE_21",
          "SAMPLE_23",
          "SAMPLE_1",
          "SAMPLE_18",
          "SAMPLE_13",
          "SAMPLE_17",
          "SAMPLE_19",
          "SAMPLE_20",
          "SAMPLE_30",
          "SAMPLE_5",
          "SAMPLE_15",
          "SAMPLE_14",
          "SAMPLE_12",
          "SAMPLE_24",
          "SAMPLE_3",
          "SAMPLE_16",
          "SAMPLE_25",
          "SAMPLE_29",
          "SAMPLE_6",
          "SAMPLE_4",
          "SAMPLE_10",
          "SAMPLE_8",
          "SAMPLE_27"
         ],
         "y": [
          0,
          41.68987929433612,
          56.00835945663531,
          80.28017241379308,
          75.60503388189737,
          69.61722488038278,
          2.9925187032418954,
          9.756097560975611,
          0,
          12.247838616714697,
          13.012048192771084,
          21.6374269005848,
          32.18283582089552,
          27.337559429477018,
          15.339480301760267,
          14.022988505747126,
          63.253012048192765,
          65.61085972850678,
          69.23076923076923,
          78.75,
          75.80213903743315,
          84.08577878103837,
          90.24144869215293,
          91.39579349904399,
          27.237851662404093,
          26.049204052098403,
          24.01315789473684,
          22.64416315049227,
          0,
          0
         ]
        },
        {
         "marker": {
          "color": "#f7d5d9"
         },
         "name": "Gardnerella_vaginalis",
         "type": "bar",
         "x": [
          "SAMPLE_11",
          "SAMPLE_26",
          "SAMPLE_2",
          "SAMPLE_22",
          "SAMPLE_7",
          "SAMPLE_9",
          "SAMPLE_28",
          "SAMPLE_21",
          "SAMPLE_23",
          "SAMPLE_1",
          "SAMPLE_18",
          "SAMPLE_13",
          "SAMPLE_17",
          "SAMPLE_19",
          "SAMPLE_20",
          "SAMPLE_30",
          "SAMPLE_5",
          "SAMPLE_15",
          "SAMPLE_14",
          "SAMPLE_12",
          "SAMPLE_24",
          "SAMPLE_3",
          "SAMPLE_16",
          "SAMPLE_25",
          "SAMPLE_29",
          "SAMPLE_6",
          "SAMPLE_4",
          "SAMPLE_10",
          "SAMPLE_8",
          "SAMPLE_27"
         ],
         "y": [
          67.81437125748504,
          0,
          3.0303030303030303,
          8.943965517241379,
          0,
          8.732057416267942,
          22.443890274314217,
          33.68902439024391,
          35.36585365853658,
          40.20172910662824,
          42.04819277108433,
          25.730994152046787,
          21.82835820895522,
          34.23137876386688,
          0,
          17.12643678160919,
          4.216867469879518,
          0.904977375565611,
          12.96101159114858,
          3.541666666666667,
          4.411764705882352,
          0,
          0.8048289738430585,
          0,
          18.54219948849105,
          31.11432706222865,
          36.18421052631578,
          32.34880450070324,
          57.95454545454545,
          87.05882352941177
         ]
        },
        {
         "marker": {
          "color": "#d8a727"
         },
         "name": "Escherichia_coli",
         "type": "bar",
         "x": [
          "SAMPLE_11",
          "SAMPLE_26",
          "SAMPLE_2",
          "SAMPLE_22",
          "SAMPLE_7",
          "SAMPLE_9",
          "SAMPLE_28",
          "SAMPLE_21",
          "SAMPLE_23",
          "SAMPLE_1",
          "SAMPLE_18",
          "SAMPLE_13",
          "SAMPLE_17",
          "SAMPLE_19",
          "SAMPLE_20",
          "SAMPLE_30",
          "SAMPLE_5",
          "SAMPLE_15",
          "SAMPLE_14",
          "SAMPLE_12",
          "SAMPLE_24",
          "SAMPLE_3",
          "SAMPLE_16",
          "SAMPLE_25",
          "SAMPLE_29",
          "SAMPLE_6",
          "SAMPLE_4",
          "SAMPLE_10",
          "SAMPLE_8",
          "SAMPLE_27"
         ],
         "y": [
          18.413173652694617,
          32.033426183844014,
          14.629049111807731,
          0,
          6.776379477250725,
          3.349282296650717,
          0,
          32.62195121951219,
          29.999999999999996,
          9.077809798270893,
          0,
          20.8187134502924,
          10.44776119402985,
          8.874801901743263,
          36.127409891031014,
          51.49425287356321,
          16.716867469879517,
          17.42081447963801,
          3.5827186512118026,
          0,
          0,
          5.304740406320542,
          0,
          0,
          42.07161125319693,
          17.80028943560058,
          9.868421052631577,
          12.095639943741208,
          17.727272727272727,
          3.0065359477124187
         ]
        },
        {
         "marker": {
          "color": "#d1dae8"
         },
         "name": "Others",
         "type": "bar",
         "x": [
          "SAMPLE_11",
          "SAMPLE_26",
          "SAMPLE_2",
          "SAMPLE_22",
          "SAMPLE_7",
          "SAMPLE_9",
          "SAMPLE_28",
          "SAMPLE_21",
          "SAMPLE_23",
          "SAMPLE_1",
          "SAMPLE_18",
          "SAMPLE_13",
          "SAMPLE_17",
          "SAMPLE_19",
          "SAMPLE_20",
          "SAMPLE_30",
          "SAMPLE_5",
          "SAMPLE_15",
          "SAMPLE_14",
          "SAMPLE_12",
          "SAMPLE_24",
          "SAMPLE_3",
          "SAMPLE_16",
          "SAMPLE_25",
          "SAMPLE_29",
          "SAMPLE_6",
          "SAMPLE_4",
          "SAMPLE_10",
          "SAMPLE_8",
          "SAMPLE_27"
         ],
         "y": [
          13.77245508982034,
          26.276694521819863,
          26.33228840125392,
          10.775862068965537,
          17.618586640851902,
          18.30143540669856,
          74.56359102244389,
          23.932926829268297,
          34.63414634146342,
          38.47262247838617,
          44.939759036144586,
          31.812865497076018,
          35.541044776119406,
          29.556259904912835,
          48.53310980720872,
          17.356321839080465,
          15.813253012048193,
          16.0633484162896,
          14.225500526870391,
          17.70833333333333,
          19.786096256684502,
          10.609480812641081,
          8.953722334004013,
          8.60420650095601,
          12.148337595907918,
          25.036179450072368,
          29.93421052631581,
          32.91139240506328,
          24.318181818181813,
          9.93464052287581
         ]
        },
        {
         "legendgroup": "GROUP",
         "legendgrouptitle": {
          "text": "GROUP"
         },
         "marker": {
          "color": "#EF553B"
         },
         "name": "C",
         "type": "bar",
         "x": [
          "SAMPLE_2",
          "SAMPLE_23",
          "SAMPLE_18",
          "SAMPLE_19",
          "SAMPLE_24",
          "SAMPLE_6",
          "SAMPLE_4",
          "SAMPLE_8",
          "SAMPLE_27"
         ],
         "xaxis": "x2",
         "y": [
          1,
          1,
          1,
          1,
          1,
          1,
          1,
          1,
          1
         ],
         "yaxis": "y2"
        },
        {
         "legendgroup": "GROUP",
         "legendgrouptitle": {
          "text": "GROUP"
         },
         "marker": {
          "color": "#00CC96"
         },
         "name": "B",
         "type": "bar",
         "x": [
          "SAMPLE_11",
          "SAMPLE_28",
          "SAMPLE_21",
          "SAMPLE_13",
          "SAMPLE_17",
          "SAMPLE_20",
          "SAMPLE_5",
          "SAMPLE_12",
          "SAMPLE_16",
          "SAMPLE_25"
         ],
         "xaxis": "x2",
         "y": [
          1,
          1,
          1,
          1,
          1,
          1,
          1,
          1,
          1,
          1
         ],
         "yaxis": "y2"
        },
        {
         "legendgroup": "GROUP",
         "legendgrouptitle": {
          "text": "GROUP"
         },
         "marker": {
          "color": "#636EFA"
         },
         "name": "A",
         "type": "bar",
         "x": [
          "SAMPLE_26",
          "SAMPLE_22",
          "SAMPLE_7",
          "SAMPLE_9",
          "SAMPLE_1",
          "SAMPLE_30",
          "SAMPLE_15",
          "SAMPLE_14",
          "SAMPLE_3",
          "SAMPLE_29",
          "SAMPLE_10"
         ],
         "xaxis": "x2",
         "y": [
          1,
          1,
          1,
          1,
          1,
          1,
          1,
          1,
          1,
          1,
          1
         ],
         "yaxis": "y2"
        }
       ],
       "layout": {
        "annotations": [
         {
          "font": {
           "family": "Arial",
           "size": 14
          },
          "showarrow": false,
          "text": "smoker",
          "x": 7.5,
          "xref": "x",
          "y": 102,
          "yref": "y"
         },
         {
          "font": {
           "family": "Arial",
           "size": 14
          },
          "showarrow": false,
          "text": "non smoker",
          "x": 22.5,
          "xref": "x",
          "y": 102,
          "yref": "y"
         }
        ],
        "barmode": "stack",
        "legend": {
         "title": {
          "text": "species"
         }
        },
        "shapes": [
         {
          "fillcolor": "#FFFFFF",
          "line": {
           "width": 0
          },
          "type": "rect",
          "x0": -0.5,
          "x1": 15.5,
          "y0": 100,
          "y1": 104
         },
         {
          "line": {
           "color": "white",
           "dash": "solid",
           "width": 1
          },
          "type": "line",
          "x0": 15.5,
          "x1": 15.5,
          "y0": 100,
          "y1": 0
         },
         {
          "fillcolor": "#a7bcdb",
          "line": {
           "width": 0
          },
          "type": "rect",
          "x0": 15.5,
          "x1": 29.5,
          "y0": 100,
          "y1": 104
         }
        ],
        "template": {
         "data": {
          "bar": [
           {
            "error_x": {
             "color": "#2a3f5f"
            },
            "error_y": {
             "color": "#2a3f5f"
            },
            "marker": {
             "line": {
              "color": "#E5ECF6",
              "width": 0.5
             },
             "pattern": {
              "fillmode": "overlay",
              "size": 10,
              "solidity": 0.2
             }
            },
            "type": "bar"
           }
          ],
          "barpolar": [
           {
            "marker": {
             "line": {
              "color": "#E5ECF6",
              "width": 0.5
             },
             "pattern": {
              "fillmode": "overlay",
              "size": 10,
              "solidity": 0.2
             }
            },
            "type": "barpolar"
           }
          ],
          "carpet": [
           {
            "aaxis": {
             "endlinecolor": "#2a3f5f",
             "gridcolor": "white",
             "linecolor": "white",
             "minorgridcolor": "white",
             "startlinecolor": "#2a3f5f"
            },
            "baxis": {
             "endlinecolor": "#2a3f5f",
             "gridcolor": "white",
             "linecolor": "white",
             "minorgridcolor": "white",
             "startlinecolor": "#2a3f5f"
            },
            "type": "carpet"
           }
          ],
          "choropleth": [
           {
            "colorbar": {
             "outlinewidth": 0,
             "ticks": ""
            },
            "type": "choropleth"
           }
          ],
          "contour": [
           {
            "colorbar": {
             "outlinewidth": 0,
             "ticks": ""
            },
            "colorscale": [
             [
              0,
              "#0d0887"
             ],
             [
              0.1111111111111111,
              "#46039f"
             ],
             [
              0.2222222222222222,
              "#7201a8"
             ],
             [
              0.3333333333333333,
              "#9c179e"
             ],
             [
              0.4444444444444444,
              "#bd3786"
             ],
             [
              0.5555555555555556,
              "#d8576b"
             ],
             [
              0.6666666666666666,
              "#ed7953"
             ],
             [
              0.7777777777777778,
              "#fb9f3a"
             ],
             [
              0.8888888888888888,
              "#fdca26"
             ],
             [
              1,
              "#f0f921"
             ]
            ],
            "type": "contour"
           }
          ],
          "contourcarpet": [
           {
            "colorbar": {
             "outlinewidth": 0,
             "ticks": ""
            },
            "type": "contourcarpet"
           }
          ],
          "heatmap": [
           {
            "colorbar": {
             "outlinewidth": 0,
             "ticks": ""
            },
            "colorscale": [
             [
              0,
              "#0d0887"
             ],
             [
              0.1111111111111111,
              "#46039f"
             ],
             [
              0.2222222222222222,
              "#7201a8"
             ],
             [
              0.3333333333333333,
              "#9c179e"
             ],
             [
              0.4444444444444444,
              "#bd3786"
             ],
             [
              0.5555555555555556,
              "#d8576b"
             ],
             [
              0.6666666666666666,
              "#ed7953"
             ],
             [
              0.7777777777777778,
              "#fb9f3a"
             ],
             [
              0.8888888888888888,
              "#fdca26"
             ],
             [
              1,
              "#f0f921"
             ]
            ],
            "type": "heatmap"
           }
          ],
          "heatmapgl": [
           {
            "colorbar": {
             "outlinewidth": 0,
             "ticks": ""
            },
            "colorscale": [
             [
              0,
              "#0d0887"
             ],
             [
              0.1111111111111111,
              "#46039f"
             ],
             [
              0.2222222222222222,
              "#7201a8"
             ],
             [
              0.3333333333333333,
              "#9c179e"
             ],
             [
              0.4444444444444444,
              "#bd3786"
             ],
             [
              0.5555555555555556,
              "#d8576b"
             ],
             [
              0.6666666666666666,
              "#ed7953"
             ],
             [
              0.7777777777777778,
              "#fb9f3a"
             ],
             [
              0.8888888888888888,
              "#fdca26"
             ],
             [
              1,
              "#f0f921"
             ]
            ],
            "type": "heatmapgl"
           }
          ],
          "histogram": [
           {
            "marker": {
             "pattern": {
              "fillmode": "overlay",
              "size": 10,
              "solidity": 0.2
             }
            },
            "type": "histogram"
           }
          ],
          "histogram2d": [
           {
            "colorbar": {
             "outlinewidth": 0,
             "ticks": ""
            },
            "colorscale": [
             [
              0,
              "#0d0887"
             ],
             [
              0.1111111111111111,
              "#46039f"
             ],
             [
              0.2222222222222222,
              "#7201a8"
             ],
             [
              0.3333333333333333,
              "#9c179e"
             ],
             [
              0.4444444444444444,
              "#bd3786"
             ],
             [
              0.5555555555555556,
              "#d8576b"
             ],
             [
              0.6666666666666666,
              "#ed7953"
             ],
             [
              0.7777777777777778,
              "#fb9f3a"
             ],
             [
              0.8888888888888888,
              "#fdca26"
             ],
             [
              1,
              "#f0f921"
             ]
            ],
            "type": "histogram2d"
           }
          ],
          "histogram2dcontour": [
           {
            "colorbar": {
             "outlinewidth": 0,
             "ticks": ""
            },
            "colorscale": [
             [
              0,
              "#0d0887"
             ],
             [
              0.1111111111111111,
              "#46039f"
             ],
             [
              0.2222222222222222,
              "#7201a8"
             ],
             [
              0.3333333333333333,
              "#9c179e"
             ],
             [
              0.4444444444444444,
              "#bd3786"
             ],
             [
              0.5555555555555556,
              "#d8576b"
             ],
             [
              0.6666666666666666,
              "#ed7953"
             ],
             [
              0.7777777777777778,
              "#fb9f3a"
             ],
             [
              0.8888888888888888,
              "#fdca26"
             ],
             [
              1,
              "#f0f921"
             ]
            ],
            "type": "histogram2dcontour"
           }
          ],
          "mesh3d": [
           {
            "colorbar": {
             "outlinewidth": 0,
             "ticks": ""
            },
            "type": "mesh3d"
           }
          ],
          "parcoords": [
           {
            "line": {
             "colorbar": {
              "outlinewidth": 0,
              "ticks": ""
             }
            },
            "type": "parcoords"
           }
          ],
          "pie": [
           {
            "automargin": true,
            "type": "pie"
           }
          ],
          "scatter": [
           {
            "marker": {
             "colorbar": {
              "outlinewidth": 0,
              "ticks": ""
             }
            },
            "type": "scatter"
           }
          ],
          "scatter3d": [
           {
            "line": {
             "colorbar": {
              "outlinewidth": 0,
              "ticks": ""
             }
            },
            "marker": {
             "colorbar": {
              "outlinewidth": 0,
              "ticks": ""
             }
            },
            "type": "scatter3d"
           }
          ],
          "scattercarpet": [
           {
            "marker": {
             "colorbar": {
              "outlinewidth": 0,
              "ticks": ""
             }
            },
            "type": "scattercarpet"
           }
          ],
          "scattergeo": [
           {
            "marker": {
             "colorbar": {
              "outlinewidth": 0,
              "ticks": ""
             }
            },
            "type": "scattergeo"
           }
          ],
          "scattergl": [
           {
            "marker": {
             "colorbar": {
              "outlinewidth": 0,
              "ticks": ""
             }
            },
            "type": "scattergl"
           }
          ],
          "scattermapbox": [
           {
            "marker": {
             "colorbar": {
              "outlinewidth": 0,
              "ticks": ""
             }
            },
            "type": "scattermapbox"
           }
          ],
          "scatterpolar": [
           {
            "marker": {
             "colorbar": {
              "outlinewidth": 0,
              "ticks": ""
             }
            },
            "type": "scatterpolar"
           }
          ],
          "scatterpolargl": [
           {
            "marker": {
             "colorbar": {
              "outlinewidth": 0,
              "ticks": ""
             }
            },
            "type": "scatterpolargl"
           }
          ],
          "scatterternary": [
           {
            "marker": {
             "colorbar": {
              "outlinewidth": 0,
              "ticks": ""
             }
            },
            "type": "scatterternary"
           }
          ],
          "surface": [
           {
            "colorbar": {
             "outlinewidth": 0,
             "ticks": ""
            },
            "colorscale": [
             [
              0,
              "#0d0887"
             ],
             [
              0.1111111111111111,
              "#46039f"
             ],
             [
              0.2222222222222222,
              "#7201a8"
             ],
             [
              0.3333333333333333,
              "#9c179e"
             ],
             [
              0.4444444444444444,
              "#bd3786"
             ],
             [
              0.5555555555555556,
              "#d8576b"
             ],
             [
              0.6666666666666666,
              "#ed7953"
             ],
             [
              0.7777777777777778,
              "#fb9f3a"
             ],
             [
              0.8888888888888888,
              "#fdca26"
             ],
             [
              1,
              "#f0f921"
             ]
            ],
            "type": "surface"
           }
          ],
          "table": [
           {
            "cells": {
             "fill": {
              "color": "#EBF0F8"
             },
             "line": {
              "color": "white"
             }
            },
            "header": {
             "fill": {
              "color": "#C8D4E3"
             },
             "line": {
              "color": "white"
             }
            },
            "type": "table"
           }
          ]
         },
         "layout": {
          "annotationdefaults": {
           "arrowcolor": "#2a3f5f",
           "arrowhead": 0,
           "arrowwidth": 1
          },
          "autotypenumbers": "strict",
          "coloraxis": {
           "colorbar": {
            "outlinewidth": 0,
            "ticks": ""
           }
          },
          "colorscale": {
           "diverging": [
            [
             0,
             "#8e0152"
            ],
            [
             0.1,
             "#c51b7d"
            ],
            [
             0.2,
             "#de77ae"
            ],
            [
             0.3,
             "#f1b6da"
            ],
            [
             0.4,
             "#fde0ef"
            ],
            [
             0.5,
             "#f7f7f7"
            ],
            [
             0.6,
             "#e6f5d0"
            ],
            [
             0.7,
             "#b8e186"
            ],
            [
             0.8,
             "#7fbc41"
            ],
            [
             0.9,
             "#4d9221"
            ],
            [
             1,
             "#276419"
            ]
           ],
           "sequential": [
            [
             0,
             "#0d0887"
            ],
            [
             0.1111111111111111,
             "#46039f"
            ],
            [
             0.2222222222222222,
             "#7201a8"
            ],
            [
             0.3333333333333333,
             "#9c179e"
            ],
            [
             0.4444444444444444,
             "#bd3786"
            ],
            [
             0.5555555555555556,
             "#d8576b"
            ],
            [
             0.6666666666666666,
             "#ed7953"
            ],
            [
             0.7777777777777778,
             "#fb9f3a"
            ],
            [
             0.8888888888888888,
             "#fdca26"
            ],
            [
             1,
             "#f0f921"
            ]
           ],
           "sequentialminus": [
            [
             0,
             "#0d0887"
            ],
            [
             0.1111111111111111,
             "#46039f"
            ],
            [
             0.2222222222222222,
             "#7201a8"
            ],
            [
             0.3333333333333333,
             "#9c179e"
            ],
            [
             0.4444444444444444,
             "#bd3786"
            ],
            [
             0.5555555555555556,
             "#d8576b"
            ],
            [
             0.6666666666666666,
             "#ed7953"
            ],
            [
             0.7777777777777778,
             "#fb9f3a"
            ],
            [
             0.8888888888888888,
             "#fdca26"
            ],
            [
             1,
             "#f0f921"
            ]
           ]
          },
          "colorway": [
           "#636efa",
           "#EF553B",
           "#00cc96",
           "#ab63fa",
           "#FFA15A",
           "#19d3f3",
           "#FF6692",
           "#B6E880",
           "#FF97FF",
           "#FECB52"
          ],
          "font": {
           "color": "#2a3f5f"
          },
          "geo": {
           "bgcolor": "white",
           "lakecolor": "white",
           "landcolor": "#E5ECF6",
           "showlakes": true,
           "showland": true,
           "subunitcolor": "white"
          },
          "hoverlabel": {
           "align": "left"
          },
          "hovermode": "closest",
          "mapbox": {
           "style": "light"
          },
          "paper_bgcolor": "white",
          "plot_bgcolor": "#E5ECF6",
          "polar": {
           "angularaxis": {
            "gridcolor": "white",
            "linecolor": "white",
            "ticks": ""
           },
           "bgcolor": "#E5ECF6",
           "radialaxis": {
            "gridcolor": "white",
            "linecolor": "white",
            "ticks": ""
           }
          },
          "scene": {
           "xaxis": {
            "backgroundcolor": "#E5ECF6",
            "gridcolor": "white",
            "gridwidth": 2,
            "linecolor": "white",
            "showbackground": true,
            "ticks": "",
            "zerolinecolor": "white"
           },
           "yaxis": {
            "backgroundcolor": "#E5ECF6",
            "gridcolor": "white",
            "gridwidth": 2,
            "linecolor": "white",
            "showbackground": true,
            "ticks": "",
            "zerolinecolor": "white"
           },
           "zaxis": {
            "backgroundcolor": "#E5ECF6",
            "gridcolor": "white",
            "gridwidth": 2,
            "linecolor": "white",
            "showbackground": true,
            "ticks": "",
            "zerolinecolor": "white"
           }
          },
          "shapedefaults": {
           "line": {
            "color": "#2a3f5f"
           }
          },
          "ternary": {
           "aaxis": {
            "gridcolor": "white",
            "linecolor": "white",
            "ticks": ""
           },
           "baxis": {
            "gridcolor": "white",
            "linecolor": "white",
            "ticks": ""
           },
           "bgcolor": "#E5ECF6",
           "caxis": {
            "gridcolor": "white",
            "linecolor": "white",
            "ticks": ""
           }
          },
          "title": {
           "x": 0.05
          },
          "xaxis": {
           "automargin": true,
           "gridcolor": "white",
           "linecolor": "white",
           "ticks": "",
           "title": {
            "standoff": 15
           },
           "zerolinecolor": "white",
           "zerolinewidth": 2
          },
          "yaxis": {
           "automargin": true,
           "gridcolor": "white",
           "linecolor": "white",
           "ticks": "",
           "title": {
            "standoff": 15
           },
           "zerolinecolor": "white",
           "zerolinewidth": 2
          }
         }
        },
        "title": {
         "text": "Species composition for the top 3 most abundant species across samples"
        },
        "xaxis": {
         "anchor": "y",
         "domain": [
          0,
          1
         ],
         "matches": "x2",
         "showticklabels": false
        },
        "xaxis2": {
         "anchor": "y2",
         "domain": [
          0,
          1
         ],
         "title": {
          "text": "Samples"
         }
        },
        "yaxis": {
         "anchor": "x",
         "domain": [
          0.039599999999999996,
          0.9999999999999999
         ],
         "title": {
          "text": "Relative abundance"
         }
        },
        "yaxis2": {
         "anchor": "x2",
         "domain": [
          0,
          0.0196
         ],
         "showticklabels": false
        }
       }
      },
      "text/html": [
       "<div>                            <div id=\"ebfda43b-08c5-447a-86ce-e424d2ce5289\" class=\"plotly-graph-div\" style=\"height:525px; width:100%;\"></div>            <script type=\"text/javascript\">                require([\"plotly\"], function(Plotly) {                    window.PLOTLYENV=window.PLOTLYENV || {};                                    if (document.getElementById(\"ebfda43b-08c5-447a-86ce-e424d2ce5289\")) {                    Plotly.newPlot(                        \"ebfda43b-08c5-447a-86ce-e424d2ce5289\",                        [{\"marker\":{\"color\":\"#48a5fa\"},\"name\":\"Lactobacillus_crispatus\",\"type\":\"bar\",\"x\":[\"SAMPLE_11\",\"SAMPLE_26\",\"SAMPLE_2\",\"SAMPLE_22\",\"SAMPLE_7\",\"SAMPLE_9\",\"SAMPLE_28\",\"SAMPLE_21\",\"SAMPLE_23\",\"SAMPLE_1\",\"SAMPLE_18\",\"SAMPLE_13\",\"SAMPLE_17\",\"SAMPLE_19\",\"SAMPLE_20\",\"SAMPLE_30\",\"SAMPLE_5\",\"SAMPLE_15\",\"SAMPLE_14\",\"SAMPLE_12\",\"SAMPLE_24\",\"SAMPLE_3\",\"SAMPLE_16\",\"SAMPLE_25\",\"SAMPLE_29\",\"SAMPLE_6\",\"SAMPLE_4\",\"SAMPLE_10\",\"SAMPLE_8\",\"SAMPLE_27\"],\"y\":[0.0,41.68987929433612,56.00835945663531,80.28017241379308,75.60503388189737,69.61722488038278,2.9925187032418954,9.756097560975611,0.0,12.247838616714697,13.012048192771084,21.6374269005848,32.18283582089552,27.337559429477018,15.339480301760267,14.022988505747126,63.253012048192765,65.61085972850678,69.23076923076923,78.75,75.80213903743315,84.08577878103837,90.24144869215293,91.39579349904399,27.237851662404093,26.049204052098403,24.01315789473684,22.64416315049227,0.0,0.0]},{\"marker\":{\"color\":\"#f7d5d9\"},\"name\":\"Gardnerella_vaginalis\",\"type\":\"bar\",\"x\":[\"SAMPLE_11\",\"SAMPLE_26\",\"SAMPLE_2\",\"SAMPLE_22\",\"SAMPLE_7\",\"SAMPLE_9\",\"SAMPLE_28\",\"SAMPLE_21\",\"SAMPLE_23\",\"SAMPLE_1\",\"SAMPLE_18\",\"SAMPLE_13\",\"SAMPLE_17\",\"SAMPLE_19\",\"SAMPLE_20\",\"SAMPLE_30\",\"SAMPLE_5\",\"SAMPLE_15\",\"SAMPLE_14\",\"SAMPLE_12\",\"SAMPLE_24\",\"SAMPLE_3\",\"SAMPLE_16\",\"SAMPLE_25\",\"SAMPLE_29\",\"SAMPLE_6\",\"SAMPLE_4\",\"SAMPLE_10\",\"SAMPLE_8\",\"SAMPLE_27\"],\"y\":[67.81437125748504,0.0,3.0303030303030303,8.943965517241379,0.0,8.732057416267942,22.443890274314217,33.68902439024391,35.36585365853658,40.20172910662824,42.04819277108433,25.730994152046787,21.82835820895522,34.23137876386688,0.0,17.12643678160919,4.216867469879518,0.904977375565611,12.96101159114858,3.541666666666667,4.411764705882352,0.0,0.8048289738430585,0.0,18.54219948849105,31.11432706222865,36.18421052631578,32.34880450070324,57.95454545454545,87.05882352941177]},{\"marker\":{\"color\":\"#d8a727\"},\"name\":\"Escherichia_coli\",\"type\":\"bar\",\"x\":[\"SAMPLE_11\",\"SAMPLE_26\",\"SAMPLE_2\",\"SAMPLE_22\",\"SAMPLE_7\",\"SAMPLE_9\",\"SAMPLE_28\",\"SAMPLE_21\",\"SAMPLE_23\",\"SAMPLE_1\",\"SAMPLE_18\",\"SAMPLE_13\",\"SAMPLE_17\",\"SAMPLE_19\",\"SAMPLE_20\",\"SAMPLE_30\",\"SAMPLE_5\",\"SAMPLE_15\",\"SAMPLE_14\",\"SAMPLE_12\",\"SAMPLE_24\",\"SAMPLE_3\",\"SAMPLE_16\",\"SAMPLE_25\",\"SAMPLE_29\",\"SAMPLE_6\",\"SAMPLE_4\",\"SAMPLE_10\",\"SAMPLE_8\",\"SAMPLE_27\"],\"y\":[18.413173652694617,32.033426183844014,14.629049111807731,0.0,6.776379477250725,3.349282296650717,0.0,32.62195121951219,29.999999999999996,9.077809798270893,0.0,20.8187134502924,10.44776119402985,8.874801901743263,36.127409891031014,51.49425287356321,16.716867469879517,17.42081447963801,3.5827186512118026,0.0,0.0,5.304740406320542,0.0,0.0,42.07161125319693,17.80028943560058,9.868421052631577,12.095639943741208,17.727272727272727,3.0065359477124187]},{\"marker\":{\"color\":\"#d1dae8\"},\"name\":\"Others\",\"type\":\"bar\",\"x\":[\"SAMPLE_11\",\"SAMPLE_26\",\"SAMPLE_2\",\"SAMPLE_22\",\"SAMPLE_7\",\"SAMPLE_9\",\"SAMPLE_28\",\"SAMPLE_21\",\"SAMPLE_23\",\"SAMPLE_1\",\"SAMPLE_18\",\"SAMPLE_13\",\"SAMPLE_17\",\"SAMPLE_19\",\"SAMPLE_20\",\"SAMPLE_30\",\"SAMPLE_5\",\"SAMPLE_15\",\"SAMPLE_14\",\"SAMPLE_12\",\"SAMPLE_24\",\"SAMPLE_3\",\"SAMPLE_16\",\"SAMPLE_25\",\"SAMPLE_29\",\"SAMPLE_6\",\"SAMPLE_4\",\"SAMPLE_10\",\"SAMPLE_8\",\"SAMPLE_27\"],\"y\":[13.77245508982034,26.276694521819863,26.33228840125392,10.775862068965537,17.618586640851902,18.30143540669856,74.56359102244389,23.932926829268297,34.63414634146342,38.47262247838617,44.939759036144586,31.812865497076018,35.541044776119406,29.556259904912835,48.53310980720872,17.356321839080465,15.813253012048193,16.0633484162896,14.225500526870391,17.70833333333333,19.786096256684502,10.609480812641081,8.953722334004013,8.60420650095601,12.148337595907918,25.036179450072368,29.93421052631581,32.91139240506328,24.318181818181813,9.93464052287581]},{\"legendgroup\":\"GROUP\",\"legendgrouptitle\":{\"text\":\"GROUP\"},\"marker\":{\"color\":\"#EF553B\"},\"name\":\"C\",\"type\":\"bar\",\"x\":[\"SAMPLE_2\",\"SAMPLE_23\",\"SAMPLE_18\",\"SAMPLE_19\",\"SAMPLE_24\",\"SAMPLE_6\",\"SAMPLE_4\",\"SAMPLE_8\",\"SAMPLE_27\"],\"xaxis\":\"x2\",\"y\":[1,1,1,1,1,1,1,1,1],\"yaxis\":\"y2\"},{\"legendgroup\":\"GROUP\",\"legendgrouptitle\":{\"text\":\"GROUP\"},\"marker\":{\"color\":\"#00CC96\"},\"name\":\"B\",\"type\":\"bar\",\"x\":[\"SAMPLE_11\",\"SAMPLE_28\",\"SAMPLE_21\",\"SAMPLE_13\",\"SAMPLE_17\",\"SAMPLE_20\",\"SAMPLE_5\",\"SAMPLE_12\",\"SAMPLE_16\",\"SAMPLE_25\"],\"xaxis\":\"x2\",\"y\":[1,1,1,1,1,1,1,1,1,1],\"yaxis\":\"y2\"},{\"legendgroup\":\"GROUP\",\"legendgrouptitle\":{\"text\":\"GROUP\"},\"marker\":{\"color\":\"#636EFA\"},\"name\":\"A\",\"type\":\"bar\",\"x\":[\"SAMPLE_26\",\"SAMPLE_22\",\"SAMPLE_7\",\"SAMPLE_9\",\"SAMPLE_1\",\"SAMPLE_30\",\"SAMPLE_15\",\"SAMPLE_14\",\"SAMPLE_3\",\"SAMPLE_29\",\"SAMPLE_10\"],\"xaxis\":\"x2\",\"y\":[1,1,1,1,1,1,1,1,1,1,1],\"yaxis\":\"y2\"}],                        {\"annotations\":[{\"font\":{\"family\":\"Arial\",\"size\":14},\"showarrow\":false,\"text\":\"smoker\",\"x\":7.5,\"xref\":\"x\",\"y\":102,\"yref\":\"y\"},{\"font\":{\"family\":\"Arial\",\"size\":14},\"showarrow\":false,\"text\":\"non smoker\",\"x\":22.5,\"xref\":\"x\",\"y\":102,\"yref\":\"y\"}],\"barmode\":\"stack\",\"legend\":{\"title\":{\"text\":\"species\"}},\"shapes\":[{\"fillcolor\":\"#FFFFFF\",\"line\":{\"width\":0},\"type\":\"rect\",\"x0\":-0.5,\"x1\":15.5,\"y0\":100,\"y1\":104},{\"line\":{\"color\":\"white\",\"dash\":\"solid\",\"width\":1},\"type\":\"line\",\"x0\":15.5,\"x1\":15.5,\"y0\":100,\"y1\":0},{\"fillcolor\":\"#a7bcdb\",\"line\":{\"width\":0},\"type\":\"rect\",\"x0\":15.5,\"x1\":29.5,\"y0\":100,\"y1\":104}],\"template\":{\"data\":{\"bar\":[{\"error_x\":{\"color\":\"#2a3f5f\"},\"error_y\":{\"color\":\"#2a3f5f\"},\"marker\":{\"line\":{\"color\":\"#E5ECF6\",\"width\":0.5},\"pattern\":{\"fillmode\":\"overlay\",\"size\":10,\"solidity\":0.2}},\"type\":\"bar\"}],\"barpolar\":[{\"marker\":{\"line\":{\"color\":\"#E5ECF6\",\"width\":0.5},\"pattern\":{\"fillmode\":\"overlay\",\"size\":10,\"solidity\":0.2}},\"type\":\"barpolar\"}],\"carpet\":[{\"aaxis\":{\"endlinecolor\":\"#2a3f5f\",\"gridcolor\":\"white\",\"linecolor\":\"white\",\"minorgridcolor\":\"white\",\"startlinecolor\":\"#2a3f5f\"},\"baxis\":{\"endlinecolor\":\"#2a3f5f\",\"gridcolor\":\"white\",\"linecolor\":\"white\",\"minorgridcolor\":\"white\",\"startlinecolor\":\"#2a3f5f\"},\"type\":\"carpet\"}],\"choropleth\":[{\"colorbar\":{\"outlinewidth\":0,\"ticks\":\"\"},\"type\":\"choropleth\"}],\"contour\":[{\"colorbar\":{\"outlinewidth\":0,\"ticks\":\"\"},\"colorscale\":[[0.0,\"#0d0887\"],[0.1111111111111111,\"#46039f\"],[0.2222222222222222,\"#7201a8\"],[0.3333333333333333,\"#9c179e\"],[0.4444444444444444,\"#bd3786\"],[0.5555555555555556,\"#d8576b\"],[0.6666666666666666,\"#ed7953\"],[0.7777777777777778,\"#fb9f3a\"],[0.8888888888888888,\"#fdca26\"],[1.0,\"#f0f921\"]],\"type\":\"contour\"}],\"contourcarpet\":[{\"colorbar\":{\"outlinewidth\":0,\"ticks\":\"\"},\"type\":\"contourcarpet\"}],\"heatmap\":[{\"colorbar\":{\"outlinewidth\":0,\"ticks\":\"\"},\"colorscale\":[[0.0,\"#0d0887\"],[0.1111111111111111,\"#46039f\"],[0.2222222222222222,\"#7201a8\"],[0.3333333333333333,\"#9c179e\"],[0.4444444444444444,\"#bd3786\"],[0.5555555555555556,\"#d8576b\"],[0.6666666666666666,\"#ed7953\"],[0.7777777777777778,\"#fb9f3a\"],[0.8888888888888888,\"#fdca26\"],[1.0,\"#f0f921\"]],\"type\":\"heatmap\"}],\"heatmapgl\":[{\"colorbar\":{\"outlinewidth\":0,\"ticks\":\"\"},\"colorscale\":[[0.0,\"#0d0887\"],[0.1111111111111111,\"#46039f\"],[0.2222222222222222,\"#7201a8\"],[0.3333333333333333,\"#9c179e\"],[0.4444444444444444,\"#bd3786\"],[0.5555555555555556,\"#d8576b\"],[0.6666666666666666,\"#ed7953\"],[0.7777777777777778,\"#fb9f3a\"],[0.8888888888888888,\"#fdca26\"],[1.0,\"#f0f921\"]],\"type\":\"heatmapgl\"}],\"histogram\":[{\"marker\":{\"pattern\":{\"fillmode\":\"overlay\",\"size\":10,\"solidity\":0.2}},\"type\":\"histogram\"}],\"histogram2d\":[{\"colorbar\":{\"outlinewidth\":0,\"ticks\":\"\"},\"colorscale\":[[0.0,\"#0d0887\"],[0.1111111111111111,\"#46039f\"],[0.2222222222222222,\"#7201a8\"],[0.3333333333333333,\"#9c179e\"],[0.4444444444444444,\"#bd3786\"],[0.5555555555555556,\"#d8576b\"],[0.6666666666666666,\"#ed7953\"],[0.7777777777777778,\"#fb9f3a\"],[0.8888888888888888,\"#fdca26\"],[1.0,\"#f0f921\"]],\"type\":\"histogram2d\"}],\"histogram2dcontour\":[{\"colorbar\":{\"outlinewidth\":0,\"ticks\":\"\"},\"colorscale\":[[0.0,\"#0d0887\"],[0.1111111111111111,\"#46039f\"],[0.2222222222222222,\"#7201a8\"],[0.3333333333333333,\"#9c179e\"],[0.4444444444444444,\"#bd3786\"],[0.5555555555555556,\"#d8576b\"],[0.6666666666666666,\"#ed7953\"],[0.7777777777777778,\"#fb9f3a\"],[0.8888888888888888,\"#fdca26\"],[1.0,\"#f0f921\"]],\"type\":\"histogram2dcontour\"}],\"mesh3d\":[{\"colorbar\":{\"outlinewidth\":0,\"ticks\":\"\"},\"type\":\"mesh3d\"}],\"parcoords\":[{\"line\":{\"colorbar\":{\"outlinewidth\":0,\"ticks\":\"\"}},\"type\":\"parcoords\"}],\"pie\":[{\"automargin\":true,\"type\":\"pie\"}],\"scatter\":[{\"marker\":{\"colorbar\":{\"outlinewidth\":0,\"ticks\":\"\"}},\"type\":\"scatter\"}],\"scatter3d\":[{\"line\":{\"colorbar\":{\"outlinewidth\":0,\"ticks\":\"\"}},\"marker\":{\"colorbar\":{\"outlinewidth\":0,\"ticks\":\"\"}},\"type\":\"scatter3d\"}],\"scattercarpet\":[{\"marker\":{\"colorbar\":{\"outlinewidth\":0,\"ticks\":\"\"}},\"type\":\"scattercarpet\"}],\"scattergeo\":[{\"marker\":{\"colorbar\":{\"outlinewidth\":0,\"ticks\":\"\"}},\"type\":\"scattergeo\"}],\"scattergl\":[{\"marker\":{\"colorbar\":{\"outlinewidth\":0,\"ticks\":\"\"}},\"type\":\"scattergl\"}],\"scattermapbox\":[{\"marker\":{\"colorbar\":{\"outlinewidth\":0,\"ticks\":\"\"}},\"type\":\"scattermapbox\"}],\"scatterpolar\":[{\"marker\":{\"colorbar\":{\"outlinewidth\":0,\"ticks\":\"\"}},\"type\":\"scatterpolar\"}],\"scatterpolargl\":[{\"marker\":{\"colorbar\":{\"outlinewidth\":0,\"ticks\":\"\"}},\"type\":\"scatterpolargl\"}],\"scatterternary\":[{\"marker\":{\"colorbar\":{\"outlinewidth\":0,\"ticks\":\"\"}},\"type\":\"scatterternary\"}],\"surface\":[{\"colorbar\":{\"outlinewidth\":0,\"ticks\":\"\"},\"colorscale\":[[0.0,\"#0d0887\"],[0.1111111111111111,\"#46039f\"],[0.2222222222222222,\"#7201a8\"],[0.3333333333333333,\"#9c179e\"],[0.4444444444444444,\"#bd3786\"],[0.5555555555555556,\"#d8576b\"],[0.6666666666666666,\"#ed7953\"],[0.7777777777777778,\"#fb9f3a\"],[0.8888888888888888,\"#fdca26\"],[1.0,\"#f0f921\"]],\"type\":\"surface\"}],\"table\":[{\"cells\":{\"fill\":{\"color\":\"#EBF0F8\"},\"line\":{\"color\":\"white\"}},\"header\":{\"fill\":{\"color\":\"#C8D4E3\"},\"line\":{\"color\":\"white\"}},\"type\":\"table\"}]},\"layout\":{\"annotationdefaults\":{\"arrowcolor\":\"#2a3f5f\",\"arrowhead\":0,\"arrowwidth\":1},\"autotypenumbers\":\"strict\",\"coloraxis\":{\"colorbar\":{\"outlinewidth\":0,\"ticks\":\"\"}},\"colorscale\":{\"diverging\":[[0,\"#8e0152\"],[0.1,\"#c51b7d\"],[0.2,\"#de77ae\"],[0.3,\"#f1b6da\"],[0.4,\"#fde0ef\"],[0.5,\"#f7f7f7\"],[0.6,\"#e6f5d0\"],[0.7,\"#b8e186\"],[0.8,\"#7fbc41\"],[0.9,\"#4d9221\"],[1,\"#276419\"]],\"sequential\":[[0.0,\"#0d0887\"],[0.1111111111111111,\"#46039f\"],[0.2222222222222222,\"#7201a8\"],[0.3333333333333333,\"#9c179e\"],[0.4444444444444444,\"#bd3786\"],[0.5555555555555556,\"#d8576b\"],[0.6666666666666666,\"#ed7953\"],[0.7777777777777778,\"#fb9f3a\"],[0.8888888888888888,\"#fdca26\"],[1.0,\"#f0f921\"]],\"sequentialminus\":[[0.0,\"#0d0887\"],[0.1111111111111111,\"#46039f\"],[0.2222222222222222,\"#7201a8\"],[0.3333333333333333,\"#9c179e\"],[0.4444444444444444,\"#bd3786\"],[0.5555555555555556,\"#d8576b\"],[0.6666666666666666,\"#ed7953\"],[0.7777777777777778,\"#fb9f3a\"],[0.8888888888888888,\"#fdca26\"],[1.0,\"#f0f921\"]]},\"colorway\":[\"#636efa\",\"#EF553B\",\"#00cc96\",\"#ab63fa\",\"#FFA15A\",\"#19d3f3\",\"#FF6692\",\"#B6E880\",\"#FF97FF\",\"#FECB52\"],\"font\":{\"color\":\"#2a3f5f\"},\"geo\":{\"bgcolor\":\"white\",\"lakecolor\":\"white\",\"landcolor\":\"#E5ECF6\",\"showlakes\":true,\"showland\":true,\"subunitcolor\":\"white\"},\"hoverlabel\":{\"align\":\"left\"},\"hovermode\":\"closest\",\"mapbox\":{\"style\":\"light\"},\"paper_bgcolor\":\"white\",\"plot_bgcolor\":\"#E5ECF6\",\"polar\":{\"angularaxis\":{\"gridcolor\":\"white\",\"linecolor\":\"white\",\"ticks\":\"\"},\"bgcolor\":\"#E5ECF6\",\"radialaxis\":{\"gridcolor\":\"white\",\"linecolor\":\"white\",\"ticks\":\"\"}},\"scene\":{\"xaxis\":{\"backgroundcolor\":\"#E5ECF6\",\"gridcolor\":\"white\",\"gridwidth\":2,\"linecolor\":\"white\",\"showbackground\":true,\"ticks\":\"\",\"zerolinecolor\":\"white\"},\"yaxis\":{\"backgroundcolor\":\"#E5ECF6\",\"gridcolor\":\"white\",\"gridwidth\":2,\"linecolor\":\"white\",\"showbackground\":true,\"ticks\":\"\",\"zerolinecolor\":\"white\"},\"zaxis\":{\"backgroundcolor\":\"#E5ECF6\",\"gridcolor\":\"white\",\"gridwidth\":2,\"linecolor\":\"white\",\"showbackground\":true,\"ticks\":\"\",\"zerolinecolor\":\"white\"}},\"shapedefaults\":{\"line\":{\"color\":\"#2a3f5f\"}},\"ternary\":{\"aaxis\":{\"gridcolor\":\"white\",\"linecolor\":\"white\",\"ticks\":\"\"},\"baxis\":{\"gridcolor\":\"white\",\"linecolor\":\"white\",\"ticks\":\"\"},\"bgcolor\":\"#E5ECF6\",\"caxis\":{\"gridcolor\":\"white\",\"linecolor\":\"white\",\"ticks\":\"\"}},\"title\":{\"x\":0.05},\"xaxis\":{\"automargin\":true,\"gridcolor\":\"white\",\"linecolor\":\"white\",\"ticks\":\"\",\"title\":{\"standoff\":15},\"zerolinecolor\":\"white\",\"zerolinewidth\":2},\"yaxis\":{\"automargin\":true,\"gridcolor\":\"white\",\"linecolor\":\"white\",\"ticks\":\"\",\"title\":{\"standoff\":15},\"zerolinecolor\":\"white\",\"zerolinewidth\":2}}},\"title\":{\"text\":\"Species composition for the top 3 most abundant species across samples\"},\"xaxis\":{\"anchor\":\"y\",\"domain\":[0.0,1.0],\"matches\":\"x2\",\"showticklabels\":false},\"xaxis2\":{\"anchor\":\"y2\",\"domain\":[0.0,1.0],\"title\":{\"text\":\"Samples\"}},\"yaxis\":{\"anchor\":\"x\",\"domain\":[0.039599999999999996,0.9999999999999999],\"title\":{\"text\":\"Relative abundance\"}},\"yaxis2\":{\"anchor\":\"x2\",\"domain\":[0.0,0.0196],\"showticklabels\":false}},                        {\"responsive\": true}                    ).then(function(){\n",
       "                            \n",
       "var gd = document.getElementById('ebfda43b-08c5-447a-86ce-e424d2ce5289');\n",
       "var x = new MutationObserver(function (mutations, observer) {{\n",
       "        var display = window.getComputedStyle(gd).display;\n",
       "        if (!display || display === 'none') {{\n",
       "            console.log([gd, 'removed!']);\n",
       "            Plotly.purge(gd);\n",
       "            observer.disconnect();\n",
       "        }}\n",
       "}});\n",
       "\n",
       "// Listen for the removal of the full notebook cells\n",
       "var notebookContainer = gd.closest('#notebook-container');\n",
       "if (notebookContainer) {{\n",
       "    x.observe(notebookContainer, {childList: true});\n",
       "}}\n",
       "\n",
       "// Listen for the clearing of the current output cell\n",
       "var outputEl = gd.closest('.output');\n",
       "if (outputEl) {{\n",
       "    x.observe(outputEl, {childList: true});\n",
       "}}\n",
       "\n",
       "                        })                };                });            </script>        </div>"
      ]
     },
     "metadata": {},
     "output_type": "display_data"
    }
   ],
   "source": [
    "fig3 = instance.plot_sample_composition_most_abundant_taxa(\n",
    "    taxa_level=\"species\",\n",
    "    taxa_number=3,                        # the X top species will be represented, the other will be under \"Others\"\n",
    "    cluster_samples=True,                 # cluster samples according to their composition in top species/Others (default set to True)\n",
    "    colors={\"Others\" : \"#d1dae8\"},        # set the color of a species (or of \"Others\")\n",
    "    color_df=metadata_dataframe[\"GROUP\"], # series or dataframe of metadata to add at the bottom of the graph\n",
    "    sep_series=metadata_dataframe[\"SMOKER\"].replace({\"yes\": \"smoker\", \"no\": \"non smoker\"}),\n",
    "    sep_how=\"labels\",\n",
    "    output_file=None,\n",
    "    plotting_options={\"layout\": {\"yaxis_title\": \"Relative abundance\"}}   # all moonstone's plot and graph methods allow you to give your own plotting options\n",
    "                                                                         # it relies on the fig.update_X({*dictionary*}) methods of plotly\n",
    "                                                                         # it should be given in a dictionary with X being the first key and then a dictionary of the\n",
    "                                                                         # parameters to update as you would give the fig.update_X method\n",
    ")"
   ]
  },
  {
   "cell_type": "markdown",
   "id": "06718c94",
   "metadata": {},
   "source": [
    "# Diversity analysis\n",
    "\n",
    "The Alpha diversity (α-diversity) corresponds to the intra-sample diversity, whereas the Beta diversity (β-diversity) corresponds to the inter-samples diversity."
   ]
  },
  {
   "cell_type": "code",
   "execution_count": 48,
   "id": "418fe690",
   "metadata": {
    "scrolled": false
   },
   "outputs": [
    {
     "name": "stderr",
     "output_type": "stream",
     "text": [
      "Less than 20 observations for group no in data.\n",
      "Less than 20 observations for group yes in data.\n"
     ]
    },
    {
     "data": {
      "application/vnd.plotly.v1+json": {
       "config": {
        "plotlyServerURL": "https://plot.ly"
       },
       "data": [
        {
         "boxpoints": "suspectedoutliers",
         "marker": {
          "color": "#A63A50"
         },
         "name": "yes",
         "text": [
          "SAMPLE_1",
          "SAMPLE_2",
          "SAMPLE_7",
          "SAMPLE_9",
          "SAMPLE_11",
          "SAMPLE_13",
          "SAMPLE_17",
          "SAMPLE_18",
          "SAMPLE_19",
          "SAMPLE_20",
          "SAMPLE_21",
          "SAMPLE_22",
          "SAMPLE_23",
          "SAMPLE_26",
          "SAMPLE_28",
          "SAMPLE_30"
         ],
         "type": "box",
         "x": [
          "yes",
          "yes",
          "yes",
          "yes",
          "yes",
          "yes",
          "yes",
          "yes",
          "yes",
          "yes",
          "yes",
          "yes",
          "yes",
          "yes",
          "yes",
          "yes"
         ],
         "y": [
          2.4842342631066803,
          2.047949190308995,
          1.3571362632189208,
          1.551864434585437,
          1.418147734858096,
          2.673772418412297,
          2.6584771053232026,
          2.0006242800065377,
          2.524312583058247,
          2.213486376752813,
          2.244116046212962,
          1.054743636364336,
          2.1856592044134797,
          2.036021196150257,
          1.6015072946139441,
          1.9686010966518281
         ]
        },
        {
         "boxpoints": "suspectedoutliers",
         "marker": {
          "color": "#FFBF00"
         },
         "name": "no",
         "text": [
          "SAMPLE_3",
          "SAMPLE_4",
          "SAMPLE_5",
          "SAMPLE_6",
          "SAMPLE_8",
          "SAMPLE_10",
          "SAMPLE_12",
          "SAMPLE_14",
          "SAMPLE_15",
          "SAMPLE_16",
          "SAMPLE_24",
          "SAMPLE_25",
          "SAMPLE_27",
          "SAMPLE_29"
         ],
         "type": "box",
         "x": [
          "no",
          "no",
          "no",
          "no",
          "no",
          "no",
          "no",
          "no",
          "no",
          "no",
          "no",
          "no",
          "no",
          "no"
         ],
         "y": [
          0.9352132471477983,
          2.493978818144836,
          1.7111438985442937,
          2.2521071381135394,
          1.7642384806820817,
          2.5352346580159284,
          1.1479737733923197,
          1.4153178511509603,
          1.6253259106328335,
          0.5751978144299456,
          1.2470466853837532,
          0.5571646149805558,
          0.7873117130271795,
          2.028884575346343
         ]
        }
       ],
       "layout": {
        "template": {
         "data": {
          "bar": [
           {
            "error_x": {
             "color": "#2a3f5f"
            },
            "error_y": {
             "color": "#2a3f5f"
            },
            "marker": {
             "line": {
              "color": "#E5ECF6",
              "width": 0.5
             },
             "pattern": {
              "fillmode": "overlay",
              "size": 10,
              "solidity": 0.2
             }
            },
            "type": "bar"
           }
          ],
          "barpolar": [
           {
            "marker": {
             "line": {
              "color": "#E5ECF6",
              "width": 0.5
             },
             "pattern": {
              "fillmode": "overlay",
              "size": 10,
              "solidity": 0.2
             }
            },
            "type": "barpolar"
           }
          ],
          "carpet": [
           {
            "aaxis": {
             "endlinecolor": "#2a3f5f",
             "gridcolor": "white",
             "linecolor": "white",
             "minorgridcolor": "white",
             "startlinecolor": "#2a3f5f"
            },
            "baxis": {
             "endlinecolor": "#2a3f5f",
             "gridcolor": "white",
             "linecolor": "white",
             "minorgridcolor": "white",
             "startlinecolor": "#2a3f5f"
            },
            "type": "carpet"
           }
          ],
          "choropleth": [
           {
            "colorbar": {
             "outlinewidth": 0,
             "ticks": ""
            },
            "type": "choropleth"
           }
          ],
          "contour": [
           {
            "colorbar": {
             "outlinewidth": 0,
             "ticks": ""
            },
            "colorscale": [
             [
              0,
              "#0d0887"
             ],
             [
              0.1111111111111111,
              "#46039f"
             ],
             [
              0.2222222222222222,
              "#7201a8"
             ],
             [
              0.3333333333333333,
              "#9c179e"
             ],
             [
              0.4444444444444444,
              "#bd3786"
             ],
             [
              0.5555555555555556,
              "#d8576b"
             ],
             [
              0.6666666666666666,
              "#ed7953"
             ],
             [
              0.7777777777777778,
              "#fb9f3a"
             ],
             [
              0.8888888888888888,
              "#fdca26"
             ],
             [
              1,
              "#f0f921"
             ]
            ],
            "type": "contour"
           }
          ],
          "contourcarpet": [
           {
            "colorbar": {
             "outlinewidth": 0,
             "ticks": ""
            },
            "type": "contourcarpet"
           }
          ],
          "heatmap": [
           {
            "colorbar": {
             "outlinewidth": 0,
             "ticks": ""
            },
            "colorscale": [
             [
              0,
              "#0d0887"
             ],
             [
              0.1111111111111111,
              "#46039f"
             ],
             [
              0.2222222222222222,
              "#7201a8"
             ],
             [
              0.3333333333333333,
              "#9c179e"
             ],
             [
              0.4444444444444444,
              "#bd3786"
             ],
             [
              0.5555555555555556,
              "#d8576b"
             ],
             [
              0.6666666666666666,
              "#ed7953"
             ],
             [
              0.7777777777777778,
              "#fb9f3a"
             ],
             [
              0.8888888888888888,
              "#fdca26"
             ],
             [
              1,
              "#f0f921"
             ]
            ],
            "type": "heatmap"
           }
          ],
          "heatmapgl": [
           {
            "colorbar": {
             "outlinewidth": 0,
             "ticks": ""
            },
            "colorscale": [
             [
              0,
              "#0d0887"
             ],
             [
              0.1111111111111111,
              "#46039f"
             ],
             [
              0.2222222222222222,
              "#7201a8"
             ],
             [
              0.3333333333333333,
              "#9c179e"
             ],
             [
              0.4444444444444444,
              "#bd3786"
             ],
             [
              0.5555555555555556,
              "#d8576b"
             ],
             [
              0.6666666666666666,
              "#ed7953"
             ],
             [
              0.7777777777777778,
              "#fb9f3a"
             ],
             [
              0.8888888888888888,
              "#fdca26"
             ],
             [
              1,
              "#f0f921"
             ]
            ],
            "type": "heatmapgl"
           }
          ],
          "histogram": [
           {
            "marker": {
             "pattern": {
              "fillmode": "overlay",
              "size": 10,
              "solidity": 0.2
             }
            },
            "type": "histogram"
           }
          ],
          "histogram2d": [
           {
            "colorbar": {
             "outlinewidth": 0,
             "ticks": ""
            },
            "colorscale": [
             [
              0,
              "#0d0887"
             ],
             [
              0.1111111111111111,
              "#46039f"
             ],
             [
              0.2222222222222222,
              "#7201a8"
             ],
             [
              0.3333333333333333,
              "#9c179e"
             ],
             [
              0.4444444444444444,
              "#bd3786"
             ],
             [
              0.5555555555555556,
              "#d8576b"
             ],
             [
              0.6666666666666666,
              "#ed7953"
             ],
             [
              0.7777777777777778,
              "#fb9f3a"
             ],
             [
              0.8888888888888888,
              "#fdca26"
             ],
             [
              1,
              "#f0f921"
             ]
            ],
            "type": "histogram2d"
           }
          ],
          "histogram2dcontour": [
           {
            "colorbar": {
             "outlinewidth": 0,
             "ticks": ""
            },
            "colorscale": [
             [
              0,
              "#0d0887"
             ],
             [
              0.1111111111111111,
              "#46039f"
             ],
             [
              0.2222222222222222,
              "#7201a8"
             ],
             [
              0.3333333333333333,
              "#9c179e"
             ],
             [
              0.4444444444444444,
              "#bd3786"
             ],
             [
              0.5555555555555556,
              "#d8576b"
             ],
             [
              0.6666666666666666,
              "#ed7953"
             ],
             [
              0.7777777777777778,
              "#fb9f3a"
             ],
             [
              0.8888888888888888,
              "#fdca26"
             ],
             [
              1,
              "#f0f921"
             ]
            ],
            "type": "histogram2dcontour"
           }
          ],
          "mesh3d": [
           {
            "colorbar": {
             "outlinewidth": 0,
             "ticks": ""
            },
            "type": "mesh3d"
           }
          ],
          "parcoords": [
           {
            "line": {
             "colorbar": {
              "outlinewidth": 0,
              "ticks": ""
             }
            },
            "type": "parcoords"
           }
          ],
          "pie": [
           {
            "automargin": true,
            "type": "pie"
           }
          ],
          "scatter": [
           {
            "marker": {
             "colorbar": {
              "outlinewidth": 0,
              "ticks": ""
             }
            },
            "type": "scatter"
           }
          ],
          "scatter3d": [
           {
            "line": {
             "colorbar": {
              "outlinewidth": 0,
              "ticks": ""
             }
            },
            "marker": {
             "colorbar": {
              "outlinewidth": 0,
              "ticks": ""
             }
            },
            "type": "scatter3d"
           }
          ],
          "scattercarpet": [
           {
            "marker": {
             "colorbar": {
              "outlinewidth": 0,
              "ticks": ""
             }
            },
            "type": "scattercarpet"
           }
          ],
          "scattergeo": [
           {
            "marker": {
             "colorbar": {
              "outlinewidth": 0,
              "ticks": ""
             }
            },
            "type": "scattergeo"
           }
          ],
          "scattergl": [
           {
            "marker": {
             "colorbar": {
              "outlinewidth": 0,
              "ticks": ""
             }
            },
            "type": "scattergl"
           }
          ],
          "scattermapbox": [
           {
            "marker": {
             "colorbar": {
              "outlinewidth": 0,
              "ticks": ""
             }
            },
            "type": "scattermapbox"
           }
          ],
          "scatterpolar": [
           {
            "marker": {
             "colorbar": {
              "outlinewidth": 0,
              "ticks": ""
             }
            },
            "type": "scatterpolar"
           }
          ],
          "scatterpolargl": [
           {
            "marker": {
             "colorbar": {
              "outlinewidth": 0,
              "ticks": ""
             }
            },
            "type": "scatterpolargl"
           }
          ],
          "scatterternary": [
           {
            "marker": {
             "colorbar": {
              "outlinewidth": 0,
              "ticks": ""
             }
            },
            "type": "scatterternary"
           }
          ],
          "surface": [
           {
            "colorbar": {
             "outlinewidth": 0,
             "ticks": ""
            },
            "colorscale": [
             [
              0,
              "#0d0887"
             ],
             [
              0.1111111111111111,
              "#46039f"
             ],
             [
              0.2222222222222222,
              "#7201a8"
             ],
             [
              0.3333333333333333,
              "#9c179e"
             ],
             [
              0.4444444444444444,
              "#bd3786"
             ],
             [
              0.5555555555555556,
              "#d8576b"
             ],
             [
              0.6666666666666666,
              "#ed7953"
             ],
             [
              0.7777777777777778,
              "#fb9f3a"
             ],
             [
              0.8888888888888888,
              "#fdca26"
             ],
             [
              1,
              "#f0f921"
             ]
            ],
            "type": "surface"
           }
          ],
          "table": [
           {
            "cells": {
             "fill": {
              "color": "#EBF0F8"
             },
             "line": {
              "color": "white"
             }
            },
            "header": {
             "fill": {
              "color": "#C8D4E3"
             },
             "line": {
              "color": "white"
             }
            },
            "type": "table"
           }
          ]
         },
         "layout": {
          "annotationdefaults": {
           "arrowcolor": "#2a3f5f",
           "arrowhead": 0,
           "arrowwidth": 1
          },
          "autotypenumbers": "strict",
          "coloraxis": {
           "colorbar": {
            "outlinewidth": 0,
            "ticks": ""
           }
          },
          "colorscale": {
           "diverging": [
            [
             0,
             "#8e0152"
            ],
            [
             0.1,
             "#c51b7d"
            ],
            [
             0.2,
             "#de77ae"
            ],
            [
             0.3,
             "#f1b6da"
            ],
            [
             0.4,
             "#fde0ef"
            ],
            [
             0.5,
             "#f7f7f7"
            ],
            [
             0.6,
             "#e6f5d0"
            ],
            [
             0.7,
             "#b8e186"
            ],
            [
             0.8,
             "#7fbc41"
            ],
            [
             0.9,
             "#4d9221"
            ],
            [
             1,
             "#276419"
            ]
           ],
           "sequential": [
            [
             0,
             "#0d0887"
            ],
            [
             0.1111111111111111,
             "#46039f"
            ],
            [
             0.2222222222222222,
             "#7201a8"
            ],
            [
             0.3333333333333333,
             "#9c179e"
            ],
            [
             0.4444444444444444,
             "#bd3786"
            ],
            [
             0.5555555555555556,
             "#d8576b"
            ],
            [
             0.6666666666666666,
             "#ed7953"
            ],
            [
             0.7777777777777778,
             "#fb9f3a"
            ],
            [
             0.8888888888888888,
             "#fdca26"
            ],
            [
             1,
             "#f0f921"
            ]
           ],
           "sequentialminus": [
            [
             0,
             "#0d0887"
            ],
            [
             0.1111111111111111,
             "#46039f"
            ],
            [
             0.2222222222222222,
             "#7201a8"
            ],
            [
             0.3333333333333333,
             "#9c179e"
            ],
            [
             0.4444444444444444,
             "#bd3786"
            ],
            [
             0.5555555555555556,
             "#d8576b"
            ],
            [
             0.6666666666666666,
             "#ed7953"
            ],
            [
             0.7777777777777778,
             "#fb9f3a"
            ],
            [
             0.8888888888888888,
             "#fdca26"
            ],
            [
             1,
             "#f0f921"
            ]
           ]
          },
          "colorway": [
           "#636efa",
           "#EF553B",
           "#00cc96",
           "#ab63fa",
           "#FFA15A",
           "#19d3f3",
           "#FF6692",
           "#B6E880",
           "#FF97FF",
           "#FECB52"
          ],
          "font": {
           "color": "#2a3f5f"
          },
          "geo": {
           "bgcolor": "white",
           "lakecolor": "white",
           "landcolor": "#E5ECF6",
           "showlakes": true,
           "showland": true,
           "subunitcolor": "white"
          },
          "hoverlabel": {
           "align": "left"
          },
          "hovermode": "closest",
          "mapbox": {
           "style": "light"
          },
          "paper_bgcolor": "white",
          "plot_bgcolor": "#E5ECF6",
          "polar": {
           "angularaxis": {
            "gridcolor": "white",
            "linecolor": "white",
            "ticks": ""
           },
           "bgcolor": "#E5ECF6",
           "radialaxis": {
            "gridcolor": "white",
            "linecolor": "white",
            "ticks": ""
           }
          },
          "scene": {
           "xaxis": {
            "backgroundcolor": "#E5ECF6",
            "gridcolor": "white",
            "gridwidth": 2,
            "linecolor": "white",
            "showbackground": true,
            "ticks": "",
            "zerolinecolor": "white"
           },
           "yaxis": {
            "backgroundcolor": "#E5ECF6",
            "gridcolor": "white",
            "gridwidth": 2,
            "linecolor": "white",
            "showbackground": true,
            "ticks": "",
            "zerolinecolor": "white"
           },
           "zaxis": {
            "backgroundcolor": "#E5ECF6",
            "gridcolor": "white",
            "gridwidth": 2,
            "linecolor": "white",
            "showbackground": true,
            "ticks": "",
            "zerolinecolor": "white"
           }
          },
          "shapedefaults": {
           "line": {
            "color": "#2a3f5f"
           }
          },
          "ternary": {
           "aaxis": {
            "gridcolor": "white",
            "linecolor": "white",
            "ticks": ""
           },
           "baxis": {
            "gridcolor": "white",
            "linecolor": "white",
            "ticks": ""
           },
           "bgcolor": "#E5ECF6",
           "caxis": {
            "gridcolor": "white",
            "linecolor": "white",
            "ticks": ""
           }
          },
          "title": {
           "x": 0.05
          },
          "xaxis": {
           "automargin": true,
           "gridcolor": "white",
           "linecolor": "white",
           "ticks": "",
           "title": {
            "standoff": 15
           },
           "zerolinecolor": "white",
           "zerolinewidth": 2
          },
          "yaxis": {
           "automargin": true,
           "gridcolor": "white",
           "linecolor": "white",
           "ticks": "",
           "title": {
            "standoff": 15
           },
           "zerolinecolor": "white",
           "zerolinewidth": 2
          }
         }
        },
        "title": {
         "text": "Shannon Index (alpha diversity) distribution across the samples",
         "x": 0.5
        },
        "xaxis": {
         "title": {
          "text": "SMOKER"
         }
        },
        "yaxis": {
         "title": {
          "text": "Shannon index"
         }
        }
       }
      },
      "text/html": [
       "<div>                            <div id=\"c76a57b3-d517-48e9-98fb-511c47250fba\" class=\"plotly-graph-div\" style=\"height:525px; width:100%;\"></div>            <script type=\"text/javascript\">                require([\"plotly\"], function(Plotly) {                    window.PLOTLYENV=window.PLOTLYENV || {};                                    if (document.getElementById(\"c76a57b3-d517-48e9-98fb-511c47250fba\")) {                    Plotly.newPlot(                        \"c76a57b3-d517-48e9-98fb-511c47250fba\",                        [{\"boxpoints\":\"suspectedoutliers\",\"marker\":{\"color\":\"#A63A50\"},\"name\":\"yes\",\"text\":[\"SAMPLE_1\",\"SAMPLE_2\",\"SAMPLE_7\",\"SAMPLE_9\",\"SAMPLE_11\",\"SAMPLE_13\",\"SAMPLE_17\",\"SAMPLE_18\",\"SAMPLE_19\",\"SAMPLE_20\",\"SAMPLE_21\",\"SAMPLE_22\",\"SAMPLE_23\",\"SAMPLE_26\",\"SAMPLE_28\",\"SAMPLE_30\"],\"type\":\"box\",\"x\":[\"yes\",\"yes\",\"yes\",\"yes\",\"yes\",\"yes\",\"yes\",\"yes\",\"yes\",\"yes\",\"yes\",\"yes\",\"yes\",\"yes\",\"yes\",\"yes\"],\"y\":[2.4842342631066803,2.047949190308995,1.3571362632189208,1.551864434585437,1.418147734858096,2.673772418412297,2.6584771053232026,2.0006242800065377,2.524312583058247,2.213486376752813,2.244116046212962,1.054743636364336,2.1856592044134797,2.036021196150257,1.6015072946139441,1.9686010966518281]},{\"boxpoints\":\"suspectedoutliers\",\"marker\":{\"color\":\"#FFBF00\"},\"name\":\"no\",\"text\":[\"SAMPLE_3\",\"SAMPLE_4\",\"SAMPLE_5\",\"SAMPLE_6\",\"SAMPLE_8\",\"SAMPLE_10\",\"SAMPLE_12\",\"SAMPLE_14\",\"SAMPLE_15\",\"SAMPLE_16\",\"SAMPLE_24\",\"SAMPLE_25\",\"SAMPLE_27\",\"SAMPLE_29\"],\"type\":\"box\",\"x\":[\"no\",\"no\",\"no\",\"no\",\"no\",\"no\",\"no\",\"no\",\"no\",\"no\",\"no\",\"no\",\"no\",\"no\"],\"y\":[0.9352132471477983,2.493978818144836,1.7111438985442937,2.2521071381135394,1.7642384806820817,2.5352346580159284,1.1479737733923197,1.4153178511509603,1.6253259106328335,0.5751978144299456,1.2470466853837532,0.5571646149805558,0.7873117130271795,2.028884575346343]}],                        {\"template\":{\"data\":{\"bar\":[{\"error_x\":{\"color\":\"#2a3f5f\"},\"error_y\":{\"color\":\"#2a3f5f\"},\"marker\":{\"line\":{\"color\":\"#E5ECF6\",\"width\":0.5},\"pattern\":{\"fillmode\":\"overlay\",\"size\":10,\"solidity\":0.2}},\"type\":\"bar\"}],\"barpolar\":[{\"marker\":{\"line\":{\"color\":\"#E5ECF6\",\"width\":0.5},\"pattern\":{\"fillmode\":\"overlay\",\"size\":10,\"solidity\":0.2}},\"type\":\"barpolar\"}],\"carpet\":[{\"aaxis\":{\"endlinecolor\":\"#2a3f5f\",\"gridcolor\":\"white\",\"linecolor\":\"white\",\"minorgridcolor\":\"white\",\"startlinecolor\":\"#2a3f5f\"},\"baxis\":{\"endlinecolor\":\"#2a3f5f\",\"gridcolor\":\"white\",\"linecolor\":\"white\",\"minorgridcolor\":\"white\",\"startlinecolor\":\"#2a3f5f\"},\"type\":\"carpet\"}],\"choropleth\":[{\"colorbar\":{\"outlinewidth\":0,\"ticks\":\"\"},\"type\":\"choropleth\"}],\"contour\":[{\"colorbar\":{\"outlinewidth\":0,\"ticks\":\"\"},\"colorscale\":[[0.0,\"#0d0887\"],[0.1111111111111111,\"#46039f\"],[0.2222222222222222,\"#7201a8\"],[0.3333333333333333,\"#9c179e\"],[0.4444444444444444,\"#bd3786\"],[0.5555555555555556,\"#d8576b\"],[0.6666666666666666,\"#ed7953\"],[0.7777777777777778,\"#fb9f3a\"],[0.8888888888888888,\"#fdca26\"],[1.0,\"#f0f921\"]],\"type\":\"contour\"}],\"contourcarpet\":[{\"colorbar\":{\"outlinewidth\":0,\"ticks\":\"\"},\"type\":\"contourcarpet\"}],\"heatmap\":[{\"colorbar\":{\"outlinewidth\":0,\"ticks\":\"\"},\"colorscale\":[[0.0,\"#0d0887\"],[0.1111111111111111,\"#46039f\"],[0.2222222222222222,\"#7201a8\"],[0.3333333333333333,\"#9c179e\"],[0.4444444444444444,\"#bd3786\"],[0.5555555555555556,\"#d8576b\"],[0.6666666666666666,\"#ed7953\"],[0.7777777777777778,\"#fb9f3a\"],[0.8888888888888888,\"#fdca26\"],[1.0,\"#f0f921\"]],\"type\":\"heatmap\"}],\"heatmapgl\":[{\"colorbar\":{\"outlinewidth\":0,\"ticks\":\"\"},\"colorscale\":[[0.0,\"#0d0887\"],[0.1111111111111111,\"#46039f\"],[0.2222222222222222,\"#7201a8\"],[0.3333333333333333,\"#9c179e\"],[0.4444444444444444,\"#bd3786\"],[0.5555555555555556,\"#d8576b\"],[0.6666666666666666,\"#ed7953\"],[0.7777777777777778,\"#fb9f3a\"],[0.8888888888888888,\"#fdca26\"],[1.0,\"#f0f921\"]],\"type\":\"heatmapgl\"}],\"histogram\":[{\"marker\":{\"pattern\":{\"fillmode\":\"overlay\",\"size\":10,\"solidity\":0.2}},\"type\":\"histogram\"}],\"histogram2d\":[{\"colorbar\":{\"outlinewidth\":0,\"ticks\":\"\"},\"colorscale\":[[0.0,\"#0d0887\"],[0.1111111111111111,\"#46039f\"],[0.2222222222222222,\"#7201a8\"],[0.3333333333333333,\"#9c179e\"],[0.4444444444444444,\"#bd3786\"],[0.5555555555555556,\"#d8576b\"],[0.6666666666666666,\"#ed7953\"],[0.7777777777777778,\"#fb9f3a\"],[0.8888888888888888,\"#fdca26\"],[1.0,\"#f0f921\"]],\"type\":\"histogram2d\"}],\"histogram2dcontour\":[{\"colorbar\":{\"outlinewidth\":0,\"ticks\":\"\"},\"colorscale\":[[0.0,\"#0d0887\"],[0.1111111111111111,\"#46039f\"],[0.2222222222222222,\"#7201a8\"],[0.3333333333333333,\"#9c179e\"],[0.4444444444444444,\"#bd3786\"],[0.5555555555555556,\"#d8576b\"],[0.6666666666666666,\"#ed7953\"],[0.7777777777777778,\"#fb9f3a\"],[0.8888888888888888,\"#fdca26\"],[1.0,\"#f0f921\"]],\"type\":\"histogram2dcontour\"}],\"mesh3d\":[{\"colorbar\":{\"outlinewidth\":0,\"ticks\":\"\"},\"type\":\"mesh3d\"}],\"parcoords\":[{\"line\":{\"colorbar\":{\"outlinewidth\":0,\"ticks\":\"\"}},\"type\":\"parcoords\"}],\"pie\":[{\"automargin\":true,\"type\":\"pie\"}],\"scatter\":[{\"marker\":{\"colorbar\":{\"outlinewidth\":0,\"ticks\":\"\"}},\"type\":\"scatter\"}],\"scatter3d\":[{\"line\":{\"colorbar\":{\"outlinewidth\":0,\"ticks\":\"\"}},\"marker\":{\"colorbar\":{\"outlinewidth\":0,\"ticks\":\"\"}},\"type\":\"scatter3d\"}],\"scattercarpet\":[{\"marker\":{\"colorbar\":{\"outlinewidth\":0,\"ticks\":\"\"}},\"type\":\"scattercarpet\"}],\"scattergeo\":[{\"marker\":{\"colorbar\":{\"outlinewidth\":0,\"ticks\":\"\"}},\"type\":\"scattergeo\"}],\"scattergl\":[{\"marker\":{\"colorbar\":{\"outlinewidth\":0,\"ticks\":\"\"}},\"type\":\"scattergl\"}],\"scattermapbox\":[{\"marker\":{\"colorbar\":{\"outlinewidth\":0,\"ticks\":\"\"}},\"type\":\"scattermapbox\"}],\"scatterpolar\":[{\"marker\":{\"colorbar\":{\"outlinewidth\":0,\"ticks\":\"\"}},\"type\":\"scatterpolar\"}],\"scatterpolargl\":[{\"marker\":{\"colorbar\":{\"outlinewidth\":0,\"ticks\":\"\"}},\"type\":\"scatterpolargl\"}],\"scatterternary\":[{\"marker\":{\"colorbar\":{\"outlinewidth\":0,\"ticks\":\"\"}},\"type\":\"scatterternary\"}],\"surface\":[{\"colorbar\":{\"outlinewidth\":0,\"ticks\":\"\"},\"colorscale\":[[0.0,\"#0d0887\"],[0.1111111111111111,\"#46039f\"],[0.2222222222222222,\"#7201a8\"],[0.3333333333333333,\"#9c179e\"],[0.4444444444444444,\"#bd3786\"],[0.5555555555555556,\"#d8576b\"],[0.6666666666666666,\"#ed7953\"],[0.7777777777777778,\"#fb9f3a\"],[0.8888888888888888,\"#fdca26\"],[1.0,\"#f0f921\"]],\"type\":\"surface\"}],\"table\":[{\"cells\":{\"fill\":{\"color\":\"#EBF0F8\"},\"line\":{\"color\":\"white\"}},\"header\":{\"fill\":{\"color\":\"#C8D4E3\"},\"line\":{\"color\":\"white\"}},\"type\":\"table\"}]},\"layout\":{\"annotationdefaults\":{\"arrowcolor\":\"#2a3f5f\",\"arrowhead\":0,\"arrowwidth\":1},\"autotypenumbers\":\"strict\",\"coloraxis\":{\"colorbar\":{\"outlinewidth\":0,\"ticks\":\"\"}},\"colorscale\":{\"diverging\":[[0,\"#8e0152\"],[0.1,\"#c51b7d\"],[0.2,\"#de77ae\"],[0.3,\"#f1b6da\"],[0.4,\"#fde0ef\"],[0.5,\"#f7f7f7\"],[0.6,\"#e6f5d0\"],[0.7,\"#b8e186\"],[0.8,\"#7fbc41\"],[0.9,\"#4d9221\"],[1,\"#276419\"]],\"sequential\":[[0.0,\"#0d0887\"],[0.1111111111111111,\"#46039f\"],[0.2222222222222222,\"#7201a8\"],[0.3333333333333333,\"#9c179e\"],[0.4444444444444444,\"#bd3786\"],[0.5555555555555556,\"#d8576b\"],[0.6666666666666666,\"#ed7953\"],[0.7777777777777778,\"#fb9f3a\"],[0.8888888888888888,\"#fdca26\"],[1.0,\"#f0f921\"]],\"sequentialminus\":[[0.0,\"#0d0887\"],[0.1111111111111111,\"#46039f\"],[0.2222222222222222,\"#7201a8\"],[0.3333333333333333,\"#9c179e\"],[0.4444444444444444,\"#bd3786\"],[0.5555555555555556,\"#d8576b\"],[0.6666666666666666,\"#ed7953\"],[0.7777777777777778,\"#fb9f3a\"],[0.8888888888888888,\"#fdca26\"],[1.0,\"#f0f921\"]]},\"colorway\":[\"#636efa\",\"#EF553B\",\"#00cc96\",\"#ab63fa\",\"#FFA15A\",\"#19d3f3\",\"#FF6692\",\"#B6E880\",\"#FF97FF\",\"#FECB52\"],\"font\":{\"color\":\"#2a3f5f\"},\"geo\":{\"bgcolor\":\"white\",\"lakecolor\":\"white\",\"landcolor\":\"#E5ECF6\",\"showlakes\":true,\"showland\":true,\"subunitcolor\":\"white\"},\"hoverlabel\":{\"align\":\"left\"},\"hovermode\":\"closest\",\"mapbox\":{\"style\":\"light\"},\"paper_bgcolor\":\"white\",\"plot_bgcolor\":\"#E5ECF6\",\"polar\":{\"angularaxis\":{\"gridcolor\":\"white\",\"linecolor\":\"white\",\"ticks\":\"\"},\"bgcolor\":\"#E5ECF6\",\"radialaxis\":{\"gridcolor\":\"white\",\"linecolor\":\"white\",\"ticks\":\"\"}},\"scene\":{\"xaxis\":{\"backgroundcolor\":\"#E5ECF6\",\"gridcolor\":\"white\",\"gridwidth\":2,\"linecolor\":\"white\",\"showbackground\":true,\"ticks\":\"\",\"zerolinecolor\":\"white\"},\"yaxis\":{\"backgroundcolor\":\"#E5ECF6\",\"gridcolor\":\"white\",\"gridwidth\":2,\"linecolor\":\"white\",\"showbackground\":true,\"ticks\":\"\",\"zerolinecolor\":\"white\"},\"zaxis\":{\"backgroundcolor\":\"#E5ECF6\",\"gridcolor\":\"white\",\"gridwidth\":2,\"linecolor\":\"white\",\"showbackground\":true,\"ticks\":\"\",\"zerolinecolor\":\"white\"}},\"shapedefaults\":{\"line\":{\"color\":\"#2a3f5f\"}},\"ternary\":{\"aaxis\":{\"gridcolor\":\"white\",\"linecolor\":\"white\",\"ticks\":\"\"},\"baxis\":{\"gridcolor\":\"white\",\"linecolor\":\"white\",\"ticks\":\"\"},\"bgcolor\":\"#E5ECF6\",\"caxis\":{\"gridcolor\":\"white\",\"linecolor\":\"white\",\"ticks\":\"\"}},\"title\":{\"x\":0.05},\"xaxis\":{\"automargin\":true,\"gridcolor\":\"white\",\"linecolor\":\"white\",\"ticks\":\"\",\"title\":{\"standoff\":15},\"zerolinecolor\":\"white\",\"zerolinewidth\":2},\"yaxis\":{\"automargin\":true,\"gridcolor\":\"white\",\"linecolor\":\"white\",\"ticks\":\"\",\"title\":{\"standoff\":15},\"zerolinecolor\":\"white\",\"zerolinewidth\":2}}},\"title\":{\"text\":\"Shannon Index (alpha diversity) distribution across the samples\",\"x\":0.5},\"xaxis\":{\"title\":{\"text\":\"SMOKER\"}},\"yaxis\":{\"title\":{\"text\":\"Shannon index\"}}},                        {\"responsive\": true}                    ).then(function(){\n",
       "                            \n",
       "var gd = document.getElementById('c76a57b3-d517-48e9-98fb-511c47250fba');\n",
       "var x = new MutationObserver(function (mutations, observer) {{\n",
       "        var display = window.getComputedStyle(gd).display;\n",
       "        if (!display || display === 'none') {{\n",
       "            console.log([gd, 'removed!']);\n",
       "            Plotly.purge(gd);\n",
       "            observer.disconnect();\n",
       "        }}\n",
       "}});\n",
       "\n",
       "// Listen for the removal of the full notebook cells\n",
       "var notebookContainer = gd.closest('#notebook-container');\n",
       "if (notebookContainer) {{\n",
       "    x.observe(notebookContainer, {childList: true});\n",
       "}}\n",
       "\n",
       "// Listen for the clearing of the current output cell\n",
       "var outputEl = gd.closest('.output');\n",
       "if (outputEl) {{\n",
       "    x.observe(outputEl, {childList: true});\n",
       "}}\n",
       "\n",
       "                        })                };                });            </script>        </div>"
      ]
     },
     "metadata": {},
     "output_type": "display_data"
    },
    {
     "name": "stdout",
     "output_type": "stream",
     "text": [
      "Group1  Group2\n",
      "no      yes       0.053232\n",
      "dtype: float64\n"
     ]
    }
   ],
   "source": [
    "\"\"\"\n",
    "Alpha-Diversity (at species-level)\n",
    "\"\"\"\n",
    "\n",
    "from moonstone.analysis.diversity.alpha import ShannonIndex\n",
    "\n",
    "cdn_species = counts_dataframe_normalized.groupby(\"species\").sum()\n",
    "\n",
    "alpha_div_instance = ShannonIndex(cdn_species)\n",
    "alpha_div_instance.diversity_indexes.to_csv(f\"ShannonIndex.csv\")\n",
    "grouped_output = alpha_div_instance.analyse_groups(\n",
    "    metadata_df=metadata_dataframe, group_col=\"SMOKER\",\n",
    "    stats_test=\"mann_whitney_u\", correction_method=\"fdr_bh\",\n",
    "    boxpoints=\"suspectedoutliers\", structure_pval=\"series\", sym=False,\n",
    "    show_pval=False,\n",
    ")\n",
    "print(grouped_output[\"pval\"])"
   ]
  },
  {
   "cell_type": "code",
   "execution_count": 50,
   "id": "e454dec3",
   "metadata": {},
   "outputs": [
    {
     "name": "stderr",
     "output_type": "stream",
     "text": [
      "Less than 20 observations for group no - A in data.\n",
      "Less than 20 observations for group no - B in data.\n",
      "Less than 20 observations for group no - C in data.\n",
      "Less than 20 observations for group yes - A in data.\n",
      "Less than 20 observations for group yes - B in data.\n",
      "Less than 20 observations for group yes - C in data.\n"
     ]
    },
    {
     "data": {
      "application/vnd.plotly.v1+json": {
       "config": {
        "plotlyServerURL": "https://plot.ly"
       },
       "data": [
        {
         "boxpoints": "suspectedoutliers",
         "marker": {
          "color": "#A63A50"
         },
         "name": "A",
         "text": [
          "SAMPLE_1-SAMPLE_7",
          "SAMPLE_1-SAMPLE_9",
          "SAMPLE_1-SAMPLE_22",
          "SAMPLE_1-SAMPLE_26",
          "SAMPLE_1-SAMPLE_30",
          "SAMPLE_7-SAMPLE_9",
          "SAMPLE_7-SAMPLE_22",
          "SAMPLE_7-SAMPLE_26",
          "SAMPLE_7-SAMPLE_30",
          "SAMPLE_9-SAMPLE_22",
          "SAMPLE_9-SAMPLE_26",
          "SAMPLE_9-SAMPLE_30",
          "SAMPLE_22-SAMPLE_26",
          "SAMPLE_22-SAMPLE_30",
          "SAMPLE_26-SAMPLE_30",
          "SAMPLE_2-SAMPLE_18",
          "SAMPLE_2-SAMPLE_19",
          "SAMPLE_2-SAMPLE_23",
          "SAMPLE_18-SAMPLE_19",
          "SAMPLE_18-SAMPLE_23",
          "SAMPLE_19-SAMPLE_23",
          "SAMPLE_3-SAMPLE_10",
          "SAMPLE_3-SAMPLE_14",
          "SAMPLE_3-SAMPLE_15",
          "SAMPLE_3-SAMPLE_29",
          "SAMPLE_10-SAMPLE_14",
          "SAMPLE_10-SAMPLE_15",
          "SAMPLE_10-SAMPLE_29",
          "SAMPLE_14-SAMPLE_15",
          "SAMPLE_14-SAMPLE_29",
          "SAMPLE_15-SAMPLE_29",
          "SAMPLE_4-SAMPLE_6",
          "SAMPLE_4-SAMPLE_8",
          "SAMPLE_4-SAMPLE_24",
          "SAMPLE_4-SAMPLE_27",
          "SAMPLE_6-SAMPLE_8",
          "SAMPLE_6-SAMPLE_24",
          "SAMPLE_6-SAMPLE_27",
          "SAMPLE_8-SAMPLE_24",
          "SAMPLE_8-SAMPLE_27",
          "SAMPLE_24-SAMPLE_27",
          "SAMPLE_5-SAMPLE_12",
          "SAMPLE_5-SAMPLE_16",
          "SAMPLE_5-SAMPLE_25",
          "SAMPLE_12-SAMPLE_16",
          "SAMPLE_12-SAMPLE_25",
          "SAMPLE_16-SAMPLE_25",
          "SAMPLE_11-SAMPLE_13",
          "SAMPLE_11-SAMPLE_17",
          "SAMPLE_11-SAMPLE_20",
          "SAMPLE_11-SAMPLE_21",
          "SAMPLE_11-SAMPLE_28",
          "SAMPLE_13-SAMPLE_17",
          "SAMPLE_13-SAMPLE_20",
          "SAMPLE_13-SAMPLE_21",
          "SAMPLE_13-SAMPLE_28",
          "SAMPLE_17-SAMPLE_20",
          "SAMPLE_17-SAMPLE_21",
          "SAMPLE_17-SAMPLE_28",
          "SAMPLE_20-SAMPLE_21",
          "SAMPLE_20-SAMPLE_28",
          "SAMPLE_21-SAMPLE_28"
         ],
         "type": "box",
         "x": [
          "yes",
          "yes",
          "yes",
          "yes",
          "yes",
          "yes",
          "yes",
          "yes",
          "yes",
          "yes",
          "yes",
          "yes",
          "yes",
          "yes",
          "yes",
          "no",
          "no",
          "no",
          "no",
          "no",
          "no",
          "no",
          "no",
          "no",
          "no"
         ],
         "y": [
          0.7348671759760177,
          0.6108268545755573,
          0.6772120807215422,
          0.6889660121636417,
          0.5179201488880898,
          0.22086869101607903,
          0.31015597094512415,
          0.3815102984981304,
          0.6837356865417011,
          0.3739108145161686,
          0.36141171121350646,
          0.5840784613425042,
          0.5767943691652263,
          0.7176398052486067,
          0.40995622300844503,
          0.6549935173634182,
          0.38269042674085285,
          0.16477987155576684,
          0.5948644186125266,
          0.4954488406410149,
          0.6461305324763548,
          0.4295177787865777,
          0.3751015752556539,
          0.45231747778822695,
          0.4687760245478572
         ]
        },
        {
         "boxpoints": "suspectedoutliers",
         "marker": {
          "color": "#FFBF00"
         },
         "name": "C",
         "text": [
          "SAMPLE_1-SAMPLE_7",
          "SAMPLE_1-SAMPLE_9",
          "SAMPLE_1-SAMPLE_22",
          "SAMPLE_1-SAMPLE_26",
          "SAMPLE_1-SAMPLE_30",
          "SAMPLE_7-SAMPLE_9",
          "SAMPLE_7-SAMPLE_22",
          "SAMPLE_7-SAMPLE_26",
          "SAMPLE_7-SAMPLE_30",
          "SAMPLE_9-SAMPLE_22",
          "SAMPLE_9-SAMPLE_26",
          "SAMPLE_9-SAMPLE_30",
          "SAMPLE_22-SAMPLE_26",
          "SAMPLE_22-SAMPLE_30",
          "SAMPLE_26-SAMPLE_30",
          "SAMPLE_2-SAMPLE_18",
          "SAMPLE_2-SAMPLE_19",
          "SAMPLE_2-SAMPLE_23",
          "SAMPLE_18-SAMPLE_19",
          "SAMPLE_18-SAMPLE_23",
          "SAMPLE_19-SAMPLE_23",
          "SAMPLE_3-SAMPLE_10",
          "SAMPLE_3-SAMPLE_14",
          "SAMPLE_3-SAMPLE_15",
          "SAMPLE_3-SAMPLE_29",
          "SAMPLE_10-SAMPLE_14",
          "SAMPLE_10-SAMPLE_15",
          "SAMPLE_10-SAMPLE_29",
          "SAMPLE_14-SAMPLE_15",
          "SAMPLE_14-SAMPLE_29",
          "SAMPLE_15-SAMPLE_29",
          "SAMPLE_4-SAMPLE_6",
          "SAMPLE_4-SAMPLE_8",
          "SAMPLE_4-SAMPLE_24",
          "SAMPLE_4-SAMPLE_27",
          "SAMPLE_6-SAMPLE_8",
          "SAMPLE_6-SAMPLE_24",
          "SAMPLE_6-SAMPLE_27",
          "SAMPLE_8-SAMPLE_24",
          "SAMPLE_8-SAMPLE_27",
          "SAMPLE_24-SAMPLE_27",
          "SAMPLE_5-SAMPLE_12",
          "SAMPLE_5-SAMPLE_16",
          "SAMPLE_5-SAMPLE_25",
          "SAMPLE_12-SAMPLE_16",
          "SAMPLE_12-SAMPLE_25",
          "SAMPLE_16-SAMPLE_25",
          "SAMPLE_11-SAMPLE_13",
          "SAMPLE_11-SAMPLE_17",
          "SAMPLE_11-SAMPLE_20",
          "SAMPLE_11-SAMPLE_21",
          "SAMPLE_11-SAMPLE_28",
          "SAMPLE_13-SAMPLE_17",
          "SAMPLE_13-SAMPLE_20",
          "SAMPLE_13-SAMPLE_21",
          "SAMPLE_13-SAMPLE_28",
          "SAMPLE_17-SAMPLE_20",
          "SAMPLE_17-SAMPLE_21",
          "SAMPLE_17-SAMPLE_28",
          "SAMPLE_20-SAMPLE_21",
          "SAMPLE_20-SAMPLE_28",
          "SAMPLE_21-SAMPLE_28"
         ],
         "type": "box",
         "x": [
          "yes",
          "yes",
          "yes",
          "yes",
          "yes",
          "yes",
          "no",
          "no",
          "no",
          "no",
          "no",
          "no",
          "no",
          "no",
          "no",
          "no"
         ],
         "y": [
          0.6873180670833229,
          0.3888532775547384,
          0.583245661368671,
          0.41835480381211787,
          0.66601847685396,
          0.4808926544354401,
          0.2302367395322046,
          0.5255948810237951,
          0.7025408139167347,
          0.6449831077798361,
          0.5449073030302775,
          0.7567437508281231,
          0.6607821559851561,
          0.8196573931490543,
          0.37850358333974843,
          0.9340600942178008
         ]
        },
        {
         "boxpoints": "suspectedoutliers",
         "marker": {
          "color": "#68ace8"
         },
         "name": "B",
         "text": [
          "SAMPLE_1-SAMPLE_7",
          "SAMPLE_1-SAMPLE_9",
          "SAMPLE_1-SAMPLE_22",
          "SAMPLE_1-SAMPLE_26",
          "SAMPLE_1-SAMPLE_30",
          "SAMPLE_7-SAMPLE_9",
          "SAMPLE_7-SAMPLE_22",
          "SAMPLE_7-SAMPLE_26",
          "SAMPLE_7-SAMPLE_30",
          "SAMPLE_9-SAMPLE_22",
          "SAMPLE_9-SAMPLE_26",
          "SAMPLE_9-SAMPLE_30",
          "SAMPLE_22-SAMPLE_26",
          "SAMPLE_22-SAMPLE_30",
          "SAMPLE_26-SAMPLE_30",
          "SAMPLE_2-SAMPLE_18",
          "SAMPLE_2-SAMPLE_19",
          "SAMPLE_2-SAMPLE_23",
          "SAMPLE_18-SAMPLE_19",
          "SAMPLE_18-SAMPLE_23",
          "SAMPLE_19-SAMPLE_23",
          "SAMPLE_3-SAMPLE_10",
          "SAMPLE_3-SAMPLE_14",
          "SAMPLE_3-SAMPLE_15",
          "SAMPLE_3-SAMPLE_29",
          "SAMPLE_10-SAMPLE_14",
          "SAMPLE_10-SAMPLE_15",
          "SAMPLE_10-SAMPLE_29",
          "SAMPLE_14-SAMPLE_15",
          "SAMPLE_14-SAMPLE_29",
          "SAMPLE_15-SAMPLE_29",
          "SAMPLE_4-SAMPLE_6",
          "SAMPLE_4-SAMPLE_8",
          "SAMPLE_4-SAMPLE_24",
          "SAMPLE_4-SAMPLE_27",
          "SAMPLE_6-SAMPLE_8",
          "SAMPLE_6-SAMPLE_24",
          "SAMPLE_6-SAMPLE_27",
          "SAMPLE_8-SAMPLE_24",
          "SAMPLE_8-SAMPLE_27",
          "SAMPLE_24-SAMPLE_27",
          "SAMPLE_5-SAMPLE_12",
          "SAMPLE_5-SAMPLE_16",
          "SAMPLE_5-SAMPLE_25",
          "SAMPLE_12-SAMPLE_16",
          "SAMPLE_12-SAMPLE_25",
          "SAMPLE_16-SAMPLE_25",
          "SAMPLE_11-SAMPLE_13",
          "SAMPLE_11-SAMPLE_17",
          "SAMPLE_11-SAMPLE_20",
          "SAMPLE_11-SAMPLE_21",
          "SAMPLE_11-SAMPLE_28",
          "SAMPLE_13-SAMPLE_17",
          "SAMPLE_13-SAMPLE_20",
          "SAMPLE_13-SAMPLE_21",
          "SAMPLE_13-SAMPLE_28",
          "SAMPLE_17-SAMPLE_20",
          "SAMPLE_17-SAMPLE_21",
          "SAMPLE_17-SAMPLE_28",
          "SAMPLE_20-SAMPLE_21",
          "SAMPLE_20-SAMPLE_28",
          "SAMPLE_21-SAMPLE_28"
         ],
         "type": "box",
         "x": [
          "no",
          "no",
          "no",
          "no",
          "no",
          "no",
          "yes",
          "yes",
          "yes",
          "yes",
          "yes",
          "yes",
          "yes",
          "yes",
          "yes",
          "yes",
          "yes",
          "yes",
          "yes",
          "yes",
          "yes"
         ],
         "y": [
          0.257008807344915,
          0.38972025286771744,
          0.4537067385325344,
          0.2589574049613299,
          0.4183209958928693,
          0.20954788211490702,
          0.46158761394643527,
          0.5358703995749535,
          0.8138082820985144,
          0.4406805793554199,
          0.7083303888762826,
          0.21315051226432663,
          0.5369277615809538,
          0.19328403712700917,
          0.6284157688867616,
          0.481724691026663,
          0.38414205825060954,
          0.5517567542606441,
          0.6747916522049071,
          0.5402452355682941,
          0.6074415242617544
         ]
        }
       ],
       "layout": {
        "boxmode": "group",
        "legend": {
         "title": {
          "text": "GROUP"
         }
        },
        "template": {
         "data": {
          "bar": [
           {
            "error_x": {
             "color": "#2a3f5f"
            },
            "error_y": {
             "color": "#2a3f5f"
            },
            "marker": {
             "line": {
              "color": "#E5ECF6",
              "width": 0.5
             },
             "pattern": {
              "fillmode": "overlay",
              "size": 10,
              "solidity": 0.2
             }
            },
            "type": "bar"
           }
          ],
          "barpolar": [
           {
            "marker": {
             "line": {
              "color": "#E5ECF6",
              "width": 0.5
             },
             "pattern": {
              "fillmode": "overlay",
              "size": 10,
              "solidity": 0.2
             }
            },
            "type": "barpolar"
           }
          ],
          "carpet": [
           {
            "aaxis": {
             "endlinecolor": "#2a3f5f",
             "gridcolor": "white",
             "linecolor": "white",
             "minorgridcolor": "white",
             "startlinecolor": "#2a3f5f"
            },
            "baxis": {
             "endlinecolor": "#2a3f5f",
             "gridcolor": "white",
             "linecolor": "white",
             "minorgridcolor": "white",
             "startlinecolor": "#2a3f5f"
            },
            "type": "carpet"
           }
          ],
          "choropleth": [
           {
            "colorbar": {
             "outlinewidth": 0,
             "ticks": ""
            },
            "type": "choropleth"
           }
          ],
          "contour": [
           {
            "colorbar": {
             "outlinewidth": 0,
             "ticks": ""
            },
            "colorscale": [
             [
              0,
              "#0d0887"
             ],
             [
              0.1111111111111111,
              "#46039f"
             ],
             [
              0.2222222222222222,
              "#7201a8"
             ],
             [
              0.3333333333333333,
              "#9c179e"
             ],
             [
              0.4444444444444444,
              "#bd3786"
             ],
             [
              0.5555555555555556,
              "#d8576b"
             ],
             [
              0.6666666666666666,
              "#ed7953"
             ],
             [
              0.7777777777777778,
              "#fb9f3a"
             ],
             [
              0.8888888888888888,
              "#fdca26"
             ],
             [
              1,
              "#f0f921"
             ]
            ],
            "type": "contour"
           }
          ],
          "contourcarpet": [
           {
            "colorbar": {
             "outlinewidth": 0,
             "ticks": ""
            },
            "type": "contourcarpet"
           }
          ],
          "heatmap": [
           {
            "colorbar": {
             "outlinewidth": 0,
             "ticks": ""
            },
            "colorscale": [
             [
              0,
              "#0d0887"
             ],
             [
              0.1111111111111111,
              "#46039f"
             ],
             [
              0.2222222222222222,
              "#7201a8"
             ],
             [
              0.3333333333333333,
              "#9c179e"
             ],
             [
              0.4444444444444444,
              "#bd3786"
             ],
             [
              0.5555555555555556,
              "#d8576b"
             ],
             [
              0.6666666666666666,
              "#ed7953"
             ],
             [
              0.7777777777777778,
              "#fb9f3a"
             ],
             [
              0.8888888888888888,
              "#fdca26"
             ],
             [
              1,
              "#f0f921"
             ]
            ],
            "type": "heatmap"
           }
          ],
          "heatmapgl": [
           {
            "colorbar": {
             "outlinewidth": 0,
             "ticks": ""
            },
            "colorscale": [
             [
              0,
              "#0d0887"
             ],
             [
              0.1111111111111111,
              "#46039f"
             ],
             [
              0.2222222222222222,
              "#7201a8"
             ],
             [
              0.3333333333333333,
              "#9c179e"
             ],
             [
              0.4444444444444444,
              "#bd3786"
             ],
             [
              0.5555555555555556,
              "#d8576b"
             ],
             [
              0.6666666666666666,
              "#ed7953"
             ],
             [
              0.7777777777777778,
              "#fb9f3a"
             ],
             [
              0.8888888888888888,
              "#fdca26"
             ],
             [
              1,
              "#f0f921"
             ]
            ],
            "type": "heatmapgl"
           }
          ],
          "histogram": [
           {
            "marker": {
             "pattern": {
              "fillmode": "overlay",
              "size": 10,
              "solidity": 0.2
             }
            },
            "type": "histogram"
           }
          ],
          "histogram2d": [
           {
            "colorbar": {
             "outlinewidth": 0,
             "ticks": ""
            },
            "colorscale": [
             [
              0,
              "#0d0887"
             ],
             [
              0.1111111111111111,
              "#46039f"
             ],
             [
              0.2222222222222222,
              "#7201a8"
             ],
             [
              0.3333333333333333,
              "#9c179e"
             ],
             [
              0.4444444444444444,
              "#bd3786"
             ],
             [
              0.5555555555555556,
              "#d8576b"
             ],
             [
              0.6666666666666666,
              "#ed7953"
             ],
             [
              0.7777777777777778,
              "#fb9f3a"
             ],
             [
              0.8888888888888888,
              "#fdca26"
             ],
             [
              1,
              "#f0f921"
             ]
            ],
            "type": "histogram2d"
           }
          ],
          "histogram2dcontour": [
           {
            "colorbar": {
             "outlinewidth": 0,
             "ticks": ""
            },
            "colorscale": [
             [
              0,
              "#0d0887"
             ],
             [
              0.1111111111111111,
              "#46039f"
             ],
             [
              0.2222222222222222,
              "#7201a8"
             ],
             [
              0.3333333333333333,
              "#9c179e"
             ],
             [
              0.4444444444444444,
              "#bd3786"
             ],
             [
              0.5555555555555556,
              "#d8576b"
             ],
             [
              0.6666666666666666,
              "#ed7953"
             ],
             [
              0.7777777777777778,
              "#fb9f3a"
             ],
             [
              0.8888888888888888,
              "#fdca26"
             ],
             [
              1,
              "#f0f921"
             ]
            ],
            "type": "histogram2dcontour"
           }
          ],
          "mesh3d": [
           {
            "colorbar": {
             "outlinewidth": 0,
             "ticks": ""
            },
            "type": "mesh3d"
           }
          ],
          "parcoords": [
           {
            "line": {
             "colorbar": {
              "outlinewidth": 0,
              "ticks": ""
             }
            },
            "type": "parcoords"
           }
          ],
          "pie": [
           {
            "automargin": true,
            "type": "pie"
           }
          ],
          "scatter": [
           {
            "marker": {
             "colorbar": {
              "outlinewidth": 0,
              "ticks": ""
             }
            },
            "type": "scatter"
           }
          ],
          "scatter3d": [
           {
            "line": {
             "colorbar": {
              "outlinewidth": 0,
              "ticks": ""
             }
            },
            "marker": {
             "colorbar": {
              "outlinewidth": 0,
              "ticks": ""
             }
            },
            "type": "scatter3d"
           }
          ],
          "scattercarpet": [
           {
            "marker": {
             "colorbar": {
              "outlinewidth": 0,
              "ticks": ""
             }
            },
            "type": "scattercarpet"
           }
          ],
          "scattergeo": [
           {
            "marker": {
             "colorbar": {
              "outlinewidth": 0,
              "ticks": ""
             }
            },
            "type": "scattergeo"
           }
          ],
          "scattergl": [
           {
            "marker": {
             "colorbar": {
              "outlinewidth": 0,
              "ticks": ""
             }
            },
            "type": "scattergl"
           }
          ],
          "scattermapbox": [
           {
            "marker": {
             "colorbar": {
              "outlinewidth": 0,
              "ticks": ""
             }
            },
            "type": "scattermapbox"
           }
          ],
          "scatterpolar": [
           {
            "marker": {
             "colorbar": {
              "outlinewidth": 0,
              "ticks": ""
             }
            },
            "type": "scatterpolar"
           }
          ],
          "scatterpolargl": [
           {
            "marker": {
             "colorbar": {
              "outlinewidth": 0,
              "ticks": ""
             }
            },
            "type": "scatterpolargl"
           }
          ],
          "scatterternary": [
           {
            "marker": {
             "colorbar": {
              "outlinewidth": 0,
              "ticks": ""
             }
            },
            "type": "scatterternary"
           }
          ],
          "surface": [
           {
            "colorbar": {
             "outlinewidth": 0,
             "ticks": ""
            },
            "colorscale": [
             [
              0,
              "#0d0887"
             ],
             [
              0.1111111111111111,
              "#46039f"
             ],
             [
              0.2222222222222222,
              "#7201a8"
             ],
             [
              0.3333333333333333,
              "#9c179e"
             ],
             [
              0.4444444444444444,
              "#bd3786"
             ],
             [
              0.5555555555555556,
              "#d8576b"
             ],
             [
              0.6666666666666666,
              "#ed7953"
             ],
             [
              0.7777777777777778,
              "#fb9f3a"
             ],
             [
              0.8888888888888888,
              "#fdca26"
             ],
             [
              1,
              "#f0f921"
             ]
            ],
            "type": "surface"
           }
          ],
          "table": [
           {
            "cells": {
             "fill": {
              "color": "#EBF0F8"
             },
             "line": {
              "color": "white"
             }
            },
            "header": {
             "fill": {
              "color": "#C8D4E3"
             },
             "line": {
              "color": "white"
             }
            },
            "type": "table"
           }
          ]
         },
         "layout": {
          "annotationdefaults": {
           "arrowcolor": "#2a3f5f",
           "arrowhead": 0,
           "arrowwidth": 1
          },
          "autotypenumbers": "strict",
          "coloraxis": {
           "colorbar": {
            "outlinewidth": 0,
            "ticks": ""
           }
          },
          "colorscale": {
           "diverging": [
            [
             0,
             "#8e0152"
            ],
            [
             0.1,
             "#c51b7d"
            ],
            [
             0.2,
             "#de77ae"
            ],
            [
             0.3,
             "#f1b6da"
            ],
            [
             0.4,
             "#fde0ef"
            ],
            [
             0.5,
             "#f7f7f7"
            ],
            [
             0.6,
             "#e6f5d0"
            ],
            [
             0.7,
             "#b8e186"
            ],
            [
             0.8,
             "#7fbc41"
            ],
            [
             0.9,
             "#4d9221"
            ],
            [
             1,
             "#276419"
            ]
           ],
           "sequential": [
            [
             0,
             "#0d0887"
            ],
            [
             0.1111111111111111,
             "#46039f"
            ],
            [
             0.2222222222222222,
             "#7201a8"
            ],
            [
             0.3333333333333333,
             "#9c179e"
            ],
            [
             0.4444444444444444,
             "#bd3786"
            ],
            [
             0.5555555555555556,
             "#d8576b"
            ],
            [
             0.6666666666666666,
             "#ed7953"
            ],
            [
             0.7777777777777778,
             "#fb9f3a"
            ],
            [
             0.8888888888888888,
             "#fdca26"
            ],
            [
             1,
             "#f0f921"
            ]
           ],
           "sequentialminus": [
            [
             0,
             "#0d0887"
            ],
            [
             0.1111111111111111,
             "#46039f"
            ],
            [
             0.2222222222222222,
             "#7201a8"
            ],
            [
             0.3333333333333333,
             "#9c179e"
            ],
            [
             0.4444444444444444,
             "#bd3786"
            ],
            [
             0.5555555555555556,
             "#d8576b"
            ],
            [
             0.6666666666666666,
             "#ed7953"
            ],
            [
             0.7777777777777778,
             "#fb9f3a"
            ],
            [
             0.8888888888888888,
             "#fdca26"
            ],
            [
             1,
             "#f0f921"
            ]
           ]
          },
          "colorway": [
           "#636efa",
           "#EF553B",
           "#00cc96",
           "#ab63fa",
           "#FFA15A",
           "#19d3f3",
           "#FF6692",
           "#B6E880",
           "#FF97FF",
           "#FECB52"
          ],
          "font": {
           "color": "#2a3f5f"
          },
          "geo": {
           "bgcolor": "white",
           "lakecolor": "white",
           "landcolor": "#E5ECF6",
           "showlakes": true,
           "showland": true,
           "subunitcolor": "white"
          },
          "hoverlabel": {
           "align": "left"
          },
          "hovermode": "closest",
          "mapbox": {
           "style": "light"
          },
          "paper_bgcolor": "white",
          "plot_bgcolor": "#E5ECF6",
          "polar": {
           "angularaxis": {
            "gridcolor": "white",
            "linecolor": "white",
            "ticks": ""
           },
           "bgcolor": "#E5ECF6",
           "radialaxis": {
            "gridcolor": "white",
            "linecolor": "white",
            "ticks": ""
           }
          },
          "scene": {
           "xaxis": {
            "backgroundcolor": "#E5ECF6",
            "gridcolor": "white",
            "gridwidth": 2,
            "linecolor": "white",
            "showbackground": true,
            "ticks": "",
            "zerolinecolor": "white"
           },
           "yaxis": {
            "backgroundcolor": "#E5ECF6",
            "gridcolor": "white",
            "gridwidth": 2,
            "linecolor": "white",
            "showbackground": true,
            "ticks": "",
            "zerolinecolor": "white"
           },
           "zaxis": {
            "backgroundcolor": "#E5ECF6",
            "gridcolor": "white",
            "gridwidth": 2,
            "linecolor": "white",
            "showbackground": true,
            "ticks": "",
            "zerolinecolor": "white"
           }
          },
          "shapedefaults": {
           "line": {
            "color": "#2a3f5f"
           }
          },
          "ternary": {
           "aaxis": {
            "gridcolor": "white",
            "linecolor": "white",
            "ticks": ""
           },
           "baxis": {
            "gridcolor": "white",
            "linecolor": "white",
            "ticks": ""
           },
           "bgcolor": "#E5ECF6",
           "caxis": {
            "gridcolor": "white",
            "linecolor": "white",
            "ticks": ""
           }
          },
          "title": {
           "x": 0.05
          },
          "xaxis": {
           "automargin": true,
           "gridcolor": "white",
           "linecolor": "white",
           "ticks": "",
           "title": {
            "standoff": 15
           },
           "zerolinecolor": "white",
           "zerolinewidth": 2
          },
          "yaxis": {
           "automargin": true,
           "gridcolor": "white",
           "linecolor": "white",
           "ticks": "",
           "title": {
            "standoff": 15
           },
           "zerolinecolor": "white",
           "zerolinewidth": 2
          }
         }
        },
        "title": {
         "text": "Bray Curtis (beta diversity) distribution across the samples",
         "x": 0.5
        },
        "xaxis": {
         "title": {
          "text": "SMOKER"
         }
        },
        "yaxis": {
         "title": {
          "text": "Bray curtis"
         }
        }
       }
      },
      "text/html": [
       "<div>                            <div id=\"b0323d88-8d48-4856-ab90-e1e22f3a4e69\" class=\"plotly-graph-div\" style=\"height:525px; width:100%;\"></div>            <script type=\"text/javascript\">                require([\"plotly\"], function(Plotly) {                    window.PLOTLYENV=window.PLOTLYENV || {};                                    if (document.getElementById(\"b0323d88-8d48-4856-ab90-e1e22f3a4e69\")) {                    Plotly.newPlot(                        \"b0323d88-8d48-4856-ab90-e1e22f3a4e69\",                        [{\"boxpoints\":\"suspectedoutliers\",\"marker\":{\"color\":\"#A63A50\"},\"name\":\"A\",\"text\":[\"SAMPLE_1-SAMPLE_7\",\"SAMPLE_1-SAMPLE_9\",\"SAMPLE_1-SAMPLE_22\",\"SAMPLE_1-SAMPLE_26\",\"SAMPLE_1-SAMPLE_30\",\"SAMPLE_7-SAMPLE_9\",\"SAMPLE_7-SAMPLE_22\",\"SAMPLE_7-SAMPLE_26\",\"SAMPLE_7-SAMPLE_30\",\"SAMPLE_9-SAMPLE_22\",\"SAMPLE_9-SAMPLE_26\",\"SAMPLE_9-SAMPLE_30\",\"SAMPLE_22-SAMPLE_26\",\"SAMPLE_22-SAMPLE_30\",\"SAMPLE_26-SAMPLE_30\",\"SAMPLE_2-SAMPLE_18\",\"SAMPLE_2-SAMPLE_19\",\"SAMPLE_2-SAMPLE_23\",\"SAMPLE_18-SAMPLE_19\",\"SAMPLE_18-SAMPLE_23\",\"SAMPLE_19-SAMPLE_23\",\"SAMPLE_3-SAMPLE_10\",\"SAMPLE_3-SAMPLE_14\",\"SAMPLE_3-SAMPLE_15\",\"SAMPLE_3-SAMPLE_29\",\"SAMPLE_10-SAMPLE_14\",\"SAMPLE_10-SAMPLE_15\",\"SAMPLE_10-SAMPLE_29\",\"SAMPLE_14-SAMPLE_15\",\"SAMPLE_14-SAMPLE_29\",\"SAMPLE_15-SAMPLE_29\",\"SAMPLE_4-SAMPLE_6\",\"SAMPLE_4-SAMPLE_8\",\"SAMPLE_4-SAMPLE_24\",\"SAMPLE_4-SAMPLE_27\",\"SAMPLE_6-SAMPLE_8\",\"SAMPLE_6-SAMPLE_24\",\"SAMPLE_6-SAMPLE_27\",\"SAMPLE_8-SAMPLE_24\",\"SAMPLE_8-SAMPLE_27\",\"SAMPLE_24-SAMPLE_27\",\"SAMPLE_5-SAMPLE_12\",\"SAMPLE_5-SAMPLE_16\",\"SAMPLE_5-SAMPLE_25\",\"SAMPLE_12-SAMPLE_16\",\"SAMPLE_12-SAMPLE_25\",\"SAMPLE_16-SAMPLE_25\",\"SAMPLE_11-SAMPLE_13\",\"SAMPLE_11-SAMPLE_17\",\"SAMPLE_11-SAMPLE_20\",\"SAMPLE_11-SAMPLE_21\",\"SAMPLE_11-SAMPLE_28\",\"SAMPLE_13-SAMPLE_17\",\"SAMPLE_13-SAMPLE_20\",\"SAMPLE_13-SAMPLE_21\",\"SAMPLE_13-SAMPLE_28\",\"SAMPLE_17-SAMPLE_20\",\"SAMPLE_17-SAMPLE_21\",\"SAMPLE_17-SAMPLE_28\",\"SAMPLE_20-SAMPLE_21\",\"SAMPLE_20-SAMPLE_28\",\"SAMPLE_21-SAMPLE_28\"],\"type\":\"box\",\"x\":[\"yes\",\"yes\",\"yes\",\"yes\",\"yes\",\"yes\",\"yes\",\"yes\",\"yes\",\"yes\",\"yes\",\"yes\",\"yes\",\"yes\",\"yes\",\"no\",\"no\",\"no\",\"no\",\"no\",\"no\",\"no\",\"no\",\"no\",\"no\"],\"y\":[0.7348671759760177,0.6108268545755573,0.6772120807215422,0.6889660121636417,0.5179201488880898,0.22086869101607903,0.31015597094512415,0.3815102984981304,0.6837356865417011,0.3739108145161686,0.36141171121350646,0.5840784613425042,0.5767943691652263,0.7176398052486067,0.40995622300844503,0.6549935173634182,0.38269042674085285,0.16477987155576684,0.5948644186125266,0.4954488406410149,0.6461305324763548,0.4295177787865777,0.3751015752556539,0.45231747778822695,0.4687760245478572]},{\"boxpoints\":\"suspectedoutliers\",\"marker\":{\"color\":\"#FFBF00\"},\"name\":\"C\",\"text\":[\"SAMPLE_1-SAMPLE_7\",\"SAMPLE_1-SAMPLE_9\",\"SAMPLE_1-SAMPLE_22\",\"SAMPLE_1-SAMPLE_26\",\"SAMPLE_1-SAMPLE_30\",\"SAMPLE_7-SAMPLE_9\",\"SAMPLE_7-SAMPLE_22\",\"SAMPLE_7-SAMPLE_26\",\"SAMPLE_7-SAMPLE_30\",\"SAMPLE_9-SAMPLE_22\",\"SAMPLE_9-SAMPLE_26\",\"SAMPLE_9-SAMPLE_30\",\"SAMPLE_22-SAMPLE_26\",\"SAMPLE_22-SAMPLE_30\",\"SAMPLE_26-SAMPLE_30\",\"SAMPLE_2-SAMPLE_18\",\"SAMPLE_2-SAMPLE_19\",\"SAMPLE_2-SAMPLE_23\",\"SAMPLE_18-SAMPLE_19\",\"SAMPLE_18-SAMPLE_23\",\"SAMPLE_19-SAMPLE_23\",\"SAMPLE_3-SAMPLE_10\",\"SAMPLE_3-SAMPLE_14\",\"SAMPLE_3-SAMPLE_15\",\"SAMPLE_3-SAMPLE_29\",\"SAMPLE_10-SAMPLE_14\",\"SAMPLE_10-SAMPLE_15\",\"SAMPLE_10-SAMPLE_29\",\"SAMPLE_14-SAMPLE_15\",\"SAMPLE_14-SAMPLE_29\",\"SAMPLE_15-SAMPLE_29\",\"SAMPLE_4-SAMPLE_6\",\"SAMPLE_4-SAMPLE_8\",\"SAMPLE_4-SAMPLE_24\",\"SAMPLE_4-SAMPLE_27\",\"SAMPLE_6-SAMPLE_8\",\"SAMPLE_6-SAMPLE_24\",\"SAMPLE_6-SAMPLE_27\",\"SAMPLE_8-SAMPLE_24\",\"SAMPLE_8-SAMPLE_27\",\"SAMPLE_24-SAMPLE_27\",\"SAMPLE_5-SAMPLE_12\",\"SAMPLE_5-SAMPLE_16\",\"SAMPLE_5-SAMPLE_25\",\"SAMPLE_12-SAMPLE_16\",\"SAMPLE_12-SAMPLE_25\",\"SAMPLE_16-SAMPLE_25\",\"SAMPLE_11-SAMPLE_13\",\"SAMPLE_11-SAMPLE_17\",\"SAMPLE_11-SAMPLE_20\",\"SAMPLE_11-SAMPLE_21\",\"SAMPLE_11-SAMPLE_28\",\"SAMPLE_13-SAMPLE_17\",\"SAMPLE_13-SAMPLE_20\",\"SAMPLE_13-SAMPLE_21\",\"SAMPLE_13-SAMPLE_28\",\"SAMPLE_17-SAMPLE_20\",\"SAMPLE_17-SAMPLE_21\",\"SAMPLE_17-SAMPLE_28\",\"SAMPLE_20-SAMPLE_21\",\"SAMPLE_20-SAMPLE_28\",\"SAMPLE_21-SAMPLE_28\"],\"type\":\"box\",\"x\":[\"yes\",\"yes\",\"yes\",\"yes\",\"yes\",\"yes\",\"no\",\"no\",\"no\",\"no\",\"no\",\"no\",\"no\",\"no\",\"no\",\"no\"],\"y\":[0.6873180670833229,0.3888532775547384,0.583245661368671,0.41835480381211787,0.66601847685396,0.4808926544354401,0.2302367395322046,0.5255948810237951,0.7025408139167347,0.6449831077798361,0.5449073030302775,0.7567437508281231,0.6607821559851561,0.8196573931490543,0.37850358333974843,0.9340600942178008]},{\"boxpoints\":\"suspectedoutliers\",\"marker\":{\"color\":\"#68ace8\"},\"name\":\"B\",\"text\":[\"SAMPLE_1-SAMPLE_7\",\"SAMPLE_1-SAMPLE_9\",\"SAMPLE_1-SAMPLE_22\",\"SAMPLE_1-SAMPLE_26\",\"SAMPLE_1-SAMPLE_30\",\"SAMPLE_7-SAMPLE_9\",\"SAMPLE_7-SAMPLE_22\",\"SAMPLE_7-SAMPLE_26\",\"SAMPLE_7-SAMPLE_30\",\"SAMPLE_9-SAMPLE_22\",\"SAMPLE_9-SAMPLE_26\",\"SAMPLE_9-SAMPLE_30\",\"SAMPLE_22-SAMPLE_26\",\"SAMPLE_22-SAMPLE_30\",\"SAMPLE_26-SAMPLE_30\",\"SAMPLE_2-SAMPLE_18\",\"SAMPLE_2-SAMPLE_19\",\"SAMPLE_2-SAMPLE_23\",\"SAMPLE_18-SAMPLE_19\",\"SAMPLE_18-SAMPLE_23\",\"SAMPLE_19-SAMPLE_23\",\"SAMPLE_3-SAMPLE_10\",\"SAMPLE_3-SAMPLE_14\",\"SAMPLE_3-SAMPLE_15\",\"SAMPLE_3-SAMPLE_29\",\"SAMPLE_10-SAMPLE_14\",\"SAMPLE_10-SAMPLE_15\",\"SAMPLE_10-SAMPLE_29\",\"SAMPLE_14-SAMPLE_15\",\"SAMPLE_14-SAMPLE_29\",\"SAMPLE_15-SAMPLE_29\",\"SAMPLE_4-SAMPLE_6\",\"SAMPLE_4-SAMPLE_8\",\"SAMPLE_4-SAMPLE_24\",\"SAMPLE_4-SAMPLE_27\",\"SAMPLE_6-SAMPLE_8\",\"SAMPLE_6-SAMPLE_24\",\"SAMPLE_6-SAMPLE_27\",\"SAMPLE_8-SAMPLE_24\",\"SAMPLE_8-SAMPLE_27\",\"SAMPLE_24-SAMPLE_27\",\"SAMPLE_5-SAMPLE_12\",\"SAMPLE_5-SAMPLE_16\",\"SAMPLE_5-SAMPLE_25\",\"SAMPLE_12-SAMPLE_16\",\"SAMPLE_12-SAMPLE_25\",\"SAMPLE_16-SAMPLE_25\",\"SAMPLE_11-SAMPLE_13\",\"SAMPLE_11-SAMPLE_17\",\"SAMPLE_11-SAMPLE_20\",\"SAMPLE_11-SAMPLE_21\",\"SAMPLE_11-SAMPLE_28\",\"SAMPLE_13-SAMPLE_17\",\"SAMPLE_13-SAMPLE_20\",\"SAMPLE_13-SAMPLE_21\",\"SAMPLE_13-SAMPLE_28\",\"SAMPLE_17-SAMPLE_20\",\"SAMPLE_17-SAMPLE_21\",\"SAMPLE_17-SAMPLE_28\",\"SAMPLE_20-SAMPLE_21\",\"SAMPLE_20-SAMPLE_28\",\"SAMPLE_21-SAMPLE_28\"],\"type\":\"box\",\"x\":[\"no\",\"no\",\"no\",\"no\",\"no\",\"no\",\"yes\",\"yes\",\"yes\",\"yes\",\"yes\",\"yes\",\"yes\",\"yes\",\"yes\",\"yes\",\"yes\",\"yes\",\"yes\",\"yes\",\"yes\"],\"y\":[0.257008807344915,0.38972025286771744,0.4537067385325344,0.2589574049613299,0.4183209958928693,0.20954788211490702,0.46158761394643527,0.5358703995749535,0.8138082820985144,0.4406805793554199,0.7083303888762826,0.21315051226432663,0.5369277615809538,0.19328403712700917,0.6284157688867616,0.481724691026663,0.38414205825060954,0.5517567542606441,0.6747916522049071,0.5402452355682941,0.6074415242617544]}],                        {\"boxmode\":\"group\",\"legend\":{\"title\":{\"text\":\"GROUP\"}},\"template\":{\"data\":{\"bar\":[{\"error_x\":{\"color\":\"#2a3f5f\"},\"error_y\":{\"color\":\"#2a3f5f\"},\"marker\":{\"line\":{\"color\":\"#E5ECF6\",\"width\":0.5},\"pattern\":{\"fillmode\":\"overlay\",\"size\":10,\"solidity\":0.2}},\"type\":\"bar\"}],\"barpolar\":[{\"marker\":{\"line\":{\"color\":\"#E5ECF6\",\"width\":0.5},\"pattern\":{\"fillmode\":\"overlay\",\"size\":10,\"solidity\":0.2}},\"type\":\"barpolar\"}],\"carpet\":[{\"aaxis\":{\"endlinecolor\":\"#2a3f5f\",\"gridcolor\":\"white\",\"linecolor\":\"white\",\"minorgridcolor\":\"white\",\"startlinecolor\":\"#2a3f5f\"},\"baxis\":{\"endlinecolor\":\"#2a3f5f\",\"gridcolor\":\"white\",\"linecolor\":\"white\",\"minorgridcolor\":\"white\",\"startlinecolor\":\"#2a3f5f\"},\"type\":\"carpet\"}],\"choropleth\":[{\"colorbar\":{\"outlinewidth\":0,\"ticks\":\"\"},\"type\":\"choropleth\"}],\"contour\":[{\"colorbar\":{\"outlinewidth\":0,\"ticks\":\"\"},\"colorscale\":[[0.0,\"#0d0887\"],[0.1111111111111111,\"#46039f\"],[0.2222222222222222,\"#7201a8\"],[0.3333333333333333,\"#9c179e\"],[0.4444444444444444,\"#bd3786\"],[0.5555555555555556,\"#d8576b\"],[0.6666666666666666,\"#ed7953\"],[0.7777777777777778,\"#fb9f3a\"],[0.8888888888888888,\"#fdca26\"],[1.0,\"#f0f921\"]],\"type\":\"contour\"}],\"contourcarpet\":[{\"colorbar\":{\"outlinewidth\":0,\"ticks\":\"\"},\"type\":\"contourcarpet\"}],\"heatmap\":[{\"colorbar\":{\"outlinewidth\":0,\"ticks\":\"\"},\"colorscale\":[[0.0,\"#0d0887\"],[0.1111111111111111,\"#46039f\"],[0.2222222222222222,\"#7201a8\"],[0.3333333333333333,\"#9c179e\"],[0.4444444444444444,\"#bd3786\"],[0.5555555555555556,\"#d8576b\"],[0.6666666666666666,\"#ed7953\"],[0.7777777777777778,\"#fb9f3a\"],[0.8888888888888888,\"#fdca26\"],[1.0,\"#f0f921\"]],\"type\":\"heatmap\"}],\"heatmapgl\":[{\"colorbar\":{\"outlinewidth\":0,\"ticks\":\"\"},\"colorscale\":[[0.0,\"#0d0887\"],[0.1111111111111111,\"#46039f\"],[0.2222222222222222,\"#7201a8\"],[0.3333333333333333,\"#9c179e\"],[0.4444444444444444,\"#bd3786\"],[0.5555555555555556,\"#d8576b\"],[0.6666666666666666,\"#ed7953\"],[0.7777777777777778,\"#fb9f3a\"],[0.8888888888888888,\"#fdca26\"],[1.0,\"#f0f921\"]],\"type\":\"heatmapgl\"}],\"histogram\":[{\"marker\":{\"pattern\":{\"fillmode\":\"overlay\",\"size\":10,\"solidity\":0.2}},\"type\":\"histogram\"}],\"histogram2d\":[{\"colorbar\":{\"outlinewidth\":0,\"ticks\":\"\"},\"colorscale\":[[0.0,\"#0d0887\"],[0.1111111111111111,\"#46039f\"],[0.2222222222222222,\"#7201a8\"],[0.3333333333333333,\"#9c179e\"],[0.4444444444444444,\"#bd3786\"],[0.5555555555555556,\"#d8576b\"],[0.6666666666666666,\"#ed7953\"],[0.7777777777777778,\"#fb9f3a\"],[0.8888888888888888,\"#fdca26\"],[1.0,\"#f0f921\"]],\"type\":\"histogram2d\"}],\"histogram2dcontour\":[{\"colorbar\":{\"outlinewidth\":0,\"ticks\":\"\"},\"colorscale\":[[0.0,\"#0d0887\"],[0.1111111111111111,\"#46039f\"],[0.2222222222222222,\"#7201a8\"],[0.3333333333333333,\"#9c179e\"],[0.4444444444444444,\"#bd3786\"],[0.5555555555555556,\"#d8576b\"],[0.6666666666666666,\"#ed7953\"],[0.7777777777777778,\"#fb9f3a\"],[0.8888888888888888,\"#fdca26\"],[1.0,\"#f0f921\"]],\"type\":\"histogram2dcontour\"}],\"mesh3d\":[{\"colorbar\":{\"outlinewidth\":0,\"ticks\":\"\"},\"type\":\"mesh3d\"}],\"parcoords\":[{\"line\":{\"colorbar\":{\"outlinewidth\":0,\"ticks\":\"\"}},\"type\":\"parcoords\"}],\"pie\":[{\"automargin\":true,\"type\":\"pie\"}],\"scatter\":[{\"marker\":{\"colorbar\":{\"outlinewidth\":0,\"ticks\":\"\"}},\"type\":\"scatter\"}],\"scatter3d\":[{\"line\":{\"colorbar\":{\"outlinewidth\":0,\"ticks\":\"\"}},\"marker\":{\"colorbar\":{\"outlinewidth\":0,\"ticks\":\"\"}},\"type\":\"scatter3d\"}],\"scattercarpet\":[{\"marker\":{\"colorbar\":{\"outlinewidth\":0,\"ticks\":\"\"}},\"type\":\"scattercarpet\"}],\"scattergeo\":[{\"marker\":{\"colorbar\":{\"outlinewidth\":0,\"ticks\":\"\"}},\"type\":\"scattergeo\"}],\"scattergl\":[{\"marker\":{\"colorbar\":{\"outlinewidth\":0,\"ticks\":\"\"}},\"type\":\"scattergl\"}],\"scattermapbox\":[{\"marker\":{\"colorbar\":{\"outlinewidth\":0,\"ticks\":\"\"}},\"type\":\"scattermapbox\"}],\"scatterpolar\":[{\"marker\":{\"colorbar\":{\"outlinewidth\":0,\"ticks\":\"\"}},\"type\":\"scatterpolar\"}],\"scatterpolargl\":[{\"marker\":{\"colorbar\":{\"outlinewidth\":0,\"ticks\":\"\"}},\"type\":\"scatterpolargl\"}],\"scatterternary\":[{\"marker\":{\"colorbar\":{\"outlinewidth\":0,\"ticks\":\"\"}},\"type\":\"scatterternary\"}],\"surface\":[{\"colorbar\":{\"outlinewidth\":0,\"ticks\":\"\"},\"colorscale\":[[0.0,\"#0d0887\"],[0.1111111111111111,\"#46039f\"],[0.2222222222222222,\"#7201a8\"],[0.3333333333333333,\"#9c179e\"],[0.4444444444444444,\"#bd3786\"],[0.5555555555555556,\"#d8576b\"],[0.6666666666666666,\"#ed7953\"],[0.7777777777777778,\"#fb9f3a\"],[0.8888888888888888,\"#fdca26\"],[1.0,\"#f0f921\"]],\"type\":\"surface\"}],\"table\":[{\"cells\":{\"fill\":{\"color\":\"#EBF0F8\"},\"line\":{\"color\":\"white\"}},\"header\":{\"fill\":{\"color\":\"#C8D4E3\"},\"line\":{\"color\":\"white\"}},\"type\":\"table\"}]},\"layout\":{\"annotationdefaults\":{\"arrowcolor\":\"#2a3f5f\",\"arrowhead\":0,\"arrowwidth\":1},\"autotypenumbers\":\"strict\",\"coloraxis\":{\"colorbar\":{\"outlinewidth\":0,\"ticks\":\"\"}},\"colorscale\":{\"diverging\":[[0,\"#8e0152\"],[0.1,\"#c51b7d\"],[0.2,\"#de77ae\"],[0.3,\"#f1b6da\"],[0.4,\"#fde0ef\"],[0.5,\"#f7f7f7\"],[0.6,\"#e6f5d0\"],[0.7,\"#b8e186\"],[0.8,\"#7fbc41\"],[0.9,\"#4d9221\"],[1,\"#276419\"]],\"sequential\":[[0.0,\"#0d0887\"],[0.1111111111111111,\"#46039f\"],[0.2222222222222222,\"#7201a8\"],[0.3333333333333333,\"#9c179e\"],[0.4444444444444444,\"#bd3786\"],[0.5555555555555556,\"#d8576b\"],[0.6666666666666666,\"#ed7953\"],[0.7777777777777778,\"#fb9f3a\"],[0.8888888888888888,\"#fdca26\"],[1.0,\"#f0f921\"]],\"sequentialminus\":[[0.0,\"#0d0887\"],[0.1111111111111111,\"#46039f\"],[0.2222222222222222,\"#7201a8\"],[0.3333333333333333,\"#9c179e\"],[0.4444444444444444,\"#bd3786\"],[0.5555555555555556,\"#d8576b\"],[0.6666666666666666,\"#ed7953\"],[0.7777777777777778,\"#fb9f3a\"],[0.8888888888888888,\"#fdca26\"],[1.0,\"#f0f921\"]]},\"colorway\":[\"#636efa\",\"#EF553B\",\"#00cc96\",\"#ab63fa\",\"#FFA15A\",\"#19d3f3\",\"#FF6692\",\"#B6E880\",\"#FF97FF\",\"#FECB52\"],\"font\":{\"color\":\"#2a3f5f\"},\"geo\":{\"bgcolor\":\"white\",\"lakecolor\":\"white\",\"landcolor\":\"#E5ECF6\",\"showlakes\":true,\"showland\":true,\"subunitcolor\":\"white\"},\"hoverlabel\":{\"align\":\"left\"},\"hovermode\":\"closest\",\"mapbox\":{\"style\":\"light\"},\"paper_bgcolor\":\"white\",\"plot_bgcolor\":\"#E5ECF6\",\"polar\":{\"angularaxis\":{\"gridcolor\":\"white\",\"linecolor\":\"white\",\"ticks\":\"\"},\"bgcolor\":\"#E5ECF6\",\"radialaxis\":{\"gridcolor\":\"white\",\"linecolor\":\"white\",\"ticks\":\"\"}},\"scene\":{\"xaxis\":{\"backgroundcolor\":\"#E5ECF6\",\"gridcolor\":\"white\",\"gridwidth\":2,\"linecolor\":\"white\",\"showbackground\":true,\"ticks\":\"\",\"zerolinecolor\":\"white\"},\"yaxis\":{\"backgroundcolor\":\"#E5ECF6\",\"gridcolor\":\"white\",\"gridwidth\":2,\"linecolor\":\"white\",\"showbackground\":true,\"ticks\":\"\",\"zerolinecolor\":\"white\"},\"zaxis\":{\"backgroundcolor\":\"#E5ECF6\",\"gridcolor\":\"white\",\"gridwidth\":2,\"linecolor\":\"white\",\"showbackground\":true,\"ticks\":\"\",\"zerolinecolor\":\"white\"}},\"shapedefaults\":{\"line\":{\"color\":\"#2a3f5f\"}},\"ternary\":{\"aaxis\":{\"gridcolor\":\"white\",\"linecolor\":\"white\",\"ticks\":\"\"},\"baxis\":{\"gridcolor\":\"white\",\"linecolor\":\"white\",\"ticks\":\"\"},\"bgcolor\":\"#E5ECF6\",\"caxis\":{\"gridcolor\":\"white\",\"linecolor\":\"white\",\"ticks\":\"\"}},\"title\":{\"x\":0.05},\"xaxis\":{\"automargin\":true,\"gridcolor\":\"white\",\"linecolor\":\"white\",\"ticks\":\"\",\"title\":{\"standoff\":15},\"zerolinecolor\":\"white\",\"zerolinewidth\":2},\"yaxis\":{\"automargin\":true,\"gridcolor\":\"white\",\"linecolor\":\"white\",\"ticks\":\"\",\"title\":{\"standoff\":15},\"zerolinecolor\":\"white\",\"zerolinewidth\":2}}},\"title\":{\"text\":\"Bray Curtis (beta diversity) distribution across the samples\",\"x\":0.5},\"xaxis\":{\"title\":{\"text\":\"SMOKER\"}},\"yaxis\":{\"title\":{\"text\":\"Bray curtis\"}}},                        {\"responsive\": true}                    ).then(function(){\n",
       "                            \n",
       "var gd = document.getElementById('b0323d88-8d48-4856-ab90-e1e22f3a4e69');\n",
       "var x = new MutationObserver(function (mutations, observer) {{\n",
       "        var display = window.getComputedStyle(gd).display;\n",
       "        if (!display || display === 'none') {{\n",
       "            console.log([gd, 'removed!']);\n",
       "            Plotly.purge(gd);\n",
       "            observer.disconnect();\n",
       "        }}\n",
       "}});\n",
       "\n",
       "// Listen for the removal of the full notebook cells\n",
       "var notebookContainer = gd.closest('#notebook-container');\n",
       "if (notebookContainer) {{\n",
       "    x.observe(notebookContainer, {childList: true});\n",
       "}}\n",
       "\n",
       "// Listen for the clearing of the current output cell\n",
       "var outputEl = gd.closest('.output');\n",
       "if (outputEl) {{\n",
       "    x.observe(outputEl, {childList: true});\n",
       "}}\n",
       "\n",
       "                        })                };                });            </script>        </div>"
      ]
     },
     "metadata": {},
     "output_type": "display_data"
    },
    {
     "name": "stdout",
     "output_type": "stream",
     "text": [
      "Group1   Group2 \n",
      "no - A   no - B     0.233516\n",
      "         no - C     0.192066\n",
      "         yes - A    0.610093\n",
      "         yes - B    0.507999\n",
      "         yes - C    0.551449\n",
      "no - B   no - C     0.129870\n",
      "         yes - A    0.168205\n",
      "         yes - B    0.129870\n",
      "         yes - C    0.129870\n",
      "no - C   yes - A    0.436920\n",
      "         yes - B    0.373161\n",
      "         yes - C    0.583394\n",
      "yes - A  yes - B    0.969851\n",
      "         yes - C    0.969851\n",
      "yes - B  yes - C    0.969851\n",
      "dtype: float64\n"
     ]
    }
   ],
   "source": [
    "\"\"\"\n",
    "Beta-Diversity (at species-level)\n",
    "\"\"\"\n",
    "\n",
    "from moonstone.analysis.diversity.beta import BrayCurtis\n",
    "\n",
    "cdn_species = counts_dataframe_normalized.groupby(\"species\").sum()\n",
    "\n",
    "beta_div_instance = BrayCurtis(cdn_species)\n",
    "beta_div_instance.diversity_indexes.to_csv(f\"BrayCurtis.csv\")\n",
    "grouped_output = beta_div_instance.analyse_groups(\n",
    "    metadata_df=metadata_dataframe, group_col=\"SMOKER\", group_col2=\"GROUP\",\n",
    "    stats_test=\"mann_whitney_u\", correction_method=\"fdr_bh\",\n",
    "    boxpoints=\"suspectedoutliers\", structure_pval=\"series\", sym=False,\n",
    "    show_pval=False,\n",
    ")\n",
    "print(grouped_output[\"pval\"])"
   ]
  },
  {
   "cell_type": "markdown",
   "id": "96ad6666",
   "metadata": {},
   "source": [
    "# Machine-Learning Classification"
   ]
  },
  {
   "cell_type": "code",
   "execution_count": 55,
   "id": "985cdc36",
   "metadata": {},
   "outputs": [],
   "source": [
    "from moonstone.analysis.classify import ML\n",
    "\n",
    "ML_instance = ML(counts_dataframe_normalized, metadata_dataframe, \"moonstone_tuto_outdir\")"
   ]
  },
  {
   "cell_type": "code",
   "execution_count": 57,
   "id": "35559fe5",
   "metadata": {},
   "outputs": [
    {
     "ename": "ValueError",
     "evalue": "cannot join with no overlapping index names",
     "output_type": "error",
     "traceback": [
      "\u001b[0;31m---------------------------------------------------------------------------\u001b[0m",
      "\u001b[0;31mValueError\u001b[0m                                Traceback (most recent call last)",
      "\u001b[0;32m/tmp/ipykernel_8630/1184117103.py\u001b[0m in \u001b[0;36m<module>\u001b[0;34m\u001b[0m\n\u001b[1;32m      1\u001b[0m \u001b[0;31m# SVM = Support Vector Machine\u001b[0m\u001b[0;34m\u001b[0m\u001b[0;34m\u001b[0m\u001b[0;34m\u001b[0m\u001b[0m\n\u001b[1;32m      2\u001b[0m \u001b[0;31m# ROC = Receiver Operating Characteristic\u001b[0m\u001b[0;34m\u001b[0m\u001b[0;34m\u001b[0m\u001b[0;34m\u001b[0m\u001b[0m\n\u001b[0;32m----> 3\u001b[0;31m \u001b[0mML_instance\u001b[0m\u001b[0;34m.\u001b[0m\u001b[0msvm\u001b[0m\u001b[0;34m(\u001b[0m\u001b[0;34m\"SMOKER\"\u001b[0m\u001b[0;34m)\u001b[0m\u001b[0;34m\u001b[0m\u001b[0;34m\u001b[0m\u001b[0m\n\u001b[0m",
      "\u001b[0;32m~/Git_repositories/GitHub/moonstone/moonstone/analysis/classify.py\u001b[0m in \u001b[0;36msvm\u001b[0;34m(self, variable)\u001b[0m\n\u001b[1;32m     27\u001b[0m         \u001b[0;31m# Collect metadata and count data in a single DataFrame\u001b[0m\u001b[0;34m\u001b[0m\u001b[0;34m\u001b[0m\u001b[0;34m\u001b[0m\u001b[0m\n\u001b[1;32m     28\u001b[0m         \u001b[0mmerger\u001b[0m \u001b[0;34m=\u001b[0m \u001b[0mMergeDF\u001b[0m\u001b[0;34m(\u001b[0m\u001b[0mself\u001b[0m\u001b[0;34m.\u001b[0m\u001b[0mcountfile\u001b[0m\u001b[0;34m,\u001b[0m \u001b[0mself\u001b[0m\u001b[0;34m.\u001b[0m\u001b[0mmetadata\u001b[0m\u001b[0;34m,\u001b[0m \u001b[0mvariable\u001b[0m\u001b[0;34m)\u001b[0m\u001b[0;34m\u001b[0m\u001b[0;34m\u001b[0m\u001b[0m\n\u001b[0;32m---> 29\u001b[0;31m         \u001b[0mdf_final\u001b[0m \u001b[0;34m=\u001b[0m \u001b[0mmerger\u001b[0m\u001b[0;34m.\u001b[0m\u001b[0mmerged_df\u001b[0m\u001b[0;34m\u001b[0m\u001b[0;34m\u001b[0m\u001b[0m\n\u001b[0m\u001b[1;32m     30\u001b[0m \u001b[0;34m\u001b[0m\u001b[0m\n\u001b[1;32m     31\u001b[0m         \u001b[0;31m# Setup the features and labels\u001b[0m\u001b[0;34m\u001b[0m\u001b[0;34m\u001b[0m\u001b[0;34m\u001b[0m\u001b[0m\n",
      "\u001b[0;32m~/Git_repositories/GitHub/moonstone/moonstone/utils/df_merge.py\u001b[0m in \u001b[0;36mmerged_df\u001b[0;34m(self)\u001b[0m\n\u001b[1;32m     39\u001b[0m     \u001b[0;32mdef\u001b[0m \u001b[0mmerged_df\u001b[0m\u001b[0;34m(\u001b[0m\u001b[0mself\u001b[0m\u001b[0;34m)\u001b[0m\u001b[0;34m:\u001b[0m\u001b[0;34m\u001b[0m\u001b[0;34m\u001b[0m\u001b[0m\n\u001b[1;32m     40\u001b[0m         \u001b[0;32mif\u001b[0m \u001b[0mgetattr\u001b[0m\u001b[0;34m(\u001b[0m\u001b[0mself\u001b[0m\u001b[0;34m,\u001b[0m \u001b[0;34m\"_merged_df\"\u001b[0m\u001b[0;34m,\u001b[0m \u001b[0;32mNone\u001b[0m\u001b[0;34m)\u001b[0m \u001b[0;32mis\u001b[0m \u001b[0;32mNone\u001b[0m\u001b[0;34m:\u001b[0m\u001b[0;34m\u001b[0m\u001b[0;34m\u001b[0m\u001b[0m\n\u001b[0;32m---> 41\u001b[0;31m             \u001b[0mself\u001b[0m\u001b[0;34m.\u001b[0m\u001b[0m_merged_df\u001b[0m \u001b[0;34m=\u001b[0m \u001b[0mself\u001b[0m\u001b[0;34m.\u001b[0m\u001b[0mmerge\u001b[0m\u001b[0;34m(\u001b[0m\u001b[0;34m)\u001b[0m\u001b[0;34m\u001b[0m\u001b[0;34m\u001b[0m\u001b[0m\n\u001b[0m\u001b[1;32m     42\u001b[0m         \u001b[0;32mreturn\u001b[0m \u001b[0mself\u001b[0m\u001b[0;34m.\u001b[0m\u001b[0m_merged_df\u001b[0m\u001b[0;34m\u001b[0m\u001b[0;34m\u001b[0m\u001b[0m\n",
      "\u001b[0;32m~/Git_repositories/GitHub/moonstone/moonstone/utils/df_merge.py\u001b[0m in \u001b[0;36mmerge\u001b[0;34m(self)\u001b[0m\n\u001b[1;32m     32\u001b[0m             \u001b[0mlogger\u001b[0m\u001b[0;34m.\u001b[0m\u001b[0minfo\u001b[0m\u001b[0;34m(\u001b[0m\u001b[0;34mf' Indexes reset. Count Index={type(self.dc.index)}, Metadata Index={type(self.dm.index)}'\u001b[0m\u001b[0;34m)\u001b[0m\u001b[0;34m\u001b[0m\u001b[0;34m\u001b[0m\u001b[0m\n\u001b[1;32m     33\u001b[0m \u001b[0;34m\u001b[0m\u001b[0m\n\u001b[0;32m---> 34\u001b[0;31m         \u001b[0mdf\u001b[0m \u001b[0;34m=\u001b[0m \u001b[0mpd\u001b[0m\u001b[0;34m.\u001b[0m\u001b[0mmerge\u001b[0m\u001b[0;34m(\u001b[0m\u001b[0mself\u001b[0m\u001b[0;34m.\u001b[0m\u001b[0mdm\u001b[0m\u001b[0;34m[\u001b[0m\u001b[0mself\u001b[0m\u001b[0;34m.\u001b[0m\u001b[0mvariable\u001b[0m\u001b[0;34m]\u001b[0m\u001b[0;34m,\u001b[0m \u001b[0mself\u001b[0m\u001b[0;34m.\u001b[0m\u001b[0mdc\u001b[0m\u001b[0;34m,\u001b[0m \u001b[0mleft_index\u001b[0m\u001b[0;34m=\u001b[0m\u001b[0;32mTrue\u001b[0m\u001b[0;34m,\u001b[0m \u001b[0mright_index\u001b[0m\u001b[0;34m=\u001b[0m\u001b[0;32mTrue\u001b[0m\u001b[0;34m)\u001b[0m\u001b[0;34m\u001b[0m\u001b[0;34m\u001b[0m\u001b[0m\n\u001b[0m\u001b[1;32m     35\u001b[0m         \u001b[0mlogger\u001b[0m\u001b[0;34m.\u001b[0m\u001b[0minfo\u001b[0m\u001b[0;34m(\u001b[0m\u001b[0;34m'Merge function completed. Returning merged data frame.'\u001b[0m\u001b[0;34m)\u001b[0m\u001b[0;34m\u001b[0m\u001b[0;34m\u001b[0m\u001b[0m\n\u001b[1;32m     36\u001b[0m         \u001b[0;32mreturn\u001b[0m \u001b[0mdf\u001b[0m\u001b[0;34m\u001b[0m\u001b[0;34m\u001b[0m\u001b[0m\n",
      "\u001b[0;32m~/miniconda3/envs/ipynb-env/lib/python3.7/site-packages/pandas/core/reshape/merge.py\u001b[0m in \u001b[0;36mmerge\u001b[0;34m(left, right, how, on, left_on, right_on, left_index, right_index, sort, suffixes, copy, indicator, validate)\u001b[0m\n\u001b[1;32m     86\u001b[0m         \u001b[0mvalidate\u001b[0m\u001b[0;34m=\u001b[0m\u001b[0mvalidate\u001b[0m\u001b[0;34m,\u001b[0m\u001b[0;34m\u001b[0m\u001b[0;34m\u001b[0m\u001b[0m\n\u001b[1;32m     87\u001b[0m     )\n\u001b[0;32m---> 88\u001b[0;31m     \u001b[0;32mreturn\u001b[0m \u001b[0mop\u001b[0m\u001b[0;34m.\u001b[0m\u001b[0mget_result\u001b[0m\u001b[0;34m(\u001b[0m\u001b[0;34m)\u001b[0m\u001b[0;34m\u001b[0m\u001b[0;34m\u001b[0m\u001b[0m\n\u001b[0m\u001b[1;32m     89\u001b[0m \u001b[0;34m\u001b[0m\u001b[0m\n\u001b[1;32m     90\u001b[0m \u001b[0;34m\u001b[0m\u001b[0m\n",
      "\u001b[0;32m~/miniconda3/envs/ipynb-env/lib/python3.7/site-packages/pandas/core/reshape/merge.py\u001b[0m in \u001b[0;36mget_result\u001b[0;34m(self)\u001b[0m\n\u001b[1;32m    641\u001b[0m             \u001b[0mself\u001b[0m\u001b[0;34m.\u001b[0m\u001b[0mleft\u001b[0m\u001b[0;34m,\u001b[0m \u001b[0mself\u001b[0m\u001b[0;34m.\u001b[0m\u001b[0mright\u001b[0m \u001b[0;34m=\u001b[0m \u001b[0mself\u001b[0m\u001b[0;34m.\u001b[0m\u001b[0m_indicator_pre_merge\u001b[0m\u001b[0;34m(\u001b[0m\u001b[0mself\u001b[0m\u001b[0;34m.\u001b[0m\u001b[0mleft\u001b[0m\u001b[0;34m,\u001b[0m \u001b[0mself\u001b[0m\u001b[0;34m.\u001b[0m\u001b[0mright\u001b[0m\u001b[0;34m)\u001b[0m\u001b[0;34m\u001b[0m\u001b[0;34m\u001b[0m\u001b[0m\n\u001b[1;32m    642\u001b[0m \u001b[0;34m\u001b[0m\u001b[0m\n\u001b[0;32m--> 643\u001b[0;31m         \u001b[0mjoin_index\u001b[0m\u001b[0;34m,\u001b[0m \u001b[0mleft_indexer\u001b[0m\u001b[0;34m,\u001b[0m \u001b[0mright_indexer\u001b[0m \u001b[0;34m=\u001b[0m \u001b[0mself\u001b[0m\u001b[0;34m.\u001b[0m\u001b[0m_get_join_info\u001b[0m\u001b[0;34m(\u001b[0m\u001b[0;34m)\u001b[0m\u001b[0;34m\u001b[0m\u001b[0;34m\u001b[0m\u001b[0m\n\u001b[0m\u001b[1;32m    644\u001b[0m \u001b[0;34m\u001b[0m\u001b[0m\n\u001b[1;32m    645\u001b[0m         \u001b[0mldata\u001b[0m\u001b[0;34m,\u001b[0m \u001b[0mrdata\u001b[0m \u001b[0;34m=\u001b[0m \u001b[0mself\u001b[0m\u001b[0;34m.\u001b[0m\u001b[0mleft\u001b[0m\u001b[0;34m.\u001b[0m\u001b[0m_data\u001b[0m\u001b[0;34m,\u001b[0m \u001b[0mself\u001b[0m\u001b[0;34m.\u001b[0m\u001b[0mright\u001b[0m\u001b[0;34m.\u001b[0m\u001b[0m_data\u001b[0m\u001b[0;34m\u001b[0m\u001b[0;34m\u001b[0m\u001b[0m\n",
      "\u001b[0;32m~/miniconda3/envs/ipynb-env/lib/python3.7/site-packages/pandas/core/reshape/merge.py\u001b[0m in \u001b[0;36m_get_join_info\u001b[0;34m(self)\u001b[0m\n\u001b[1;32m    848\u001b[0m         \u001b[0;32mif\u001b[0m \u001b[0mself\u001b[0m\u001b[0;34m.\u001b[0m\u001b[0mleft_index\u001b[0m \u001b[0;32mand\u001b[0m \u001b[0mself\u001b[0m\u001b[0;34m.\u001b[0m\u001b[0mright_index\u001b[0m \u001b[0;32mand\u001b[0m \u001b[0mself\u001b[0m\u001b[0;34m.\u001b[0m\u001b[0mhow\u001b[0m \u001b[0;34m!=\u001b[0m \u001b[0;34m\"asof\"\u001b[0m\u001b[0;34m:\u001b[0m\u001b[0;34m\u001b[0m\u001b[0;34m\u001b[0m\u001b[0m\n\u001b[1;32m    849\u001b[0m             join_index, left_indexer, right_indexer = left_ax.join(\n\u001b[0;32m--> 850\u001b[0;31m                 \u001b[0mright_ax\u001b[0m\u001b[0;34m,\u001b[0m \u001b[0mhow\u001b[0m\u001b[0;34m=\u001b[0m\u001b[0mself\u001b[0m\u001b[0;34m.\u001b[0m\u001b[0mhow\u001b[0m\u001b[0;34m,\u001b[0m \u001b[0mreturn_indexers\u001b[0m\u001b[0;34m=\u001b[0m\u001b[0;32mTrue\u001b[0m\u001b[0;34m,\u001b[0m \u001b[0msort\u001b[0m\u001b[0;34m=\u001b[0m\u001b[0mself\u001b[0m\u001b[0;34m.\u001b[0m\u001b[0msort\u001b[0m\u001b[0;34m\u001b[0m\u001b[0;34m\u001b[0m\u001b[0m\n\u001b[0m\u001b[1;32m    851\u001b[0m             )\n\u001b[1;32m    852\u001b[0m         \u001b[0;32melif\u001b[0m \u001b[0mself\u001b[0m\u001b[0;34m.\u001b[0m\u001b[0mright_index\u001b[0m \u001b[0;32mand\u001b[0m \u001b[0mself\u001b[0m\u001b[0;34m.\u001b[0m\u001b[0mhow\u001b[0m \u001b[0;34m==\u001b[0m \u001b[0;34m\"left\"\u001b[0m\u001b[0;34m:\u001b[0m\u001b[0;34m\u001b[0m\u001b[0;34m\u001b[0m\u001b[0m\n",
      "\u001b[0;32m~/miniconda3/envs/ipynb-env/lib/python3.7/site-packages/pandas/core/indexes/base.py\u001b[0m in \u001b[0;36mjoin\u001b[0;34m(self, other, how, level, return_indexers, sort)\u001b[0m\n\u001b[1;32m   3255\u001b[0m                 \u001b[0;32mpass\u001b[0m\u001b[0;34m\u001b[0m\u001b[0;34m\u001b[0m\u001b[0m\n\u001b[1;32m   3256\u001b[0m             \u001b[0;32melse\u001b[0m\u001b[0;34m:\u001b[0m\u001b[0;34m\u001b[0m\u001b[0;34m\u001b[0m\u001b[0m\n\u001b[0;32m-> 3257\u001b[0;31m                 \u001b[0;32mreturn\u001b[0m \u001b[0mself\u001b[0m\u001b[0;34m.\u001b[0m\u001b[0m_join_multi\u001b[0m\u001b[0;34m(\u001b[0m\u001b[0mother\u001b[0m\u001b[0;34m,\u001b[0m \u001b[0mhow\u001b[0m\u001b[0;34m=\u001b[0m\u001b[0mhow\u001b[0m\u001b[0;34m,\u001b[0m \u001b[0mreturn_indexers\u001b[0m\u001b[0;34m=\u001b[0m\u001b[0mreturn_indexers\u001b[0m\u001b[0;34m)\u001b[0m\u001b[0;34m\u001b[0m\u001b[0;34m\u001b[0m\u001b[0m\n\u001b[0m\u001b[1;32m   3258\u001b[0m \u001b[0;34m\u001b[0m\u001b[0m\n\u001b[1;32m   3259\u001b[0m         \u001b[0;31m# join on the level\u001b[0m\u001b[0;34m\u001b[0m\u001b[0;34m\u001b[0m\u001b[0;34m\u001b[0m\u001b[0m\n",
      "\u001b[0;32m~/miniconda3/envs/ipynb-env/lib/python3.7/site-packages/pandas/core/indexes/base.py\u001b[0m in \u001b[0;36m_join_multi\u001b[0;34m(self, other, how, return_indexers)\u001b[0m\n\u001b[1;32m   3359\u001b[0m         \u001b[0;31m# need at least 1 in common\u001b[0m\u001b[0;34m\u001b[0m\u001b[0;34m\u001b[0m\u001b[0;34m\u001b[0m\u001b[0m\n\u001b[1;32m   3360\u001b[0m         \u001b[0;32mif\u001b[0m \u001b[0;32mnot\u001b[0m \u001b[0moverlap\u001b[0m\u001b[0;34m:\u001b[0m\u001b[0;34m\u001b[0m\u001b[0;34m\u001b[0m\u001b[0m\n\u001b[0;32m-> 3361\u001b[0;31m             \u001b[0;32mraise\u001b[0m \u001b[0mValueError\u001b[0m\u001b[0;34m(\u001b[0m\u001b[0;34m\"cannot join with no overlapping index names\"\u001b[0m\u001b[0;34m)\u001b[0m\u001b[0;34m\u001b[0m\u001b[0;34m\u001b[0m\u001b[0m\n\u001b[0m\u001b[1;32m   3362\u001b[0m \u001b[0;34m\u001b[0m\u001b[0m\n\u001b[1;32m   3363\u001b[0m         \u001b[0mself_is_mi\u001b[0m \u001b[0;34m=\u001b[0m \u001b[0misinstance\u001b[0m\u001b[0;34m(\u001b[0m\u001b[0mself\u001b[0m\u001b[0;34m,\u001b[0m \u001b[0mMultiIndex\u001b[0m\u001b[0;34m)\u001b[0m\u001b[0;34m\u001b[0m\u001b[0;34m\u001b[0m\u001b[0m\n",
      "\u001b[0;31mValueError\u001b[0m: cannot join with no overlapping index names"
     ]
    }
   ],
   "source": [
    "# SVM = Support Vector Machine\n",
    "# ROC = Receiver Operating Characteristic\n",
    "ML_instance.svm(\"SMOKER\")"
   ]
  },
  {
   "cell_type": "code",
   "execution_count": null,
   "id": "e76d474d",
   "metadata": {},
   "outputs": [],
   "source": []
  }
 ],
 "metadata": {
  "kernelspec": {
   "display_name": "Python 3 (ipykernel)",
   "language": "python",
   "name": "python3"
  },
  "language_info": {
   "codemirror_mode": {
    "name": "ipython",
    "version": 3
   },
   "file_extension": ".py",
   "mimetype": "text/x-python",
   "name": "python",
   "nbconvert_exporter": "python",
   "pygments_lexer": "ipython3",
   "version": "3.7.11"
  }
 },
 "nbformat": 4,
 "nbformat_minor": 5
}
