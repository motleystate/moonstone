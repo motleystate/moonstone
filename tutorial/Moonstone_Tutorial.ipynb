{
 "cells": [
  {
   "cell_type": "markdown",
   "id": "db5192d0",
   "metadata": {},
   "source": [
    "# Data Preparation\n",
    "\n",
    "### Counts data"
   ]
  },
  {
   "cell_type": "code",
   "execution_count": 1,
   "id": "b1b81902",
   "metadata": {},
   "outputs": [],
   "source": [
    "from moonstone.parsers.counts.taxonomy import SunbeamKraken2Parser\n",
    "\n",
    "\n",
    "krakenfile = \"moonstone_tuto_kraken2_file.tsv\"\n",
    "parser = SunbeamKraken2Parser(krakenfile)\n",
    "counts_dataframe = parser.dataframe.drop('NCBI_taxonomy_ID', axis=1)"
   ]
  },
  {
   "cell_type": "code",
   "execution_count": 2,
   "id": "55879613",
   "metadata": {},
   "outputs": [
    {
     "data": {
      "text/html": [
       "<div>\n",
       "<style scoped>\n",
       "    .dataframe tbody tr th:only-of-type {\n",
       "        vertical-align: middle;\n",
       "    }\n",
       "\n",
       "    .dataframe tbody tr th {\n",
       "        vertical-align: top;\n",
       "    }\n",
       "\n",
       "    .dataframe thead th {\n",
       "        text-align: right;\n",
       "    }\n",
       "</style>\n",
       "<table border=\"1\" class=\"dataframe\">\n",
       "  <thead>\n",
       "    <tr style=\"text-align: right;\">\n",
       "      <th></th>\n",
       "      <th></th>\n",
       "      <th></th>\n",
       "      <th></th>\n",
       "      <th></th>\n",
       "      <th></th>\n",
       "      <th></th>\n",
       "      <th>SAMPLE_1</th>\n",
       "      <th>SAMPLE_2</th>\n",
       "      <th>SAMPLE_3</th>\n",
       "      <th>SAMPLE_4</th>\n",
       "      <th>SAMPLE_5</th>\n",
       "      <th>SAMPLE_6</th>\n",
       "      <th>SAMPLE_7</th>\n",
       "      <th>SAMPLE_8</th>\n",
       "      <th>SAMPLE_9</th>\n",
       "      <th>SAMPLE_10</th>\n",
       "    </tr>\n",
       "    <tr>\n",
       "      <th>kingdom</th>\n",
       "      <th>phylum</th>\n",
       "      <th>class</th>\n",
       "      <th>order</th>\n",
       "      <th>family</th>\n",
       "      <th>genus</th>\n",
       "      <th>species</th>\n",
       "      <th></th>\n",
       "      <th></th>\n",
       "      <th></th>\n",
       "      <th></th>\n",
       "      <th></th>\n",
       "      <th></th>\n",
       "      <th></th>\n",
       "      <th></th>\n",
       "      <th></th>\n",
       "      <th></th>\n",
       "    </tr>\n",
       "  </thead>\n",
       "  <tbody>\n",
       "    <tr>\n",
       "      <th rowspan=\"8\" valign=\"top\">Bacteria</th>\n",
       "      <th>Bacteria (kingdom)</th>\n",
       "      <th>Bacteria (kingdom)</th>\n",
       "      <th>Bacteria (kingdom)</th>\n",
       "      <th>Bacteria (kingdom)</th>\n",
       "      <th>Bacteria (kingdom)</th>\n",
       "      <th>Bacteria (kingdom)</th>\n",
       "      <td>8.5</td>\n",
       "      <td>6.0</td>\n",
       "      <td>52.8</td>\n",
       "      <td>1.1</td>\n",
       "      <td>4.2</td>\n",
       "      <td>9.9</td>\n",
       "      <td>5.5</td>\n",
       "      <td>3.0</td>\n",
       "      <td>7.8</td>\n",
       "      <td>6.1</td>\n",
       "    </tr>\n",
       "    <tr>\n",
       "      <th>Actinobacteria</th>\n",
       "      <th>Actinomycetia</th>\n",
       "      <th>Bifidobacteriales</th>\n",
       "      <th>Bifidobacteriaceae</th>\n",
       "      <th>Gardnerella</th>\n",
       "      <th>Gardnerella_vaginalis</th>\n",
       "      <td>27.9</td>\n",
       "      <td>2.9</td>\n",
       "      <td>0.0</td>\n",
       "      <td>22.0</td>\n",
       "      <td>2.8</td>\n",
       "      <td>21.5</td>\n",
       "      <td>0.0</td>\n",
       "      <td>25.5</td>\n",
       "      <td>7.3</td>\n",
       "      <td>23.0</td>\n",
       "    </tr>\n",
       "    <tr>\n",
       "      <th rowspan=\"3\" valign=\"top\">Firmicutes</th>\n",
       "      <th rowspan=\"3\" valign=\"top\">Bacilli</th>\n",
       "      <th rowspan=\"3\" valign=\"top\">Lactobacillales</th>\n",
       "      <th>Enterococcaceae</th>\n",
       "      <th>Enterococcus</th>\n",
       "      <th>Enterococcus_faecalis</th>\n",
       "      <td>6.1</td>\n",
       "      <td>4.8</td>\n",
       "      <td>0.0</td>\n",
       "      <td>3.0</td>\n",
       "      <td>3.1</td>\n",
       "      <td>0.0</td>\n",
       "      <td>0.0</td>\n",
       "      <td>0.0</td>\n",
       "      <td>0.0</td>\n",
       "      <td>0.0</td>\n",
       "    </tr>\n",
       "    <tr>\n",
       "      <th rowspan=\"2\" valign=\"top\">Lactobacillaceae</th>\n",
       "      <th rowspan=\"2\" valign=\"top\">Lactobacillus</th>\n",
       "      <th>Lactobacillus (genus)</th>\n",
       "      <td>9.8</td>\n",
       "      <td>9.1</td>\n",
       "      <td>19.2</td>\n",
       "      <td>6.7</td>\n",
       "      <td>0.0</td>\n",
       "      <td>7.0</td>\n",
       "      <td>3.2</td>\n",
       "      <td>0.0</td>\n",
       "      <td>2.8</td>\n",
       "      <td>8.3</td>\n",
       "    </tr>\n",
       "    <tr>\n",
       "      <th>Lactobacillus_crispatus</th>\n",
       "      <td>8.5</td>\n",
       "      <td>53.6</td>\n",
       "      <td>894.0</td>\n",
       "      <td>14.6</td>\n",
       "      <td>42.0</td>\n",
       "      <td>18.0</td>\n",
       "      <td>78.1</td>\n",
       "      <td>0.0</td>\n",
       "      <td>58.2</td>\n",
       "      <td>16.1</td>\n",
       "    </tr>\n",
       "    <tr>\n",
       "      <th rowspan=\"3\" valign=\"top\">Proteobacteria</th>\n",
       "      <th>Gammaproteobacteria</th>\n",
       "      <th>Enterobacterales</th>\n",
       "      <th>Enterobacteriaceae</th>\n",
       "      <th>Escherichia</th>\n",
       "      <th>Escherichia_coli</th>\n",
       "      <td>6.3</td>\n",
       "      <td>14.0</td>\n",
       "      <td>56.4</td>\n",
       "      <td>6.0</td>\n",
       "      <td>11.1</td>\n",
       "      <td>12.3</td>\n",
       "      <td>7.0</td>\n",
       "      <td>7.8</td>\n",
       "      <td>2.8</td>\n",
       "      <td>8.6</td>\n",
       "    </tr>\n",
       "    <tr>\n",
       "      <th>Betaproteobacteria</th>\n",
       "      <th>Neisseriales</th>\n",
       "      <th>Neisseriaceae</th>\n",
       "      <th>Neisseria</th>\n",
       "      <th>Neisseria_animalis</th>\n",
       "      <td>0.7</td>\n",
       "      <td>0.0</td>\n",
       "      <td>0.0</td>\n",
       "      <td>1.9</td>\n",
       "      <td>0.0</td>\n",
       "      <td>0.0</td>\n",
       "      <td>5.0</td>\n",
       "      <td>5.1</td>\n",
       "      <td>0.0</td>\n",
       "      <td>2.7</td>\n",
       "    </tr>\n",
       "    <tr>\n",
       "      <th>Gammaproteobacteria</th>\n",
       "      <th>Pseudomonadales</th>\n",
       "      <th>Pseudomonadaceae</th>\n",
       "      <th>Pseudomonas</th>\n",
       "      <th>Pseudomonas_monteilii</th>\n",
       "      <td>1.6</td>\n",
       "      <td>5.3</td>\n",
       "      <td>40.8</td>\n",
       "      <td>5.5</td>\n",
       "      <td>3.2</td>\n",
       "      <td>0.4</td>\n",
       "      <td>4.5</td>\n",
       "      <td>2.6</td>\n",
       "      <td>4.7</td>\n",
       "      <td>6.3</td>\n",
       "    </tr>\n",
       "  </tbody>\n",
       "</table>\n",
       "</div>"
      ],
      "text/plain": [
       "                                                                                                                                  SAMPLE_1  \\\n",
       "kingdom  phylum             class               order              family             genus              species                             \n",
       "Bacteria Bacteria (kingdom) Bacteria (kingdom)  Bacteria (kingdom) Bacteria (kingdom) Bacteria (kingdom) Bacteria (kingdom)            8.5   \n",
       "         Actinobacteria     Actinomycetia       Bifidobacteriales  Bifidobacteriaceae Gardnerella        Gardnerella_vaginalis        27.9   \n",
       "         Firmicutes         Bacilli             Lactobacillales    Enterococcaceae    Enterococcus       Enterococcus_faecalis         6.1   \n",
       "                                                                   Lactobacillaceae   Lactobacillus      Lactobacillus (genus)         9.8   \n",
       "                                                                                                         Lactobacillus_crispatus       8.5   \n",
       "         Proteobacteria     Gammaproteobacteria Enterobacterales   Enterobacteriaceae Escherichia        Escherichia_coli              6.3   \n",
       "                            Betaproteobacteria  Neisseriales       Neisseriaceae      Neisseria          Neisseria_animalis            0.7   \n",
       "                            Gammaproteobacteria Pseudomonadales    Pseudomonadaceae   Pseudomonas        Pseudomonas_monteilii         1.6   \n",
       "\n",
       "                                                                                                                                  SAMPLE_2  \\\n",
       "kingdom  phylum             class               order              family             genus              species                             \n",
       "Bacteria Bacteria (kingdom) Bacteria (kingdom)  Bacteria (kingdom) Bacteria (kingdom) Bacteria (kingdom) Bacteria (kingdom)            6.0   \n",
       "         Actinobacteria     Actinomycetia       Bifidobacteriales  Bifidobacteriaceae Gardnerella        Gardnerella_vaginalis         2.9   \n",
       "         Firmicutes         Bacilli             Lactobacillales    Enterococcaceae    Enterococcus       Enterococcus_faecalis         4.8   \n",
       "                                                                   Lactobacillaceae   Lactobacillus      Lactobacillus (genus)         9.1   \n",
       "                                                                                                         Lactobacillus_crispatus      53.6   \n",
       "         Proteobacteria     Gammaproteobacteria Enterobacterales   Enterobacteriaceae Escherichia        Escherichia_coli             14.0   \n",
       "                            Betaproteobacteria  Neisseriales       Neisseriaceae      Neisseria          Neisseria_animalis            0.0   \n",
       "                            Gammaproteobacteria Pseudomonadales    Pseudomonadaceae   Pseudomonas        Pseudomonas_monteilii         5.3   \n",
       "\n",
       "                                                                                                                                  SAMPLE_3  \\\n",
       "kingdom  phylum             class               order              family             genus              species                             \n",
       "Bacteria Bacteria (kingdom) Bacteria (kingdom)  Bacteria (kingdom) Bacteria (kingdom) Bacteria (kingdom) Bacteria (kingdom)           52.8   \n",
       "         Actinobacteria     Actinomycetia       Bifidobacteriales  Bifidobacteriaceae Gardnerella        Gardnerella_vaginalis         0.0   \n",
       "         Firmicutes         Bacilli             Lactobacillales    Enterococcaceae    Enterococcus       Enterococcus_faecalis         0.0   \n",
       "                                                                   Lactobacillaceae   Lactobacillus      Lactobacillus (genus)        19.2   \n",
       "                                                                                                         Lactobacillus_crispatus     894.0   \n",
       "         Proteobacteria     Gammaproteobacteria Enterobacterales   Enterobacteriaceae Escherichia        Escherichia_coli             56.4   \n",
       "                            Betaproteobacteria  Neisseriales       Neisseriaceae      Neisseria          Neisseria_animalis            0.0   \n",
       "                            Gammaproteobacteria Pseudomonadales    Pseudomonadaceae   Pseudomonas        Pseudomonas_monteilii        40.8   \n",
       "\n",
       "                                                                                                                                  SAMPLE_4  \\\n",
       "kingdom  phylum             class               order              family             genus              species                             \n",
       "Bacteria Bacteria (kingdom) Bacteria (kingdom)  Bacteria (kingdom) Bacteria (kingdom) Bacteria (kingdom) Bacteria (kingdom)            1.1   \n",
       "         Actinobacteria     Actinomycetia       Bifidobacteriales  Bifidobacteriaceae Gardnerella        Gardnerella_vaginalis        22.0   \n",
       "         Firmicutes         Bacilli             Lactobacillales    Enterococcaceae    Enterococcus       Enterococcus_faecalis         3.0   \n",
       "                                                                   Lactobacillaceae   Lactobacillus      Lactobacillus (genus)         6.7   \n",
       "                                                                                                         Lactobacillus_crispatus      14.6   \n",
       "         Proteobacteria     Gammaproteobacteria Enterobacterales   Enterobacteriaceae Escherichia        Escherichia_coli              6.0   \n",
       "                            Betaproteobacteria  Neisseriales       Neisseriaceae      Neisseria          Neisseria_animalis            1.9   \n",
       "                            Gammaproteobacteria Pseudomonadales    Pseudomonadaceae   Pseudomonas        Pseudomonas_monteilii         5.5   \n",
       "\n",
       "                                                                                                                                  SAMPLE_5  \\\n",
       "kingdom  phylum             class               order              family             genus              species                             \n",
       "Bacteria Bacteria (kingdom) Bacteria (kingdom)  Bacteria (kingdom) Bacteria (kingdom) Bacteria (kingdom) Bacteria (kingdom)            4.2   \n",
       "         Actinobacteria     Actinomycetia       Bifidobacteriales  Bifidobacteriaceae Gardnerella        Gardnerella_vaginalis         2.8   \n",
       "         Firmicutes         Bacilli             Lactobacillales    Enterococcaceae    Enterococcus       Enterococcus_faecalis         3.1   \n",
       "                                                                   Lactobacillaceae   Lactobacillus      Lactobacillus (genus)         0.0   \n",
       "                                                                                                         Lactobacillus_crispatus      42.0   \n",
       "         Proteobacteria     Gammaproteobacteria Enterobacterales   Enterobacteriaceae Escherichia        Escherichia_coli             11.1   \n",
       "                            Betaproteobacteria  Neisseriales       Neisseriaceae      Neisseria          Neisseria_animalis            0.0   \n",
       "                            Gammaproteobacteria Pseudomonadales    Pseudomonadaceae   Pseudomonas        Pseudomonas_monteilii         3.2   \n",
       "\n",
       "                                                                                                                                  SAMPLE_6  \\\n",
       "kingdom  phylum             class               order              family             genus              species                             \n",
       "Bacteria Bacteria (kingdom) Bacteria (kingdom)  Bacteria (kingdom) Bacteria (kingdom) Bacteria (kingdom) Bacteria (kingdom)            9.9   \n",
       "         Actinobacteria     Actinomycetia       Bifidobacteriales  Bifidobacteriaceae Gardnerella        Gardnerella_vaginalis        21.5   \n",
       "         Firmicutes         Bacilli             Lactobacillales    Enterococcaceae    Enterococcus       Enterococcus_faecalis         0.0   \n",
       "                                                                   Lactobacillaceae   Lactobacillus      Lactobacillus (genus)         7.0   \n",
       "                                                                                                         Lactobacillus_crispatus      18.0   \n",
       "         Proteobacteria     Gammaproteobacteria Enterobacterales   Enterobacteriaceae Escherichia        Escherichia_coli             12.3   \n",
       "                            Betaproteobacteria  Neisseriales       Neisseriaceae      Neisseria          Neisseria_animalis            0.0   \n",
       "                            Gammaproteobacteria Pseudomonadales    Pseudomonadaceae   Pseudomonas        Pseudomonas_monteilii         0.4   \n",
       "\n",
       "                                                                                                                                  SAMPLE_7  \\\n",
       "kingdom  phylum             class               order              family             genus              species                             \n",
       "Bacteria Bacteria (kingdom) Bacteria (kingdom)  Bacteria (kingdom) Bacteria (kingdom) Bacteria (kingdom) Bacteria (kingdom)            5.5   \n",
       "         Actinobacteria     Actinomycetia       Bifidobacteriales  Bifidobacteriaceae Gardnerella        Gardnerella_vaginalis         0.0   \n",
       "         Firmicutes         Bacilli             Lactobacillales    Enterococcaceae    Enterococcus       Enterococcus_faecalis         0.0   \n",
       "                                                                   Lactobacillaceae   Lactobacillus      Lactobacillus (genus)         3.2   \n",
       "                                                                                                         Lactobacillus_crispatus      78.1   \n",
       "         Proteobacteria     Gammaproteobacteria Enterobacterales   Enterobacteriaceae Escherichia        Escherichia_coli              7.0   \n",
       "                            Betaproteobacteria  Neisseriales       Neisseriaceae      Neisseria          Neisseria_animalis            5.0   \n",
       "                            Gammaproteobacteria Pseudomonadales    Pseudomonadaceae   Pseudomonas        Pseudomonas_monteilii         4.5   \n",
       "\n",
       "                                                                                                                                  SAMPLE_8  \\\n",
       "kingdom  phylum             class               order              family             genus              species                             \n",
       "Bacteria Bacteria (kingdom) Bacteria (kingdom)  Bacteria (kingdom) Bacteria (kingdom) Bacteria (kingdom) Bacteria (kingdom)            3.0   \n",
       "         Actinobacteria     Actinomycetia       Bifidobacteriales  Bifidobacteriaceae Gardnerella        Gardnerella_vaginalis        25.5   \n",
       "         Firmicutes         Bacilli             Lactobacillales    Enterococcaceae    Enterococcus       Enterococcus_faecalis         0.0   \n",
       "                                                                   Lactobacillaceae   Lactobacillus      Lactobacillus (genus)         0.0   \n",
       "                                                                                                         Lactobacillus_crispatus       0.0   \n",
       "         Proteobacteria     Gammaproteobacteria Enterobacterales   Enterobacteriaceae Escherichia        Escherichia_coli              7.8   \n",
       "                            Betaproteobacteria  Neisseriales       Neisseriaceae      Neisseria          Neisseria_animalis            5.1   \n",
       "                            Gammaproteobacteria Pseudomonadales    Pseudomonadaceae   Pseudomonas        Pseudomonas_monteilii         2.6   \n",
       "\n",
       "                                                                                                                                  SAMPLE_9  \\\n",
       "kingdom  phylum             class               order              family             genus              species                             \n",
       "Bacteria Bacteria (kingdom) Bacteria (kingdom)  Bacteria (kingdom) Bacteria (kingdom) Bacteria (kingdom) Bacteria (kingdom)            7.8   \n",
       "         Actinobacteria     Actinomycetia       Bifidobacteriales  Bifidobacteriaceae Gardnerella        Gardnerella_vaginalis         7.3   \n",
       "         Firmicutes         Bacilli             Lactobacillales    Enterococcaceae    Enterococcus       Enterococcus_faecalis         0.0   \n",
       "                                                                   Lactobacillaceae   Lactobacillus      Lactobacillus (genus)         2.8   \n",
       "                                                                                                         Lactobacillus_crispatus      58.2   \n",
       "         Proteobacteria     Gammaproteobacteria Enterobacterales   Enterobacteriaceae Escherichia        Escherichia_coli              2.8   \n",
       "                            Betaproteobacteria  Neisseriales       Neisseriaceae      Neisseria          Neisseria_animalis            0.0   \n",
       "                            Gammaproteobacteria Pseudomonadales    Pseudomonadaceae   Pseudomonas        Pseudomonas_monteilii         4.7   \n",
       "\n",
       "                                                                                                                                  SAMPLE_10  \n",
       "kingdom  phylum             class               order              family             genus              species                             \n",
       "Bacteria Bacteria (kingdom) Bacteria (kingdom)  Bacteria (kingdom) Bacteria (kingdom) Bacteria (kingdom) Bacteria (kingdom)             6.1  \n",
       "         Actinobacteria     Actinomycetia       Bifidobacteriales  Bifidobacteriaceae Gardnerella        Gardnerella_vaginalis         23.0  \n",
       "         Firmicutes         Bacilli             Lactobacillales    Enterococcaceae    Enterococcus       Enterococcus_faecalis          0.0  \n",
       "                                                                   Lactobacillaceae   Lactobacillus      Lactobacillus (genus)          8.3  \n",
       "                                                                                                         Lactobacillus_crispatus       16.1  \n",
       "         Proteobacteria     Gammaproteobacteria Enterobacterales   Enterobacteriaceae Escherichia        Escherichia_coli               8.6  \n",
       "                            Betaproteobacteria  Neisseriales       Neisseriaceae      Neisseria          Neisseria_animalis             2.7  \n",
       "                            Gammaproteobacteria Pseudomonadales    Pseudomonadaceae   Pseudomonas        Pseudomonas_monteilii          6.3  "
      ]
     },
     "execution_count": 2,
     "metadata": {},
     "output_type": "execute_result"
    }
   ],
   "source": [
    "counts_dataframe"
   ]
  },
  {
   "cell_type": "code",
   "execution_count": 3,
   "id": "0c3f2351",
   "metadata": {},
   "outputs": [
    {
     "data": {
      "text/plain": [
       "SAMPLE_1       69.4\n",
       "SAMPLE_2       95.7\n",
       "SAMPLE_3     1063.2\n",
       "SAMPLE_4       60.8\n",
       "SAMPLE_5       66.4\n",
       "SAMPLE_6       69.1\n",
       "SAMPLE_7      103.3\n",
       "SAMPLE_8       44.0\n",
       "SAMPLE_9       83.6\n",
       "SAMPLE_10      71.1\n",
       "dtype: float64"
      ]
     },
     "execution_count": 3,
     "metadata": {},
     "output_type": "execute_result"
    }
   ],
   "source": [
    "counts_dataframe.sum()"
   ]
  },
  {
   "cell_type": "markdown",
   "id": "e390d5dc",
   "metadata": {},
   "source": [
    "#### Normalization of data\n",
    "\n",
    "SAMPLE_3 number of classified reads is 10 to 24 times greater than other samples' reads counts. So that futur analyses not to be biased towards SAMPLE_3, we need to perform some kind of normalization.\n",
    "\n",
    "Moonstone offers assistance in normalizing your data using many different methods (see [list](https://moonstone.readthedocs.io/en/latest/api_docs/normalization.html))\n",
    "\n",
    "(To better understand what each normalization method entails, you can watch this [youtube video](https://www.youtube.com/watch?v=UFB993xufUU&t=683s))"
   ]
  },
  {
   "cell_type": "code",
   "execution_count": 5,
   "id": "ee102cd6",
   "metadata": {},
   "outputs": [],
   "source": [
    "from moonstone.normalization.counts.geometric_mean import (\n",
    "    GeometricMeanNormalization\n",
    ")\n",
    "\n",
    "geom_mean_norm = GeometricMeanNormalization(counts_dataframe)     # instantiation\n",
    "counts_dataframe_normalized = geom_mean_norm.normalized_df"
   ]
  },
  {
   "cell_type": "code",
   "execution_count": 6,
   "id": "a169e79e",
   "metadata": {},
   "outputs": [
    {
     "data": {
      "text/plain": [
       "SAMPLE_1      68.635840\n",
       "SAMPLE_2      73.590681\n",
       "SAMPLE_3     126.625161\n",
       "SAMPLE_4      76.402948\n",
       "SAMPLE_5      81.216336\n",
       "SAMPLE_6      59.961868\n",
       "SAMPLE_7     118.107261\n",
       "SAMPLE_8      58.882472\n",
       "SAMPLE_9      92.671242\n",
       "SAMPLE_10     66.123165\n",
       "dtype: float64"
      ]
     },
     "execution_count": 6,
     "metadata": {},
     "output_type": "execute_result"
    }
   ],
   "source": [
    "counts_dataframe_normalized.sum()"
   ]
  },
  {
   "cell_type": "markdown",
   "id": "9ade8be6",
   "metadata": {},
   "source": [
    "### Metadata"
   ]
  },
  {
   "cell_type": "code",
   "execution_count": 7,
   "id": "2defa12d",
   "metadata": {},
   "outputs": [],
   "source": [
    "import pandas as pd\n",
    "\n",
    "metadata_file = \"metadata_file.csv\"\n",
    "metadata_dataframe = pd.read_csv(metadata_file, sep=\",\", index_col=\"SAMPLE_ID\")"
   ]
  },
  {
   "cell_type": "code",
   "execution_count": 8,
   "id": "2bf1f789",
   "metadata": {},
   "outputs": [
    {
     "data": {
      "text/html": [
       "<div>\n",
       "<style scoped>\n",
       "    .dataframe tbody tr th:only-of-type {\n",
       "        vertical-align: middle;\n",
       "    }\n",
       "\n",
       "    .dataframe tbody tr th {\n",
       "        vertical-align: top;\n",
       "    }\n",
       "\n",
       "    .dataframe thead th {\n",
       "        text-align: right;\n",
       "    }\n",
       "</style>\n",
       "<table border=\"1\" class=\"dataframe\">\n",
       "  <thead>\n",
       "    <tr style=\"text-align: right;\">\n",
       "      <th></th>\n",
       "      <th>SMOKER</th>\n",
       "      <th>GROUP</th>\n",
       "    </tr>\n",
       "    <tr>\n",
       "      <th>SAMPLE_ID</th>\n",
       "      <th></th>\n",
       "      <th></th>\n",
       "    </tr>\n",
       "  </thead>\n",
       "  <tbody>\n",
       "    <tr>\n",
       "      <th>SAMPLE_1</th>\n",
       "      <td>yes</td>\n",
       "      <td>A</td>\n",
       "    </tr>\n",
       "    <tr>\n",
       "      <th>SAMPLE_2</th>\n",
       "      <td>yes</td>\n",
       "      <td>C</td>\n",
       "    </tr>\n",
       "    <tr>\n",
       "      <th>SAMPLE_3</th>\n",
       "      <td>no</td>\n",
       "      <td>A</td>\n",
       "    </tr>\n",
       "    <tr>\n",
       "      <th>SAMPLE_4</th>\n",
       "      <td>no</td>\n",
       "      <td>C</td>\n",
       "    </tr>\n",
       "    <tr>\n",
       "      <th>SAMPLE_5</th>\n",
       "      <td>no</td>\n",
       "      <td>B</td>\n",
       "    </tr>\n",
       "    <tr>\n",
       "      <th>SAMPLE_6</th>\n",
       "      <td>no</td>\n",
       "      <td>C</td>\n",
       "    </tr>\n",
       "    <tr>\n",
       "      <th>SAMPLE_7</th>\n",
       "      <td>yes</td>\n",
       "      <td>A</td>\n",
       "    </tr>\n",
       "    <tr>\n",
       "      <th>SAMPLE_8</th>\n",
       "      <td>no</td>\n",
       "      <td>B</td>\n",
       "    </tr>\n",
       "    <tr>\n",
       "      <th>SAMPLE_9</th>\n",
       "      <td>yes</td>\n",
       "      <td>A</td>\n",
       "    </tr>\n",
       "    <tr>\n",
       "      <th>SAMPLE_10</th>\n",
       "      <td>no</td>\n",
       "      <td>A</td>\n",
       "    </tr>\n",
       "  </tbody>\n",
       "</table>\n",
       "</div>"
      ],
      "text/plain": [
       "          SMOKER GROUP\n",
       "SAMPLE_ID             \n",
       "SAMPLE_1     yes     A\n",
       "SAMPLE_2     yes     C\n",
       "SAMPLE_3      no     A\n",
       "SAMPLE_4      no     C\n",
       "SAMPLE_5      no     B\n",
       "SAMPLE_6      no     C\n",
       "SAMPLE_7     yes     A\n",
       "SAMPLE_8      no     B\n",
       "SAMPLE_9     yes     A\n",
       "SAMPLE_10     no     A"
      ]
     },
     "execution_count": 8,
     "metadata": {},
     "output_type": "execute_result"
    }
   ],
   "source": [
    "metadata_dataframe"
   ]
  },
  {
   "cell_type": "markdown",
   "id": "b00323b2",
   "metadata": {},
   "source": [
    "# Data visualization/exploration"
   ]
  },
  {
   "cell_type": "code",
   "execution_count": 9,
   "id": "b51eaaf5",
   "metadata": {},
   "outputs": [],
   "source": [
    "from moonstone.plot.counts import PlotTaxonomyCounts\n",
    "\n",
    "instance = PlotTaxonomyCounts(counts_dataframe)"
   ]
  },
  {
   "cell_type": "code",
   "execution_count": 11,
   "id": "f67bad9f",
   "metadata": {
    "scrolled": false
   },
   "outputs": [
    {
     "data": {
      "application/vnd.plotly.v1+json": {
       "config": {
        "plotlyServerURL": "https://plot.ly"
       },
       "data": [
        {
         "marker": {
          "color": "crimson"
         },
         "orientation": "h",
         "type": "bar",
         "x": [
          90,
          100,
          100
         ],
         "y": [
          "<i>Lactobacillus crispatus</i>",
          "<i>Escherichia coli</i>",
          "<i>Pseudomonas monteilii</i>"
         ]
        }
       ],
       "layout": {
        "template": {
         "data": {
          "bar": [
           {
            "error_x": {
             "color": "#2a3f5f"
            },
            "error_y": {
             "color": "#2a3f5f"
            },
            "marker": {
             "line": {
              "color": "#E5ECF6",
              "width": 0.5
             },
             "pattern": {
              "fillmode": "overlay",
              "size": 10,
              "solidity": 0.2
             }
            },
            "type": "bar"
           }
          ],
          "barpolar": [
           {
            "marker": {
             "line": {
              "color": "#E5ECF6",
              "width": 0.5
             },
             "pattern": {
              "fillmode": "overlay",
              "size": 10,
              "solidity": 0.2
             }
            },
            "type": "barpolar"
           }
          ],
          "carpet": [
           {
            "aaxis": {
             "endlinecolor": "#2a3f5f",
             "gridcolor": "white",
             "linecolor": "white",
             "minorgridcolor": "white",
             "startlinecolor": "#2a3f5f"
            },
            "baxis": {
             "endlinecolor": "#2a3f5f",
             "gridcolor": "white",
             "linecolor": "white",
             "minorgridcolor": "white",
             "startlinecolor": "#2a3f5f"
            },
            "type": "carpet"
           }
          ],
          "choropleth": [
           {
            "colorbar": {
             "outlinewidth": 0,
             "ticks": ""
            },
            "type": "choropleth"
           }
          ],
          "contour": [
           {
            "colorbar": {
             "outlinewidth": 0,
             "ticks": ""
            },
            "colorscale": [
             [
              0,
              "#0d0887"
             ],
             [
              0.1111111111111111,
              "#46039f"
             ],
             [
              0.2222222222222222,
              "#7201a8"
             ],
             [
              0.3333333333333333,
              "#9c179e"
             ],
             [
              0.4444444444444444,
              "#bd3786"
             ],
             [
              0.5555555555555556,
              "#d8576b"
             ],
             [
              0.6666666666666666,
              "#ed7953"
             ],
             [
              0.7777777777777778,
              "#fb9f3a"
             ],
             [
              0.8888888888888888,
              "#fdca26"
             ],
             [
              1,
              "#f0f921"
             ]
            ],
            "type": "contour"
           }
          ],
          "contourcarpet": [
           {
            "colorbar": {
             "outlinewidth": 0,
             "ticks": ""
            },
            "type": "contourcarpet"
           }
          ],
          "heatmap": [
           {
            "colorbar": {
             "outlinewidth": 0,
             "ticks": ""
            },
            "colorscale": [
             [
              0,
              "#0d0887"
             ],
             [
              0.1111111111111111,
              "#46039f"
             ],
             [
              0.2222222222222222,
              "#7201a8"
             ],
             [
              0.3333333333333333,
              "#9c179e"
             ],
             [
              0.4444444444444444,
              "#bd3786"
             ],
             [
              0.5555555555555556,
              "#d8576b"
             ],
             [
              0.6666666666666666,
              "#ed7953"
             ],
             [
              0.7777777777777778,
              "#fb9f3a"
             ],
             [
              0.8888888888888888,
              "#fdca26"
             ],
             [
              1,
              "#f0f921"
             ]
            ],
            "type": "heatmap"
           }
          ],
          "heatmapgl": [
           {
            "colorbar": {
             "outlinewidth": 0,
             "ticks": ""
            },
            "colorscale": [
             [
              0,
              "#0d0887"
             ],
             [
              0.1111111111111111,
              "#46039f"
             ],
             [
              0.2222222222222222,
              "#7201a8"
             ],
             [
              0.3333333333333333,
              "#9c179e"
             ],
             [
              0.4444444444444444,
              "#bd3786"
             ],
             [
              0.5555555555555556,
              "#d8576b"
             ],
             [
              0.6666666666666666,
              "#ed7953"
             ],
             [
              0.7777777777777778,
              "#fb9f3a"
             ],
             [
              0.8888888888888888,
              "#fdca26"
             ],
             [
              1,
              "#f0f921"
             ]
            ],
            "type": "heatmapgl"
           }
          ],
          "histogram": [
           {
            "marker": {
             "pattern": {
              "fillmode": "overlay",
              "size": 10,
              "solidity": 0.2
             }
            },
            "type": "histogram"
           }
          ],
          "histogram2d": [
           {
            "colorbar": {
             "outlinewidth": 0,
             "ticks": ""
            },
            "colorscale": [
             [
              0,
              "#0d0887"
             ],
             [
              0.1111111111111111,
              "#46039f"
             ],
             [
              0.2222222222222222,
              "#7201a8"
             ],
             [
              0.3333333333333333,
              "#9c179e"
             ],
             [
              0.4444444444444444,
              "#bd3786"
             ],
             [
              0.5555555555555556,
              "#d8576b"
             ],
             [
              0.6666666666666666,
              "#ed7953"
             ],
             [
              0.7777777777777778,
              "#fb9f3a"
             ],
             [
              0.8888888888888888,
              "#fdca26"
             ],
             [
              1,
              "#f0f921"
             ]
            ],
            "type": "histogram2d"
           }
          ],
          "histogram2dcontour": [
           {
            "colorbar": {
             "outlinewidth": 0,
             "ticks": ""
            },
            "colorscale": [
             [
              0,
              "#0d0887"
             ],
             [
              0.1111111111111111,
              "#46039f"
             ],
             [
              0.2222222222222222,
              "#7201a8"
             ],
             [
              0.3333333333333333,
              "#9c179e"
             ],
             [
              0.4444444444444444,
              "#bd3786"
             ],
             [
              0.5555555555555556,
              "#d8576b"
             ],
             [
              0.6666666666666666,
              "#ed7953"
             ],
             [
              0.7777777777777778,
              "#fb9f3a"
             ],
             [
              0.8888888888888888,
              "#fdca26"
             ],
             [
              1,
              "#f0f921"
             ]
            ],
            "type": "histogram2dcontour"
           }
          ],
          "mesh3d": [
           {
            "colorbar": {
             "outlinewidth": 0,
             "ticks": ""
            },
            "type": "mesh3d"
           }
          ],
          "parcoords": [
           {
            "line": {
             "colorbar": {
              "outlinewidth": 0,
              "ticks": ""
             }
            },
            "type": "parcoords"
           }
          ],
          "pie": [
           {
            "automargin": true,
            "type": "pie"
           }
          ],
          "scatter": [
           {
            "marker": {
             "colorbar": {
              "outlinewidth": 0,
              "ticks": ""
             }
            },
            "type": "scatter"
           }
          ],
          "scatter3d": [
           {
            "line": {
             "colorbar": {
              "outlinewidth": 0,
              "ticks": ""
             }
            },
            "marker": {
             "colorbar": {
              "outlinewidth": 0,
              "ticks": ""
             }
            },
            "type": "scatter3d"
           }
          ],
          "scattercarpet": [
           {
            "marker": {
             "colorbar": {
              "outlinewidth": 0,
              "ticks": ""
             }
            },
            "type": "scattercarpet"
           }
          ],
          "scattergeo": [
           {
            "marker": {
             "colorbar": {
              "outlinewidth": 0,
              "ticks": ""
             }
            },
            "type": "scattergeo"
           }
          ],
          "scattergl": [
           {
            "marker": {
             "colorbar": {
              "outlinewidth": 0,
              "ticks": ""
             }
            },
            "type": "scattergl"
           }
          ],
          "scattermapbox": [
           {
            "marker": {
             "colorbar": {
              "outlinewidth": 0,
              "ticks": ""
             }
            },
            "type": "scattermapbox"
           }
          ],
          "scatterpolar": [
           {
            "marker": {
             "colorbar": {
              "outlinewidth": 0,
              "ticks": ""
             }
            },
            "type": "scatterpolar"
           }
          ],
          "scatterpolargl": [
           {
            "marker": {
             "colorbar": {
              "outlinewidth": 0,
              "ticks": ""
             }
            },
            "type": "scatterpolargl"
           }
          ],
          "scatterternary": [
           {
            "marker": {
             "colorbar": {
              "outlinewidth": 0,
              "ticks": ""
             }
            },
            "type": "scatterternary"
           }
          ],
          "surface": [
           {
            "colorbar": {
             "outlinewidth": 0,
             "ticks": ""
            },
            "colorscale": [
             [
              0,
              "#0d0887"
             ],
             [
              0.1111111111111111,
              "#46039f"
             ],
             [
              0.2222222222222222,
              "#7201a8"
             ],
             [
              0.3333333333333333,
              "#9c179e"
             ],
             [
              0.4444444444444444,
              "#bd3786"
             ],
             [
              0.5555555555555556,
              "#d8576b"
             ],
             [
              0.6666666666666666,
              "#ed7953"
             ],
             [
              0.7777777777777778,
              "#fb9f3a"
             ],
             [
              0.8888888888888888,
              "#fdca26"
             ],
             [
              1,
              "#f0f921"
             ]
            ],
            "type": "surface"
           }
          ],
          "table": [
           {
            "cells": {
             "fill": {
              "color": "#EBF0F8"
             },
             "line": {
              "color": "white"
             }
            },
            "header": {
             "fill": {
              "color": "#C8D4E3"
             },
             "line": {
              "color": "white"
             }
            },
            "type": "table"
           }
          ]
         },
         "layout": {
          "annotationdefaults": {
           "arrowcolor": "#2a3f5f",
           "arrowhead": 0,
           "arrowwidth": 1
          },
          "autotypenumbers": "strict",
          "coloraxis": {
           "colorbar": {
            "outlinewidth": 0,
            "ticks": ""
           }
          },
          "colorscale": {
           "diverging": [
            [
             0,
             "#8e0152"
            ],
            [
             0.1,
             "#c51b7d"
            ],
            [
             0.2,
             "#de77ae"
            ],
            [
             0.3,
             "#f1b6da"
            ],
            [
             0.4,
             "#fde0ef"
            ],
            [
             0.5,
             "#f7f7f7"
            ],
            [
             0.6,
             "#e6f5d0"
            ],
            [
             0.7,
             "#b8e186"
            ],
            [
             0.8,
             "#7fbc41"
            ],
            [
             0.9,
             "#4d9221"
            ],
            [
             1,
             "#276419"
            ]
           ],
           "sequential": [
            [
             0,
             "#0d0887"
            ],
            [
             0.1111111111111111,
             "#46039f"
            ],
            [
             0.2222222222222222,
             "#7201a8"
            ],
            [
             0.3333333333333333,
             "#9c179e"
            ],
            [
             0.4444444444444444,
             "#bd3786"
            ],
            [
             0.5555555555555556,
             "#d8576b"
            ],
            [
             0.6666666666666666,
             "#ed7953"
            ],
            [
             0.7777777777777778,
             "#fb9f3a"
            ],
            [
             0.8888888888888888,
             "#fdca26"
            ],
            [
             1,
             "#f0f921"
            ]
           ],
           "sequentialminus": [
            [
             0,
             "#0d0887"
            ],
            [
             0.1111111111111111,
             "#46039f"
            ],
            [
             0.2222222222222222,
             "#7201a8"
            ],
            [
             0.3333333333333333,
             "#9c179e"
            ],
            [
             0.4444444444444444,
             "#bd3786"
            ],
            [
             0.5555555555555556,
             "#d8576b"
            ],
            [
             0.6666666666666666,
             "#ed7953"
            ],
            [
             0.7777777777777778,
             "#fb9f3a"
            ],
            [
             0.8888888888888888,
             "#fdca26"
            ],
            [
             1,
             "#f0f921"
            ]
           ]
          },
          "colorway": [
           "#636efa",
           "#EF553B",
           "#00cc96",
           "#ab63fa",
           "#FFA15A",
           "#19d3f3",
           "#FF6692",
           "#B6E880",
           "#FF97FF",
           "#FECB52"
          ],
          "font": {
           "color": "#2a3f5f"
          },
          "geo": {
           "bgcolor": "white",
           "lakecolor": "white",
           "landcolor": "#E5ECF6",
           "showlakes": true,
           "showland": true,
           "subunitcolor": "white"
          },
          "hoverlabel": {
           "align": "left"
          },
          "hovermode": "closest",
          "mapbox": {
           "style": "light"
          },
          "paper_bgcolor": "white",
          "plot_bgcolor": "#E5ECF6",
          "polar": {
           "angularaxis": {
            "gridcolor": "white",
            "linecolor": "white",
            "ticks": ""
           },
           "bgcolor": "#E5ECF6",
           "radialaxis": {
            "gridcolor": "white",
            "linecolor": "white",
            "ticks": ""
           }
          },
          "scene": {
           "xaxis": {
            "backgroundcolor": "#E5ECF6",
            "gridcolor": "white",
            "gridwidth": 2,
            "linecolor": "white",
            "showbackground": true,
            "ticks": "",
            "zerolinecolor": "white"
           },
           "yaxis": {
            "backgroundcolor": "#E5ECF6",
            "gridcolor": "white",
            "gridwidth": 2,
            "linecolor": "white",
            "showbackground": true,
            "ticks": "",
            "zerolinecolor": "white"
           },
           "zaxis": {
            "backgroundcolor": "#E5ECF6",
            "gridcolor": "white",
            "gridwidth": 2,
            "linecolor": "white",
            "showbackground": true,
            "ticks": "",
            "zerolinecolor": "white"
           }
          },
          "shapedefaults": {
           "line": {
            "color": "#2a3f5f"
           }
          },
          "ternary": {
           "aaxis": {
            "gridcolor": "white",
            "linecolor": "white",
            "ticks": ""
           },
           "baxis": {
            "gridcolor": "white",
            "linecolor": "white",
            "ticks": ""
           },
           "bgcolor": "#E5ECF6",
           "caxis": {
            "gridcolor": "white",
            "linecolor": "white",
            "ticks": ""
           }
          },
          "title": {
           "x": 0.05
          },
          "xaxis": {
           "automargin": true,
           "gridcolor": "white",
           "linecolor": "white",
           "ticks": "",
           "title": {
            "standoff": 15
           },
           "zerolinecolor": "white",
           "zerolinewidth": 2
          },
          "yaxis": {
           "automargin": true,
           "gridcolor": "white",
           "linecolor": "white",
           "ticks": "",
           "title": {
            "standoff": 15
           },
           "zerolinecolor": "white",
           "zerolinewidth": 2
          }
         }
        },
        "title": {
         "text": "3 most prevalent species (with mean among samples > 6)"
        },
        "xaxis": {
         "title": {
          "text": "Percentage Sample"
         }
        },
        "yaxis": {
         "title": {
          "text": "Species"
         }
        }
       }
      },
      "text/html": [
       "<div>                            <div id=\"e5a011bd-c1ac-4982-8c68-0b9c67f2742c\" class=\"plotly-graph-div\" style=\"height:525px; width:100%;\"></div>            <script type=\"text/javascript\">                require([\"plotly\"], function(Plotly) {                    window.PLOTLYENV=window.PLOTLYENV || {};                                    if (document.getElementById(\"e5a011bd-c1ac-4982-8c68-0b9c67f2742c\")) {                    Plotly.newPlot(                        \"e5a011bd-c1ac-4982-8c68-0b9c67f2742c\",                        [{\"marker\":{\"color\":\"crimson\"},\"orientation\":\"h\",\"type\":\"bar\",\"x\":[90.0,100.0,100.0],\"y\":[\"<i>Lactobacillus crispatus</i>\",\"<i>Escherichia coli</i>\",\"<i>Pseudomonas monteilii</i>\"]}],                        {\"template\":{\"data\":{\"bar\":[{\"error_x\":{\"color\":\"#2a3f5f\"},\"error_y\":{\"color\":\"#2a3f5f\"},\"marker\":{\"line\":{\"color\":\"#E5ECF6\",\"width\":0.5},\"pattern\":{\"fillmode\":\"overlay\",\"size\":10,\"solidity\":0.2}},\"type\":\"bar\"}],\"barpolar\":[{\"marker\":{\"line\":{\"color\":\"#E5ECF6\",\"width\":0.5},\"pattern\":{\"fillmode\":\"overlay\",\"size\":10,\"solidity\":0.2}},\"type\":\"barpolar\"}],\"carpet\":[{\"aaxis\":{\"endlinecolor\":\"#2a3f5f\",\"gridcolor\":\"white\",\"linecolor\":\"white\",\"minorgridcolor\":\"white\",\"startlinecolor\":\"#2a3f5f\"},\"baxis\":{\"endlinecolor\":\"#2a3f5f\",\"gridcolor\":\"white\",\"linecolor\":\"white\",\"minorgridcolor\":\"white\",\"startlinecolor\":\"#2a3f5f\"},\"type\":\"carpet\"}],\"choropleth\":[{\"colorbar\":{\"outlinewidth\":0,\"ticks\":\"\"},\"type\":\"choropleth\"}],\"contour\":[{\"colorbar\":{\"outlinewidth\":0,\"ticks\":\"\"},\"colorscale\":[[0.0,\"#0d0887\"],[0.1111111111111111,\"#46039f\"],[0.2222222222222222,\"#7201a8\"],[0.3333333333333333,\"#9c179e\"],[0.4444444444444444,\"#bd3786\"],[0.5555555555555556,\"#d8576b\"],[0.6666666666666666,\"#ed7953\"],[0.7777777777777778,\"#fb9f3a\"],[0.8888888888888888,\"#fdca26\"],[1.0,\"#f0f921\"]],\"type\":\"contour\"}],\"contourcarpet\":[{\"colorbar\":{\"outlinewidth\":0,\"ticks\":\"\"},\"type\":\"contourcarpet\"}],\"heatmap\":[{\"colorbar\":{\"outlinewidth\":0,\"ticks\":\"\"},\"colorscale\":[[0.0,\"#0d0887\"],[0.1111111111111111,\"#46039f\"],[0.2222222222222222,\"#7201a8\"],[0.3333333333333333,\"#9c179e\"],[0.4444444444444444,\"#bd3786\"],[0.5555555555555556,\"#d8576b\"],[0.6666666666666666,\"#ed7953\"],[0.7777777777777778,\"#fb9f3a\"],[0.8888888888888888,\"#fdca26\"],[1.0,\"#f0f921\"]],\"type\":\"heatmap\"}],\"heatmapgl\":[{\"colorbar\":{\"outlinewidth\":0,\"ticks\":\"\"},\"colorscale\":[[0.0,\"#0d0887\"],[0.1111111111111111,\"#46039f\"],[0.2222222222222222,\"#7201a8\"],[0.3333333333333333,\"#9c179e\"],[0.4444444444444444,\"#bd3786\"],[0.5555555555555556,\"#d8576b\"],[0.6666666666666666,\"#ed7953\"],[0.7777777777777778,\"#fb9f3a\"],[0.8888888888888888,\"#fdca26\"],[1.0,\"#f0f921\"]],\"type\":\"heatmapgl\"}],\"histogram\":[{\"marker\":{\"pattern\":{\"fillmode\":\"overlay\",\"size\":10,\"solidity\":0.2}},\"type\":\"histogram\"}],\"histogram2d\":[{\"colorbar\":{\"outlinewidth\":0,\"ticks\":\"\"},\"colorscale\":[[0.0,\"#0d0887\"],[0.1111111111111111,\"#46039f\"],[0.2222222222222222,\"#7201a8\"],[0.3333333333333333,\"#9c179e\"],[0.4444444444444444,\"#bd3786\"],[0.5555555555555556,\"#d8576b\"],[0.6666666666666666,\"#ed7953\"],[0.7777777777777778,\"#fb9f3a\"],[0.8888888888888888,\"#fdca26\"],[1.0,\"#f0f921\"]],\"type\":\"histogram2d\"}],\"histogram2dcontour\":[{\"colorbar\":{\"outlinewidth\":0,\"ticks\":\"\"},\"colorscale\":[[0.0,\"#0d0887\"],[0.1111111111111111,\"#46039f\"],[0.2222222222222222,\"#7201a8\"],[0.3333333333333333,\"#9c179e\"],[0.4444444444444444,\"#bd3786\"],[0.5555555555555556,\"#d8576b\"],[0.6666666666666666,\"#ed7953\"],[0.7777777777777778,\"#fb9f3a\"],[0.8888888888888888,\"#fdca26\"],[1.0,\"#f0f921\"]],\"type\":\"histogram2dcontour\"}],\"mesh3d\":[{\"colorbar\":{\"outlinewidth\":0,\"ticks\":\"\"},\"type\":\"mesh3d\"}],\"parcoords\":[{\"line\":{\"colorbar\":{\"outlinewidth\":0,\"ticks\":\"\"}},\"type\":\"parcoords\"}],\"pie\":[{\"automargin\":true,\"type\":\"pie\"}],\"scatter\":[{\"marker\":{\"colorbar\":{\"outlinewidth\":0,\"ticks\":\"\"}},\"type\":\"scatter\"}],\"scatter3d\":[{\"line\":{\"colorbar\":{\"outlinewidth\":0,\"ticks\":\"\"}},\"marker\":{\"colorbar\":{\"outlinewidth\":0,\"ticks\":\"\"}},\"type\":\"scatter3d\"}],\"scattercarpet\":[{\"marker\":{\"colorbar\":{\"outlinewidth\":0,\"ticks\":\"\"}},\"type\":\"scattercarpet\"}],\"scattergeo\":[{\"marker\":{\"colorbar\":{\"outlinewidth\":0,\"ticks\":\"\"}},\"type\":\"scattergeo\"}],\"scattergl\":[{\"marker\":{\"colorbar\":{\"outlinewidth\":0,\"ticks\":\"\"}},\"type\":\"scattergl\"}],\"scattermapbox\":[{\"marker\":{\"colorbar\":{\"outlinewidth\":0,\"ticks\":\"\"}},\"type\":\"scattermapbox\"}],\"scatterpolar\":[{\"marker\":{\"colorbar\":{\"outlinewidth\":0,\"ticks\":\"\"}},\"type\":\"scatterpolar\"}],\"scatterpolargl\":[{\"marker\":{\"colorbar\":{\"outlinewidth\":0,\"ticks\":\"\"}},\"type\":\"scatterpolargl\"}],\"scatterternary\":[{\"marker\":{\"colorbar\":{\"outlinewidth\":0,\"ticks\":\"\"}},\"type\":\"scatterternary\"}],\"surface\":[{\"colorbar\":{\"outlinewidth\":0,\"ticks\":\"\"},\"colorscale\":[[0.0,\"#0d0887\"],[0.1111111111111111,\"#46039f\"],[0.2222222222222222,\"#7201a8\"],[0.3333333333333333,\"#9c179e\"],[0.4444444444444444,\"#bd3786\"],[0.5555555555555556,\"#d8576b\"],[0.6666666666666666,\"#ed7953\"],[0.7777777777777778,\"#fb9f3a\"],[0.8888888888888888,\"#fdca26\"],[1.0,\"#f0f921\"]],\"type\":\"surface\"}],\"table\":[{\"cells\":{\"fill\":{\"color\":\"#EBF0F8\"},\"line\":{\"color\":\"white\"}},\"header\":{\"fill\":{\"color\":\"#C8D4E3\"},\"line\":{\"color\":\"white\"}},\"type\":\"table\"}]},\"layout\":{\"annotationdefaults\":{\"arrowcolor\":\"#2a3f5f\",\"arrowhead\":0,\"arrowwidth\":1},\"autotypenumbers\":\"strict\",\"coloraxis\":{\"colorbar\":{\"outlinewidth\":0,\"ticks\":\"\"}},\"colorscale\":{\"diverging\":[[0,\"#8e0152\"],[0.1,\"#c51b7d\"],[0.2,\"#de77ae\"],[0.3,\"#f1b6da\"],[0.4,\"#fde0ef\"],[0.5,\"#f7f7f7\"],[0.6,\"#e6f5d0\"],[0.7,\"#b8e186\"],[0.8,\"#7fbc41\"],[0.9,\"#4d9221\"],[1,\"#276419\"]],\"sequential\":[[0.0,\"#0d0887\"],[0.1111111111111111,\"#46039f\"],[0.2222222222222222,\"#7201a8\"],[0.3333333333333333,\"#9c179e\"],[0.4444444444444444,\"#bd3786\"],[0.5555555555555556,\"#d8576b\"],[0.6666666666666666,\"#ed7953\"],[0.7777777777777778,\"#fb9f3a\"],[0.8888888888888888,\"#fdca26\"],[1.0,\"#f0f921\"]],\"sequentialminus\":[[0.0,\"#0d0887\"],[0.1111111111111111,\"#46039f\"],[0.2222222222222222,\"#7201a8\"],[0.3333333333333333,\"#9c179e\"],[0.4444444444444444,\"#bd3786\"],[0.5555555555555556,\"#d8576b\"],[0.6666666666666666,\"#ed7953\"],[0.7777777777777778,\"#fb9f3a\"],[0.8888888888888888,\"#fdca26\"],[1.0,\"#f0f921\"]]},\"colorway\":[\"#636efa\",\"#EF553B\",\"#00cc96\",\"#ab63fa\",\"#FFA15A\",\"#19d3f3\",\"#FF6692\",\"#B6E880\",\"#FF97FF\",\"#FECB52\"],\"font\":{\"color\":\"#2a3f5f\"},\"geo\":{\"bgcolor\":\"white\",\"lakecolor\":\"white\",\"landcolor\":\"#E5ECF6\",\"showlakes\":true,\"showland\":true,\"subunitcolor\":\"white\"},\"hoverlabel\":{\"align\":\"left\"},\"hovermode\":\"closest\",\"mapbox\":{\"style\":\"light\"},\"paper_bgcolor\":\"white\",\"plot_bgcolor\":\"#E5ECF6\",\"polar\":{\"angularaxis\":{\"gridcolor\":\"white\",\"linecolor\":\"white\",\"ticks\":\"\"},\"bgcolor\":\"#E5ECF6\",\"radialaxis\":{\"gridcolor\":\"white\",\"linecolor\":\"white\",\"ticks\":\"\"}},\"scene\":{\"xaxis\":{\"backgroundcolor\":\"#E5ECF6\",\"gridcolor\":\"white\",\"gridwidth\":2,\"linecolor\":\"white\",\"showbackground\":true,\"ticks\":\"\",\"zerolinecolor\":\"white\"},\"yaxis\":{\"backgroundcolor\":\"#E5ECF6\",\"gridcolor\":\"white\",\"gridwidth\":2,\"linecolor\":\"white\",\"showbackground\":true,\"ticks\":\"\",\"zerolinecolor\":\"white\"},\"zaxis\":{\"backgroundcolor\":\"#E5ECF6\",\"gridcolor\":\"white\",\"gridwidth\":2,\"linecolor\":\"white\",\"showbackground\":true,\"ticks\":\"\",\"zerolinecolor\":\"white\"}},\"shapedefaults\":{\"line\":{\"color\":\"#2a3f5f\"}},\"ternary\":{\"aaxis\":{\"gridcolor\":\"white\",\"linecolor\":\"white\",\"ticks\":\"\"},\"baxis\":{\"gridcolor\":\"white\",\"linecolor\":\"white\",\"ticks\":\"\"},\"bgcolor\":\"#E5ECF6\",\"caxis\":{\"gridcolor\":\"white\",\"linecolor\":\"white\",\"ticks\":\"\"}},\"title\":{\"x\":0.05},\"xaxis\":{\"automargin\":true,\"gridcolor\":\"white\",\"linecolor\":\"white\",\"ticks\":\"\",\"title\":{\"standoff\":15},\"zerolinecolor\":\"white\",\"zerolinewidth\":2},\"yaxis\":{\"automargin\":true,\"gridcolor\":\"white\",\"linecolor\":\"white\",\"ticks\":\"\",\"title\":{\"standoff\":15},\"zerolinecolor\":\"white\",\"zerolinewidth\":2}}},\"title\":{\"text\":\"3 most prevalent species (with mean among samples > 6)\"},\"xaxis\":{\"title\":{\"text\":\"Percentage Sample\"}},\"yaxis\":{\"title\":{\"text\":\"Species\"}}},                        {\"responsive\": true}                    ).then(function(){\n",
       "                            \n",
       "var gd = document.getElementById('e5a011bd-c1ac-4982-8c68-0b9c67f2742c');\n",
       "var x = new MutationObserver(function (mutations, observer) {{\n",
       "        var display = window.getComputedStyle(gd).display;\n",
       "        if (!display || display === 'none') {{\n",
       "            console.log([gd, 'removed!']);\n",
       "            Plotly.purge(gd);\n",
       "            observer.disconnect();\n",
       "        }}\n",
       "}});\n",
       "\n",
       "// Listen for the removal of the full notebook cells\n",
       "var notebookContainer = gd.closest('#notebook-container');\n",
       "if (notebookContainer) {{\n",
       "    x.observe(notebookContainer, {childList: true});\n",
       "}}\n",
       "\n",
       "// Listen for the clearing of the current output cell\n",
       "var outputEl = gd.closest('.output');\n",
       "if (outputEl) {{\n",
       "    x.observe(outputEl, {childList: true});\n",
       "}}\n",
       "\n",
       "                        })                };                });            </script>        </div>"
      ]
     },
     "metadata": {},
     "output_type": "display_data"
    }
   ],
   "source": [
    "fig1 = instance.plot_most_prevalent_taxa(\n",
    "    mode=\"bar\",\n",
    "    mean_threshold=6,\n",
    "    taxa_number=3,\n",
    "    taxa_level=\"species\",\n",
    "    higher_classification=False,               # Set to False remove every rows \"xxx(higher taxa)\"\n",
    "    ascending=False,\n",
    ")"
   ]
  },
  {
   "cell_type": "code",
   "execution_count": 12,
   "id": "8b1d2c1a",
   "metadata": {},
   "outputs": [
    {
     "data": {
      "application/vnd.plotly.v1+json": {
       "config": {
        "plotlyServerURL": "https://plot.ly"
       },
       "data": [
        {
         "boxpoints": "suspectedoutliers",
         "marker": {
          "color": "#778899"
         },
         "name": "<i>Pseudomonas monteilii</i>",
         "orientation": "h",
         "text": [
          "SAMPLE_1",
          "SAMPLE_2",
          "SAMPLE_3",
          "SAMPLE_4",
          "SAMPLE_5",
          "SAMPLE_6",
          "SAMPLE_7",
          "SAMPLE_8",
          "SAMPLE_9",
          "SAMPLE_10"
         ],
         "type": "box",
         "x": [
          2.305475504322767,
          5.538140020898641,
          3.8374717832957104,
          9.046052631578947,
          4.8192771084337345,
          0.5788712011577424,
          4.356243949661181,
          5.909090909090909,
          5.622009569377991,
          8.860759493670885
         ],
         "y": [
          "<i>Pseudomonas monteilii</i>",
          "<i>Pseudomonas monteilii</i>",
          "<i>Pseudomonas monteilii</i>",
          "<i>Pseudomonas monteilii</i>",
          "<i>Pseudomonas monteilii</i>",
          "<i>Pseudomonas monteilii</i>",
          "<i>Pseudomonas monteilii</i>",
          "<i>Pseudomonas monteilii</i>",
          "<i>Pseudomonas monteilii</i>",
          "<i>Pseudomonas monteilii</i>"
         ]
        },
        {
         "boxpoints": "suspectedoutliers",
         "marker": {
          "color": "#778899"
         },
         "name": "<i>Escherichia coli</i>",
         "orientation": "h",
         "text": [
          "SAMPLE_1",
          "SAMPLE_2",
          "SAMPLE_3",
          "SAMPLE_4",
          "SAMPLE_5",
          "SAMPLE_6",
          "SAMPLE_7",
          "SAMPLE_8",
          "SAMPLE_9",
          "SAMPLE_10"
         ],
         "type": "box",
         "x": [
          9.077809798270895,
          14.629049111807731,
          5.3047404063205414,
          9.868421052631579,
          16.716867469879517,
          17.800289435600575,
          6.776379477250726,
          17.727272727272727,
          3.349282296650718,
          12.095639943741208
         ],
         "y": [
          "<i>Escherichia coli</i>",
          "<i>Escherichia coli</i>",
          "<i>Escherichia coli</i>",
          "<i>Escherichia coli</i>",
          "<i>Escherichia coli</i>",
          "<i>Escherichia coli</i>",
          "<i>Escherichia coli</i>",
          "<i>Escherichia coli</i>",
          "<i>Escherichia coli</i>",
          "<i>Escherichia coli</i>"
         ]
        },
        {
         "boxpoints": "suspectedoutliers",
         "marker": {
          "color": "#778899"
         },
         "name": "<i>Gardnerella vaginalis</i>",
         "orientation": "h",
         "text": [
          "SAMPLE_1",
          "SAMPLE_2",
          "SAMPLE_3",
          "SAMPLE_4",
          "SAMPLE_5",
          "SAMPLE_6",
          "SAMPLE_7",
          "SAMPLE_8",
          "SAMPLE_9",
          "SAMPLE_10"
         ],
         "type": "box",
         "x": [
          40.20172910662825,
          3.0303030303030303,
          0,
          36.18421052631579,
          4.216867469879518,
          31.11432706222865,
          0,
          57.95454545454545,
          8.732057416267944,
          32.34880450070323
         ],
         "y": [
          "<i>Gardnerella vaginalis</i>",
          "<i>Gardnerella vaginalis</i>",
          "<i>Gardnerella vaginalis</i>",
          "<i>Gardnerella vaginalis</i>",
          "<i>Gardnerella vaginalis</i>",
          "<i>Gardnerella vaginalis</i>",
          "<i>Gardnerella vaginalis</i>",
          "<i>Gardnerella vaginalis</i>",
          "<i>Gardnerella vaginalis</i>",
          "<i>Gardnerella vaginalis</i>"
         ]
        },
        {
         "boxpoints": "suspectedoutliers",
         "marker": {
          "color": "#778899"
         },
         "name": "<i>Lactobacillus crispatus</i>",
         "orientation": "h",
         "text": [
          "SAMPLE_1",
          "SAMPLE_2",
          "SAMPLE_3",
          "SAMPLE_4",
          "SAMPLE_5",
          "SAMPLE_6",
          "SAMPLE_7",
          "SAMPLE_8",
          "SAMPLE_9",
          "SAMPLE_10"
         ],
         "type": "box",
         "x": [
          12.247838616714699,
          56.00835945663532,
          84.08577878103837,
          24.01315789473684,
          63.253012048192765,
          26.049204052098403,
          75.60503388189738,
          0,
          69.61722488038278,
          22.644163150492265
         ],
         "y": [
          "<i>Lactobacillus crispatus</i>",
          "<i>Lactobacillus crispatus</i>",
          "<i>Lactobacillus crispatus</i>",
          "<i>Lactobacillus crispatus</i>",
          "<i>Lactobacillus crispatus</i>",
          "<i>Lactobacillus crispatus</i>",
          "<i>Lactobacillus crispatus</i>",
          "<i>Lactobacillus crispatus</i>",
          "<i>Lactobacillus crispatus</i>",
          "<i>Lactobacillus crispatus</i>"
         ]
        }
       ],
       "layout": {
        "showlegend": false,
        "template": {
         "data": {
          "bar": [
           {
            "error_x": {
             "color": "#2a3f5f"
            },
            "error_y": {
             "color": "#2a3f5f"
            },
            "marker": {
             "line": {
              "color": "#E5ECF6",
              "width": 0.5
             },
             "pattern": {
              "fillmode": "overlay",
              "size": 10,
              "solidity": 0.2
             }
            },
            "type": "bar"
           }
          ],
          "barpolar": [
           {
            "marker": {
             "line": {
              "color": "#E5ECF6",
              "width": 0.5
             },
             "pattern": {
              "fillmode": "overlay",
              "size": 10,
              "solidity": 0.2
             }
            },
            "type": "barpolar"
           }
          ],
          "carpet": [
           {
            "aaxis": {
             "endlinecolor": "#2a3f5f",
             "gridcolor": "white",
             "linecolor": "white",
             "minorgridcolor": "white",
             "startlinecolor": "#2a3f5f"
            },
            "baxis": {
             "endlinecolor": "#2a3f5f",
             "gridcolor": "white",
             "linecolor": "white",
             "minorgridcolor": "white",
             "startlinecolor": "#2a3f5f"
            },
            "type": "carpet"
           }
          ],
          "choropleth": [
           {
            "colorbar": {
             "outlinewidth": 0,
             "ticks": ""
            },
            "type": "choropleth"
           }
          ],
          "contour": [
           {
            "colorbar": {
             "outlinewidth": 0,
             "ticks": ""
            },
            "colorscale": [
             [
              0,
              "#0d0887"
             ],
             [
              0.1111111111111111,
              "#46039f"
             ],
             [
              0.2222222222222222,
              "#7201a8"
             ],
             [
              0.3333333333333333,
              "#9c179e"
             ],
             [
              0.4444444444444444,
              "#bd3786"
             ],
             [
              0.5555555555555556,
              "#d8576b"
             ],
             [
              0.6666666666666666,
              "#ed7953"
             ],
             [
              0.7777777777777778,
              "#fb9f3a"
             ],
             [
              0.8888888888888888,
              "#fdca26"
             ],
             [
              1,
              "#f0f921"
             ]
            ],
            "type": "contour"
           }
          ],
          "contourcarpet": [
           {
            "colorbar": {
             "outlinewidth": 0,
             "ticks": ""
            },
            "type": "contourcarpet"
           }
          ],
          "heatmap": [
           {
            "colorbar": {
             "outlinewidth": 0,
             "ticks": ""
            },
            "colorscale": [
             [
              0,
              "#0d0887"
             ],
             [
              0.1111111111111111,
              "#46039f"
             ],
             [
              0.2222222222222222,
              "#7201a8"
             ],
             [
              0.3333333333333333,
              "#9c179e"
             ],
             [
              0.4444444444444444,
              "#bd3786"
             ],
             [
              0.5555555555555556,
              "#d8576b"
             ],
             [
              0.6666666666666666,
              "#ed7953"
             ],
             [
              0.7777777777777778,
              "#fb9f3a"
             ],
             [
              0.8888888888888888,
              "#fdca26"
             ],
             [
              1,
              "#f0f921"
             ]
            ],
            "type": "heatmap"
           }
          ],
          "heatmapgl": [
           {
            "colorbar": {
             "outlinewidth": 0,
             "ticks": ""
            },
            "colorscale": [
             [
              0,
              "#0d0887"
             ],
             [
              0.1111111111111111,
              "#46039f"
             ],
             [
              0.2222222222222222,
              "#7201a8"
             ],
             [
              0.3333333333333333,
              "#9c179e"
             ],
             [
              0.4444444444444444,
              "#bd3786"
             ],
             [
              0.5555555555555556,
              "#d8576b"
             ],
             [
              0.6666666666666666,
              "#ed7953"
             ],
             [
              0.7777777777777778,
              "#fb9f3a"
             ],
             [
              0.8888888888888888,
              "#fdca26"
             ],
             [
              1,
              "#f0f921"
             ]
            ],
            "type": "heatmapgl"
           }
          ],
          "histogram": [
           {
            "marker": {
             "pattern": {
              "fillmode": "overlay",
              "size": 10,
              "solidity": 0.2
             }
            },
            "type": "histogram"
           }
          ],
          "histogram2d": [
           {
            "colorbar": {
             "outlinewidth": 0,
             "ticks": ""
            },
            "colorscale": [
             [
              0,
              "#0d0887"
             ],
             [
              0.1111111111111111,
              "#46039f"
             ],
             [
              0.2222222222222222,
              "#7201a8"
             ],
             [
              0.3333333333333333,
              "#9c179e"
             ],
             [
              0.4444444444444444,
              "#bd3786"
             ],
             [
              0.5555555555555556,
              "#d8576b"
             ],
             [
              0.6666666666666666,
              "#ed7953"
             ],
             [
              0.7777777777777778,
              "#fb9f3a"
             ],
             [
              0.8888888888888888,
              "#fdca26"
             ],
             [
              1,
              "#f0f921"
             ]
            ],
            "type": "histogram2d"
           }
          ],
          "histogram2dcontour": [
           {
            "colorbar": {
             "outlinewidth": 0,
             "ticks": ""
            },
            "colorscale": [
             [
              0,
              "#0d0887"
             ],
             [
              0.1111111111111111,
              "#46039f"
             ],
             [
              0.2222222222222222,
              "#7201a8"
             ],
             [
              0.3333333333333333,
              "#9c179e"
             ],
             [
              0.4444444444444444,
              "#bd3786"
             ],
             [
              0.5555555555555556,
              "#d8576b"
             ],
             [
              0.6666666666666666,
              "#ed7953"
             ],
             [
              0.7777777777777778,
              "#fb9f3a"
             ],
             [
              0.8888888888888888,
              "#fdca26"
             ],
             [
              1,
              "#f0f921"
             ]
            ],
            "type": "histogram2dcontour"
           }
          ],
          "mesh3d": [
           {
            "colorbar": {
             "outlinewidth": 0,
             "ticks": ""
            },
            "type": "mesh3d"
           }
          ],
          "parcoords": [
           {
            "line": {
             "colorbar": {
              "outlinewidth": 0,
              "ticks": ""
             }
            },
            "type": "parcoords"
           }
          ],
          "pie": [
           {
            "automargin": true,
            "type": "pie"
           }
          ],
          "scatter": [
           {
            "marker": {
             "colorbar": {
              "outlinewidth": 0,
              "ticks": ""
             }
            },
            "type": "scatter"
           }
          ],
          "scatter3d": [
           {
            "line": {
             "colorbar": {
              "outlinewidth": 0,
              "ticks": ""
             }
            },
            "marker": {
             "colorbar": {
              "outlinewidth": 0,
              "ticks": ""
             }
            },
            "type": "scatter3d"
           }
          ],
          "scattercarpet": [
           {
            "marker": {
             "colorbar": {
              "outlinewidth": 0,
              "ticks": ""
             }
            },
            "type": "scattercarpet"
           }
          ],
          "scattergeo": [
           {
            "marker": {
             "colorbar": {
              "outlinewidth": 0,
              "ticks": ""
             }
            },
            "type": "scattergeo"
           }
          ],
          "scattergl": [
           {
            "marker": {
             "colorbar": {
              "outlinewidth": 0,
              "ticks": ""
             }
            },
            "type": "scattergl"
           }
          ],
          "scattermapbox": [
           {
            "marker": {
             "colorbar": {
              "outlinewidth": 0,
              "ticks": ""
             }
            },
            "type": "scattermapbox"
           }
          ],
          "scatterpolar": [
           {
            "marker": {
             "colorbar": {
              "outlinewidth": 0,
              "ticks": ""
             }
            },
            "type": "scatterpolar"
           }
          ],
          "scatterpolargl": [
           {
            "marker": {
             "colorbar": {
              "outlinewidth": 0,
              "ticks": ""
             }
            },
            "type": "scatterpolargl"
           }
          ],
          "scatterternary": [
           {
            "marker": {
             "colorbar": {
              "outlinewidth": 0,
              "ticks": ""
             }
            },
            "type": "scatterternary"
           }
          ],
          "surface": [
           {
            "colorbar": {
             "outlinewidth": 0,
             "ticks": ""
            },
            "colorscale": [
             [
              0,
              "#0d0887"
             ],
             [
              0.1111111111111111,
              "#46039f"
             ],
             [
              0.2222222222222222,
              "#7201a8"
             ],
             [
              0.3333333333333333,
              "#9c179e"
             ],
             [
              0.4444444444444444,
              "#bd3786"
             ],
             [
              0.5555555555555556,
              "#d8576b"
             ],
             [
              0.6666666666666666,
              "#ed7953"
             ],
             [
              0.7777777777777778,
              "#fb9f3a"
             ],
             [
              0.8888888888888888,
              "#fdca26"
             ],
             [
              1,
              "#f0f921"
             ]
            ],
            "type": "surface"
           }
          ],
          "table": [
           {
            "cells": {
             "fill": {
              "color": "#EBF0F8"
             },
             "line": {
              "color": "white"
             }
            },
            "header": {
             "fill": {
              "color": "#C8D4E3"
             },
             "line": {
              "color": "white"
             }
            },
            "type": "table"
           }
          ]
         },
         "layout": {
          "annotationdefaults": {
           "arrowcolor": "#2a3f5f",
           "arrowhead": 0,
           "arrowwidth": 1
          },
          "autotypenumbers": "strict",
          "coloraxis": {
           "colorbar": {
            "outlinewidth": 0,
            "ticks": ""
           }
          },
          "colorscale": {
           "diverging": [
            [
             0,
             "#8e0152"
            ],
            [
             0.1,
             "#c51b7d"
            ],
            [
             0.2,
             "#de77ae"
            ],
            [
             0.3,
             "#f1b6da"
            ],
            [
             0.4,
             "#fde0ef"
            ],
            [
             0.5,
             "#f7f7f7"
            ],
            [
             0.6,
             "#e6f5d0"
            ],
            [
             0.7,
             "#b8e186"
            ],
            [
             0.8,
             "#7fbc41"
            ],
            [
             0.9,
             "#4d9221"
            ],
            [
             1,
             "#276419"
            ]
           ],
           "sequential": [
            [
             0,
             "#0d0887"
            ],
            [
             0.1111111111111111,
             "#46039f"
            ],
            [
             0.2222222222222222,
             "#7201a8"
            ],
            [
             0.3333333333333333,
             "#9c179e"
            ],
            [
             0.4444444444444444,
             "#bd3786"
            ],
            [
             0.5555555555555556,
             "#d8576b"
            ],
            [
             0.6666666666666666,
             "#ed7953"
            ],
            [
             0.7777777777777778,
             "#fb9f3a"
            ],
            [
             0.8888888888888888,
             "#fdca26"
            ],
            [
             1,
             "#f0f921"
            ]
           ],
           "sequentialminus": [
            [
             0,
             "#0d0887"
            ],
            [
             0.1111111111111111,
             "#46039f"
            ],
            [
             0.2222222222222222,
             "#7201a8"
            ],
            [
             0.3333333333333333,
             "#9c179e"
            ],
            [
             0.4444444444444444,
             "#bd3786"
            ],
            [
             0.5555555555555556,
             "#d8576b"
            ],
            [
             0.6666666666666666,
             "#ed7953"
            ],
            [
             0.7777777777777778,
             "#fb9f3a"
            ],
            [
             0.8888888888888888,
             "#fdca26"
            ],
            [
             1,
             "#f0f921"
            ]
           ]
          },
          "colorway": [
           "#636efa",
           "#EF553B",
           "#00cc96",
           "#ab63fa",
           "#FFA15A",
           "#19d3f3",
           "#FF6692",
           "#B6E880",
           "#FF97FF",
           "#FECB52"
          ],
          "font": {
           "color": "#2a3f5f"
          },
          "geo": {
           "bgcolor": "white",
           "lakecolor": "white",
           "landcolor": "#E5ECF6",
           "showlakes": true,
           "showland": true,
           "subunitcolor": "white"
          },
          "hoverlabel": {
           "align": "left"
          },
          "hovermode": "closest",
          "mapbox": {
           "style": "light"
          },
          "paper_bgcolor": "white",
          "plot_bgcolor": "#E5ECF6",
          "polar": {
           "angularaxis": {
            "gridcolor": "white",
            "linecolor": "white",
            "ticks": ""
           },
           "bgcolor": "#E5ECF6",
           "radialaxis": {
            "gridcolor": "white",
            "linecolor": "white",
            "ticks": ""
           }
          },
          "scene": {
           "xaxis": {
            "backgroundcolor": "#E5ECF6",
            "gridcolor": "white",
            "gridwidth": 2,
            "linecolor": "white",
            "showbackground": true,
            "ticks": "",
            "zerolinecolor": "white"
           },
           "yaxis": {
            "backgroundcolor": "#E5ECF6",
            "gridcolor": "white",
            "gridwidth": 2,
            "linecolor": "white",
            "showbackground": true,
            "ticks": "",
            "zerolinecolor": "white"
           },
           "zaxis": {
            "backgroundcolor": "#E5ECF6",
            "gridcolor": "white",
            "gridwidth": 2,
            "linecolor": "white",
            "showbackground": true,
            "ticks": "",
            "zerolinecolor": "white"
           }
          },
          "shapedefaults": {
           "line": {
            "color": "#2a3f5f"
           }
          },
          "ternary": {
           "aaxis": {
            "gridcolor": "white",
            "linecolor": "white",
            "ticks": ""
           },
           "baxis": {
            "gridcolor": "white",
            "linecolor": "white",
            "ticks": ""
           },
           "bgcolor": "#E5ECF6",
           "caxis": {
            "gridcolor": "white",
            "linecolor": "white",
            "ticks": ""
           }
          },
          "title": {
           "x": 0.05
          },
          "xaxis": {
           "automargin": true,
           "gridcolor": "white",
           "linecolor": "white",
           "ticks": "",
           "title": {
            "standoff": 15
           },
           "zerolinecolor": "white",
           "zerolinewidth": 2
          },
          "yaxis": {
           "automargin": true,
           "gridcolor": "white",
           "linecolor": "white",
           "ticks": "",
           "title": {
            "standoff": 15
           },
           "zerolinecolor": "white",
           "zerolinewidth": 2
          }
         }
        },
        "title": {
         "text": "Relative abundance of the 4 most abundant microbial genomes among individuals of the cohort"
        },
        "xaxis": {
         "title": {
          "text": "Relative abundance (in percentage)"
         },
         "type": "log"
        }
       }
      },
      "text/html": [
       "<div>                            <div id=\"f1178d02-d8a4-4c66-94b5-bc690c288df5\" class=\"plotly-graph-div\" style=\"height:525px; width:100%;\"></div>            <script type=\"text/javascript\">                require([\"plotly\"], function(Plotly) {                    window.PLOTLYENV=window.PLOTLYENV || {};                                    if (document.getElementById(\"f1178d02-d8a4-4c66-94b5-bc690c288df5\")) {                    Plotly.newPlot(                        \"f1178d02-d8a4-4c66-94b5-bc690c288df5\",                        [{\"boxpoints\":\"suspectedoutliers\",\"marker\":{\"color\":\"#778899\"},\"name\":\"<i>Pseudomonas monteilii</i>\",\"orientation\":\"h\",\"text\":[\"SAMPLE_1\",\"SAMPLE_2\",\"SAMPLE_3\",\"SAMPLE_4\",\"SAMPLE_5\",\"SAMPLE_6\",\"SAMPLE_7\",\"SAMPLE_8\",\"SAMPLE_9\",\"SAMPLE_10\"],\"type\":\"box\",\"x\":[2.305475504322767,5.538140020898641,3.8374717832957104,9.046052631578947,4.8192771084337345,0.5788712011577424,4.356243949661181,5.909090909090909,5.622009569377991,8.860759493670885],\"y\":[\"<i>Pseudomonas monteilii</i>\",\"<i>Pseudomonas monteilii</i>\",\"<i>Pseudomonas monteilii</i>\",\"<i>Pseudomonas monteilii</i>\",\"<i>Pseudomonas monteilii</i>\",\"<i>Pseudomonas monteilii</i>\",\"<i>Pseudomonas monteilii</i>\",\"<i>Pseudomonas monteilii</i>\",\"<i>Pseudomonas monteilii</i>\",\"<i>Pseudomonas monteilii</i>\"]},{\"boxpoints\":\"suspectedoutliers\",\"marker\":{\"color\":\"#778899\"},\"name\":\"<i>Escherichia coli</i>\",\"orientation\":\"h\",\"text\":[\"SAMPLE_1\",\"SAMPLE_2\",\"SAMPLE_3\",\"SAMPLE_4\",\"SAMPLE_5\",\"SAMPLE_6\",\"SAMPLE_7\",\"SAMPLE_8\",\"SAMPLE_9\",\"SAMPLE_10\"],\"type\":\"box\",\"x\":[9.077809798270895,14.629049111807731,5.3047404063205414,9.868421052631579,16.716867469879517,17.800289435600575,6.776379477250726,17.727272727272727,3.349282296650718,12.095639943741208],\"y\":[\"<i>Escherichia coli</i>\",\"<i>Escherichia coli</i>\",\"<i>Escherichia coli</i>\",\"<i>Escherichia coli</i>\",\"<i>Escherichia coli</i>\",\"<i>Escherichia coli</i>\",\"<i>Escherichia coli</i>\",\"<i>Escherichia coli</i>\",\"<i>Escherichia coli</i>\",\"<i>Escherichia coli</i>\"]},{\"boxpoints\":\"suspectedoutliers\",\"marker\":{\"color\":\"#778899\"},\"name\":\"<i>Gardnerella vaginalis</i>\",\"orientation\":\"h\",\"text\":[\"SAMPLE_1\",\"SAMPLE_2\",\"SAMPLE_3\",\"SAMPLE_4\",\"SAMPLE_5\",\"SAMPLE_6\",\"SAMPLE_7\",\"SAMPLE_8\",\"SAMPLE_9\",\"SAMPLE_10\"],\"type\":\"box\",\"x\":[40.20172910662825,3.0303030303030303,0.0,36.18421052631579,4.216867469879518,31.11432706222865,0.0,57.95454545454545,8.732057416267944,32.34880450070323],\"y\":[\"<i>Gardnerella vaginalis</i>\",\"<i>Gardnerella vaginalis</i>\",\"<i>Gardnerella vaginalis</i>\",\"<i>Gardnerella vaginalis</i>\",\"<i>Gardnerella vaginalis</i>\",\"<i>Gardnerella vaginalis</i>\",\"<i>Gardnerella vaginalis</i>\",\"<i>Gardnerella vaginalis</i>\",\"<i>Gardnerella vaginalis</i>\",\"<i>Gardnerella vaginalis</i>\"]},{\"boxpoints\":\"suspectedoutliers\",\"marker\":{\"color\":\"#778899\"},\"name\":\"<i>Lactobacillus crispatus</i>\",\"orientation\":\"h\",\"text\":[\"SAMPLE_1\",\"SAMPLE_2\",\"SAMPLE_3\",\"SAMPLE_4\",\"SAMPLE_5\",\"SAMPLE_6\",\"SAMPLE_7\",\"SAMPLE_8\",\"SAMPLE_9\",\"SAMPLE_10\"],\"type\":\"box\",\"x\":[12.247838616714699,56.00835945663532,84.08577878103837,24.01315789473684,63.253012048192765,26.049204052098403,75.60503388189738,0.0,69.61722488038278,22.644163150492265],\"y\":[\"<i>Lactobacillus crispatus</i>\",\"<i>Lactobacillus crispatus</i>\",\"<i>Lactobacillus crispatus</i>\",\"<i>Lactobacillus crispatus</i>\",\"<i>Lactobacillus crispatus</i>\",\"<i>Lactobacillus crispatus</i>\",\"<i>Lactobacillus crispatus</i>\",\"<i>Lactobacillus crispatus</i>\",\"<i>Lactobacillus crispatus</i>\",\"<i>Lactobacillus crispatus</i>\"]}],                        {\"showlegend\":false,\"template\":{\"data\":{\"bar\":[{\"error_x\":{\"color\":\"#2a3f5f\"},\"error_y\":{\"color\":\"#2a3f5f\"},\"marker\":{\"line\":{\"color\":\"#E5ECF6\",\"width\":0.5},\"pattern\":{\"fillmode\":\"overlay\",\"size\":10,\"solidity\":0.2}},\"type\":\"bar\"}],\"barpolar\":[{\"marker\":{\"line\":{\"color\":\"#E5ECF6\",\"width\":0.5},\"pattern\":{\"fillmode\":\"overlay\",\"size\":10,\"solidity\":0.2}},\"type\":\"barpolar\"}],\"carpet\":[{\"aaxis\":{\"endlinecolor\":\"#2a3f5f\",\"gridcolor\":\"white\",\"linecolor\":\"white\",\"minorgridcolor\":\"white\",\"startlinecolor\":\"#2a3f5f\"},\"baxis\":{\"endlinecolor\":\"#2a3f5f\",\"gridcolor\":\"white\",\"linecolor\":\"white\",\"minorgridcolor\":\"white\",\"startlinecolor\":\"#2a3f5f\"},\"type\":\"carpet\"}],\"choropleth\":[{\"colorbar\":{\"outlinewidth\":0,\"ticks\":\"\"},\"type\":\"choropleth\"}],\"contour\":[{\"colorbar\":{\"outlinewidth\":0,\"ticks\":\"\"},\"colorscale\":[[0.0,\"#0d0887\"],[0.1111111111111111,\"#46039f\"],[0.2222222222222222,\"#7201a8\"],[0.3333333333333333,\"#9c179e\"],[0.4444444444444444,\"#bd3786\"],[0.5555555555555556,\"#d8576b\"],[0.6666666666666666,\"#ed7953\"],[0.7777777777777778,\"#fb9f3a\"],[0.8888888888888888,\"#fdca26\"],[1.0,\"#f0f921\"]],\"type\":\"contour\"}],\"contourcarpet\":[{\"colorbar\":{\"outlinewidth\":0,\"ticks\":\"\"},\"type\":\"contourcarpet\"}],\"heatmap\":[{\"colorbar\":{\"outlinewidth\":0,\"ticks\":\"\"},\"colorscale\":[[0.0,\"#0d0887\"],[0.1111111111111111,\"#46039f\"],[0.2222222222222222,\"#7201a8\"],[0.3333333333333333,\"#9c179e\"],[0.4444444444444444,\"#bd3786\"],[0.5555555555555556,\"#d8576b\"],[0.6666666666666666,\"#ed7953\"],[0.7777777777777778,\"#fb9f3a\"],[0.8888888888888888,\"#fdca26\"],[1.0,\"#f0f921\"]],\"type\":\"heatmap\"}],\"heatmapgl\":[{\"colorbar\":{\"outlinewidth\":0,\"ticks\":\"\"},\"colorscale\":[[0.0,\"#0d0887\"],[0.1111111111111111,\"#46039f\"],[0.2222222222222222,\"#7201a8\"],[0.3333333333333333,\"#9c179e\"],[0.4444444444444444,\"#bd3786\"],[0.5555555555555556,\"#d8576b\"],[0.6666666666666666,\"#ed7953\"],[0.7777777777777778,\"#fb9f3a\"],[0.8888888888888888,\"#fdca26\"],[1.0,\"#f0f921\"]],\"type\":\"heatmapgl\"}],\"histogram\":[{\"marker\":{\"pattern\":{\"fillmode\":\"overlay\",\"size\":10,\"solidity\":0.2}},\"type\":\"histogram\"}],\"histogram2d\":[{\"colorbar\":{\"outlinewidth\":0,\"ticks\":\"\"},\"colorscale\":[[0.0,\"#0d0887\"],[0.1111111111111111,\"#46039f\"],[0.2222222222222222,\"#7201a8\"],[0.3333333333333333,\"#9c179e\"],[0.4444444444444444,\"#bd3786\"],[0.5555555555555556,\"#d8576b\"],[0.6666666666666666,\"#ed7953\"],[0.7777777777777778,\"#fb9f3a\"],[0.8888888888888888,\"#fdca26\"],[1.0,\"#f0f921\"]],\"type\":\"histogram2d\"}],\"histogram2dcontour\":[{\"colorbar\":{\"outlinewidth\":0,\"ticks\":\"\"},\"colorscale\":[[0.0,\"#0d0887\"],[0.1111111111111111,\"#46039f\"],[0.2222222222222222,\"#7201a8\"],[0.3333333333333333,\"#9c179e\"],[0.4444444444444444,\"#bd3786\"],[0.5555555555555556,\"#d8576b\"],[0.6666666666666666,\"#ed7953\"],[0.7777777777777778,\"#fb9f3a\"],[0.8888888888888888,\"#fdca26\"],[1.0,\"#f0f921\"]],\"type\":\"histogram2dcontour\"}],\"mesh3d\":[{\"colorbar\":{\"outlinewidth\":0,\"ticks\":\"\"},\"type\":\"mesh3d\"}],\"parcoords\":[{\"line\":{\"colorbar\":{\"outlinewidth\":0,\"ticks\":\"\"}},\"type\":\"parcoords\"}],\"pie\":[{\"automargin\":true,\"type\":\"pie\"}],\"scatter\":[{\"marker\":{\"colorbar\":{\"outlinewidth\":0,\"ticks\":\"\"}},\"type\":\"scatter\"}],\"scatter3d\":[{\"line\":{\"colorbar\":{\"outlinewidth\":0,\"ticks\":\"\"}},\"marker\":{\"colorbar\":{\"outlinewidth\":0,\"ticks\":\"\"}},\"type\":\"scatter3d\"}],\"scattercarpet\":[{\"marker\":{\"colorbar\":{\"outlinewidth\":0,\"ticks\":\"\"}},\"type\":\"scattercarpet\"}],\"scattergeo\":[{\"marker\":{\"colorbar\":{\"outlinewidth\":0,\"ticks\":\"\"}},\"type\":\"scattergeo\"}],\"scattergl\":[{\"marker\":{\"colorbar\":{\"outlinewidth\":0,\"ticks\":\"\"}},\"type\":\"scattergl\"}],\"scattermapbox\":[{\"marker\":{\"colorbar\":{\"outlinewidth\":0,\"ticks\":\"\"}},\"type\":\"scattermapbox\"}],\"scatterpolar\":[{\"marker\":{\"colorbar\":{\"outlinewidth\":0,\"ticks\":\"\"}},\"type\":\"scatterpolar\"}],\"scatterpolargl\":[{\"marker\":{\"colorbar\":{\"outlinewidth\":0,\"ticks\":\"\"}},\"type\":\"scatterpolargl\"}],\"scatterternary\":[{\"marker\":{\"colorbar\":{\"outlinewidth\":0,\"ticks\":\"\"}},\"type\":\"scatterternary\"}],\"surface\":[{\"colorbar\":{\"outlinewidth\":0,\"ticks\":\"\"},\"colorscale\":[[0.0,\"#0d0887\"],[0.1111111111111111,\"#46039f\"],[0.2222222222222222,\"#7201a8\"],[0.3333333333333333,\"#9c179e\"],[0.4444444444444444,\"#bd3786\"],[0.5555555555555556,\"#d8576b\"],[0.6666666666666666,\"#ed7953\"],[0.7777777777777778,\"#fb9f3a\"],[0.8888888888888888,\"#fdca26\"],[1.0,\"#f0f921\"]],\"type\":\"surface\"}],\"table\":[{\"cells\":{\"fill\":{\"color\":\"#EBF0F8\"},\"line\":{\"color\":\"white\"}},\"header\":{\"fill\":{\"color\":\"#C8D4E3\"},\"line\":{\"color\":\"white\"}},\"type\":\"table\"}]},\"layout\":{\"annotationdefaults\":{\"arrowcolor\":\"#2a3f5f\",\"arrowhead\":0,\"arrowwidth\":1},\"autotypenumbers\":\"strict\",\"coloraxis\":{\"colorbar\":{\"outlinewidth\":0,\"ticks\":\"\"}},\"colorscale\":{\"diverging\":[[0,\"#8e0152\"],[0.1,\"#c51b7d\"],[0.2,\"#de77ae\"],[0.3,\"#f1b6da\"],[0.4,\"#fde0ef\"],[0.5,\"#f7f7f7\"],[0.6,\"#e6f5d0\"],[0.7,\"#b8e186\"],[0.8,\"#7fbc41\"],[0.9,\"#4d9221\"],[1,\"#276419\"]],\"sequential\":[[0.0,\"#0d0887\"],[0.1111111111111111,\"#46039f\"],[0.2222222222222222,\"#7201a8\"],[0.3333333333333333,\"#9c179e\"],[0.4444444444444444,\"#bd3786\"],[0.5555555555555556,\"#d8576b\"],[0.6666666666666666,\"#ed7953\"],[0.7777777777777778,\"#fb9f3a\"],[0.8888888888888888,\"#fdca26\"],[1.0,\"#f0f921\"]],\"sequentialminus\":[[0.0,\"#0d0887\"],[0.1111111111111111,\"#46039f\"],[0.2222222222222222,\"#7201a8\"],[0.3333333333333333,\"#9c179e\"],[0.4444444444444444,\"#bd3786\"],[0.5555555555555556,\"#d8576b\"],[0.6666666666666666,\"#ed7953\"],[0.7777777777777778,\"#fb9f3a\"],[0.8888888888888888,\"#fdca26\"],[1.0,\"#f0f921\"]]},\"colorway\":[\"#636efa\",\"#EF553B\",\"#00cc96\",\"#ab63fa\",\"#FFA15A\",\"#19d3f3\",\"#FF6692\",\"#B6E880\",\"#FF97FF\",\"#FECB52\"],\"font\":{\"color\":\"#2a3f5f\"},\"geo\":{\"bgcolor\":\"white\",\"lakecolor\":\"white\",\"landcolor\":\"#E5ECF6\",\"showlakes\":true,\"showland\":true,\"subunitcolor\":\"white\"},\"hoverlabel\":{\"align\":\"left\"},\"hovermode\":\"closest\",\"mapbox\":{\"style\":\"light\"},\"paper_bgcolor\":\"white\",\"plot_bgcolor\":\"#E5ECF6\",\"polar\":{\"angularaxis\":{\"gridcolor\":\"white\",\"linecolor\":\"white\",\"ticks\":\"\"},\"bgcolor\":\"#E5ECF6\",\"radialaxis\":{\"gridcolor\":\"white\",\"linecolor\":\"white\",\"ticks\":\"\"}},\"scene\":{\"xaxis\":{\"backgroundcolor\":\"#E5ECF6\",\"gridcolor\":\"white\",\"gridwidth\":2,\"linecolor\":\"white\",\"showbackground\":true,\"ticks\":\"\",\"zerolinecolor\":\"white\"},\"yaxis\":{\"backgroundcolor\":\"#E5ECF6\",\"gridcolor\":\"white\",\"gridwidth\":2,\"linecolor\":\"white\",\"showbackground\":true,\"ticks\":\"\",\"zerolinecolor\":\"white\"},\"zaxis\":{\"backgroundcolor\":\"#E5ECF6\",\"gridcolor\":\"white\",\"gridwidth\":2,\"linecolor\":\"white\",\"showbackground\":true,\"ticks\":\"\",\"zerolinecolor\":\"white\"}},\"shapedefaults\":{\"line\":{\"color\":\"#2a3f5f\"}},\"ternary\":{\"aaxis\":{\"gridcolor\":\"white\",\"linecolor\":\"white\",\"ticks\":\"\"},\"baxis\":{\"gridcolor\":\"white\",\"linecolor\":\"white\",\"ticks\":\"\"},\"bgcolor\":\"#E5ECF6\",\"caxis\":{\"gridcolor\":\"white\",\"linecolor\":\"white\",\"ticks\":\"\"}},\"title\":{\"x\":0.05},\"xaxis\":{\"automargin\":true,\"gridcolor\":\"white\",\"linecolor\":\"white\",\"ticks\":\"\",\"title\":{\"standoff\":15},\"zerolinecolor\":\"white\",\"zerolinewidth\":2},\"yaxis\":{\"automargin\":true,\"gridcolor\":\"white\",\"linecolor\":\"white\",\"ticks\":\"\",\"title\":{\"standoff\":15},\"zerolinecolor\":\"white\",\"zerolinewidth\":2}}},\"title\":{\"text\":\"Relative abundance of the 4 most abundant microbial genomes among individuals of the cohort\"},\"xaxis\":{\"title\":{\"text\":\"Relative abundance (in percentage)\"},\"type\":\"log\"}},                        {\"responsive\": true}                    ).then(function(){\n",
       "                            \n",
       "var gd = document.getElementById('f1178d02-d8a4-4c66-94b5-bc690c288df5');\n",
       "var x = new MutationObserver(function (mutations, observer) {{\n",
       "        var display = window.getComputedStyle(gd).display;\n",
       "        if (!display || display === 'none') {{\n",
       "            console.log([gd, 'removed!']);\n",
       "            Plotly.purge(gd);\n",
       "            observer.disconnect();\n",
       "        }}\n",
       "}});\n",
       "\n",
       "// Listen for the removal of the full notebook cells\n",
       "var notebookContainer = gd.closest('#notebook-container');\n",
       "if (notebookContainer) {{\n",
       "    x.observe(notebookContainer, {childList: true});\n",
       "}}\n",
       "\n",
       "// Listen for the clearing of the current output cell\n",
       "var outputEl = gd.closest('.output');\n",
       "if (outputEl) {{\n",
       "    x.observe(outputEl, {childList: true});\n",
       "}}\n",
       "\n",
       "                        })                };                });            </script>        </div>"
      ]
     },
     "metadata": {},
     "output_type": "display_data"
    }
   ],
   "source": [
    "fig2 = instance.plot_most_abundant_taxa(\n",
    "    mode=\"boxplot\",\n",
    "    taxa_level=\"species\",\n",
    "    prevalence_threshold=None,\n",
    "    average_relative_abundance_threshold=5,\n",
    "    higher_classification=False,                \n",
    "    ascending=False,\n",
    "    output_file=\"Most_abundant_species.html\"        # It's also possible to generate a static image. You just need to change the extension of the file\n",
    ")"
   ]
  },
  {
   "cell_type": "code",
   "execution_count": 13,
   "id": "7fe3c44f",
   "metadata": {},
   "outputs": [
    {
     "data": {
      "application/vnd.plotly.v1+json": {
       "config": {
        "plotlyServerURL": "https://plot.ly"
       },
       "data": [
        {
         "marker": {
          "color": "#48a5fa"
         },
         "name": "Lactobacillus_crispatus",
         "type": "bar",
         "x": [
          "SAMPLE_1",
          "SAMPLE_2",
          "SAMPLE_7",
          "SAMPLE_9",
          "SAMPLE_3",
          "SAMPLE_5",
          "SAMPLE_8",
          "SAMPLE_6",
          "SAMPLE_4",
          "SAMPLE_10"
         ],
         "y": [
          12.247838616714699,
          56.00835945663532,
          75.60503388189738,
          69.61722488038278,
          84.08577878103837,
          63.253012048192765,
          0,
          26.049204052098403,
          24.01315789473684,
          22.644163150492265
         ]
        },
        {
         "marker": {
          "color": "#f7d5d9"
         },
         "name": "Gardnerella_vaginalis",
         "type": "bar",
         "x": [
          "SAMPLE_1",
          "SAMPLE_2",
          "SAMPLE_7",
          "SAMPLE_9",
          "SAMPLE_3",
          "SAMPLE_5",
          "SAMPLE_8",
          "SAMPLE_6",
          "SAMPLE_4",
          "SAMPLE_10"
         ],
         "y": [
          40.20172910662825,
          3.0303030303030303,
          0,
          8.732057416267944,
          0,
          4.216867469879518,
          57.95454545454545,
          31.11432706222865,
          36.18421052631579,
          32.34880450070323
         ]
        },
        {
         "marker": {
          "color": "#d8a727"
         },
         "name": "Escherichia_coli",
         "type": "bar",
         "x": [
          "SAMPLE_1",
          "SAMPLE_2",
          "SAMPLE_7",
          "SAMPLE_9",
          "SAMPLE_3",
          "SAMPLE_5",
          "SAMPLE_8",
          "SAMPLE_6",
          "SAMPLE_4",
          "SAMPLE_10"
         ],
         "y": [
          9.077809798270895,
          14.629049111807731,
          6.776379477250726,
          3.349282296650718,
          5.3047404063205414,
          16.716867469879517,
          17.727272727272727,
          17.800289435600575,
          9.868421052631579,
          12.095639943741208
         ]
        },
        {
         "marker": {
          "color": "#d1dae8"
         },
         "name": "Others",
         "type": "bar",
         "x": [
          "SAMPLE_1",
          "SAMPLE_2",
          "SAMPLE_7",
          "SAMPLE_9",
          "SAMPLE_3",
          "SAMPLE_5",
          "SAMPLE_8",
          "SAMPLE_6",
          "SAMPLE_4",
          "SAMPLE_10"
         ],
         "y": [
          38.47262247838616,
          26.33228840125392,
          17.618586640851888,
          18.30143540669856,
          10.609480812641081,
          15.813253012048193,
          24.318181818181813,
          25.036179450072368,
          29.934210526315795,
          32.911392405063296
         ]
        },
        {
         "legendgroup": "GROUP",
         "legendgrouptitle": {
          "text": "GROUP"
         },
         "marker": {
          "color": "#EF553B"
         },
         "name": "C",
         "type": "bar",
         "x": [
          "SAMPLE_2",
          "SAMPLE_6",
          "SAMPLE_4"
         ],
         "xaxis": "x2",
         "y": [
          1,
          1,
          1
         ],
         "yaxis": "y2"
        },
        {
         "legendgroup": "GROUP",
         "legendgrouptitle": {
          "text": "GROUP"
         },
         "marker": {
          "color": "#00CC96"
         },
         "name": "B",
         "type": "bar",
         "x": [
          "SAMPLE_5",
          "SAMPLE_8"
         ],
         "xaxis": "x2",
         "y": [
          1,
          1
         ],
         "yaxis": "y2"
        },
        {
         "legendgroup": "GROUP",
         "legendgrouptitle": {
          "text": "GROUP"
         },
         "marker": {
          "color": "#636EFA"
         },
         "name": "A",
         "type": "bar",
         "x": [
          "SAMPLE_1",
          "SAMPLE_7",
          "SAMPLE_9",
          "SAMPLE_3",
          "SAMPLE_10"
         ],
         "xaxis": "x2",
         "y": [
          1,
          1,
          1,
          1,
          1
         ],
         "yaxis": "y2"
        }
       ],
       "layout": {
        "annotations": [
         {
          "font": {
           "family": "Arial",
           "size": 14
          },
          "showarrow": false,
          "text": "smoker",
          "x": 1.5,
          "xref": "x",
          "y": 102,
          "yref": "y"
         },
         {
          "font": {
           "family": "Arial",
           "size": 14
          },
          "showarrow": false,
          "text": "non smoker",
          "x": 6.5,
          "xref": "x",
          "y": 102,
          "yref": "y"
         }
        ],
        "barmode": "stack",
        "legend": {
         "title": {
          "text": "species"
         }
        },
        "shapes": [
         {
          "fillcolor": "#FFFFFF",
          "line": {
           "width": 0
          },
          "type": "rect",
          "x0": -0.5,
          "x1": 3.5,
          "y0": 100,
          "y1": 104
         },
         {
          "line": {
           "color": "white",
           "dash": "solid",
           "width": 1
          },
          "type": "line",
          "x0": 3.5,
          "x1": 3.5,
          "y0": 100,
          "y1": 0
         },
         {
          "fillcolor": "#a7bcdb",
          "line": {
           "width": 0
          },
          "type": "rect",
          "x0": 3.5,
          "x1": 9.5,
          "y0": 100,
          "y1": 104
         }
        ],
        "template": {
         "data": {
          "bar": [
           {
            "error_x": {
             "color": "#2a3f5f"
            },
            "error_y": {
             "color": "#2a3f5f"
            },
            "marker": {
             "line": {
              "color": "#E5ECF6",
              "width": 0.5
             },
             "pattern": {
              "fillmode": "overlay",
              "size": 10,
              "solidity": 0.2
             }
            },
            "type": "bar"
           }
          ],
          "barpolar": [
           {
            "marker": {
             "line": {
              "color": "#E5ECF6",
              "width": 0.5
             },
             "pattern": {
              "fillmode": "overlay",
              "size": 10,
              "solidity": 0.2
             }
            },
            "type": "barpolar"
           }
          ],
          "carpet": [
           {
            "aaxis": {
             "endlinecolor": "#2a3f5f",
             "gridcolor": "white",
             "linecolor": "white",
             "minorgridcolor": "white",
             "startlinecolor": "#2a3f5f"
            },
            "baxis": {
             "endlinecolor": "#2a3f5f",
             "gridcolor": "white",
             "linecolor": "white",
             "minorgridcolor": "white",
             "startlinecolor": "#2a3f5f"
            },
            "type": "carpet"
           }
          ],
          "choropleth": [
           {
            "colorbar": {
             "outlinewidth": 0,
             "ticks": ""
            },
            "type": "choropleth"
           }
          ],
          "contour": [
           {
            "colorbar": {
             "outlinewidth": 0,
             "ticks": ""
            },
            "colorscale": [
             [
              0,
              "#0d0887"
             ],
             [
              0.1111111111111111,
              "#46039f"
             ],
             [
              0.2222222222222222,
              "#7201a8"
             ],
             [
              0.3333333333333333,
              "#9c179e"
             ],
             [
              0.4444444444444444,
              "#bd3786"
             ],
             [
              0.5555555555555556,
              "#d8576b"
             ],
             [
              0.6666666666666666,
              "#ed7953"
             ],
             [
              0.7777777777777778,
              "#fb9f3a"
             ],
             [
              0.8888888888888888,
              "#fdca26"
             ],
             [
              1,
              "#f0f921"
             ]
            ],
            "type": "contour"
           }
          ],
          "contourcarpet": [
           {
            "colorbar": {
             "outlinewidth": 0,
             "ticks": ""
            },
            "type": "contourcarpet"
           }
          ],
          "heatmap": [
           {
            "colorbar": {
             "outlinewidth": 0,
             "ticks": ""
            },
            "colorscale": [
             [
              0,
              "#0d0887"
             ],
             [
              0.1111111111111111,
              "#46039f"
             ],
             [
              0.2222222222222222,
              "#7201a8"
             ],
             [
              0.3333333333333333,
              "#9c179e"
             ],
             [
              0.4444444444444444,
              "#bd3786"
             ],
             [
              0.5555555555555556,
              "#d8576b"
             ],
             [
              0.6666666666666666,
              "#ed7953"
             ],
             [
              0.7777777777777778,
              "#fb9f3a"
             ],
             [
              0.8888888888888888,
              "#fdca26"
             ],
             [
              1,
              "#f0f921"
             ]
            ],
            "type": "heatmap"
           }
          ],
          "heatmapgl": [
           {
            "colorbar": {
             "outlinewidth": 0,
             "ticks": ""
            },
            "colorscale": [
             [
              0,
              "#0d0887"
             ],
             [
              0.1111111111111111,
              "#46039f"
             ],
             [
              0.2222222222222222,
              "#7201a8"
             ],
             [
              0.3333333333333333,
              "#9c179e"
             ],
             [
              0.4444444444444444,
              "#bd3786"
             ],
             [
              0.5555555555555556,
              "#d8576b"
             ],
             [
              0.6666666666666666,
              "#ed7953"
             ],
             [
              0.7777777777777778,
              "#fb9f3a"
             ],
             [
              0.8888888888888888,
              "#fdca26"
             ],
             [
              1,
              "#f0f921"
             ]
            ],
            "type": "heatmapgl"
           }
          ],
          "histogram": [
           {
            "marker": {
             "pattern": {
              "fillmode": "overlay",
              "size": 10,
              "solidity": 0.2
             }
            },
            "type": "histogram"
           }
          ],
          "histogram2d": [
           {
            "colorbar": {
             "outlinewidth": 0,
             "ticks": ""
            },
            "colorscale": [
             [
              0,
              "#0d0887"
             ],
             [
              0.1111111111111111,
              "#46039f"
             ],
             [
              0.2222222222222222,
              "#7201a8"
             ],
             [
              0.3333333333333333,
              "#9c179e"
             ],
             [
              0.4444444444444444,
              "#bd3786"
             ],
             [
              0.5555555555555556,
              "#d8576b"
             ],
             [
              0.6666666666666666,
              "#ed7953"
             ],
             [
              0.7777777777777778,
              "#fb9f3a"
             ],
             [
              0.8888888888888888,
              "#fdca26"
             ],
             [
              1,
              "#f0f921"
             ]
            ],
            "type": "histogram2d"
           }
          ],
          "histogram2dcontour": [
           {
            "colorbar": {
             "outlinewidth": 0,
             "ticks": ""
            },
            "colorscale": [
             [
              0,
              "#0d0887"
             ],
             [
              0.1111111111111111,
              "#46039f"
             ],
             [
              0.2222222222222222,
              "#7201a8"
             ],
             [
              0.3333333333333333,
              "#9c179e"
             ],
             [
              0.4444444444444444,
              "#bd3786"
             ],
             [
              0.5555555555555556,
              "#d8576b"
             ],
             [
              0.6666666666666666,
              "#ed7953"
             ],
             [
              0.7777777777777778,
              "#fb9f3a"
             ],
             [
              0.8888888888888888,
              "#fdca26"
             ],
             [
              1,
              "#f0f921"
             ]
            ],
            "type": "histogram2dcontour"
           }
          ],
          "mesh3d": [
           {
            "colorbar": {
             "outlinewidth": 0,
             "ticks": ""
            },
            "type": "mesh3d"
           }
          ],
          "parcoords": [
           {
            "line": {
             "colorbar": {
              "outlinewidth": 0,
              "ticks": ""
             }
            },
            "type": "parcoords"
           }
          ],
          "pie": [
           {
            "automargin": true,
            "type": "pie"
           }
          ],
          "scatter": [
           {
            "marker": {
             "colorbar": {
              "outlinewidth": 0,
              "ticks": ""
             }
            },
            "type": "scatter"
           }
          ],
          "scatter3d": [
           {
            "line": {
             "colorbar": {
              "outlinewidth": 0,
              "ticks": ""
             }
            },
            "marker": {
             "colorbar": {
              "outlinewidth": 0,
              "ticks": ""
             }
            },
            "type": "scatter3d"
           }
          ],
          "scattercarpet": [
           {
            "marker": {
             "colorbar": {
              "outlinewidth": 0,
              "ticks": ""
             }
            },
            "type": "scattercarpet"
           }
          ],
          "scattergeo": [
           {
            "marker": {
             "colorbar": {
              "outlinewidth": 0,
              "ticks": ""
             }
            },
            "type": "scattergeo"
           }
          ],
          "scattergl": [
           {
            "marker": {
             "colorbar": {
              "outlinewidth": 0,
              "ticks": ""
             }
            },
            "type": "scattergl"
           }
          ],
          "scattermapbox": [
           {
            "marker": {
             "colorbar": {
              "outlinewidth": 0,
              "ticks": ""
             }
            },
            "type": "scattermapbox"
           }
          ],
          "scatterpolar": [
           {
            "marker": {
             "colorbar": {
              "outlinewidth": 0,
              "ticks": ""
             }
            },
            "type": "scatterpolar"
           }
          ],
          "scatterpolargl": [
           {
            "marker": {
             "colorbar": {
              "outlinewidth": 0,
              "ticks": ""
             }
            },
            "type": "scatterpolargl"
           }
          ],
          "scatterternary": [
           {
            "marker": {
             "colorbar": {
              "outlinewidth": 0,
              "ticks": ""
             }
            },
            "type": "scatterternary"
           }
          ],
          "surface": [
           {
            "colorbar": {
             "outlinewidth": 0,
             "ticks": ""
            },
            "colorscale": [
             [
              0,
              "#0d0887"
             ],
             [
              0.1111111111111111,
              "#46039f"
             ],
             [
              0.2222222222222222,
              "#7201a8"
             ],
             [
              0.3333333333333333,
              "#9c179e"
             ],
             [
              0.4444444444444444,
              "#bd3786"
             ],
             [
              0.5555555555555556,
              "#d8576b"
             ],
             [
              0.6666666666666666,
              "#ed7953"
             ],
             [
              0.7777777777777778,
              "#fb9f3a"
             ],
             [
              0.8888888888888888,
              "#fdca26"
             ],
             [
              1,
              "#f0f921"
             ]
            ],
            "type": "surface"
           }
          ],
          "table": [
           {
            "cells": {
             "fill": {
              "color": "#EBF0F8"
             },
             "line": {
              "color": "white"
             }
            },
            "header": {
             "fill": {
              "color": "#C8D4E3"
             },
             "line": {
              "color": "white"
             }
            },
            "type": "table"
           }
          ]
         },
         "layout": {
          "annotationdefaults": {
           "arrowcolor": "#2a3f5f",
           "arrowhead": 0,
           "arrowwidth": 1
          },
          "autotypenumbers": "strict",
          "coloraxis": {
           "colorbar": {
            "outlinewidth": 0,
            "ticks": ""
           }
          },
          "colorscale": {
           "diverging": [
            [
             0,
             "#8e0152"
            ],
            [
             0.1,
             "#c51b7d"
            ],
            [
             0.2,
             "#de77ae"
            ],
            [
             0.3,
             "#f1b6da"
            ],
            [
             0.4,
             "#fde0ef"
            ],
            [
             0.5,
             "#f7f7f7"
            ],
            [
             0.6,
             "#e6f5d0"
            ],
            [
             0.7,
             "#b8e186"
            ],
            [
             0.8,
             "#7fbc41"
            ],
            [
             0.9,
             "#4d9221"
            ],
            [
             1,
             "#276419"
            ]
           ],
           "sequential": [
            [
             0,
             "#0d0887"
            ],
            [
             0.1111111111111111,
             "#46039f"
            ],
            [
             0.2222222222222222,
             "#7201a8"
            ],
            [
             0.3333333333333333,
             "#9c179e"
            ],
            [
             0.4444444444444444,
             "#bd3786"
            ],
            [
             0.5555555555555556,
             "#d8576b"
            ],
            [
             0.6666666666666666,
             "#ed7953"
            ],
            [
             0.7777777777777778,
             "#fb9f3a"
            ],
            [
             0.8888888888888888,
             "#fdca26"
            ],
            [
             1,
             "#f0f921"
            ]
           ],
           "sequentialminus": [
            [
             0,
             "#0d0887"
            ],
            [
             0.1111111111111111,
             "#46039f"
            ],
            [
             0.2222222222222222,
             "#7201a8"
            ],
            [
             0.3333333333333333,
             "#9c179e"
            ],
            [
             0.4444444444444444,
             "#bd3786"
            ],
            [
             0.5555555555555556,
             "#d8576b"
            ],
            [
             0.6666666666666666,
             "#ed7953"
            ],
            [
             0.7777777777777778,
             "#fb9f3a"
            ],
            [
             0.8888888888888888,
             "#fdca26"
            ],
            [
             1,
             "#f0f921"
            ]
           ]
          },
          "colorway": [
           "#636efa",
           "#EF553B",
           "#00cc96",
           "#ab63fa",
           "#FFA15A",
           "#19d3f3",
           "#FF6692",
           "#B6E880",
           "#FF97FF",
           "#FECB52"
          ],
          "font": {
           "color": "#2a3f5f"
          },
          "geo": {
           "bgcolor": "white",
           "lakecolor": "white",
           "landcolor": "#E5ECF6",
           "showlakes": true,
           "showland": true,
           "subunitcolor": "white"
          },
          "hoverlabel": {
           "align": "left"
          },
          "hovermode": "closest",
          "mapbox": {
           "style": "light"
          },
          "paper_bgcolor": "white",
          "plot_bgcolor": "#E5ECF6",
          "polar": {
           "angularaxis": {
            "gridcolor": "white",
            "linecolor": "white",
            "ticks": ""
           },
           "bgcolor": "#E5ECF6",
           "radialaxis": {
            "gridcolor": "white",
            "linecolor": "white",
            "ticks": ""
           }
          },
          "scene": {
           "xaxis": {
            "backgroundcolor": "#E5ECF6",
            "gridcolor": "white",
            "gridwidth": 2,
            "linecolor": "white",
            "showbackground": true,
            "ticks": "",
            "zerolinecolor": "white"
           },
           "yaxis": {
            "backgroundcolor": "#E5ECF6",
            "gridcolor": "white",
            "gridwidth": 2,
            "linecolor": "white",
            "showbackground": true,
            "ticks": "",
            "zerolinecolor": "white"
           },
           "zaxis": {
            "backgroundcolor": "#E5ECF6",
            "gridcolor": "white",
            "gridwidth": 2,
            "linecolor": "white",
            "showbackground": true,
            "ticks": "",
            "zerolinecolor": "white"
           }
          },
          "shapedefaults": {
           "line": {
            "color": "#2a3f5f"
           }
          },
          "ternary": {
           "aaxis": {
            "gridcolor": "white",
            "linecolor": "white",
            "ticks": ""
           },
           "baxis": {
            "gridcolor": "white",
            "linecolor": "white",
            "ticks": ""
           },
           "bgcolor": "#E5ECF6",
           "caxis": {
            "gridcolor": "white",
            "linecolor": "white",
            "ticks": ""
           }
          },
          "title": {
           "x": 0.05
          },
          "xaxis": {
           "automargin": true,
           "gridcolor": "white",
           "linecolor": "white",
           "ticks": "",
           "title": {
            "standoff": 15
           },
           "zerolinecolor": "white",
           "zerolinewidth": 2
          },
          "yaxis": {
           "automargin": true,
           "gridcolor": "white",
           "linecolor": "white",
           "ticks": "",
           "title": {
            "standoff": 15
           },
           "zerolinecolor": "white",
           "zerolinewidth": 2
          }
         }
        },
        "title": {
         "text": "Species composition for the top 3 most abundant species across samples"
        },
        "xaxis": {
         "anchor": "y",
         "domain": [
          0,
          1
         ],
         "matches": "x2",
         "showticklabels": false
        },
        "xaxis2": {
         "anchor": "y2",
         "domain": [
          0,
          1
         ],
         "title": {
          "text": "Samples"
         }
        },
        "yaxis": {
         "anchor": "x",
         "domain": [
          0.039599999999999996,
          0.9999999999999999
         ],
         "title": {
          "text": "Relative abundance"
         }
        },
        "yaxis2": {
         "anchor": "x2",
         "domain": [
          0,
          0.0196
         ],
         "showticklabels": false
        }
       }
      },
      "text/html": [
       "<div>                            <div id=\"f151ff53-191a-4368-bbb8-7095f184c266\" class=\"plotly-graph-div\" style=\"height:525px; width:100%;\"></div>            <script type=\"text/javascript\">                require([\"plotly\"], function(Plotly) {                    window.PLOTLYENV=window.PLOTLYENV || {};                                    if (document.getElementById(\"f151ff53-191a-4368-bbb8-7095f184c266\")) {                    Plotly.newPlot(                        \"f151ff53-191a-4368-bbb8-7095f184c266\",                        [{\"marker\":{\"color\":\"#48a5fa\"},\"name\":\"Lactobacillus_crispatus\",\"type\":\"bar\",\"x\":[\"SAMPLE_1\",\"SAMPLE_2\",\"SAMPLE_7\",\"SAMPLE_9\",\"SAMPLE_3\",\"SAMPLE_5\",\"SAMPLE_8\",\"SAMPLE_6\",\"SAMPLE_4\",\"SAMPLE_10\"],\"y\":[12.247838616714699,56.00835945663532,75.60503388189738,69.61722488038278,84.08577878103837,63.253012048192765,0.0,26.049204052098403,24.01315789473684,22.644163150492265]},{\"marker\":{\"color\":\"#f7d5d9\"},\"name\":\"Gardnerella_vaginalis\",\"type\":\"bar\",\"x\":[\"SAMPLE_1\",\"SAMPLE_2\",\"SAMPLE_7\",\"SAMPLE_9\",\"SAMPLE_3\",\"SAMPLE_5\",\"SAMPLE_8\",\"SAMPLE_6\",\"SAMPLE_4\",\"SAMPLE_10\"],\"y\":[40.20172910662825,3.0303030303030303,0.0,8.732057416267944,0.0,4.216867469879518,57.95454545454545,31.11432706222865,36.18421052631579,32.34880450070323]},{\"marker\":{\"color\":\"#d8a727\"},\"name\":\"Escherichia_coli\",\"type\":\"bar\",\"x\":[\"SAMPLE_1\",\"SAMPLE_2\",\"SAMPLE_7\",\"SAMPLE_9\",\"SAMPLE_3\",\"SAMPLE_5\",\"SAMPLE_8\",\"SAMPLE_6\",\"SAMPLE_4\",\"SAMPLE_10\"],\"y\":[9.077809798270895,14.629049111807731,6.776379477250726,3.349282296650718,5.3047404063205414,16.716867469879517,17.727272727272727,17.800289435600575,9.868421052631579,12.095639943741208]},{\"marker\":{\"color\":\"#d1dae8\"},\"name\":\"Others\",\"type\":\"bar\",\"x\":[\"SAMPLE_1\",\"SAMPLE_2\",\"SAMPLE_7\",\"SAMPLE_9\",\"SAMPLE_3\",\"SAMPLE_5\",\"SAMPLE_8\",\"SAMPLE_6\",\"SAMPLE_4\",\"SAMPLE_10\"],\"y\":[38.47262247838616,26.33228840125392,17.618586640851888,18.30143540669856,10.609480812641081,15.813253012048193,24.318181818181813,25.036179450072368,29.934210526315795,32.911392405063296]},{\"legendgroup\":\"GROUP\",\"legendgrouptitle\":{\"text\":\"GROUP\"},\"marker\":{\"color\":\"#EF553B\"},\"name\":\"C\",\"type\":\"bar\",\"x\":[\"SAMPLE_2\",\"SAMPLE_6\",\"SAMPLE_4\"],\"xaxis\":\"x2\",\"y\":[1,1,1],\"yaxis\":\"y2\"},{\"legendgroup\":\"GROUP\",\"legendgrouptitle\":{\"text\":\"GROUP\"},\"marker\":{\"color\":\"#00CC96\"},\"name\":\"B\",\"type\":\"bar\",\"x\":[\"SAMPLE_5\",\"SAMPLE_8\"],\"xaxis\":\"x2\",\"y\":[1,1],\"yaxis\":\"y2\"},{\"legendgroup\":\"GROUP\",\"legendgrouptitle\":{\"text\":\"GROUP\"},\"marker\":{\"color\":\"#636EFA\"},\"name\":\"A\",\"type\":\"bar\",\"x\":[\"SAMPLE_1\",\"SAMPLE_7\",\"SAMPLE_9\",\"SAMPLE_3\",\"SAMPLE_10\"],\"xaxis\":\"x2\",\"y\":[1,1,1,1,1],\"yaxis\":\"y2\"}],                        {\"annotations\":[{\"font\":{\"family\":\"Arial\",\"size\":14},\"showarrow\":false,\"text\":\"smoker\",\"x\":1.5,\"xref\":\"x\",\"y\":102,\"yref\":\"y\"},{\"font\":{\"family\":\"Arial\",\"size\":14},\"showarrow\":false,\"text\":\"non smoker\",\"x\":6.5,\"xref\":\"x\",\"y\":102,\"yref\":\"y\"}],\"barmode\":\"stack\",\"legend\":{\"title\":{\"text\":\"species\"}},\"shapes\":[{\"fillcolor\":\"#FFFFFF\",\"line\":{\"width\":0},\"type\":\"rect\",\"x0\":-0.5,\"x1\":3.5,\"y0\":100,\"y1\":104},{\"line\":{\"color\":\"white\",\"dash\":\"solid\",\"width\":1},\"type\":\"line\",\"x0\":3.5,\"x1\":3.5,\"y0\":100,\"y1\":0},{\"fillcolor\":\"#a7bcdb\",\"line\":{\"width\":0},\"type\":\"rect\",\"x0\":3.5,\"x1\":9.5,\"y0\":100,\"y1\":104}],\"template\":{\"data\":{\"bar\":[{\"error_x\":{\"color\":\"#2a3f5f\"},\"error_y\":{\"color\":\"#2a3f5f\"},\"marker\":{\"line\":{\"color\":\"#E5ECF6\",\"width\":0.5},\"pattern\":{\"fillmode\":\"overlay\",\"size\":10,\"solidity\":0.2}},\"type\":\"bar\"}],\"barpolar\":[{\"marker\":{\"line\":{\"color\":\"#E5ECF6\",\"width\":0.5},\"pattern\":{\"fillmode\":\"overlay\",\"size\":10,\"solidity\":0.2}},\"type\":\"barpolar\"}],\"carpet\":[{\"aaxis\":{\"endlinecolor\":\"#2a3f5f\",\"gridcolor\":\"white\",\"linecolor\":\"white\",\"minorgridcolor\":\"white\",\"startlinecolor\":\"#2a3f5f\"},\"baxis\":{\"endlinecolor\":\"#2a3f5f\",\"gridcolor\":\"white\",\"linecolor\":\"white\",\"minorgridcolor\":\"white\",\"startlinecolor\":\"#2a3f5f\"},\"type\":\"carpet\"}],\"choropleth\":[{\"colorbar\":{\"outlinewidth\":0,\"ticks\":\"\"},\"type\":\"choropleth\"}],\"contour\":[{\"colorbar\":{\"outlinewidth\":0,\"ticks\":\"\"},\"colorscale\":[[0.0,\"#0d0887\"],[0.1111111111111111,\"#46039f\"],[0.2222222222222222,\"#7201a8\"],[0.3333333333333333,\"#9c179e\"],[0.4444444444444444,\"#bd3786\"],[0.5555555555555556,\"#d8576b\"],[0.6666666666666666,\"#ed7953\"],[0.7777777777777778,\"#fb9f3a\"],[0.8888888888888888,\"#fdca26\"],[1.0,\"#f0f921\"]],\"type\":\"contour\"}],\"contourcarpet\":[{\"colorbar\":{\"outlinewidth\":0,\"ticks\":\"\"},\"type\":\"contourcarpet\"}],\"heatmap\":[{\"colorbar\":{\"outlinewidth\":0,\"ticks\":\"\"},\"colorscale\":[[0.0,\"#0d0887\"],[0.1111111111111111,\"#46039f\"],[0.2222222222222222,\"#7201a8\"],[0.3333333333333333,\"#9c179e\"],[0.4444444444444444,\"#bd3786\"],[0.5555555555555556,\"#d8576b\"],[0.6666666666666666,\"#ed7953\"],[0.7777777777777778,\"#fb9f3a\"],[0.8888888888888888,\"#fdca26\"],[1.0,\"#f0f921\"]],\"type\":\"heatmap\"}],\"heatmapgl\":[{\"colorbar\":{\"outlinewidth\":0,\"ticks\":\"\"},\"colorscale\":[[0.0,\"#0d0887\"],[0.1111111111111111,\"#46039f\"],[0.2222222222222222,\"#7201a8\"],[0.3333333333333333,\"#9c179e\"],[0.4444444444444444,\"#bd3786\"],[0.5555555555555556,\"#d8576b\"],[0.6666666666666666,\"#ed7953\"],[0.7777777777777778,\"#fb9f3a\"],[0.8888888888888888,\"#fdca26\"],[1.0,\"#f0f921\"]],\"type\":\"heatmapgl\"}],\"histogram\":[{\"marker\":{\"pattern\":{\"fillmode\":\"overlay\",\"size\":10,\"solidity\":0.2}},\"type\":\"histogram\"}],\"histogram2d\":[{\"colorbar\":{\"outlinewidth\":0,\"ticks\":\"\"},\"colorscale\":[[0.0,\"#0d0887\"],[0.1111111111111111,\"#46039f\"],[0.2222222222222222,\"#7201a8\"],[0.3333333333333333,\"#9c179e\"],[0.4444444444444444,\"#bd3786\"],[0.5555555555555556,\"#d8576b\"],[0.6666666666666666,\"#ed7953\"],[0.7777777777777778,\"#fb9f3a\"],[0.8888888888888888,\"#fdca26\"],[1.0,\"#f0f921\"]],\"type\":\"histogram2d\"}],\"histogram2dcontour\":[{\"colorbar\":{\"outlinewidth\":0,\"ticks\":\"\"},\"colorscale\":[[0.0,\"#0d0887\"],[0.1111111111111111,\"#46039f\"],[0.2222222222222222,\"#7201a8\"],[0.3333333333333333,\"#9c179e\"],[0.4444444444444444,\"#bd3786\"],[0.5555555555555556,\"#d8576b\"],[0.6666666666666666,\"#ed7953\"],[0.7777777777777778,\"#fb9f3a\"],[0.8888888888888888,\"#fdca26\"],[1.0,\"#f0f921\"]],\"type\":\"histogram2dcontour\"}],\"mesh3d\":[{\"colorbar\":{\"outlinewidth\":0,\"ticks\":\"\"},\"type\":\"mesh3d\"}],\"parcoords\":[{\"line\":{\"colorbar\":{\"outlinewidth\":0,\"ticks\":\"\"}},\"type\":\"parcoords\"}],\"pie\":[{\"automargin\":true,\"type\":\"pie\"}],\"scatter\":[{\"marker\":{\"colorbar\":{\"outlinewidth\":0,\"ticks\":\"\"}},\"type\":\"scatter\"}],\"scatter3d\":[{\"line\":{\"colorbar\":{\"outlinewidth\":0,\"ticks\":\"\"}},\"marker\":{\"colorbar\":{\"outlinewidth\":0,\"ticks\":\"\"}},\"type\":\"scatter3d\"}],\"scattercarpet\":[{\"marker\":{\"colorbar\":{\"outlinewidth\":0,\"ticks\":\"\"}},\"type\":\"scattercarpet\"}],\"scattergeo\":[{\"marker\":{\"colorbar\":{\"outlinewidth\":0,\"ticks\":\"\"}},\"type\":\"scattergeo\"}],\"scattergl\":[{\"marker\":{\"colorbar\":{\"outlinewidth\":0,\"ticks\":\"\"}},\"type\":\"scattergl\"}],\"scattermapbox\":[{\"marker\":{\"colorbar\":{\"outlinewidth\":0,\"ticks\":\"\"}},\"type\":\"scattermapbox\"}],\"scatterpolar\":[{\"marker\":{\"colorbar\":{\"outlinewidth\":0,\"ticks\":\"\"}},\"type\":\"scatterpolar\"}],\"scatterpolargl\":[{\"marker\":{\"colorbar\":{\"outlinewidth\":0,\"ticks\":\"\"}},\"type\":\"scatterpolargl\"}],\"scatterternary\":[{\"marker\":{\"colorbar\":{\"outlinewidth\":0,\"ticks\":\"\"}},\"type\":\"scatterternary\"}],\"surface\":[{\"colorbar\":{\"outlinewidth\":0,\"ticks\":\"\"},\"colorscale\":[[0.0,\"#0d0887\"],[0.1111111111111111,\"#46039f\"],[0.2222222222222222,\"#7201a8\"],[0.3333333333333333,\"#9c179e\"],[0.4444444444444444,\"#bd3786\"],[0.5555555555555556,\"#d8576b\"],[0.6666666666666666,\"#ed7953\"],[0.7777777777777778,\"#fb9f3a\"],[0.8888888888888888,\"#fdca26\"],[1.0,\"#f0f921\"]],\"type\":\"surface\"}],\"table\":[{\"cells\":{\"fill\":{\"color\":\"#EBF0F8\"},\"line\":{\"color\":\"white\"}},\"header\":{\"fill\":{\"color\":\"#C8D4E3\"},\"line\":{\"color\":\"white\"}},\"type\":\"table\"}]},\"layout\":{\"annotationdefaults\":{\"arrowcolor\":\"#2a3f5f\",\"arrowhead\":0,\"arrowwidth\":1},\"autotypenumbers\":\"strict\",\"coloraxis\":{\"colorbar\":{\"outlinewidth\":0,\"ticks\":\"\"}},\"colorscale\":{\"diverging\":[[0,\"#8e0152\"],[0.1,\"#c51b7d\"],[0.2,\"#de77ae\"],[0.3,\"#f1b6da\"],[0.4,\"#fde0ef\"],[0.5,\"#f7f7f7\"],[0.6,\"#e6f5d0\"],[0.7,\"#b8e186\"],[0.8,\"#7fbc41\"],[0.9,\"#4d9221\"],[1,\"#276419\"]],\"sequential\":[[0.0,\"#0d0887\"],[0.1111111111111111,\"#46039f\"],[0.2222222222222222,\"#7201a8\"],[0.3333333333333333,\"#9c179e\"],[0.4444444444444444,\"#bd3786\"],[0.5555555555555556,\"#d8576b\"],[0.6666666666666666,\"#ed7953\"],[0.7777777777777778,\"#fb9f3a\"],[0.8888888888888888,\"#fdca26\"],[1.0,\"#f0f921\"]],\"sequentialminus\":[[0.0,\"#0d0887\"],[0.1111111111111111,\"#46039f\"],[0.2222222222222222,\"#7201a8\"],[0.3333333333333333,\"#9c179e\"],[0.4444444444444444,\"#bd3786\"],[0.5555555555555556,\"#d8576b\"],[0.6666666666666666,\"#ed7953\"],[0.7777777777777778,\"#fb9f3a\"],[0.8888888888888888,\"#fdca26\"],[1.0,\"#f0f921\"]]},\"colorway\":[\"#636efa\",\"#EF553B\",\"#00cc96\",\"#ab63fa\",\"#FFA15A\",\"#19d3f3\",\"#FF6692\",\"#B6E880\",\"#FF97FF\",\"#FECB52\"],\"font\":{\"color\":\"#2a3f5f\"},\"geo\":{\"bgcolor\":\"white\",\"lakecolor\":\"white\",\"landcolor\":\"#E5ECF6\",\"showlakes\":true,\"showland\":true,\"subunitcolor\":\"white\"},\"hoverlabel\":{\"align\":\"left\"},\"hovermode\":\"closest\",\"mapbox\":{\"style\":\"light\"},\"paper_bgcolor\":\"white\",\"plot_bgcolor\":\"#E5ECF6\",\"polar\":{\"angularaxis\":{\"gridcolor\":\"white\",\"linecolor\":\"white\",\"ticks\":\"\"},\"bgcolor\":\"#E5ECF6\",\"radialaxis\":{\"gridcolor\":\"white\",\"linecolor\":\"white\",\"ticks\":\"\"}},\"scene\":{\"xaxis\":{\"backgroundcolor\":\"#E5ECF6\",\"gridcolor\":\"white\",\"gridwidth\":2,\"linecolor\":\"white\",\"showbackground\":true,\"ticks\":\"\",\"zerolinecolor\":\"white\"},\"yaxis\":{\"backgroundcolor\":\"#E5ECF6\",\"gridcolor\":\"white\",\"gridwidth\":2,\"linecolor\":\"white\",\"showbackground\":true,\"ticks\":\"\",\"zerolinecolor\":\"white\"},\"zaxis\":{\"backgroundcolor\":\"#E5ECF6\",\"gridcolor\":\"white\",\"gridwidth\":2,\"linecolor\":\"white\",\"showbackground\":true,\"ticks\":\"\",\"zerolinecolor\":\"white\"}},\"shapedefaults\":{\"line\":{\"color\":\"#2a3f5f\"}},\"ternary\":{\"aaxis\":{\"gridcolor\":\"white\",\"linecolor\":\"white\",\"ticks\":\"\"},\"baxis\":{\"gridcolor\":\"white\",\"linecolor\":\"white\",\"ticks\":\"\"},\"bgcolor\":\"#E5ECF6\",\"caxis\":{\"gridcolor\":\"white\",\"linecolor\":\"white\",\"ticks\":\"\"}},\"title\":{\"x\":0.05},\"xaxis\":{\"automargin\":true,\"gridcolor\":\"white\",\"linecolor\":\"white\",\"ticks\":\"\",\"title\":{\"standoff\":15},\"zerolinecolor\":\"white\",\"zerolinewidth\":2},\"yaxis\":{\"automargin\":true,\"gridcolor\":\"white\",\"linecolor\":\"white\",\"ticks\":\"\",\"title\":{\"standoff\":15},\"zerolinecolor\":\"white\",\"zerolinewidth\":2}}},\"title\":{\"text\":\"Species composition for the top 3 most abundant species across samples\"},\"xaxis\":{\"anchor\":\"y\",\"domain\":[0.0,1.0],\"matches\":\"x2\",\"showticklabels\":false},\"xaxis2\":{\"anchor\":\"y2\",\"domain\":[0.0,1.0],\"title\":{\"text\":\"Samples\"}},\"yaxis\":{\"anchor\":\"x\",\"domain\":[0.039599999999999996,0.9999999999999999],\"title\":{\"text\":\"Relative abundance\"}},\"yaxis2\":{\"anchor\":\"x2\",\"domain\":[0.0,0.0196],\"showticklabels\":false}},                        {\"responsive\": true}                    ).then(function(){\n",
       "                            \n",
       "var gd = document.getElementById('f151ff53-191a-4368-bbb8-7095f184c266');\n",
       "var x = new MutationObserver(function (mutations, observer) {{\n",
       "        var display = window.getComputedStyle(gd).display;\n",
       "        if (!display || display === 'none') {{\n",
       "            console.log([gd, 'removed!']);\n",
       "            Plotly.purge(gd);\n",
       "            observer.disconnect();\n",
       "        }}\n",
       "}});\n",
       "\n",
       "// Listen for the removal of the full notebook cells\n",
       "var notebookContainer = gd.closest('#notebook-container');\n",
       "if (notebookContainer) {{\n",
       "    x.observe(notebookContainer, {childList: true});\n",
       "}}\n",
       "\n",
       "// Listen for the clearing of the current output cell\n",
       "var outputEl = gd.closest('.output');\n",
       "if (outputEl) {{\n",
       "    x.observe(outputEl, {childList: true});\n",
       "}}\n",
       "\n",
       "                        })                };                });            </script>        </div>"
      ]
     },
     "metadata": {},
     "output_type": "display_data"
    }
   ],
   "source": [
    "fig3 = instance.plot_sample_composition_most_abundant_taxa(\n",
    "    taxa_level=\"species\",\n",
    "    taxa_number=3,                        # the X top species will be represented, the other will be under \"Others\"\n",
    "    cluster_samples=True,                 # cluster samples according to their composition in top species/Others (default set to True)\n",
    "    colors={\"Others\" : \"#d1dae8\"},        # set the color of a species (or of \"Others\")\n",
    "    color_df=metadata_dataframe[\"GROUP\"], # series or dataframe of metadata to add at the bottom of the graph\n",
    "    sep_series=metadata_dataframe[\"SMOKER\"].replace({\"yes\": \"smoker\", \"no\": \"non smoker\"}),\n",
    "    sep_how=\"labels\",\n",
    "    output_file=None,\n",
    "    plotting_options={\"layout\": {\"yaxis_title\": \"Relative abundance\"}}   # all moonstone's plot and graph methods allow you to give your own plotting options\n",
    "                                                                         # it relies on the fig.update_X({*dictionary*}) methods of plotly\n",
    "                                                                         # it should be given in a dictionary with X being the first key and then a dictionary of the\n",
    "                                                                         # parameters to update as you would give the fig.update_X method\n",
    ")"
   ]
  },
  {
   "cell_type": "code",
   "execution_count": null,
   "id": "ecd95297",
   "metadata": {},
   "outputs": [],
   "source": []
  }
 ],
 "metadata": {
  "kernelspec": {
   "display_name": "Python 3 (ipykernel)",
   "language": "python",
   "name": "python3"
  },
  "language_info": {
   "codemirror_mode": {
    "name": "ipython",
    "version": 3
   },
   "file_extension": ".py",
   "mimetype": "text/x-python",
   "name": "python",
   "nbconvert_exporter": "python",
   "pygments_lexer": "ipython3",
   "version": "3.7.11"
  }
 },
 "nbformat": 4,
 "nbformat_minor": 5
}
